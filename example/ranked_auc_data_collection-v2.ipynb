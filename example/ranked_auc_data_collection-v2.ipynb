{
 "cells": [
  {
   "cell_type": "code",
   "execution_count": 1,
   "metadata": {},
   "outputs": [],
   "source": [
    "import numpy as np\n",
    "import matplotlib.pyplot as plt\n",
    "import seaborn as sns\n",
    "import pandas as pd\n",
    "import tqdm\n",
    "\n",
    "sns.set(color_codes=True)\n",
    "\n",
    "import py_auc\n",
    "\n",
    "sg = py_auc.Score_generator()"
   ]
  },
  {
   "cell_type": "code",
   "execution_count": 22,
   "metadata": {},
   "outputs": [],
   "source": [
    "# total number \n",
    "n_list = [1000, 10000, 1000000]\n",
    "\n",
    "# rho number\n",
    "rho_list = [0.25, 0.5, 0.75]\n",
    "\n",
    "# mu number\n",
    "mu0_list = [0]\n",
    "mu1_list = [1, 2, 3, 4, 6]\n",
    "std0_list = [1, 2]\n",
    "std1_list = [1, 2]\n",
    "#dist_list = [[1, 0, 1, 1], [1, 0, 2, 2], [2, 0, 1, 1], [2, 0, 2, 2], \n",
    "#             [3, 0, 1, 1], [3, 0, 2, 2], [4, 0, 1, 1], [4, 0, 2, 2],\n",
    "#             [5, 0, 1, 1], [5, 0, 2, 2], [6, 0, 1, 1], [6, 0, 2, 2]]\n",
    "#dist_list = [[1, 0, 2, 2], [2, 0, 2, 2], \n",
    "#             [3, 0, 2, 2], [4, 0, 2, 2],\n",
    "#             [5, 0, 2, 2], [6, 0, 2, 2]]\n",
    "dist_list = [[1, 0, 2, 2], [3, 0, 2, 2], [5, 0, 2, 2]]\n",
    "\n",
    "# shape \n",
    "#shape_list = ['gaussian', 'triangle', 'uniform']\n",
    "shape_list = ['gaussian']\n",
    "#shapen_list = [0, 1, 2]\n",
    "shapen_list = [0]\n",
    "\n",
    "# sampling\n",
    "sampling_ratio_list = [0.1, 0.2, 0.3, 0.5, 0.7]\n",
    "#sampling_repeat_list = [100, 200, 300, 400, 500]\n",
    "sampling_repeat_list = [100, 300, 500]\n",
    "\n",
    "# repeat number\n",
    "repeat_list = [0, 1, 2, 3, 4]"
   ]
  },
  {
   "cell_type": "code",
   "execution_count": 23,
   "metadata": {},
   "outputs": [
    {
     "name": "stdout",
     "output_type": "stream",
     "text": [
      "Total #: 2025\n"
     ]
    }
   ],
   "source": [
    "# data frame for simulation summary\n",
    "\n",
    "colnames = ['n', 'n1', 'shape1', 'mu1', 'std1', 'n0', 'shape0', 'mu0', 'std0', 'rho', \n",
    "            'auc_delta', 'auc_delta_time', 'auc_bac', 'auc_bac_time', 'auc_sk', 'auc_sk_time', \n",
    "            'aupr_pre', 'aupr_pre_time', 'aupr_sk', 'aupr_sk_time', \n",
    "            'sampling_size', 'sampling_repeats', 'sampling_ratio', 'auc_delta_sample', \n",
    "            'auc_bac_sample', 'auc_bac_sample_time', 'aupr_pre_sample', 'aupr_pre_sample_time', \n",
    "            'repeat#', 'done']\n",
    "\n",
    "data = np.zeros((50000, len(colnames)))\n",
    "n_sampling_cases = len(sampling_ratio_list)*len(sampling_repeat_list)*len(repeat_list)\n",
    "i = 0\n",
    "\n",
    "for n in n_list:\n",
    "    for rho in rho_list:\n",
    "        for dist in dist_list:\n",
    "            for j in range(n_sampling_cases):\n",
    "                data[i, :] = np.array([n, int(n*rho), shapen_list[0], dist[0], dist[2], n-int(n*rho), shapen_list[0],\n",
    "                                       dist[1], dist[3], rho, 0, 0, 0, 0, 0, 0, 0, 0, 0, 0, \n",
    "                                       0, 0, 0, \n",
    "                                       0, 0, 0, 0, 0, 0, 0])\n",
    "                i = i+1\n",
    "                            \n",
    "summary = pd.DataFrame(data[:i], columns=colnames)\n",
    "print('Total #: {}'.format(i))\n",
    "\n",
    "for i in shapen_list:\n",
    "    summary.loc[summary['shape0'] == i, 'shape0'] = shape_list[i]\n",
    "    summary.loc[summary['shape1'] == i, 'shape1'] = shape_list[i]\n",
    "    \n",
    "summary = summary.astype({'n':'int', 'n1':'int', 'n0':'int', 'sampling_size':'int', \n",
    "                          'sampling_repeats':'int', 'done':'int'})"
   ]
  },
  {
   "cell_type": "code",
   "execution_count": 24,
   "metadata": {},
   "outputs": [
    {
     "data": {
      "text/html": [
       "<div>\n",
       "<style scoped>\n",
       "    .dataframe tbody tr th:only-of-type {\n",
       "        vertical-align: middle;\n",
       "    }\n",
       "\n",
       "    .dataframe tbody tr th {\n",
       "        vertical-align: top;\n",
       "    }\n",
       "\n",
       "    .dataframe thead th {\n",
       "        text-align: right;\n",
       "    }\n",
       "</style>\n",
       "<table border=\"1\" class=\"dataframe\">\n",
       "  <thead>\n",
       "    <tr style=\"text-align: right;\">\n",
       "      <th></th>\n",
       "      <th>n</th>\n",
       "      <th>n1</th>\n",
       "      <th>shape1</th>\n",
       "      <th>mu1</th>\n",
       "      <th>std1</th>\n",
       "      <th>n0</th>\n",
       "      <th>shape0</th>\n",
       "      <th>mu0</th>\n",
       "      <th>std0</th>\n",
       "      <th>rho</th>\n",
       "      <th>...</th>\n",
       "      <th>sampling_size</th>\n",
       "      <th>sampling_repeats</th>\n",
       "      <th>sampling_ratio</th>\n",
       "      <th>auc_delta_sample</th>\n",
       "      <th>auc_bac_sample</th>\n",
       "      <th>auc_bac_sample_time</th>\n",
       "      <th>aupr_pre_sample</th>\n",
       "      <th>aupr_pre_sample_time</th>\n",
       "      <th>repeat#</th>\n",
       "      <th>done</th>\n",
       "    </tr>\n",
       "  </thead>\n",
       "  <tbody>\n",
       "    <tr>\n",
       "      <td>0</td>\n",
       "      <td>1000</td>\n",
       "      <td>250</td>\n",
       "      <td>gaussian</td>\n",
       "      <td>1.0</td>\n",
       "      <td>2.0</td>\n",
       "      <td>750</td>\n",
       "      <td>gaussian</td>\n",
       "      <td>0.0</td>\n",
       "      <td>2.0</td>\n",
       "      <td>0.25</td>\n",
       "      <td>...</td>\n",
       "      <td>0</td>\n",
       "      <td>0</td>\n",
       "      <td>0.0</td>\n",
       "      <td>0.0</td>\n",
       "      <td>0.0</td>\n",
       "      <td>0.0</td>\n",
       "      <td>0.0</td>\n",
       "      <td>0.0</td>\n",
       "      <td>0.0</td>\n",
       "      <td>0</td>\n",
       "    </tr>\n",
       "    <tr>\n",
       "      <td>1</td>\n",
       "      <td>1000</td>\n",
       "      <td>250</td>\n",
       "      <td>gaussian</td>\n",
       "      <td>1.0</td>\n",
       "      <td>2.0</td>\n",
       "      <td>750</td>\n",
       "      <td>gaussian</td>\n",
       "      <td>0.0</td>\n",
       "      <td>2.0</td>\n",
       "      <td>0.25</td>\n",
       "      <td>...</td>\n",
       "      <td>0</td>\n",
       "      <td>0</td>\n",
       "      <td>0.0</td>\n",
       "      <td>0.0</td>\n",
       "      <td>0.0</td>\n",
       "      <td>0.0</td>\n",
       "      <td>0.0</td>\n",
       "      <td>0.0</td>\n",
       "      <td>0.0</td>\n",
       "      <td>0</td>\n",
       "    </tr>\n",
       "    <tr>\n",
       "      <td>2</td>\n",
       "      <td>1000</td>\n",
       "      <td>250</td>\n",
       "      <td>gaussian</td>\n",
       "      <td>1.0</td>\n",
       "      <td>2.0</td>\n",
       "      <td>750</td>\n",
       "      <td>gaussian</td>\n",
       "      <td>0.0</td>\n",
       "      <td>2.0</td>\n",
       "      <td>0.25</td>\n",
       "      <td>...</td>\n",
       "      <td>0</td>\n",
       "      <td>0</td>\n",
       "      <td>0.0</td>\n",
       "      <td>0.0</td>\n",
       "      <td>0.0</td>\n",
       "      <td>0.0</td>\n",
       "      <td>0.0</td>\n",
       "      <td>0.0</td>\n",
       "      <td>0.0</td>\n",
       "      <td>0</td>\n",
       "    </tr>\n",
       "    <tr>\n",
       "      <td>3</td>\n",
       "      <td>1000</td>\n",
       "      <td>250</td>\n",
       "      <td>gaussian</td>\n",
       "      <td>1.0</td>\n",
       "      <td>2.0</td>\n",
       "      <td>750</td>\n",
       "      <td>gaussian</td>\n",
       "      <td>0.0</td>\n",
       "      <td>2.0</td>\n",
       "      <td>0.25</td>\n",
       "      <td>...</td>\n",
       "      <td>0</td>\n",
       "      <td>0</td>\n",
       "      <td>0.0</td>\n",
       "      <td>0.0</td>\n",
       "      <td>0.0</td>\n",
       "      <td>0.0</td>\n",
       "      <td>0.0</td>\n",
       "      <td>0.0</td>\n",
       "      <td>0.0</td>\n",
       "      <td>0</td>\n",
       "    </tr>\n",
       "    <tr>\n",
       "      <td>4</td>\n",
       "      <td>1000</td>\n",
       "      <td>250</td>\n",
       "      <td>gaussian</td>\n",
       "      <td>1.0</td>\n",
       "      <td>2.0</td>\n",
       "      <td>750</td>\n",
       "      <td>gaussian</td>\n",
       "      <td>0.0</td>\n",
       "      <td>2.0</td>\n",
       "      <td>0.25</td>\n",
       "      <td>...</td>\n",
       "      <td>0</td>\n",
       "      <td>0</td>\n",
       "      <td>0.0</td>\n",
       "      <td>0.0</td>\n",
       "      <td>0.0</td>\n",
       "      <td>0.0</td>\n",
       "      <td>0.0</td>\n",
       "      <td>0.0</td>\n",
       "      <td>0.0</td>\n",
       "      <td>0</td>\n",
       "    </tr>\n",
       "  </tbody>\n",
       "</table>\n",
       "<p>5 rows × 30 columns</p>\n",
       "</div>"
      ],
      "text/plain": [
       "      n   n1    shape1  mu1  std1   n0    shape0  mu0  std0   rho  ...  \\\n",
       "0  1000  250  gaussian  1.0   2.0  750  gaussian  0.0   2.0  0.25  ...   \n",
       "1  1000  250  gaussian  1.0   2.0  750  gaussian  0.0   2.0  0.25  ...   \n",
       "2  1000  250  gaussian  1.0   2.0  750  gaussian  0.0   2.0  0.25  ...   \n",
       "3  1000  250  gaussian  1.0   2.0  750  gaussian  0.0   2.0  0.25  ...   \n",
       "4  1000  250  gaussian  1.0   2.0  750  gaussian  0.0   2.0  0.25  ...   \n",
       "\n",
       "   sampling_size  sampling_repeats  sampling_ratio  auc_delta_sample  \\\n",
       "0              0                 0             0.0               0.0   \n",
       "1              0                 0             0.0               0.0   \n",
       "2              0                 0             0.0               0.0   \n",
       "3              0                 0             0.0               0.0   \n",
       "4              0                 0             0.0               0.0   \n",
       "\n",
       "   auc_bac_sample  auc_bac_sample_time  aupr_pre_sample  aupr_pre_sample_time  \\\n",
       "0             0.0                  0.0              0.0                   0.0   \n",
       "1             0.0                  0.0              0.0                   0.0   \n",
       "2             0.0                  0.0              0.0                   0.0   \n",
       "3             0.0                  0.0              0.0                   0.0   \n",
       "4             0.0                  0.0              0.0                   0.0   \n",
       "\n",
       "   repeat#  done  \n",
       "0      0.0     0  \n",
       "1      0.0     0  \n",
       "2      0.0     0  \n",
       "3      0.0     0  \n",
       "4      0.0     0  \n",
       "\n",
       "[5 rows x 30 columns]"
      ]
     },
     "execution_count": 24,
     "metadata": {},
     "output_type": "execute_result"
    }
   ],
   "source": [
    "summary.head()"
   ]
  },
  {
   "cell_type": "code",
   "execution_count": 43,
   "metadata": {},
   "outputs": [],
   "source": [
    "def run_one_simulation(summary, sum_i,debug=False):\n",
    "    \"\"\" run simulation on condition s_i \"\"\"\n",
    "    \n",
    "    s_i = sum_i*n_sampling_cases\n",
    "    if debug: print('... summary index: {} - n:{}, rho:{}, mu1:{}'.format(s_i, summary['n'][s_i], \n",
    "                                                                         summary['rho'][s_i], summary['mu1'][s_i]))\n",
    "    sg.set0(summary['shape0'][s_i], summary['mu0'][s_i], \n",
    "            summary['std0'][s_i], summary['n0'][s_i])\n",
    "    sg.set1(summary['shape1'][s_i], summary['mu1'][s_i], \n",
    "            summary['std1'][s_i], summary['n1'][s_i])\n",
    "    \n",
    "    sg.plot(filename='hist-{}{}-{}{}-n{}-r{}-v3.pdf'.format(summary['shape0'][s_i], summary['mu0'][s_i], \n",
    "                                                            summary['shape1'][s_i], summary['mu1'][s_i],\n",
    "                                                            summary['n'][s_i], summary['rho'][s_i]), show=False)\n",
    "    \n",
    "    a = py_auc.AUC(sg.get_asDataFrame())\n",
    "    auc0, ctime0 = a.cal_auc_rank(measure_time=True)\n",
    "    auc1, ctime1 = a.cal_auc_bac(measure_time=True)\n",
    "    auc2, ctime2 = a.cal_auc_sklearn(measure_time=True)\n",
    "    aupr0, ctime0 = a.cal_auprc_rank(measure_time=True)\n",
    "    aupr1, ctime1 = a.cal_auprc_sklearn(measure_time=True)\n",
    "    if debug: print('... calculate auc: {:.4f}, {:.4f}, aupr: {:.4f}, {:.4f}'.format(auc0, auc2, aupr0, aupr1))\n",
    "        \n",
    "    i = 0\n",
    "    for sampling_ratio in sampling_ratio_list:\n",
    "        for sampling_repeat in sampling_repeat_list:\n",
    "            for repeat in repeat_list:\n",
    "                if summary['done'][s_i+i] == 1: continue\n",
    "                    \n",
    "                summary.at[s_i+i, 'sampling_size'] = int(summary['n'][s_i+i]*sampling_ratio)\n",
    "                summary.at[s_i+i, 'sampling_repeats'] = int(sampling_repeat)\n",
    "                summary.at[s_i+i, 'repeat#'] = int(repeat)\n",
    "                \n",
    "                res, ctime = sg.get_classProbability(sampleSize = summary['sampling_size'][s_i+i], \n",
    "                                         sampleN = summary['sampling_repeats'][s_i+i], measure_time=True)\n",
    "                fig = plt.figure(figsize=(12,5))\n",
    "                sg.plot_prob(filename='prob-summary-v3-{}.pdf'.format(s_i+i), show=False, sample=res, fig=fig)\n",
    "                plt.close('all')\n",
    "    \n",
    "                summary.at[s_i+i, 'auc_delta_sample'] = sg._auc\n",
    "                summary.at[s_i+i, 'auc_bac_sample'] = sg._aucbac\n",
    "                summary.at[s_i+i, 'aupr_pre_sample'] = sg._auprc\n",
    "                summary.at[s_i+i, 'auc_bac_sample_time'] = ctime\n",
    "                if debug: print('... sampling: {}, {}, {} - auc: {:.4f}, aupr: {:.4f}'.format(summary['sampling_size'][s_i+i], \n",
    "                                                                         summary['sampling_repeats'][s_i+i],\n",
    "                                                                         summary['repeat#'][s_i+i],\n",
    "                                                                         sg._auc, sg._auprc))\n",
    "                    \n",
    "                summary.at[s_i+i, 'auc_delta'] = auc0\n",
    "                summary.at[s_i+i, 'auc_delta_time'] = ctime0\n",
    "\n",
    "                summary.at[s_i+i, 'auc_bac'] = auc1\n",
    "                summary.at[s_i+i, 'auc_bac_time'] = ctime1\n",
    "\n",
    "                summary.at[s_i+i, 'auc_sk'] = auc2\n",
    "                summary.at[s_i+i, 'auc_sk_time'] = ctime2\n",
    "\n",
    "                summary.at[s_i+i, 'aupr_pre'] = aupr0\n",
    "                summary.at[s_i+i, 'aupr_pre_time'] = ctime0\n",
    "\n",
    "                summary.at[s_i+i, 'aupr_sk'] = aupr1\n",
    "                summary.at[s_i+i, 'aupr_sk_time'] = ctime1\n",
    "                \n",
    "                summary.at[s_i+i, 'done'] = 1\n",
    "                i = i+1"
   ]
  },
  {
   "cell_type": "code",
   "execution_count": 37,
   "metadata": {},
   "outputs": [
    {
     "name": "stdout",
     "output_type": "stream",
     "text": [
      "... summary index: 0\n",
      "... calculate auc: 0.6580, 0.6580, aupr: 0.3983, 0.4010\n",
      "... sampling: 100, 100, 0.0 - auc: 0.6582, aupr: 0.3947\n",
      "... sampling: 100, 100, 1.0 - auc: 0.6649, aupr: 0.4002\n",
      "... sampling: 100, 100, 2.0 - auc: 0.6646, aupr: 0.4005\n",
      "... sampling: 100, 100, 3.0 - auc: 0.6613, aupr: 0.3979\n",
      "... sampling: 100, 100, 4.0 - auc: 0.6687, aupr: 0.3963\n",
      "... sampling: 100, 300, 0.0 - auc: 0.6613, aupr: 0.3940\n",
      "... sampling: 100, 300, 1.0 - auc: 0.6548, aupr: 0.3845\n",
      "... sampling: 100, 300, 2.0 - auc: 0.6580, aupr: 0.3871\n",
      "... sampling: 100, 300, 3.0 - auc: 0.6585, aupr: 0.3924\n",
      "... sampling: 100, 300, 4.0 - auc: 0.6636, aupr: 0.3955\n",
      "... sampling: 100, 500, 0.0 - auc: 0.6585, aupr: 0.3903\n",
      "... sampling: 100, 500, 1.0 - auc: 0.6622, aupr: 0.3926\n",
      "... sampling: 100, 500, 2.0 - auc: 0.6561, aupr: 0.3869\n",
      "... sampling: 100, 500, 3.0 - auc: 0.6603, aupr: 0.3882\n",
      "... sampling: 100, 500, 4.0 - auc: 0.6569, aupr: 0.3812\n",
      "... sampling: 200, 100, 0.0 - auc: 0.6606, aupr: 0.3902\n",
      "... sampling: 200, 100, 1.0 - auc: 0.6678, aupr: 0.4018\n",
      "... sampling: 200, 100, 2.0 - auc: 0.6529, aupr: 0.3885\n",
      "... sampling: 200, 100, 3.0 - auc: 0.6589, aupr: 0.3878\n",
      "... sampling: 200, 100, 4.0 - auc: 0.6573, aupr: 0.3960\n",
      "... sampling: 200, 300, 0.0 - auc: 0.6574, aupr: 0.3941\n",
      "... sampling: 200, 300, 1.0 - auc: 0.6605, aupr: 0.3943\n",
      "... sampling: 200, 300, 2.0 - auc: 0.6587, aupr: 0.3918\n",
      "... sampling: 200, 300, 3.0 - auc: 0.6559, aupr: 0.3891\n",
      "... sampling: 200, 300, 4.0 - auc: 0.6588, aupr: 0.3937\n",
      "... sampling: 200, 500, 0.0 - auc: 0.6587, aupr: 0.3961\n",
      "... sampling: 200, 500, 1.0 - auc: 0.6591, aupr: 0.3936\n",
      "... sampling: 200, 500, 2.0 - auc: 0.6588, aupr: 0.3926\n",
      "... sampling: 200, 500, 3.0 - auc: 0.6552, aupr: 0.3893\n",
      "... sampling: 200, 500, 4.0 - auc: 0.6556, aupr: 0.3906\n",
      "... sampling: 300, 100, 0.0 - auc: 0.6611, aupr: 0.3988\n",
      "... sampling: 300, 100, 1.0 - auc: 0.6569, aupr: 0.3937\n",
      "... sampling: 300, 100, 2.0 - auc: 0.6576, aupr: 0.3900\n",
      "... sampling: 300, 100, 3.0 - auc: 0.6627, aupr: 0.3943\n",
      "... sampling: 300, 100, 4.0 - auc: 0.6624, aupr: 0.3996\n",
      "... sampling: 300, 300, 0.0 - auc: 0.6594, aupr: 0.3939\n",
      "... sampling: 300, 300, 1.0 - auc: 0.6585, aupr: 0.3930\n",
      "... sampling: 300, 300, 2.0 - auc: 0.6586, aupr: 0.3958\n",
      "... sampling: 300, 300, 3.0 - auc: 0.6577, aupr: 0.3964\n",
      "... sampling: 300, 300, 4.0 - auc: 0.6566, aupr: 0.3907\n",
      "... sampling: 300, 500, 0.0 - auc: 0.6574, aupr: 0.3928\n",
      "... sampling: 300, 500, 1.0 - auc: 0.6566, aupr: 0.3936\n",
      "... sampling: 300, 500, 2.0 - auc: 0.6594, aupr: 0.3949\n",
      "... sampling: 300, 500, 3.0 - auc: 0.6585, aupr: 0.3937\n",
      "... sampling: 300, 500, 4.0 - auc: 0.6563, aupr: 0.3926\n",
      "... sampling: 500, 100, 0.0 - auc: 0.6566, aupr: 0.3977\n",
      "... sampling: 500, 100, 1.0 - auc: 0.6575, aupr: 0.3978\n",
      "... sampling: 500, 100, 2.0 - auc: 0.6569, aupr: 0.3961\n",
      "... sampling: 500, 100, 3.0 - auc: 0.6606, aupr: 0.3970\n",
      "... sampling: 500, 100, 4.0 - auc: 0.6570, aupr: 0.3961\n",
      "... sampling: 500, 300, 0.0 - auc: 0.6572, aupr: 0.3958\n",
      "... sampling: 500, 300, 1.0 - auc: 0.6581, aupr: 0.3952\n",
      "... sampling: 500, 300, 2.0 - auc: 0.6571, aupr: 0.3954\n",
      "... sampling: 500, 300, 3.0 - auc: 0.6568, aupr: 0.3963\n",
      "... sampling: 500, 300, 4.0 - auc: 0.6588, aupr: 0.3989\n",
      "... sampling: 500, 500, 0.0 - auc: 0.6574, aupr: 0.3949\n",
      "... sampling: 500, 500, 1.0 - auc: 0.6577, aupr: 0.3976\n",
      "... sampling: 500, 500, 2.0 - auc: 0.6583, aupr: 0.3977\n",
      "... sampling: 500, 500, 3.0 - auc: 0.6557, aupr: 0.3944\n",
      "... sampling: 500, 500, 4.0 - auc: 0.6566, aupr: 0.3952\n",
      "... sampling: 700, 100, 0.0 - auc: 0.6582, aupr: 0.3965\n",
      "... sampling: 700, 100, 1.0 - auc: 0.6590, aupr: 0.3993\n",
      "... sampling: 700, 100, 2.0 - auc: 0.6569, aupr: 0.3968\n",
      "... sampling: 700, 100, 3.0 - auc: 0.6605, aupr: 0.4021\n",
      "... sampling: 700, 100, 4.0 - auc: 0.6578, aupr: 0.3978\n",
      "... sampling: 700, 300, 0.0 - auc: 0.6594, aupr: 0.3985\n",
      "... sampling: 700, 300, 1.0 - auc: 0.6581, aupr: 0.3973\n",
      "... sampling: 700, 300, 2.0 - auc: 0.6591, aupr: 0.3990\n",
      "... sampling: 700, 300, 3.0 - auc: 0.6575, aupr: 0.3958\n",
      "... sampling: 700, 300, 4.0 - auc: 0.6575, aupr: 0.3964\n",
      "... sampling: 700, 500, 0.0 - auc: 0.6589, aupr: 0.3994\n",
      "... sampling: 700, 500, 1.0 - auc: 0.6586, aupr: 0.3989\n",
      "... sampling: 700, 500, 2.0 - auc: 0.6581, aupr: 0.3976\n",
      "... sampling: 700, 500, 3.0 - auc: 0.6575, aupr: 0.3975\n",
      "... sampling: 700, 500, 4.0 - auc: 0.6583, aupr: 0.3982\n"
     ]
    }
   ],
   "source": [
    "run_one_simulation(summary, 0, debug=True)"
   ]
  },
  {
   "cell_type": "code",
   "execution_count": 46,
   "metadata": {},
   "outputs": [
    {
     "name": "stdout",
     "output_type": "stream",
     "text": [
      "... summary index: 0 - n:1000, rho:0.25, mu1:1.0\n",
      "... calculate auc: 0.6153, 0.6153, aupr: 0.3205, 0.3235\n",
      "... summary index: 75 - n:1000, rho:0.25, mu1:3.0\n",
      "... calculate auc: 0.8669, 0.8669, aupr: 0.7210, 0.7225\n",
      "... sampling: 100, 100, 0.0 - auc: 0.8630, aupr: 0.7027\n",
      "... sampling: 100, 100, 1.0 - auc: 0.8713, aupr: 0.7160\n",
      "... sampling: 100, 100, 2.0 - auc: 0.8701, aupr: 0.7163\n",
      "... sampling: 100, 100, 3.0 - auc: 0.8612, aupr: 0.7051\n",
      "... sampling: 100, 100, 4.0 - auc: 0.8655, aupr: 0.7086\n",
      "... sampling: 100, 300, 0.0 - auc: 0.8690, aupr: 0.7191\n",
      "... sampling: 100, 300, 1.0 - auc: 0.8648, aupr: 0.7027\n",
      "... sampling: 100, 300, 2.0 - auc: 0.8688, aupr: 0.7133\n",
      "... sampling: 100, 300, 3.0 - auc: 0.8653, aupr: 0.7069\n",
      "... sampling: 100, 300, 4.0 - auc: 0.8665, aupr: 0.7043\n",
      "... sampling: 100, 500, 0.0 - auc: 0.8651, aupr: 0.7095\n",
      "... sampling: 100, 500, 1.0 - auc: 0.8669, aupr: 0.7093\n",
      "... sampling: 100, 500, 2.0 - auc: 0.8688, aupr: 0.7129\n",
      "... sampling: 100, 500, 3.0 - auc: 0.8678, aupr: 0.7114\n",
      "... sampling: 100, 500, 4.0 - auc: 0.8673, aupr: 0.7122\n",
      "... sampling: 200, 100, 0.0 - auc: 0.8626, aupr: 0.7094\n",
      "... sampling: 200, 100, 1.0 - auc: 0.8682, aupr: 0.7159\n",
      "... sampling: 200, 100, 2.0 - auc: 0.8673, aupr: 0.7188\n",
      "... sampling: 200, 100, 3.0 - auc: 0.8753, aupr: 0.7296\n",
      "... sampling: 200, 100, 4.0 - auc: 0.8646, aupr: 0.7174\n",
      "... sampling: 200, 300, 0.0 - auc: 0.8662, aupr: 0.7130\n",
      "... sampling: 200, 300, 1.0 - auc: 0.8663, aupr: 0.7162\n",
      "... sampling: 200, 300, 2.0 - auc: 0.8672, aupr: 0.7175\n",
      "... sampling: 200, 300, 3.0 - auc: 0.8672, aupr: 0.7150\n",
      "... sampling: 200, 300, 4.0 - auc: 0.8652, aupr: 0.7121\n",
      "... sampling: 200, 500, 0.0 - auc: 0.8670, aupr: 0.7171\n",
      "... sampling: 200, 500, 1.0 - auc: 0.8660, aupr: 0.7148\n",
      "... sampling: 200, 500, 2.0 - auc: 0.8676, aupr: 0.7157\n",
      "... sampling: 200, 500, 3.0 - auc: 0.8651, aupr: 0.7140\n",
      "... sampling: 200, 500, 4.0 - auc: 0.8678, aupr: 0.7164\n",
      "... sampling: 300, 100, 0.0 - auc: 0.8655, aupr: 0.7134\n",
      "... sampling: 300, 100, 1.0 - auc: 0.8650, aupr: 0.7134\n",
      "... sampling: 300, 100, 2.0 - auc: 0.8649, aupr: 0.7129\n",
      "... sampling: 300, 100, 3.0 - auc: 0.8679, aupr: 0.7205\n",
      "... sampling: 300, 100, 4.0 - auc: 0.8652, aupr: 0.7161\n",
      "... sampling: 300, 300, 0.0 - auc: 0.8656, aupr: 0.7164\n",
      "... sampling: 300, 300, 1.0 - auc: 0.8670, aupr: 0.7186\n",
      "... sampling: 300, 300, 2.0 - auc: 0.8667, aupr: 0.7188\n",
      "... sampling: 300, 300, 3.0 - auc: 0.8683, aupr: 0.7228\n",
      "... sampling: 300, 300, 4.0 - auc: 0.8669, aupr: 0.7179\n",
      "... sampling: 300, 500, 0.0 - auc: 0.8661, aupr: 0.7157\n",
      "... sampling: 300, 500, 1.0 - auc: 0.8683, aupr: 0.7209\n",
      "... sampling: 300, 500, 2.0 - auc: 0.8665, aupr: 0.7179\n",
      "... sampling: 300, 500, 3.0 - auc: 0.8670, aupr: 0.7184\n",
      "... sampling: 300, 500, 4.0 - auc: 0.8664, aupr: 0.7174\n",
      "... sampling: 500, 100, 0.0 - auc: 0.8666, aupr: 0.7193\n",
      "... sampling: 500, 100, 1.0 - auc: 0.8636, aupr: 0.7122\n",
      "... sampling: 500, 100, 2.0 - auc: 0.8649, aupr: 0.7161\n",
      "... sampling: 500, 100, 3.0 - auc: 0.8667, aupr: 0.7174\n",
      "... sampling: 500, 100, 4.0 - auc: 0.8678, aupr: 0.7189\n",
      "... sampling: 500, 300, 0.0 - auc: 0.8660, aupr: 0.7182\n",
      "... sampling: 500, 300, 1.0 - auc: 0.8667, aupr: 0.7177\n",
      "... sampling: 500, 300, 2.0 - auc: 0.8673, aupr: 0.7198\n",
      "... sampling: 500, 300, 3.0 - auc: 0.8662, aupr: 0.7192\n",
      "... sampling: 500, 300, 4.0 - auc: 0.8657, aupr: 0.7182\n",
      "... sampling: 500, 500, 0.0 - auc: 0.8667, aupr: 0.7203\n",
      "... sampling: 500, 500, 1.0 - auc: 0.8671, aupr: 0.7198\n",
      "... sampling: 500, 500, 2.0 - auc: 0.8672, aupr: 0.7204\n",
      "... sampling: 500, 500, 3.0 - auc: 0.8667, aupr: 0.7203\n",
      "... sampling: 500, 500, 4.0 - auc: 0.8666, aupr: 0.7190\n",
      "... sampling: 700, 100, 0.0 - auc: 0.8665, aupr: 0.7196\n",
      "... sampling: 700, 100, 1.0 - auc: 0.8667, aupr: 0.7193\n",
      "... sampling: 700, 100, 2.0 - auc: 0.8659, aupr: 0.7175\n",
      "... sampling: 700, 100, 3.0 - auc: 0.8678, aupr: 0.7206\n",
      "... sampling: 700, 100, 4.0 - auc: 0.8687, aupr: 0.7226\n",
      "... sampling: 700, 300, 0.0 - auc: 0.8668, aupr: 0.7198\n",
      "... sampling: 700, 300, 1.0 - auc: 0.8672, aupr: 0.7206\n",
      "... sampling: 700, 300, 2.0 - auc: 0.8659, aupr: 0.7186\n",
      "... sampling: 700, 300, 3.0 - auc: 0.8666, aupr: 0.7197\n",
      "... sampling: 700, 300, 4.0 - auc: 0.8678, aupr: 0.7217\n",
      "... sampling: 700, 500, 0.0 - auc: 0.8667, aupr: 0.7204\n",
      "... sampling: 700, 500, 1.0 - auc: 0.8667, aupr: 0.7202\n",
      "... sampling: 700, 500, 2.0 - auc: 0.8670, aupr: 0.7213\n",
      "... sampling: 700, 500, 3.0 - auc: 0.8673, aupr: 0.7206\n",
      "... sampling: 700, 500, 4.0 - auc: 0.8668, aupr: 0.7204\n",
      "... summary index: 150 - n:1000, rho:0.25, mu1:5.0\n",
      "... calculate auc: 0.9691, 0.9691, aupr: 0.9215, 0.9226\n",
      "... sampling: 100, 100, 0.0 - auc: 0.9687, aupr: 0.9104\n",
      "... sampling: 100, 100, 1.0 - auc: 0.9693, aupr: 0.9133\n",
      "... sampling: 100, 100, 2.0 - auc: 0.9701, aupr: 0.9142\n",
      "... sampling: 100, 100, 3.0 - auc: 0.9690, aupr: 0.9128\n",
      "... sampling: 100, 100, 4.0 - auc: 0.9719, aupr: 0.9202\n",
      "... sampling: 100, 300, 0.0 - auc: 0.9704, aupr: 0.9159\n",
      "... sampling: 100, 300, 1.0 - auc: 0.9708, aupr: 0.9172\n",
      "... sampling: 100, 300, 2.0 - auc: 0.9697, aupr: 0.9141\n",
      "... sampling: 100, 300, 3.0 - auc: 0.9684, aupr: 0.9109\n",
      "... sampling: 100, 300, 4.0 - auc: 0.9691, aupr: 0.9123\n",
      "... sampling: 100, 500, 0.0 - auc: 0.9687, aupr: 0.9110\n",
      "... sampling: 100, 500, 1.0 - auc: 0.9687, aupr: 0.9107\n",
      "... sampling: 100, 500, 2.0 - auc: 0.9683, aupr: 0.9112\n",
      "... sampling: 100, 500, 3.0 - auc: 0.9687, aupr: 0.9117\n",
      "... sampling: 100, 500, 4.0 - auc: 0.9693, aupr: 0.9123\n",
      "... sampling: 200, 100, 0.0 - auc: 0.9684, aupr: 0.9160\n",
      "... sampling: 200, 100, 1.0 - auc: 0.9680, aupr: 0.9131\n",
      "... sampling: 200, 100, 2.0 - auc: 0.9681, aupr: 0.9158\n",
      "... sampling: 200, 100, 3.0 - auc: 0.9697, aupr: 0.9186\n",
      "... sampling: 200, 100, 4.0 - auc: 0.9704, aupr: 0.9211\n",
      "... sampling: 200, 300, 0.0 - auc: 0.9696, aupr: 0.9184\n",
      "... sampling: 200, 300, 1.0 - auc: 0.9694, aupr: 0.9183\n",
      "... sampling: 200, 300, 2.0 - auc: 0.9695, aupr: 0.9177\n",
      "... sampling: 200, 300, 3.0 - auc: 0.9689, aupr: 0.9174\n",
      "... sampling: 200, 300, 4.0 - auc: 0.9697, aupr: 0.9179\n",
      "... sampling: 200, 500, 0.0 - auc: 0.9691, aupr: 0.9173\n",
      "... sampling: 200, 500, 1.0 - auc: 0.9687, aupr: 0.9168\n",
      "... sampling: 200, 500, 2.0 - auc: 0.9683, aupr: 0.9165\n",
      "... sampling: 200, 500, 3.0 - auc: 0.9686, aupr: 0.9158\n",
      "... sampling: 200, 500, 4.0 - auc: 0.9689, aupr: 0.9177\n",
      "... sampling: 300, 100, 0.0 - auc: 0.9704, aupr: 0.9219\n",
      "... sampling: 300, 100, 1.0 - auc: 0.9684, aupr: 0.9164\n",
      "... sampling: 300, 100, 2.0 - auc: 0.9686, aupr: 0.9177\n",
      "... sampling: 300, 100, 3.0 - auc: 0.9688, aupr: 0.9183\n",
      "... sampling: 300, 100, 4.0 - auc: 0.9699, aupr: 0.9197\n",
      "... sampling: 300, 300, 0.0 - auc: 0.9688, aupr: 0.9182\n",
      "... sampling: 300, 300, 1.0 - auc: 0.9694, aupr: 0.9206\n",
      "... sampling: 300, 300, 2.0 - auc: 0.9685, aupr: 0.9176\n",
      "... sampling: 300, 300, 3.0 - auc: 0.9694, aupr: 0.9197\n",
      "... sampling: 300, 300, 4.0 - auc: 0.9689, aupr: 0.9185\n",
      "... sampling: 300, 500, 0.0 - auc: 0.9691, aupr: 0.9190\n",
      "... sampling: 300, 500, 1.0 - auc: 0.9699, aupr: 0.9216\n",
      "... sampling: 300, 500, 2.0 - auc: 0.9690, aupr: 0.9186\n",
      "... sampling: 300, 500, 3.0 - auc: 0.9685, aupr: 0.9181\n",
      "... sampling: 300, 500, 4.0 - auc: 0.9694, aupr: 0.9197\n",
      "... sampling: 500, 100, 0.0 - auc: 0.9704, aupr: 0.9236\n",
      "... sampling: 500, 100, 1.0 - auc: 0.9699, aupr: 0.9220\n",
      "... sampling: 500, 100, 2.0 - auc: 0.9685, aupr: 0.9186\n",
      "... sampling: 500, 100, 3.0 - auc: 0.9690, aupr: 0.9203\n",
      "... sampling: 500, 100, 4.0 - auc: 0.9693, aupr: 0.9209\n",
      "... sampling: 500, 300, 0.0 - auc: 0.9693, aupr: 0.9213\n",
      "... sampling: 500, 300, 1.0 - auc: 0.9694, aupr: 0.9214\n",
      "... sampling: 500, 300, 2.0 - auc: 0.9685, aupr: 0.9192\n",
      "... sampling: 500, 300, 3.0 - auc: 0.9695, aupr: 0.9214\n",
      "... sampling: 500, 300, 4.0 - auc: 0.9693, aupr: 0.9212\n",
      "... sampling: 500, 500, 0.0 - auc: 0.9692, aupr: 0.9207\n",
      "... sampling: 500, 500, 1.0 - auc: 0.9692, aupr: 0.9209\n",
      "... sampling: 500, 500, 2.0 - auc: 0.9687, aupr: 0.9198\n",
      "... sampling: 500, 500, 3.0 - auc: 0.9689, aupr: 0.9199\n",
      "... sampling: 500, 500, 4.0 - auc: 0.9692, aupr: 0.9204\n",
      "... sampling: 700, 100, 0.0 - auc: 0.9691, aupr: 0.9208\n",
      "... sampling: 700, 100, 1.0 - auc: 0.9687, aupr: 0.9202\n",
      "... sampling: 700, 100, 2.0 - auc: 0.9690, aupr: 0.9208\n",
      "... sampling: 700, 100, 3.0 - auc: 0.9686, aupr: 0.9206\n",
      "... sampling: 700, 100, 4.0 - auc: 0.9691, aupr: 0.9207\n",
      "... sampling: 700, 300, 0.0 - auc: 0.9691, aupr: 0.9209\n"
     ]
    },
    {
     "name": "stdout",
     "output_type": "stream",
     "text": [
      "... sampling: 700, 300, 1.0 - auc: 0.9693, aupr: 0.9215\n",
      "... sampling: 700, 300, 2.0 - auc: 0.9693, aupr: 0.9213\n",
      "... sampling: 700, 300, 3.0 - auc: 0.9691, aupr: 0.9212\n",
      "... sampling: 700, 300, 4.0 - auc: 0.9691, aupr: 0.9209\n",
      "... sampling: 700, 500, 0.0 - auc: 0.9692, aupr: 0.9212\n",
      "... sampling: 700, 500, 1.0 - auc: 0.9692, aupr: 0.9212\n",
      "... sampling: 700, 500, 2.0 - auc: 0.9691, aupr: 0.9210\n",
      "... sampling: 700, 500, 3.0 - auc: 0.9693, aupr: 0.9212\n",
      "... sampling: 700, 500, 4.0 - auc: 0.9690, aupr: 0.9207\n",
      "... summary index: 225 - n:1000, rho:0.5, mu1:1.0\n",
      "... calculate auc: 0.6472, 0.6472, aupr: 0.6350, 0.6361\n",
      "... sampling: 100, 100, 0.0 - auc: 0.6487, aupr: 0.6286\n",
      "... sampling: 100, 100, 1.0 - auc: 0.6517, aupr: 0.6348\n",
      "... sampling: 100, 100, 2.0 - auc: 0.6519, aupr: 0.6362\n",
      "... sampling: 100, 100, 3.0 - auc: 0.6456, aupr: 0.6290\n",
      "... sampling: 100, 100, 4.0 - auc: 0.6453, aupr: 0.6333\n",
      "... sampling: 100, 300, 0.0 - auc: 0.6431, aupr: 0.6260\n",
      "... sampling: 100, 300, 1.0 - auc: 0.6421, aupr: 0.6246\n",
      "... sampling: 100, 300, 2.0 - auc: 0.6489, aupr: 0.6321\n",
      "... sampling: 100, 300, 3.0 - auc: 0.6440, aupr: 0.6258\n",
      "... sampling: 100, 300, 4.0 - auc: 0.6410, aupr: 0.6242\n",
      "... sampling: 100, 500, 0.0 - auc: 0.6514, aupr: 0.6322\n",
      "... sampling: 100, 500, 1.0 - auc: 0.6480, aupr: 0.6297\n",
      "... sampling: 100, 500, 2.0 - auc: 0.6458, aupr: 0.6282\n",
      "... sampling: 100, 500, 3.0 - auc: 0.6446, aupr: 0.6275\n",
      "... sampling: 100, 500, 4.0 - auc: 0.6469, aupr: 0.6268\n",
      "... sampling: 200, 100, 0.0 - auc: 0.6486, aupr: 0.6354\n",
      "... sampling: 200, 100, 1.0 - auc: 0.6464, aupr: 0.6309\n",
      "... sampling: 200, 100, 2.0 - auc: 0.6467, aupr: 0.6319\n",
      "... sampling: 200, 100, 3.0 - auc: 0.6443, aupr: 0.6290\n",
      "... sampling: 200, 100, 4.0 - auc: 0.6506, aupr: 0.6358\n",
      "... sampling: 200, 300, 0.0 - auc: 0.6445, aupr: 0.6299\n",
      "... sampling: 200, 300, 1.0 - auc: 0.6470, aupr: 0.6321\n",
      "... sampling: 200, 300, 2.0 - auc: 0.6489, aupr: 0.6347\n",
      "... sampling: 200, 300, 3.0 - auc: 0.6475, aupr: 0.6332\n",
      "... sampling: 200, 300, 4.0 - auc: 0.6486, aupr: 0.6353\n",
      "... sampling: 200, 500, 0.0 - auc: 0.6461, aupr: 0.6325\n",
      "... sampling: 200, 500, 1.0 - auc: 0.6475, aupr: 0.6340\n",
      "... sampling: 200, 500, 2.0 - auc: 0.6473, aupr: 0.6336\n",
      "... sampling: 200, 500, 3.0 - auc: 0.6479, aupr: 0.6329\n",
      "... sampling: 200, 500, 4.0 - auc: 0.6472, aupr: 0.6326\n",
      "... sampling: 300, 100, 0.0 - auc: 0.6489, aupr: 0.6350\n",
      "... sampling: 300, 100, 1.0 - auc: 0.6450, aupr: 0.6298\n",
      "... sampling: 300, 100, 2.0 - auc: 0.6470, aupr: 0.6341\n",
      "... sampling: 300, 100, 3.0 - auc: 0.6451, aupr: 0.6355\n",
      "... sampling: 300, 100, 4.0 - auc: 0.6497, aupr: 0.6350\n",
      "... sampling: 300, 300, 0.0 - auc: 0.6482, aupr: 0.6335\n",
      "... sampling: 300, 300, 1.0 - auc: 0.6488, aupr: 0.6357\n",
      "... sampling: 300, 300, 2.0 - auc: 0.6457, aupr: 0.6315\n",
      "... sampling: 300, 300, 3.0 - auc: 0.6456, aupr: 0.6316\n",
      "... sampling: 300, 300, 4.0 - auc: 0.6449, aupr: 0.6311\n",
      "... sampling: 300, 500, 0.0 - auc: 0.6475, aupr: 0.6339\n",
      "... sampling: 300, 500, 1.0 - auc: 0.6458, aupr: 0.6319\n",
      "... sampling: 300, 500, 2.0 - auc: 0.6456, aupr: 0.6318\n",
      "... sampling: 300, 500, 3.0 - auc: 0.6488, aupr: 0.6355\n",
      "... sampling: 300, 500, 4.0 - auc: 0.6446, aupr: 0.6314\n",
      "... sampling: 500, 100, 0.0 - auc: 0.6487, aupr: 0.6360\n",
      "... sampling: 500, 100, 1.0 - auc: 0.6469, aupr: 0.6317\n",
      "... sampling: 500, 100, 2.0 - auc: 0.6489, aupr: 0.6357\n",
      "... sampling: 500, 100, 3.0 - auc: 0.6457, aupr: 0.6318\n",
      "... sampling: 500, 100, 4.0 - auc: 0.6476, aupr: 0.6344\n",
      "... sampling: 500, 300, 0.0 - auc: 0.6462, aupr: 0.6333\n",
      "... sampling: 500, 300, 1.0 - auc: 0.6487, aupr: 0.6353\n",
      "... sampling: 500, 300, 2.0 - auc: 0.6487, aupr: 0.6363\n",
      "... sampling: 500, 300, 3.0 - auc: 0.6456, aupr: 0.6323\n",
      "... sampling: 500, 300, 4.0 - auc: 0.6474, aupr: 0.6356\n",
      "... sampling: 500, 500, 0.0 - auc: 0.6469, aupr: 0.6337\n",
      "... sampling: 500, 500, 1.0 - auc: 0.6462, aupr: 0.6329\n",
      "... sampling: 500, 500, 2.0 - auc: 0.6472, aupr: 0.6345\n",
      "... sampling: 500, 500, 3.0 - auc: 0.6460, aupr: 0.6336\n",
      "... sampling: 500, 500, 4.0 - auc: 0.6458, aupr: 0.6332\n",
      "... sampling: 700, 100, 0.0 - auc: 0.6483, aupr: 0.6360\n",
      "... sampling: 700, 100, 1.0 - auc: 0.6467, aupr: 0.6342\n",
      "... sampling: 700, 100, 2.0 - auc: 0.6487, aupr: 0.6357\n",
      "... sampling: 700, 100, 3.0 - auc: 0.6470, aupr: 0.6350\n",
      "... sampling: 700, 100, 4.0 - auc: 0.6467, aupr: 0.6338\n",
      "... sampling: 700, 300, 0.0 - auc: 0.6474, aupr: 0.6357\n",
      "... sampling: 700, 300, 1.0 - auc: 0.6478, aupr: 0.6360\n",
      "... sampling: 700, 300, 2.0 - auc: 0.6476, aupr: 0.6352\n",
      "... sampling: 700, 300, 3.0 - auc: 0.6470, aupr: 0.6350\n",
      "... sampling: 700, 300, 4.0 - auc: 0.6484, aupr: 0.6358\n",
      "... sampling: 700, 500, 0.0 - auc: 0.6474, aupr: 0.6345\n",
      "... sampling: 700, 500, 1.0 - auc: 0.6473, aupr: 0.6344\n",
      "... sampling: 700, 500, 2.0 - auc: 0.6474, aupr: 0.6344\n",
      "... sampling: 700, 500, 3.0 - auc: 0.6471, aupr: 0.6349\n",
      "... sampling: 700, 500, 4.0 - auc: 0.6476, aupr: 0.6347\n",
      "... summary index: 300 - n:1000, rho:0.5, mu1:3.0\n",
      "... calculate auc: 0.8535, 0.8535, aupr: 0.8420, 0.8426\n",
      "... sampling: 100, 100, 0.0 - auc: 0.8488, aupr: 0.8343\n",
      "... sampling: 100, 100, 1.0 - auc: 0.8578, aupr: 0.8446\n",
      "... sampling: 100, 100, 2.0 - auc: 0.8581, aupr: 0.8429\n",
      "... sampling: 100, 100, 3.0 - auc: 0.8475, aupr: 0.8313\n",
      "... sampling: 100, 100, 4.0 - auc: 0.8513, aupr: 0.8369\n",
      "... sampling: 100, 300, 0.0 - auc: 0.8556, aupr: 0.8419\n",
      "... sampling: 100, 300, 1.0 - auc: 0.8545, aupr: 0.8381\n",
      "... sampling: 100, 300, 2.0 - auc: 0.8530, aupr: 0.8385\n",
      "... sampling: 100, 300, 3.0 - auc: 0.8549, aupr: 0.8398\n",
      "... sampling: 100, 300, 4.0 - auc: 0.8558, aupr: 0.8417\n",
      "... sampling: 100, 500, 0.0 - auc: 0.8527, aupr: 0.8380\n",
      "... sampling: 100, 500, 1.0 - auc: 0.8514, aupr: 0.8361\n",
      "... sampling: 100, 500, 2.0 - auc: 0.8538, aupr: 0.8384\n",
      "... sampling: 100, 500, 3.0 - auc: 0.8555, aupr: 0.8415\n",
      "... sampling: 100, 500, 4.0 - auc: 0.8550, aupr: 0.8403\n",
      "... sampling: 200, 100, 0.0 - auc: 0.8546, aupr: 0.8403\n",
      "... sampling: 200, 100, 1.0 - auc: 0.8527, aupr: 0.8390\n",
      "... sampling: 200, 100, 2.0 - auc: 0.8496, aupr: 0.8372\n",
      "... sampling: 200, 100, 3.0 - auc: 0.8524, aupr: 0.8369\n",
      "... sampling: 200, 100, 4.0 - auc: 0.8570, aupr: 0.8432\n",
      "... sampling: 200, 300, 0.0 - auc: 0.8545, aupr: 0.8408\n",
      "... sampling: 200, 300, 1.0 - auc: 0.8525, aupr: 0.8382\n",
      "... sampling: 200, 300, 2.0 - auc: 0.8542, aupr: 0.8412\n",
      "... sampling: 200, 300, 3.0 - auc: 0.8549, aupr: 0.8408\n",
      "... sampling: 200, 300, 4.0 - auc: 0.8541, aupr: 0.8400\n",
      "... sampling: 200, 500, 0.0 - auc: 0.8518, aupr: 0.8375\n",
      "... sampling: 200, 500, 1.0 - auc: 0.8526, aupr: 0.8396\n",
      "... sampling: 200, 500, 2.0 - auc: 0.8538, aupr: 0.8400\n",
      "... sampling: 200, 500, 3.0 - auc: 0.8531, aupr: 0.8398\n",
      "... sampling: 200, 500, 4.0 - auc: 0.8533, aupr: 0.8399\n",
      "... sampling: 300, 100, 0.0 - auc: 0.8572, aupr: 0.8442\n",
      "... sampling: 300, 100, 1.0 - auc: 0.8544, aupr: 0.8412\n",
      "... sampling: 300, 100, 2.0 - auc: 0.8505, aupr: 0.8374\n",
      "... sampling: 300, 100, 3.0 - auc: 0.8548, aupr: 0.8432\n",
      "... sampling: 300, 100, 4.0 - auc: 0.8529, aupr: 0.8400\n",
      "... sampling: 300, 300, 0.0 - auc: 0.8548, aupr: 0.8419\n",
      "... sampling: 300, 300, 1.0 - auc: 0.8543, aupr: 0.8427\n",
      "... sampling: 300, 300, 2.0 - auc: 0.8543, aupr: 0.8423\n",
      "... sampling: 300, 300, 3.0 - auc: 0.8532, aupr: 0.8415\n",
      "... sampling: 300, 300, 4.0 - auc: 0.8531, aupr: 0.8400\n",
      "... sampling: 300, 500, 0.0 - auc: 0.8543, aupr: 0.8430\n",
      "... sampling: 300, 500, 1.0 - auc: 0.8531, aupr: 0.8402\n",
      "... sampling: 300, 500, 2.0 - auc: 0.8527, aupr: 0.8405\n",
      "... sampling: 300, 500, 3.0 - auc: 0.8527, aupr: 0.8400\n",
      "... sampling: 300, 500, 4.0 - auc: 0.8522, aupr: 0.8396\n",
      "... sampling: 500, 100, 0.0 - auc: 0.8555, aupr: 0.8433\n",
      "... sampling: 500, 100, 1.0 - auc: 0.8532, aupr: 0.8409\n",
      "... sampling: 500, 100, 2.0 - auc: 0.8517, aupr: 0.8398\n",
      "... sampling: 500, 100, 3.0 - auc: 0.8534, aupr: 0.8418\n",
      "... sampling: 500, 100, 4.0 - auc: 0.8543, aupr: 0.8427\n",
      "... sampling: 500, 300, 0.0 - auc: 0.8532, aupr: 0.8419\n",
      "... sampling: 500, 300, 1.0 - auc: 0.8532, aupr: 0.8403\n",
      "... sampling: 500, 300, 2.0 - auc: 0.8525, aupr: 0.8398\n",
      "... sampling: 500, 300, 3.0 - auc: 0.8537, aupr: 0.8411\n",
      "... sampling: 500, 300, 4.0 - auc: 0.8531, aupr: 0.8409\n",
      "... sampling: 500, 500, 0.0 - auc: 0.8532, aupr: 0.8411\n",
      "... sampling: 500, 500, 1.0 - auc: 0.8538, aupr: 0.8421\n",
      "... sampling: 500, 500, 2.0 - auc: 0.8540, aupr: 0.8429\n",
      "... sampling: 500, 500, 3.0 - auc: 0.8536, aupr: 0.8419\n"
     ]
    },
    {
     "name": "stdout",
     "output_type": "stream",
     "text": [
      "... sampling: 500, 500, 4.0 - auc: 0.8540, aupr: 0.8421\n",
      "... sampling: 700, 100, 0.0 - auc: 0.8524, aupr: 0.8407\n",
      "... sampling: 700, 100, 1.0 - auc: 0.8540, aupr: 0.8428\n",
      "... sampling: 700, 100, 2.0 - auc: 0.8524, aupr: 0.8416\n",
      "... sampling: 700, 100, 3.0 - auc: 0.8543, aupr: 0.8431\n",
      "... sampling: 700, 100, 4.0 - auc: 0.8540, aupr: 0.8421\n",
      "... sampling: 700, 300, 0.0 - auc: 0.8534, aupr: 0.8419\n",
      "... sampling: 700, 300, 1.0 - auc: 0.8532, aupr: 0.8411\n",
      "... sampling: 700, 300, 2.0 - auc: 0.8533, aupr: 0.8420\n",
      "... sampling: 700, 300, 3.0 - auc: 0.8537, aupr: 0.8422\n",
      "... sampling: 700, 300, 4.0 - auc: 0.8538, aupr: 0.8421\n",
      "... sampling: 700, 500, 0.0 - auc: 0.8532, aupr: 0.8416\n",
      "... sampling: 700, 500, 1.0 - auc: 0.8537, aupr: 0.8422\n",
      "... sampling: 700, 500, 2.0 - auc: 0.8532, aupr: 0.8418\n",
      "... sampling: 700, 500, 3.0 - auc: 0.8536, aupr: 0.8420\n",
      "... sampling: 700, 500, 4.0 - auc: 0.8543, aupr: 0.8424\n",
      "... summary index: 375 - n:1000, rho:0.5, mu1:5.0\n",
      "... calculate auc: 0.9503, 0.9503, aupr: 0.9502, 0.9506\n",
      "... sampling: 100, 100, 0.0 - auc: 0.9484, aupr: 0.9442\n",
      "... sampling: 100, 100, 1.0 - auc: 0.9493, aupr: 0.9467\n",
      "... sampling: 100, 100, 2.0 - auc: 0.9475, aupr: 0.9442\n",
      "... sampling: 100, 100, 3.0 - auc: 0.9485, aupr: 0.9449\n",
      "... sampling: 100, 100, 4.0 - auc: 0.9495, aupr: 0.9460\n",
      "... sampling: 100, 300, 0.0 - auc: 0.9506, aupr: 0.9473\n",
      "... sampling: 100, 300, 1.0 - auc: 0.9497, aupr: 0.9461\n",
      "... sampling: 100, 300, 2.0 - auc: 0.9525, aupr: 0.9492\n",
      "... sampling: 100, 300, 3.0 - auc: 0.9482, aupr: 0.9444\n",
      "... sampling: 100, 300, 4.0 - auc: 0.9486, aupr: 0.9447\n",
      "... sampling: 100, 500, 0.0 - auc: 0.9499, aupr: 0.9464\n",
      "... sampling: 100, 500, 1.0 - auc: 0.9497, aupr: 0.9462\n",
      "... sampling: 100, 500, 2.0 - auc: 0.9505, aupr: 0.9471\n",
      "... sampling: 100, 500, 3.0 - auc: 0.9502, aupr: 0.9468\n",
      "... sampling: 100, 500, 4.0 - auc: 0.9503, aupr: 0.9466\n",
      "... sampling: 200, 100, 0.0 - auc: 0.9485, aupr: 0.9465\n",
      "... sampling: 200, 100, 1.0 - auc: 0.9465, aupr: 0.9451\n",
      "... sampling: 200, 100, 2.0 - auc: 0.9522, aupr: 0.9502\n",
      "... sampling: 200, 100, 3.0 - auc: 0.9502, aupr: 0.9483\n",
      "... sampling: 200, 100, 4.0 - auc: 0.9491, aupr: 0.9478\n",
      "... sampling: 200, 300, 0.0 - auc: 0.9503, aupr: 0.9484\n",
      "... sampling: 200, 300, 1.0 - auc: 0.9498, aupr: 0.9484\n",
      "... sampling: 200, 300, 2.0 - auc: 0.9506, aupr: 0.9487\n",
      "... sampling: 200, 300, 3.0 - auc: 0.9508, aupr: 0.9492\n",
      "... sampling: 200, 300, 4.0 - auc: 0.9505, aupr: 0.9488\n",
      "... sampling: 200, 500, 0.0 - auc: 0.9511, aupr: 0.9494\n",
      "... sampling: 200, 500, 1.0 - auc: 0.9501, aupr: 0.9485\n",
      "... sampling: 200, 500, 2.0 - auc: 0.9505, aupr: 0.9489\n",
      "... sampling: 200, 500, 3.0 - auc: 0.9503, aupr: 0.9485\n",
      "... sampling: 200, 500, 4.0 - auc: 0.9510, aupr: 0.9495\n",
      "... sampling: 300, 100, 0.0 - auc: 0.9499, aupr: 0.9493\n",
      "... sampling: 300, 100, 1.0 - auc: 0.9508, aupr: 0.9500\n",
      "... sampling: 300, 100, 2.0 - auc: 0.9511, aupr: 0.9495\n",
      "... sampling: 300, 100, 3.0 - auc: 0.9491, aupr: 0.9481\n",
      "... sampling: 300, 100, 4.0 - auc: 0.9505, aupr: 0.9499\n",
      "... sampling: 300, 300, 0.0 - auc: 0.9502, aupr: 0.9494\n",
      "... sampling: 300, 300, 1.0 - auc: 0.9513, aupr: 0.9502\n",
      "... sampling: 300, 300, 2.0 - auc: 0.9507, aupr: 0.9497\n",
      "... sampling: 300, 300, 3.0 - auc: 0.9506, aupr: 0.9497\n",
      "... sampling: 300, 300, 4.0 - auc: 0.9507, aupr: 0.9495\n",
      "... sampling: 300, 500, 0.0 - auc: 0.9505, aupr: 0.9494\n",
      "... sampling: 300, 500, 1.0 - auc: 0.9499, aupr: 0.9491\n",
      "... sampling: 300, 500, 2.0 - auc: 0.9504, aupr: 0.9492\n",
      "... sampling: 300, 500, 3.0 - auc: 0.9509, aupr: 0.9499\n",
      "... sampling: 300, 500, 4.0 - auc: 0.9504, aupr: 0.9494\n",
      "... sampling: 500, 100, 0.0 - auc: 0.9502, aupr: 0.9496\n",
      "... sampling: 500, 100, 1.0 - auc: 0.9492, aupr: 0.9487\n",
      "... sampling: 500, 100, 2.0 - auc: 0.9500, aupr: 0.9493\n",
      "... sampling: 500, 100, 3.0 - auc: 0.9497, aupr: 0.9493\n",
      "... sampling: 500, 100, 4.0 - auc: 0.9486, aupr: 0.9485\n",
      "... sampling: 500, 300, 0.0 - auc: 0.9505, aupr: 0.9499\n",
      "... sampling: 500, 300, 1.0 - auc: 0.9507, aupr: 0.9501\n",
      "... sampling: 500, 300, 2.0 - auc: 0.9502, aupr: 0.9498\n",
      "... sampling: 500, 300, 3.0 - auc: 0.9501, aupr: 0.9495\n",
      "... sampling: 500, 300, 4.0 - auc: 0.9504, aupr: 0.9500\n",
      "... sampling: 500, 500, 0.0 - auc: 0.9507, aupr: 0.9502\n",
      "... sampling: 500, 500, 1.0 - auc: 0.9502, aupr: 0.9496\n",
      "... sampling: 500, 500, 2.0 - auc: 0.9502, aupr: 0.9498\n",
      "... sampling: 500, 500, 3.0 - auc: 0.9499, aupr: 0.9494\n",
      "... sampling: 500, 500, 4.0 - auc: 0.9503, aupr: 0.9497\n",
      "... sampling: 700, 100, 0.0 - auc: 0.9503, aupr: 0.9500\n",
      "... sampling: 700, 100, 1.0 - auc: 0.9502, aupr: 0.9500\n",
      "... sampling: 700, 100, 2.0 - auc: 0.9504, aupr: 0.9501\n",
      "... sampling: 700, 100, 3.0 - auc: 0.9499, aupr: 0.9496\n",
      "... sampling: 700, 100, 4.0 - auc: 0.9505, aupr: 0.9502\n",
      "... sampling: 700, 300, 0.0 - auc: 0.9501, aupr: 0.9499\n",
      "... sampling: 700, 300, 1.0 - auc: 0.9507, aupr: 0.9504\n",
      "... sampling: 700, 300, 2.0 - auc: 0.9499, aupr: 0.9496\n",
      "... sampling: 700, 300, 3.0 - auc: 0.9502, aupr: 0.9499\n",
      "... sampling: 700, 300, 4.0 - auc: 0.9500, aupr: 0.9497\n",
      "... sampling: 700, 500, 0.0 - auc: 0.9504, aupr: 0.9502\n",
      "... sampling: 700, 500, 1.0 - auc: 0.9503, aupr: 0.9500\n",
      "... sampling: 700, 500, 2.0 - auc: 0.9504, aupr: 0.9502\n",
      "... sampling: 700, 500, 3.0 - auc: 0.9504, aupr: 0.9501\n",
      "... sampling: 700, 500, 4.0 - auc: 0.9504, aupr: 0.9501\n",
      "... summary index: 450 - n:1000, rho:0.75, mu1:1.0\n",
      "... calculate auc: 0.6420, 0.6420, aupr: 0.8272, 0.8278\n",
      "... sampling: 100, 100, 0.0 - auc: 0.6499, aupr: 0.8323\n",
      "... sampling: 100, 100, 1.0 - auc: 0.6469, aupr: 0.8253\n",
      "... sampling: 100, 100, 2.0 - auc: 0.6445, aupr: 0.8283\n",
      "... sampling: 100, 100, 3.0 - auc: 0.6442, aupr: 0.8269\n",
      "... sampling: 100, 100, 4.0 - auc: 0.6426, aupr: 0.8291\n",
      "... sampling: 100, 300, 0.0 - auc: 0.6403, aupr: 0.8247\n",
      "... sampling: 100, 300, 1.0 - auc: 0.6454, aupr: 0.8297\n",
      "... sampling: 100, 300, 2.0 - auc: 0.6349, aupr: 0.8226\n",
      "... sampling: 100, 300, 3.0 - auc: 0.6493, aupr: 0.8309\n",
      "... sampling: 100, 300, 4.0 - auc: 0.6387, aupr: 0.8252\n",
      "... sampling: 100, 500, 0.0 - auc: 0.6408, aupr: 0.8256\n",
      "... sampling: 100, 500, 1.0 - auc: 0.6423, aupr: 0.8251\n",
      "... sampling: 100, 500, 2.0 - auc: 0.6437, aupr: 0.8266\n",
      "... sampling: 100, 500, 3.0 - auc: 0.6407, aupr: 0.8266\n",
      "... sampling: 100, 500, 4.0 - auc: 0.6451, aupr: 0.8281\n",
      "... sampling: 200, 100, 0.0 - auc: 0.6477, aupr: 0.8295\n",
      "... sampling: 200, 100, 1.0 - auc: 0.6539, aupr: 0.8312\n",
      "... sampling: 200, 100, 2.0 - auc: 0.6418, aupr: 0.8273\n",
      "... sampling: 200, 100, 3.0 - auc: 0.6438, aupr: 0.8286\n",
      "... sampling: 200, 100, 4.0 - auc: 0.6413, aupr: 0.8268\n",
      "... sampling: 200, 300, 0.0 - auc: 0.6449, aupr: 0.8290\n",
      "... sampling: 200, 300, 1.0 - auc: 0.6396, aupr: 0.8258\n",
      "... sampling: 200, 300, 2.0 - auc: 0.6403, aupr: 0.8267\n",
      "... sampling: 200, 300, 3.0 - auc: 0.6405, aupr: 0.8249\n",
      "... sampling: 200, 300, 4.0 - auc: 0.6394, aupr: 0.8254\n",
      "... sampling: 200, 500, 0.0 - auc: 0.6413, aupr: 0.8268\n",
      "... sampling: 200, 500, 1.0 - auc: 0.6401, aupr: 0.8253\n",
      "... sampling: 200, 500, 2.0 - auc: 0.6457, aupr: 0.8286\n",
      "... sampling: 200, 500, 3.0 - auc: 0.6422, aupr: 0.8267\n",
      "... sampling: 200, 500, 4.0 - auc: 0.6427, aupr: 0.8266\n",
      "... sampling: 300, 100, 0.0 - auc: 0.6437, aupr: 0.8269\n",
      "... sampling: 300, 100, 1.0 - auc: 0.6416, aupr: 0.8251\n",
      "... sampling: 300, 100, 2.0 - auc: 0.6436, aupr: 0.8302\n",
      "... sampling: 300, 100, 3.0 - auc: 0.6451, aupr: 0.8284\n",
      "... sampling: 300, 100, 4.0 - auc: 0.6411, aupr: 0.8264\n",
      "... sampling: 300, 300, 0.0 - auc: 0.6436, aupr: 0.8289\n",
      "... sampling: 300, 300, 1.0 - auc: 0.6417, aupr: 0.8261\n",
      "... sampling: 300, 300, 2.0 - auc: 0.6443, aupr: 0.8281\n",
      "... sampling: 300, 300, 3.0 - auc: 0.6399, aupr: 0.8263\n",
      "... sampling: 300, 300, 4.0 - auc: 0.6421, aupr: 0.8268\n",
      "... sampling: 300, 500, 0.0 - auc: 0.6406, aupr: 0.8259\n",
      "... sampling: 300, 500, 1.0 - auc: 0.6411, aupr: 0.8267\n",
      "... sampling: 300, 500, 2.0 - auc: 0.6436, aupr: 0.8284\n",
      "... sampling: 300, 500, 3.0 - auc: 0.6414, aupr: 0.8262\n",
      "... sampling: 300, 500, 4.0 - auc: 0.6409, aupr: 0.8253\n",
      "... sampling: 500, 100, 0.0 - auc: 0.6436, aupr: 0.8271\n",
      "... sampling: 500, 100, 1.0 - auc: 0.6436, aupr: 0.8269\n",
      "... sampling: 500, 100, 2.0 - auc: 0.6432, aupr: 0.8280\n",
      "... sampling: 500, 100, 3.0 - auc: 0.6414, aupr: 0.8271\n",
      "... sampling: 500, 100, 4.0 - auc: 0.6393, aupr: 0.8268\n",
      "... sampling: 500, 300, 0.0 - auc: 0.6406, aupr: 0.8266\n",
      "... sampling: 500, 300, 1.0 - auc: 0.6421, aupr: 0.8274\n"
     ]
    },
    {
     "name": "stdout",
     "output_type": "stream",
     "text": [
      "... sampling: 500, 300, 2.0 - auc: 0.6406, aupr: 0.8263\n",
      "... sampling: 500, 300, 3.0 - auc: 0.6416, aupr: 0.8266\n",
      "... sampling: 500, 300, 4.0 - auc: 0.6411, aupr: 0.8262\n",
      "... sampling: 500, 500, 0.0 - auc: 0.6413, aupr: 0.8270\n",
      "... sampling: 500, 500, 1.0 - auc: 0.6416, aupr: 0.8266\n",
      "... sampling: 500, 500, 2.0 - auc: 0.6418, aupr: 0.8269\n",
      "... sampling: 500, 500, 3.0 - auc: 0.6436, aupr: 0.8277\n",
      "... sampling: 500, 500, 4.0 - auc: 0.6418, aupr: 0.8269\n",
      "... sampling: 700, 100, 0.0 - auc: 0.6416, aupr: 0.8265\n",
      "... sampling: 700, 100, 1.0 - auc: 0.6425, aupr: 0.8273\n",
      "... sampling: 700, 100, 2.0 - auc: 0.6413, aupr: 0.8268\n",
      "... sampling: 700, 100, 3.0 - auc: 0.6420, aupr: 0.8269\n",
      "... sampling: 700, 100, 4.0 - auc: 0.6412, aupr: 0.8263\n",
      "... sampling: 700, 300, 0.0 - auc: 0.6419, aupr: 0.8273\n",
      "... sampling: 700, 300, 1.0 - auc: 0.6414, aupr: 0.8269\n",
      "... sampling: 700, 300, 2.0 - auc: 0.6420, aupr: 0.8267\n",
      "... sampling: 700, 300, 3.0 - auc: 0.6411, aupr: 0.8261\n",
      "... sampling: 700, 300, 4.0 - auc: 0.6421, aupr: 0.8265\n",
      "... sampling: 700, 500, 0.0 - auc: 0.6423, aupr: 0.8276\n",
      "... sampling: 700, 500, 1.0 - auc: 0.6418, aupr: 0.8270\n",
      "... sampling: 700, 500, 2.0 - auc: 0.6418, aupr: 0.8267\n",
      "... sampling: 700, 500, 3.0 - auc: 0.6423, aupr: 0.8273\n",
      "... sampling: 700, 500, 4.0 - auc: 0.6419, aupr: 0.8271\n",
      "... summary index: 525 - n:1000, rho:0.75, mu1:3.0\n",
      "... calculate auc: 0.8738, 0.8738, aupr: 0.9501, 0.9503\n",
      "... sampling: 100, 100, 0.0 - auc: 0.8720, aupr: 0.9474\n",
      "... sampling: 100, 100, 1.0 - auc: 0.8711, aupr: 0.9477\n",
      "... sampling: 100, 100, 2.0 - auc: 0.8776, aupr: 0.9512\n",
      "... sampling: 100, 100, 3.0 - auc: 0.8737, aupr: 0.9490\n",
      "... sampling: 100, 100, 4.0 - auc: 0.8686, aupr: 0.9466\n",
      "... sampling: 100, 300, 0.0 - auc: 0.8690, aupr: 0.9468\n",
      "... sampling: 100, 300, 1.0 - auc: 0.8747, aupr: 0.9491\n",
      "... sampling: 100, 300, 2.0 - auc: 0.8731, aupr: 0.9487\n",
      "... sampling: 100, 300, 3.0 - auc: 0.8722, aupr: 0.9476\n",
      "... sampling: 100, 300, 4.0 - auc: 0.8724, aupr: 0.9479\n",
      "... sampling: 100, 500, 0.0 - auc: 0.8741, aupr: 0.9488\n",
      "... sampling: 100, 500, 1.0 - auc: 0.8750, aupr: 0.9493\n",
      "... sampling: 100, 500, 2.0 - auc: 0.8719, aupr: 0.9478\n",
      "... sampling: 100, 500, 3.0 - auc: 0.8722, aupr: 0.9476\n",
      "... sampling: 100, 500, 4.0 - auc: 0.8736, aupr: 0.9486\n",
      "... sampling: 200, 100, 0.0 - auc: 0.8707, aupr: 0.9481\n",
      "... sampling: 200, 100, 1.0 - auc: 0.8721, aupr: 0.9486\n",
      "... sampling: 200, 100, 2.0 - auc: 0.8730, aupr: 0.9488\n",
      "... sampling: 200, 100, 3.0 - auc: 0.8746, aupr: 0.9500\n",
      "... sampling: 200, 100, 4.0 - auc: 0.8743, aupr: 0.9496\n",
      "... sampling: 200, 300, 0.0 - auc: 0.8724, aupr: 0.9485\n",
      "... sampling: 200, 300, 1.0 - auc: 0.8748, aupr: 0.9498\n",
      "... sampling: 200, 300, 2.0 - auc: 0.8737, aupr: 0.9493\n",
      "... sampling: 200, 300, 3.0 - auc: 0.8740, aupr: 0.9497\n",
      "... sampling: 200, 300, 4.0 - auc: 0.8743, aupr: 0.9498\n",
      "... sampling: 200, 500, 0.0 - auc: 0.8733, aupr: 0.9494\n",
      "... sampling: 200, 500, 1.0 - auc: 0.8717, aupr: 0.9487\n",
      "... sampling: 200, 500, 2.0 - auc: 0.8736, aupr: 0.9494\n",
      "... sampling: 200, 500, 3.0 - auc: 0.8756, aupr: 0.9501\n",
      "... sampling: 200, 500, 4.0 - auc: 0.8749, aupr: 0.9501\n",
      "... sampling: 300, 100, 0.0 - auc: 0.8756, aupr: 0.9504\n",
      "... sampling: 300, 100, 1.0 - auc: 0.8729, aupr: 0.9495\n",
      "... sampling: 300, 100, 2.0 - auc: 0.8758, aupr: 0.9507\n",
      "... sampling: 300, 100, 3.0 - auc: 0.8708, aupr: 0.9486\n",
      "... sampling: 300, 100, 4.0 - auc: 0.8738, aupr: 0.9494\n",
      "... sampling: 300, 300, 0.0 - auc: 0.8729, aupr: 0.9493\n",
      "... sampling: 300, 300, 1.0 - auc: 0.8745, aupr: 0.9500\n",
      "... sampling: 300, 300, 2.0 - auc: 0.8723, aupr: 0.9490\n",
      "... sampling: 300, 300, 3.0 - auc: 0.8738, aupr: 0.9498\n",
      "... sampling: 300, 300, 4.0 - auc: 0.8722, aupr: 0.9488\n",
      "... sampling: 300, 500, 0.0 - auc: 0.8755, aupr: 0.9503\n",
      "... sampling: 300, 500, 1.0 - auc: 0.8744, aupr: 0.9499\n",
      "... sampling: 300, 500, 2.0 - auc: 0.8737, aupr: 0.9496\n",
      "... sampling: 300, 500, 3.0 - auc: 0.8737, aupr: 0.9497\n",
      "... sampling: 300, 500, 4.0 - auc: 0.8722, aupr: 0.9490\n",
      "... sampling: 500, 100, 0.0 - auc: 0.8726, aupr: 0.9492\n",
      "... sampling: 500, 100, 1.0 - auc: 0.8733, aupr: 0.9497\n",
      "... sampling: 500, 100, 2.0 - auc: 0.8738, aupr: 0.9497\n",
      "... sampling: 500, 100, 3.0 - auc: 0.8735, aupr: 0.9501\n",
      "... sampling: 500, 100, 4.0 - auc: 0.8741, aupr: 0.9501\n",
      "... sampling: 500, 300, 0.0 - auc: 0.8718, aupr: 0.9490\n",
      "... sampling: 500, 300, 1.0 - auc: 0.8728, aupr: 0.9494\n",
      "... sampling: 500, 300, 2.0 - auc: 0.8731, aupr: 0.9497\n",
      "... sampling: 500, 300, 3.0 - auc: 0.8753, aupr: 0.9507\n",
      "... sampling: 500, 300, 4.0 - auc: 0.8743, aupr: 0.9500\n",
      "... sampling: 500, 500, 0.0 - auc: 0.8727, aupr: 0.9495\n",
      "... sampling: 500, 500, 1.0 - auc: 0.8735, aupr: 0.9498\n",
      "... sampling: 500, 500, 2.0 - auc: 0.8747, aupr: 0.9503\n",
      "... sampling: 500, 500, 3.0 - auc: 0.8731, aupr: 0.9496\n",
      "... sampling: 500, 500, 4.0 - auc: 0.8734, aupr: 0.9497\n",
      "... sampling: 700, 100, 0.0 - auc: 0.8744, aupr: 0.9503\n",
      "... sampling: 700, 100, 1.0 - auc: 0.8729, aupr: 0.9496\n",
      "... sampling: 700, 100, 2.0 - auc: 0.8756, aupr: 0.9509\n",
      "... sampling: 700, 100, 3.0 - auc: 0.8723, aupr: 0.9493\n",
      "... sampling: 700, 100, 4.0 - auc: 0.8741, aupr: 0.9501\n",
      "... sampling: 700, 300, 0.0 - auc: 0.8737, aupr: 0.9500\n",
      "... sampling: 700, 300, 1.0 - auc: 0.8740, aupr: 0.9500\n",
      "... sampling: 700, 300, 2.0 - auc: 0.8742, aupr: 0.9502\n",
      "... sampling: 700, 300, 3.0 - auc: 0.8738, aupr: 0.9500\n",
      "... sampling: 700, 300, 4.0 - auc: 0.8746, aupr: 0.9503\n",
      "... sampling: 700, 500, 0.0 - auc: 0.8742, aupr: 0.9501\n",
      "... sampling: 700, 500, 1.0 - auc: 0.8743, aupr: 0.9502\n",
      "... sampling: 700, 500, 2.0 - auc: 0.8738, aupr: 0.9502\n",
      "... sampling: 700, 500, 3.0 - auc: 0.8746, aupr: 0.9503\n",
      "... sampling: 700, 500, 4.0 - auc: 0.8736, aupr: 0.9499\n",
      "... summary index: 600 - n:1000, rho:0.75, mu1:5.0\n",
      "... calculate auc: 0.9604, 0.9604, aupr: 0.9852, 0.9854\n",
      "... sampling: 100, 100, 0.0 - auc: 0.9592, aupr: 0.9836\n",
      "... sampling: 100, 100, 1.0 - auc: 0.9614, aupr: 0.9841\n",
      "... sampling: 100, 100, 2.0 - auc: 0.9606, aupr: 0.9842\n",
      "... sampling: 100, 100, 3.0 - auc: 0.9590, aupr: 0.9833\n",
      "... sampling: 100, 100, 4.0 - auc: 0.9621, aupr: 0.9845\n",
      "... sampling: 100, 300, 0.0 - auc: 0.9598, aupr: 0.9836\n",
      "... sampling: 100, 300, 1.0 - auc: 0.9612, aupr: 0.9842\n",
      "... sampling: 100, 300, 2.0 - auc: 0.9603, aupr: 0.9838\n",
      "... sampling: 100, 300, 3.0 - auc: 0.9597, aupr: 0.9836\n",
      "... sampling: 100, 300, 4.0 - auc: 0.9609, aupr: 0.9840\n",
      "... sampling: 100, 500, 0.0 - auc: 0.9601, aupr: 0.9837\n",
      "... sampling: 100, 500, 1.0 - auc: 0.9599, aupr: 0.9835\n",
      "... sampling: 100, 500, 2.0 - auc: 0.9594, aupr: 0.9837\n",
      "... sampling: 100, 500, 3.0 - auc: 0.9593, aupr: 0.9834\n",
      "... sampling: 100, 500, 4.0 - auc: 0.9609, aupr: 0.9842\n",
      "... sampling: 200, 100, 0.0 - auc: 0.9593, aupr: 0.9843\n",
      "... sampling: 200, 100, 1.0 - auc: 0.9606, aupr: 0.9846\n",
      "... sampling: 200, 100, 2.0 - auc: 0.9612, aupr: 0.9846\n",
      "... sampling: 200, 100, 3.0 - auc: 0.9598, aupr: 0.9842\n",
      "... sampling: 200, 100, 4.0 - auc: 0.9623, aupr: 0.9854\n",
      "... sampling: 200, 300, 0.0 - auc: 0.9608, aupr: 0.9847\n",
      "... sampling: 200, 300, 1.0 - auc: 0.9601, aupr: 0.9844\n",
      "... sampling: 200, 300, 2.0 - auc: 0.9590, aupr: 0.9841\n",
      "... sampling: 200, 300, 3.0 - auc: 0.9612, aupr: 0.9850\n",
      "... sampling: 200, 300, 4.0 - auc: 0.9597, aupr: 0.9843\n",
      "... sampling: 200, 500, 0.0 - auc: 0.9609, aupr: 0.9848\n",
      "... sampling: 200, 500, 1.0 - auc: 0.9614, aupr: 0.9850\n",
      "... sampling: 200, 500, 2.0 - auc: 0.9592, aupr: 0.9841\n",
      "... sampling: 200, 500, 3.0 - auc: 0.9601, aupr: 0.9845\n",
      "... sampling: 200, 500, 4.0 - auc: 0.9605, aupr: 0.9845\n",
      "... sampling: 300, 100, 0.0 - auc: 0.9607, aupr: 0.9850\n",
      "... sampling: 300, 100, 1.0 - auc: 0.9604, aupr: 0.9848\n",
      "... sampling: 300, 100, 2.0 - auc: 0.9600, aupr: 0.9847\n",
      "... sampling: 300, 100, 3.0 - auc: 0.9629, aupr: 0.9859\n",
      "... sampling: 300, 100, 4.0 - auc: 0.9585, aupr: 0.9840\n",
      "... sampling: 300, 300, 0.0 - auc: 0.9597, aupr: 0.9845\n",
      "... sampling: 300, 300, 1.0 - auc: 0.9614, aupr: 0.9853\n",
      "... sampling: 300, 300, 2.0 - auc: 0.9611, aupr: 0.9852\n",
      "... sampling: 300, 300, 3.0 - auc: 0.9604, aupr: 0.9848\n",
      "... sampling: 300, 300, 4.0 - auc: 0.9617, aupr: 0.9853\n",
      "... sampling: 300, 500, 0.0 - auc: 0.9611, aupr: 0.9851\n",
      "... sampling: 300, 500, 1.0 - auc: 0.9598, aupr: 0.9847\n",
      "... sampling: 300, 500, 2.0 - auc: 0.9604, aupr: 0.9848\n",
      "... sampling: 300, 500, 3.0 - auc: 0.9598, aupr: 0.9846\n",
      "... sampling: 300, 500, 4.0 - auc: 0.9593, aupr: 0.9844\n"
     ]
    },
    {
     "name": "stdout",
     "output_type": "stream",
     "text": [
      "... sampling: 500, 100, 0.0 - auc: 0.9596, aupr: 0.9848\n",
      "... sampling: 500, 100, 1.0 - auc: 0.9616, aupr: 0.9856\n",
      "... sampling: 500, 100, 2.0 - auc: 0.9596, aupr: 0.9847\n",
      "... sampling: 500, 100, 3.0 - auc: 0.9600, aupr: 0.9849\n",
      "... sampling: 500, 100, 4.0 - auc: 0.9609, aupr: 0.9853\n",
      "... sampling: 500, 300, 0.0 - auc: 0.9603, aupr: 0.9850\n",
      "... sampling: 500, 300, 1.0 - auc: 0.9603, aupr: 0.9850\n",
      "... sampling: 500, 300, 2.0 - auc: 0.9601, aupr: 0.9849\n",
      "... sampling: 500, 300, 3.0 - auc: 0.9603, aupr: 0.9849\n",
      "... sampling: 500, 300, 4.0 - auc: 0.9602, aupr: 0.9849\n",
      "... sampling: 500, 500, 0.0 - auc: 0.9607, aupr: 0.9852\n",
      "... sampling: 500, 500, 1.0 - auc: 0.9608, aupr: 0.9852\n",
      "... sampling: 500, 500, 2.0 - auc: 0.9603, aupr: 0.9850\n",
      "... sampling: 500, 500, 3.0 - auc: 0.9604, aupr: 0.9851\n",
      "... sampling: 500, 500, 4.0 - auc: 0.9604, aupr: 0.9850\n",
      "... sampling: 700, 100, 0.0 - auc: 0.9605, aupr: 0.9852\n",
      "... sampling: 700, 100, 1.0 - auc: 0.9605, aupr: 0.9853\n",
      "... sampling: 700, 100, 2.0 - auc: 0.9606, aupr: 0.9851\n",
      "... sampling: 700, 100, 3.0 - auc: 0.9600, aupr: 0.9849\n",
      "... sampling: 700, 100, 4.0 - auc: 0.9613, aupr: 0.9855\n",
      "... sampling: 700, 300, 0.0 - auc: 0.9606, aupr: 0.9852\n",
      "... sampling: 700, 300, 1.0 - auc: 0.9602, aupr: 0.9850\n",
      "... sampling: 700, 300, 2.0 - auc: 0.9605, aupr: 0.9852\n",
      "... sampling: 700, 300, 3.0 - auc: 0.9600, aupr: 0.9849\n",
      "... sampling: 700, 300, 4.0 - auc: 0.9606, aupr: 0.9852\n",
      "... sampling: 700, 500, 0.0 - auc: 0.9604, aupr: 0.9851\n",
      "... sampling: 700, 500, 1.0 - auc: 0.9602, aupr: 0.9850\n",
      "... sampling: 700, 500, 2.0 - auc: 0.9605, aupr: 0.9852\n",
      "... sampling: 700, 500, 3.0 - auc: 0.9605, aupr: 0.9851\n",
      "... sampling: 700, 500, 4.0 - auc: 0.9601, aupr: 0.9850\n",
      "... summary index: 675 - n:10000, rho:0.25, mu1:1.0\n",
      "... calculate auc: 0.6337, 0.6337, aupr: 0.3671, 0.3674\n",
      "... sampling: 1000, 100, 0.0 - auc: 0.6279, aupr: 0.3614\n",
      "... sampling: 1000, 100, 1.0 - auc: 0.6360, aupr: 0.3678\n",
      "... sampling: 1000, 100, 2.0 - auc: 0.6332, aupr: 0.3649\n",
      "... sampling: 1000, 100, 3.0 - auc: 0.6351, aupr: 0.3680\n",
      "... sampling: 1000, 100, 4.0 - auc: 0.6340, aupr: 0.3661\n",
      "... sampling: 1000, 300, 0.0 - auc: 0.6331, aupr: 0.3639\n",
      "... sampling: 1000, 300, 1.0 - auc: 0.6335, aupr: 0.3660\n",
      "... sampling: 1000, 300, 2.0 - auc: 0.6326, aupr: 0.3651\n",
      "... sampling: 1000, 300, 3.0 - auc: 0.6332, aupr: 0.3639\n",
      "... sampling: 1000, 300, 4.0 - auc: 0.6334, aupr: 0.3643\n",
      "... sampling: 1000, 500, 0.0 - auc: 0.6332, aupr: 0.3662\n",
      "... sampling: 1000, 500, 1.0 - auc: 0.6334, aupr: 0.3668\n",
      "... sampling: 1000, 500, 2.0 - auc: 0.6330, aupr: 0.3654\n",
      "... sampling: 1000, 500, 3.0 - auc: 0.6336, aupr: 0.3666\n",
      "... sampling: 1000, 500, 4.0 - auc: 0.6320, aupr: 0.3655\n",
      "... sampling: 2000, 100, 0.0 - auc: 0.6346, aupr: 0.3661\n",
      "... sampling: 2000, 100, 1.0 - auc: 0.6343, aupr: 0.3673\n",
      "... sampling: 2000, 100, 2.0 - auc: 0.6350, aupr: 0.3667\n",
      "... sampling: 2000, 100, 3.0 - auc: 0.6333, aupr: 0.3663\n",
      "... sampling: 2000, 100, 4.0 - auc: 0.6320, aupr: 0.3638\n",
      "... sampling: 2000, 300, 0.0 - auc: 0.6330, aupr: 0.3657\n",
      "... sampling: 2000, 300, 1.0 - auc: 0.6340, aupr: 0.3670\n",
      "... sampling: 2000, 300, 2.0 - auc: 0.6343, aupr: 0.3678\n",
      "... sampling: 2000, 300, 3.0 - auc: 0.6341, aupr: 0.3667\n",
      "... sampling: 2000, 300, 4.0 - auc: 0.6325, aupr: 0.3654\n",
      "... sampling: 2000, 500, 0.0 - auc: 0.6338, aupr: 0.3671\n",
      "... sampling: 2000, 500, 1.0 - auc: 0.6340, aupr: 0.3669\n",
      "... sampling: 2000, 500, 2.0 - auc: 0.6342, aupr: 0.3664\n",
      "... sampling: 2000, 500, 3.0 - auc: 0.6348, aupr: 0.3676\n",
      "... sampling: 2000, 500, 4.0 - auc: 0.6338, aupr: 0.3668\n",
      "... sampling: 3000, 100, 0.0 - auc: 0.6340, aupr: 0.3668\n",
      "... sampling: 3000, 100, 1.0 - auc: 0.6329, aupr: 0.3655\n",
      "... sampling: 3000, 100, 2.0 - auc: 0.6339, aupr: 0.3680\n",
      "... sampling: 3000, 100, 3.0 - auc: 0.6328, aupr: 0.3649\n",
      "... sampling: 3000, 100, 4.0 - auc: 0.6329, aupr: 0.3668\n",
      "... sampling: 3000, 300, 0.0 - auc: 0.6331, aupr: 0.3658\n",
      "... sampling: 3000, 300, 1.0 - auc: 0.6344, aupr: 0.3672\n",
      "... sampling: 3000, 300, 2.0 - auc: 0.6342, aupr: 0.3668\n",
      "... sampling: 3000, 300, 3.0 - auc: 0.6335, aupr: 0.3665\n",
      "... sampling: 3000, 300, 4.0 - auc: 0.6336, aupr: 0.3667\n",
      "... sampling: 3000, 500, 0.0 - auc: 0.6342, aupr: 0.3671\n",
      "... sampling: 3000, 500, 1.0 - auc: 0.6339, aupr: 0.3671\n",
      "... sampling: 3000, 500, 2.0 - auc: 0.6335, aupr: 0.3661\n",
      "... sampling: 3000, 500, 3.0 - auc: 0.6343, aupr: 0.3673\n",
      "... sampling: 3000, 500, 4.0 - auc: 0.6333, aupr: 0.3665\n",
      "... sampling: 5000, 100, 0.0 - auc: 0.6329, aupr: 0.3663\n",
      "... sampling: 5000, 100, 1.0 - auc: 0.6341, aupr: 0.3672\n",
      "... sampling: 5000, 100, 2.0 - auc: 0.6329, aupr: 0.3659\n",
      "... sampling: 5000, 100, 3.0 - auc: 0.6340, aupr: 0.3675\n",
      "... sampling: 5000, 100, 4.0 - auc: 0.6344, aupr: 0.3681\n",
      "... sampling: 5000, 300, 0.0 - auc: 0.6340, aupr: 0.3672\n",
      "... sampling: 5000, 300, 1.0 - auc: 0.6338, aupr: 0.3670\n",
      "... sampling: 5000, 300, 2.0 - auc: 0.6336, aupr: 0.3673\n",
      "... sampling: 5000, 300, 3.0 - auc: 0.6333, aupr: 0.3661\n",
      "... sampling: 5000, 300, 4.0 - auc: 0.6336, aupr: 0.3669\n",
      "... sampling: 5000, 500, 0.0 - auc: 0.6336, aupr: 0.3670\n",
      "... sampling: 5000, 500, 1.0 - auc: 0.6339, aupr: 0.3669\n",
      "... sampling: 5000, 500, 2.0 - auc: 0.6333, aupr: 0.3664\n",
      "... sampling: 5000, 500, 3.0 - auc: 0.6338, aupr: 0.3669\n",
      "... sampling: 5000, 500, 4.0 - auc: 0.6338, aupr: 0.3668\n",
      "... sampling: 7000, 100, 0.0 - auc: 0.6341, aupr: 0.3678\n",
      "... sampling: 7000, 100, 1.0 - auc: 0.6341, aupr: 0.3674\n",
      "... sampling: 7000, 100, 2.0 - auc: 0.6329, aupr: 0.3666\n",
      "... sampling: 7000, 100, 3.0 - auc: 0.6337, aupr: 0.3672\n",
      "... sampling: 7000, 100, 4.0 - auc: 0.6340, aupr: 0.3674\n",
      "... sampling: 7000, 300, 0.0 - auc: 0.6338, aupr: 0.3671\n",
      "... sampling: 7000, 300, 1.0 - auc: 0.6339, aupr: 0.3671\n",
      "... sampling: 7000, 300, 2.0 - auc: 0.6335, aupr: 0.3671\n",
      "... sampling: 7000, 300, 3.0 - auc: 0.6338, aupr: 0.3665\n",
      "... sampling: 7000, 300, 4.0 - auc: 0.6336, aupr: 0.3668\n",
      "... sampling: 7000, 500, 0.0 - auc: 0.6340, aupr: 0.3670\n",
      "... sampling: 7000, 500, 1.0 - auc: 0.6335, aupr: 0.3666\n",
      "... sampling: 7000, 500, 2.0 - auc: 0.6336, aupr: 0.3667\n",
      "... sampling: 7000, 500, 3.0 - auc: 0.6337, aupr: 0.3669\n",
      "... sampling: 7000, 500, 4.0 - auc: 0.6339, aupr: 0.3673\n",
      "... summary index: 750 - n:10000, rho:0.25, mu1:3.0\n",
      "... calculate auc: 0.8566, 0.8566, aupr: 0.6851, 0.6853\n",
      "... sampling: 1000, 100, 0.0 - auc: 0.8579, aupr: 0.6878\n",
      "... sampling: 1000, 100, 1.0 - auc: 0.8559, aupr: 0.6827\n",
      "... sampling: 1000, 100, 2.0 - auc: 0.8580, aupr: 0.6883\n",
      "... sampling: 1000, 100, 3.0 - auc: 0.8572, aupr: 0.6847\n",
      "... sampling: 1000, 100, 4.0 - auc: 0.8563, aupr: 0.6839\n",
      "... sampling: 1000, 300, 0.0 - auc: 0.8553, aupr: 0.6812\n",
      "... sampling: 1000, 300, 1.0 - auc: 0.8562, aupr: 0.6840\n",
      "... sampling: 1000, 300, 2.0 - auc: 0.8574, aupr: 0.6851\n",
      "... sampling: 1000, 300, 3.0 - auc: 0.8576, aupr: 0.6862\n",
      "... sampling: 1000, 300, 4.0 - auc: 0.8565, aupr: 0.6839\n",
      "... sampling: 1000, 500, 0.0 - auc: 0.8563, aupr: 0.6831\n",
      "... sampling: 1000, 500, 1.0 - auc: 0.8572, aupr: 0.6845\n",
      "... sampling: 1000, 500, 2.0 - auc: 0.8564, aupr: 0.6835\n",
      "... sampling: 1000, 500, 3.0 - auc: 0.8573, aupr: 0.6851\n",
      "... sampling: 1000, 500, 4.0 - auc: 0.8569, aupr: 0.6835\n",
      "... sampling: 2000, 100, 0.0 - auc: 0.8574, aupr: 0.6851\n",
      "... sampling: 2000, 100, 1.0 - auc: 0.8579, aupr: 0.6870\n",
      "... sampling: 2000, 100, 2.0 - auc: 0.8569, aupr: 0.6837\n",
      "... sampling: 2000, 100, 3.0 - auc: 0.8558, aupr: 0.6817\n",
      "... sampling: 2000, 100, 4.0 - auc: 0.8568, aupr: 0.6836\n",
      "... sampling: 2000, 300, 0.0 - auc: 0.8571, aupr: 0.6846\n",
      "... sampling: 2000, 300, 1.0 - auc: 0.8567, aupr: 0.6843\n",
      "... sampling: 2000, 300, 2.0 - auc: 0.8554, aupr: 0.6829\n",
      "... sampling: 2000, 300, 3.0 - auc: 0.8572, aupr: 0.6863\n",
      "... sampling: 2000, 300, 4.0 - auc: 0.8567, aupr: 0.6842\n",
      "... sampling: 2000, 500, 0.0 - auc: 0.8567, aupr: 0.6856\n",
      "... sampling: 2000, 500, 1.0 - auc: 0.8577, aupr: 0.6860\n",
      "... sampling: 2000, 500, 2.0 - auc: 0.8575, aupr: 0.6857\n",
      "... sampling: 2000, 500, 3.0 - auc: 0.8569, aupr: 0.6854\n",
      "... sampling: 2000, 500, 4.0 - auc: 0.8572, aupr: 0.6862\n",
      "... sampling: 3000, 100, 0.0 - auc: 0.8575, aupr: 0.6860\n",
      "... sampling: 3000, 100, 1.0 - auc: 0.8573, aupr: 0.6855\n",
      "... sampling: 3000, 100, 2.0 - auc: 0.8563, aupr: 0.6852\n",
      "... sampling: 3000, 100, 3.0 - auc: 0.8566, aupr: 0.6839\n",
      "... sampling: 3000, 100, 4.0 - auc: 0.8569, aupr: 0.6861\n",
      "... sampling: 3000, 300, 0.0 - auc: 0.8567, aupr: 0.6843\n"
     ]
    },
    {
     "name": "stdout",
     "output_type": "stream",
     "text": [
      "... sampling: 3000, 300, 1.0 - auc: 0.8571, aupr: 0.6852\n",
      "... sampling: 3000, 300, 2.0 - auc: 0.8566, aupr: 0.6849\n",
      "... sampling: 3000, 300, 3.0 - auc: 0.8563, aupr: 0.6848\n",
      "... sampling: 3000, 300, 4.0 - auc: 0.8564, aupr: 0.6847\n",
      "... sampling: 3000, 500, 0.0 - auc: 0.8565, aupr: 0.6843\n",
      "... sampling: 3000, 500, 1.0 - auc: 0.8566, aupr: 0.6846\n",
      "... sampling: 3000, 500, 2.0 - auc: 0.8560, aupr: 0.6840\n",
      "... sampling: 3000, 500, 3.0 - auc: 0.8569, aupr: 0.6858\n",
      "... sampling: 3000, 500, 4.0 - auc: 0.8568, aupr: 0.6856\n",
      "... sampling: 5000, 100, 0.0 - auc: 0.8563, aupr: 0.6855\n",
      "... sampling: 5000, 100, 1.0 - auc: 0.8570, aupr: 0.6851\n",
      "... sampling: 5000, 100, 2.0 - auc: 0.8556, aupr: 0.6830\n",
      "... sampling: 5000, 100, 3.0 - auc: 0.8565, aupr: 0.6854\n",
      "... sampling: 5000, 100, 4.0 - auc: 0.8564, aupr: 0.6842\n",
      "... sampling: 5000, 300, 0.0 - auc: 0.8569, aupr: 0.6852\n",
      "... sampling: 5000, 300, 1.0 - auc: 0.8563, aupr: 0.6843\n",
      "... sampling: 5000, 300, 2.0 - auc: 0.8569, aupr: 0.6853\n",
      "... sampling: 5000, 300, 3.0 - auc: 0.8564, aupr: 0.6844\n",
      "... sampling: 5000, 300, 4.0 - auc: 0.8563, aupr: 0.6847\n",
      "... sampling: 5000, 500, 0.0 - auc: 0.8567, aupr: 0.6852\n",
      "... sampling: 5000, 500, 1.0 - auc: 0.8566, aupr: 0.6852\n",
      "... sampling: 5000, 500, 2.0 - auc: 0.8566, aupr: 0.6850\n",
      "... sampling: 5000, 500, 3.0 - auc: 0.8564, aupr: 0.6841\n",
      "... sampling: 5000, 500, 4.0 - auc: 0.8564, aupr: 0.6840\n",
      "... sampling: 7000, 100, 0.0 - auc: 0.8569, aupr: 0.6860\n",
      "... sampling: 7000, 100, 1.0 - auc: 0.8565, aupr: 0.6853\n",
      "... sampling: 7000, 100, 2.0 - auc: 0.8564, aupr: 0.6852\n",
      "... sampling: 7000, 100, 3.0 - auc: 0.8565, aupr: 0.6844\n",
      "... sampling: 7000, 100, 4.0 - auc: 0.8567, aupr: 0.6850\n",
      "... sampling: 7000, 300, 0.0 - auc: 0.8568, aupr: 0.6852\n",
      "... sampling: 7000, 300, 1.0 - auc: 0.8567, aupr: 0.6854\n",
      "... sampling: 7000, 300, 2.0 - auc: 0.8566, aupr: 0.6848\n",
      "... sampling: 7000, 300, 3.0 - auc: 0.8563, aupr: 0.6844\n",
      "... sampling: 7000, 300, 4.0 - auc: 0.8566, aupr: 0.6852\n",
      "... sampling: 7000, 500, 0.0 - auc: 0.8564, aupr: 0.6849\n",
      "... sampling: 7000, 500, 1.0 - auc: 0.8565, aupr: 0.6849\n",
      "... sampling: 7000, 500, 2.0 - auc: 0.8566, aupr: 0.6849\n",
      "... sampling: 7000, 500, 3.0 - auc: 0.8565, aupr: 0.6847\n",
      "... sampling: 7000, 500, 4.0 - auc: 0.8566, aupr: 0.6849\n",
      "... summary index: 825 - n:10000, rho:0.25, mu1:5.0\n",
      "... calculate auc: 0.9601, 0.9601, aupr: 0.9081, 0.9082\n",
      "... sampling: 1000, 100, 0.0 - auc: 0.9601, aupr: 0.9075\n",
      "... sampling: 1000, 100, 1.0 - auc: 0.9597, aupr: 0.9070\n",
      "... sampling: 1000, 100, 2.0 - auc: 0.9597, aupr: 0.9062\n",
      "... sampling: 1000, 100, 3.0 - auc: 0.9598, aupr: 0.9066\n",
      "... sampling: 1000, 100, 4.0 - auc: 0.9598, aupr: 0.9066\n",
      "... sampling: 1000, 300, 0.0 - auc: 0.9597, aupr: 0.9069\n",
      "... sampling: 1000, 300, 1.0 - auc: 0.9603, aupr: 0.9075\n",
      "... sampling: 1000, 300, 2.0 - auc: 0.9597, aupr: 0.9068\n",
      "... sampling: 1000, 300, 3.0 - auc: 0.9602, aupr: 0.9074\n",
      "... sampling: 1000, 300, 4.0 - auc: 0.9600, aupr: 0.9072\n",
      "... sampling: 1000, 500, 0.0 - auc: 0.9603, aupr: 0.9073\n",
      "... sampling: 1000, 500, 1.0 - auc: 0.9604, aupr: 0.9080\n",
      "... sampling: 1000, 500, 2.0 - auc: 0.9603, aupr: 0.9079\n",
      "... sampling: 1000, 500, 3.0 - auc: 0.9599, aupr: 0.9072\n",
      "... sampling: 1000, 500, 4.0 - auc: 0.9607, aupr: 0.9083\n",
      "... sampling: 2000, 100, 0.0 - auc: 0.9597, aupr: 0.9071\n",
      "... sampling: 2000, 100, 1.0 - auc: 0.9598, aupr: 0.9073\n",
      "... sampling: 2000, 100, 2.0 - auc: 0.9610, aupr: 0.9096\n",
      "... sampling: 2000, 100, 3.0 - auc: 0.9596, aupr: 0.9067\n",
      "... sampling: 2000, 100, 4.0 - auc: 0.9603, aupr: 0.9083\n",
      "... sampling: 2000, 300, 0.0 - auc: 0.9599, aupr: 0.9074\n",
      "... sampling: 2000, 300, 1.0 - auc: 0.9599, aupr: 0.9072\n",
      "... sampling: 2000, 300, 2.0 - auc: 0.9602, aupr: 0.9083\n",
      "... sampling: 2000, 300, 3.0 - auc: 0.9601, aupr: 0.9076\n",
      "... sampling: 2000, 300, 4.0 - auc: 0.9602, aupr: 0.9080\n",
      "... sampling: 2000, 500, 0.0 - auc: 0.9600, aupr: 0.9075\n",
      "... sampling: 2000, 500, 1.0 - auc: 0.9602, aupr: 0.9081\n",
      "... sampling: 2000, 500, 2.0 - auc: 0.9602, aupr: 0.9080\n",
      "... sampling: 2000, 500, 3.0 - auc: 0.9602, aupr: 0.9078\n",
      "... sampling: 2000, 500, 4.0 - auc: 0.9601, aupr: 0.9077\n",
      "... sampling: 3000, 100, 0.0 - auc: 0.9602, aupr: 0.9078\n",
      "... sampling: 3000, 100, 1.0 - auc: 0.9600, aupr: 0.9081\n",
      "... sampling: 3000, 100, 2.0 - auc: 0.9596, aupr: 0.9074\n",
      "... sampling: 3000, 100, 3.0 - auc: 0.9598, aupr: 0.9074\n",
      "... sampling: 3000, 100, 4.0 - auc: 0.9600, aupr: 0.9074\n",
      "... sampling: 3000, 300, 0.0 - auc: 0.9602, aupr: 0.9083\n",
      "... sampling: 3000, 300, 1.0 - auc: 0.9605, aupr: 0.9083\n",
      "... sampling: 3000, 300, 2.0 - auc: 0.9601, aupr: 0.9078\n",
      "... sampling: 3000, 300, 3.0 - auc: 0.9601, aupr: 0.9079\n",
      "... sampling: 3000, 300, 4.0 - auc: 0.9600, aupr: 0.9077\n",
      "... sampling: 3000, 500, 0.0 - auc: 0.9602, aupr: 0.9080\n",
      "... sampling: 3000, 500, 1.0 - auc: 0.9602, aupr: 0.9079\n",
      "... sampling: 3000, 500, 2.0 - auc: 0.9600, aupr: 0.9080\n",
      "... sampling: 3000, 500, 3.0 - auc: 0.9603, aupr: 0.9082\n",
      "... sampling: 3000, 500, 4.0 - auc: 0.9601, aupr: 0.9082\n",
      "... sampling: 5000, 100, 0.0 - auc: 0.9604, aupr: 0.9081\n",
      "... sampling: 5000, 100, 1.0 - auc: 0.9599, aupr: 0.9076\n",
      "... sampling: 5000, 100, 2.0 - auc: 0.9603, aupr: 0.9082\n",
      "... sampling: 5000, 100, 3.0 - auc: 0.9602, aupr: 0.9082\n",
      "... sampling: 5000, 100, 4.0 - auc: 0.9603, aupr: 0.9085\n",
      "... sampling: 5000, 300, 0.0 - auc: 0.9602, aupr: 0.9081\n",
      "... sampling: 5000, 300, 1.0 - auc: 0.9601, aupr: 0.9079\n",
      "... sampling: 5000, 300, 2.0 - auc: 0.9603, aupr: 0.9083\n",
      "... sampling: 5000, 300, 3.0 - auc: 0.9603, aupr: 0.9081\n",
      "... sampling: 5000, 300, 4.0 - auc: 0.9601, aupr: 0.9079\n",
      "... sampling: 5000, 500, 0.0 - auc: 0.9601, aupr: 0.9080\n",
      "... sampling: 5000, 500, 1.0 - auc: 0.9602, aupr: 0.9081\n",
      "... sampling: 5000, 500, 2.0 - auc: 0.9600, aupr: 0.9078\n",
      "... sampling: 5000, 500, 3.0 - auc: 0.9599, aupr: 0.9076\n",
      "... sampling: 5000, 500, 4.0 - auc: 0.9604, aupr: 0.9085\n",
      "... sampling: 7000, 100, 0.0 - auc: 0.9601, aupr: 0.9081\n",
      "... sampling: 7000, 100, 1.0 - auc: 0.9598, aupr: 0.9076\n",
      "... sampling: 7000, 100, 2.0 - auc: 0.9599, aupr: 0.9077\n",
      "... sampling: 7000, 100, 3.0 - auc: 0.9601, aupr: 0.9079\n",
      "... sampling: 7000, 100, 4.0 - auc: 0.9601, aupr: 0.9081\n",
      "... sampling: 7000, 300, 0.0 - auc: 0.9601, aupr: 0.9080\n",
      "... sampling: 7000, 300, 1.0 - auc: 0.9601, aupr: 0.9080\n",
      "... sampling: 7000, 300, 2.0 - auc: 0.9602, aupr: 0.9082\n",
      "... sampling: 7000, 300, 3.0 - auc: 0.9602, aupr: 0.9081\n",
      "... sampling: 7000, 300, 4.0 - auc: 0.9602, aupr: 0.9082\n",
      "... sampling: 7000, 500, 0.0 - auc: 0.9601, aupr: 0.9080\n",
      "... sampling: 7000, 500, 1.0 - auc: 0.9601, aupr: 0.9081\n",
      "... sampling: 7000, 500, 2.0 - auc: 0.9601, aupr: 0.9080\n",
      "... sampling: 7000, 500, 3.0 - auc: 0.9601, aupr: 0.9080\n",
      "... sampling: 7000, 500, 4.0 - auc: 0.9601, aupr: 0.9080\n",
      "... summary index: 900 - n:10000, rho:0.5, mu1:1.0\n",
      "... calculate auc: 0.6333, 0.6333, aupr: 0.6170, 0.6172\n",
      "... sampling: 1000, 100, 0.0 - auc: 0.6339, aupr: 0.6161\n",
      "... sampling: 1000, 100, 1.0 - auc: 0.6338, aupr: 0.6182\n",
      "... sampling: 1000, 100, 2.0 - auc: 0.6360, aupr: 0.6185\n",
      "... sampling: 1000, 100, 3.0 - auc: 0.6298, aupr: 0.6147\n",
      "... sampling: 1000, 100, 4.0 - auc: 0.6318, aupr: 0.6136\n",
      "... sampling: 1000, 300, 0.0 - auc: 0.6344, aupr: 0.6164\n",
      "... sampling: 1000, 300, 1.0 - auc: 0.6321, aupr: 0.6158\n",
      "... sampling: 1000, 300, 2.0 - auc: 0.6352, aupr: 0.6187\n",
      "... sampling: 1000, 300, 3.0 - auc: 0.6331, aupr: 0.6168\n",
      "... sampling: 1000, 300, 4.0 - auc: 0.6335, aupr: 0.6170\n",
      "... sampling: 1000, 500, 0.0 - auc: 0.6334, aupr: 0.6172\n",
      "... sampling: 1000, 500, 1.0 - auc: 0.6335, aupr: 0.6167\n",
      "... sampling: 1000, 500, 2.0 - auc: 0.6315, aupr: 0.6150\n",
      "... sampling: 1000, 500, 3.0 - auc: 0.6328, aupr: 0.6165\n",
      "... sampling: 1000, 500, 4.0 - auc: 0.6331, aupr: 0.6163\n",
      "... sampling: 2000, 100, 0.0 - auc: 0.6326, aupr: 0.6166\n",
      "... sampling: 2000, 100, 1.0 - auc: 0.6340, aupr: 0.6176\n",
      "... sampling: 2000, 100, 2.0 - auc: 0.6337, aupr: 0.6179\n",
      "... sampling: 2000, 100, 3.0 - auc: 0.6329, aupr: 0.6158\n",
      "... sampling: 2000, 100, 4.0 - auc: 0.6320, aupr: 0.6155\n",
      "... sampling: 2000, 300, 0.0 - auc: 0.6325, aupr: 0.6156\n",
      "... sampling: 2000, 300, 1.0 - auc: 0.6331, aupr: 0.6168\n",
      "... sampling: 2000, 300, 2.0 - auc: 0.6344, aupr: 0.6175\n",
      "... sampling: 2000, 300, 3.0 - auc: 0.6337, aupr: 0.6178\n",
      "... sampling: 2000, 300, 4.0 - auc: 0.6341, aupr: 0.6172\n",
      "... sampling: 2000, 500, 0.0 - auc: 0.6324, aupr: 0.6158\n"
     ]
    },
    {
     "name": "stdout",
     "output_type": "stream",
     "text": [
      "... sampling: 2000, 500, 1.0 - auc: 0.6324, aupr: 0.6158\n",
      "... sampling: 2000, 500, 2.0 - auc: 0.6331, aupr: 0.6164\n",
      "... sampling: 2000, 500, 3.0 - auc: 0.6334, aupr: 0.6167\n",
      "... sampling: 2000, 500, 4.0 - auc: 0.6339, aupr: 0.6175\n",
      "... sampling: 3000, 100, 0.0 - auc: 0.6329, aupr: 0.6158\n",
      "... sampling: 3000, 100, 1.0 - auc: 0.6324, aupr: 0.6155\n",
      "... sampling: 3000, 100, 2.0 - auc: 0.6333, aupr: 0.6177\n",
      "... sampling: 3000, 100, 3.0 - auc: 0.6337, aupr: 0.6176\n",
      "... sampling: 3000, 100, 4.0 - auc: 0.6338, aupr: 0.6170\n",
      "... sampling: 3000, 300, 0.0 - auc: 0.6329, aupr: 0.6164\n",
      "... sampling: 3000, 300, 1.0 - auc: 0.6320, aupr: 0.6158\n",
      "... sampling: 3000, 300, 2.0 - auc: 0.6335, aupr: 0.6171\n",
      "... sampling: 3000, 300, 3.0 - auc: 0.6339, aupr: 0.6178\n",
      "... sampling: 3000, 300, 4.0 - auc: 0.6330, aupr: 0.6166\n",
      "... sampling: 3000, 500, 0.0 - auc: 0.6332, aupr: 0.6167\n",
      "... sampling: 3000, 500, 1.0 - auc: 0.6336, aupr: 0.6173\n",
      "... sampling: 3000, 500, 2.0 - auc: 0.6336, aupr: 0.6171\n",
      "... sampling: 3000, 500, 3.0 - auc: 0.6334, aupr: 0.6169\n",
      "... sampling: 3000, 500, 4.0 - auc: 0.6332, aupr: 0.6165\n",
      "... sampling: 5000, 100, 0.0 - auc: 0.6321, aupr: 0.6156\n",
      "... sampling: 5000, 100, 1.0 - auc: 0.6327, aupr: 0.6164\n",
      "... sampling: 5000, 100, 2.0 - auc: 0.6332, aupr: 0.6167\n",
      "... sampling: 5000, 100, 3.0 - auc: 0.6331, aupr: 0.6163\n",
      "... sampling: 5000, 100, 4.0 - auc: 0.6326, aupr: 0.6157\n",
      "... sampling: 5000, 300, 0.0 - auc: 0.6336, aupr: 0.6172\n",
      "... sampling: 5000, 300, 1.0 - auc: 0.6334, aupr: 0.6172\n",
      "... sampling: 5000, 300, 2.0 - auc: 0.6336, aupr: 0.6173\n",
      "... sampling: 5000, 300, 3.0 - auc: 0.6332, aupr: 0.6166\n",
      "... sampling: 5000, 300, 4.0 - auc: 0.6333, aupr: 0.6169\n",
      "... sampling: 5000, 500, 0.0 - auc: 0.6336, aupr: 0.6170\n",
      "... sampling: 5000, 500, 1.0 - auc: 0.6333, aupr: 0.6171\n",
      "... sampling: 5000, 500, 2.0 - auc: 0.6332, aupr: 0.6167\n",
      "... sampling: 5000, 500, 3.0 - auc: 0.6332, aupr: 0.6168\n",
      "... sampling: 5000, 500, 4.0 - auc: 0.6332, aupr: 0.6167\n",
      "... sampling: 7000, 100, 0.0 - auc: 0.6332, aupr: 0.6164\n",
      "... sampling: 7000, 100, 1.0 - auc: 0.6330, aupr: 0.6166\n",
      "... sampling: 7000, 100, 2.0 - auc: 0.6335, aupr: 0.6170\n",
      "... sampling: 7000, 100, 3.0 - auc: 0.6329, aupr: 0.6167\n",
      "... sampling: 7000, 100, 4.0 - auc: 0.6333, aupr: 0.6173\n",
      "... sampling: 7000, 300, 0.0 - auc: 0.6333, aupr: 0.6171\n",
      "... sampling: 7000, 300, 1.0 - auc: 0.6336, aupr: 0.6171\n",
      "... sampling: 7000, 300, 2.0 - auc: 0.6331, aupr: 0.6168\n",
      "... sampling: 7000, 300, 3.0 - auc: 0.6334, aupr: 0.6169\n",
      "... sampling: 7000, 300, 4.0 - auc: 0.6330, aupr: 0.6167\n",
      "... sampling: 7000, 500, 0.0 - auc: 0.6333, aupr: 0.6169\n",
      "... sampling: 7000, 500, 1.0 - auc: 0.6334, aupr: 0.6171\n",
      "... sampling: 7000, 500, 2.0 - auc: 0.6333, aupr: 0.6170\n",
      "... sampling: 7000, 500, 3.0 - auc: 0.6334, aupr: 0.6172\n",
      "... sampling: 7000, 500, 4.0 - auc: 0.6333, aupr: 0.6171\n",
      "... summary index: 975 - n:10000, rho:0.5, mu1:3.0\n",
      "... calculate auc: 0.8581, 0.8581, aupr: 0.8535, 0.8535\n",
      "... sampling: 1000, 100, 0.0 - auc: 0.8585, aupr: 0.8535\n",
      "... sampling: 1000, 100, 1.0 - auc: 0.8592, aupr: 0.8539\n",
      "... sampling: 1000, 100, 2.0 - auc: 0.8569, aupr: 0.8521\n",
      "... sampling: 1000, 100, 3.0 - auc: 0.8584, aupr: 0.8527\n",
      "... sampling: 1000, 100, 4.0 - auc: 0.8562, aupr: 0.8508\n",
      "... sampling: 1000, 300, 0.0 - auc: 0.8576, aupr: 0.8527\n",
      "... sampling: 1000, 300, 1.0 - auc: 0.8586, aupr: 0.8539\n",
      "... sampling: 1000, 300, 2.0 - auc: 0.8590, aupr: 0.8540\n",
      "... sampling: 1000, 300, 3.0 - auc: 0.8588, aupr: 0.8538\n",
      "... sampling: 1000, 300, 4.0 - auc: 0.8578, aupr: 0.8525\n",
      "... sampling: 1000, 500, 0.0 - auc: 0.8573, aupr: 0.8523\n",
      "... sampling: 1000, 500, 1.0 - auc: 0.8580, aupr: 0.8526\n",
      "... sampling: 1000, 500, 2.0 - auc: 0.8578, aupr: 0.8528\n",
      "... sampling: 1000, 500, 3.0 - auc: 0.8584, aupr: 0.8532\n",
      "... sampling: 1000, 500, 4.0 - auc: 0.8588, aupr: 0.8537\n",
      "... sampling: 2000, 100, 0.0 - auc: 0.8574, aupr: 0.8527\n",
      "... sampling: 2000, 100, 1.0 - auc: 0.8575, aupr: 0.8523\n",
      "... sampling: 2000, 100, 2.0 - auc: 0.8575, aupr: 0.8527\n",
      "... sampling: 2000, 100, 3.0 - auc: 0.8585, aupr: 0.8536\n",
      "... sampling: 2000, 100, 4.0 - auc: 0.8588, aupr: 0.8546\n",
      "... sampling: 2000, 300, 0.0 - auc: 0.8574, aupr: 0.8528\n",
      "... sampling: 2000, 300, 1.0 - auc: 0.8580, aupr: 0.8534\n",
      "... sampling: 2000, 300, 2.0 - auc: 0.8587, aupr: 0.8536\n",
      "... sampling: 2000, 300, 3.0 - auc: 0.8573, aupr: 0.8524\n",
      "... sampling: 2000, 300, 4.0 - auc: 0.8582, aupr: 0.8531\n",
      "... sampling: 2000, 500, 0.0 - auc: 0.8578, aupr: 0.8531\n",
      "... sampling: 2000, 500, 1.0 - auc: 0.8588, aupr: 0.8539\n",
      "... sampling: 2000, 500, 2.0 - auc: 0.8575, aupr: 0.8525\n",
      "... sampling: 2000, 500, 3.0 - auc: 0.8579, aupr: 0.8530\n",
      "... sampling: 2000, 500, 4.0 - auc: 0.8586, aupr: 0.8541\n",
      "... sampling: 3000, 100, 0.0 - auc: 0.8586, aupr: 0.8545\n",
      "... sampling: 3000, 100, 1.0 - auc: 0.8578, aupr: 0.8531\n",
      "... sampling: 3000, 100, 2.0 - auc: 0.8582, aupr: 0.8531\n",
      "... sampling: 3000, 100, 3.0 - auc: 0.8583, aupr: 0.8538\n",
      "... sampling: 3000, 100, 4.0 - auc: 0.8585, aupr: 0.8536\n",
      "... sampling: 3000, 300, 0.0 - auc: 0.8583, aupr: 0.8536\n",
      "... sampling: 3000, 300, 1.0 - auc: 0.8579, aupr: 0.8534\n",
      "... sampling: 3000, 300, 2.0 - auc: 0.8580, aupr: 0.8534\n",
      "... sampling: 3000, 300, 3.0 - auc: 0.8581, aupr: 0.8535\n",
      "... sampling: 3000, 300, 4.0 - auc: 0.8584, aupr: 0.8537\n",
      "... sampling: 3000, 500, 0.0 - auc: 0.8581, aupr: 0.8531\n",
      "... sampling: 3000, 500, 1.0 - auc: 0.8582, aupr: 0.8536\n",
      "... sampling: 3000, 500, 2.0 - auc: 0.8582, aupr: 0.8538\n",
      "... sampling: 3000, 500, 3.0 - auc: 0.8582, aupr: 0.8535\n",
      "... sampling: 3000, 500, 4.0 - auc: 0.8586, aupr: 0.8540\n",
      "... sampling: 5000, 100, 0.0 - auc: 0.8578, aupr: 0.8531\n",
      "... sampling: 5000, 100, 1.0 - auc: 0.8581, aupr: 0.8539\n",
      "... sampling: 5000, 100, 2.0 - auc: 0.8577, aupr: 0.8530\n",
      "... sampling: 5000, 100, 3.0 - auc: 0.8573, aupr: 0.8527\n",
      "... sampling: 5000, 100, 4.0 - auc: 0.8576, aupr: 0.8529\n",
      "... sampling: 5000, 300, 0.0 - auc: 0.8582, aupr: 0.8538\n",
      "... sampling: 5000, 300, 1.0 - auc: 0.8576, aupr: 0.8529\n",
      "... sampling: 5000, 300, 2.0 - auc: 0.8581, aupr: 0.8535\n",
      "... sampling: 5000, 300, 3.0 - auc: 0.8582, aupr: 0.8535\n",
      "... sampling: 5000, 300, 4.0 - auc: 0.8580, aupr: 0.8535\n",
      "... sampling: 5000, 500, 0.0 - auc: 0.8577, aupr: 0.8530\n",
      "... sampling: 5000, 500, 1.0 - auc: 0.8583, aupr: 0.8538\n",
      "... sampling: 5000, 500, 2.0 - auc: 0.8580, aupr: 0.8533\n",
      "... sampling: 5000, 500, 3.0 - auc: 0.8581, aupr: 0.8535\n",
      "... sampling: 5000, 500, 4.0 - auc: 0.8580, aupr: 0.8533\n",
      "... sampling: 7000, 100, 0.0 - auc: 0.8578, aupr: 0.8532\n",
      "... sampling: 7000, 100, 1.0 - auc: 0.8584, aupr: 0.8538\n",
      "... sampling: 7000, 100, 2.0 - auc: 0.8576, aupr: 0.8530\n",
      "... sampling: 7000, 100, 3.0 - auc: 0.8582, aupr: 0.8538\n",
      "... sampling: 7000, 100, 4.0 - auc: 0.8585, aupr: 0.8538\n",
      "... sampling: 7000, 300, 0.0 - auc: 0.8580, aupr: 0.8535\n",
      "... sampling: 7000, 300, 1.0 - auc: 0.8580, aupr: 0.8534\n",
      "... sampling: 7000, 300, 2.0 - auc: 0.8580, aupr: 0.8535\n",
      "... sampling: 7000, 300, 3.0 - auc: 0.8580, aupr: 0.8535\n",
      "... sampling: 7000, 300, 4.0 - auc: 0.8579, aupr: 0.8532\n",
      "... sampling: 7000, 500, 0.0 - auc: 0.8580, aupr: 0.8533\n",
      "... sampling: 7000, 500, 1.0 - auc: 0.8580, aupr: 0.8533\n",
      "... sampling: 7000, 500, 2.0 - auc: 0.8582, aupr: 0.8536\n",
      "... sampling: 7000, 500, 3.0 - auc: 0.8580, aupr: 0.8534\n",
      "... sampling: 7000, 500, 4.0 - auc: 0.8582, aupr: 0.8536\n",
      "... summary index: 1050 - n:10000, rho:0.5, mu1:5.0\n",
      "... calculate auc: 0.9624, 0.9624, aupr: 0.9622, 0.9622\n",
      "... sampling: 1000, 100, 0.0 - auc: 0.9628, aupr: 0.9623\n",
      "... sampling: 1000, 100, 1.0 - auc: 0.9626, aupr: 0.9622\n",
      "... sampling: 1000, 100, 2.0 - auc: 0.9619, aupr: 0.9613\n",
      "... sampling: 1000, 100, 3.0 - auc: 0.9625, aupr: 0.9619\n",
      "... sampling: 1000, 100, 4.0 - auc: 0.9617, aupr: 0.9611\n",
      "... sampling: 1000, 300, 0.0 - auc: 0.9621, aupr: 0.9615\n",
      "... sampling: 1000, 300, 1.0 - auc: 0.9627, aupr: 0.9623\n",
      "... sampling: 1000, 300, 2.0 - auc: 0.9623, aupr: 0.9617\n",
      "... sampling: 1000, 300, 3.0 - auc: 0.9617, aupr: 0.9610\n",
      "... sampling: 1000, 300, 4.0 - auc: 0.9622, aupr: 0.9616\n",
      "... sampling: 1000, 500, 0.0 - auc: 0.9620, aupr: 0.9615\n",
      "... sampling: 1000, 500, 1.0 - auc: 0.9626, aupr: 0.9621\n",
      "... sampling: 1000, 500, 2.0 - auc: 0.9627, aupr: 0.9622\n",
      "... sampling: 1000, 500, 3.0 - auc: 0.9622, aupr: 0.9616\n",
      "... sampling: 1000, 500, 4.0 - auc: 0.9620, aupr: 0.9615\n",
      "... sampling: 2000, 100, 0.0 - auc: 0.9622, aupr: 0.9619\n"
     ]
    },
    {
     "name": "stdout",
     "output_type": "stream",
     "text": [
      "... sampling: 2000, 100, 1.0 - auc: 0.9625, aupr: 0.9620\n",
      "... sampling: 2000, 100, 2.0 - auc: 0.9624, aupr: 0.9619\n",
      "... sampling: 2000, 100, 3.0 - auc: 0.9625, aupr: 0.9623\n",
      "... sampling: 2000, 100, 4.0 - auc: 0.9636, aupr: 0.9633\n",
      "... sampling: 2000, 300, 0.0 - auc: 0.9622, aupr: 0.9617\n",
      "... sampling: 2000, 300, 1.0 - auc: 0.9626, aupr: 0.9621\n",
      "... sampling: 2000, 300, 2.0 - auc: 0.9624, aupr: 0.9621\n",
      "... sampling: 2000, 300, 3.0 - auc: 0.9624, aupr: 0.9620\n",
      "... sampling: 2000, 300, 4.0 - auc: 0.9622, aupr: 0.9620\n",
      "... sampling: 2000, 500, 0.0 - auc: 0.9624, aupr: 0.9621\n",
      "... sampling: 2000, 500, 1.0 - auc: 0.9623, aupr: 0.9621\n",
      "... sampling: 2000, 500, 2.0 - auc: 0.9621, aupr: 0.9618\n",
      "... sampling: 2000, 500, 3.0 - auc: 0.9625, aupr: 0.9621\n",
      "... sampling: 2000, 500, 4.0 - auc: 0.9626, aupr: 0.9623\n",
      "... sampling: 3000, 100, 0.0 - auc: 0.9620, aupr: 0.9617\n",
      "... sampling: 3000, 100, 1.0 - auc: 0.9621, aupr: 0.9619\n",
      "... sampling: 3000, 100, 2.0 - auc: 0.9629, aupr: 0.9626\n",
      "... sampling: 3000, 100, 3.0 - auc: 0.9619, aupr: 0.9615\n",
      "... sampling: 3000, 100, 4.0 - auc: 0.9619, aupr: 0.9616\n",
      "... sampling: 3000, 300, 0.0 - auc: 0.9626, aupr: 0.9623\n",
      "... sampling: 3000, 300, 1.0 - auc: 0.9621, aupr: 0.9618\n",
      "... sampling: 3000, 300, 2.0 - auc: 0.9622, aupr: 0.9621\n",
      "... sampling: 3000, 300, 3.0 - auc: 0.9627, aupr: 0.9625\n",
      "... sampling: 3000, 300, 4.0 - auc: 0.9624, aupr: 0.9620\n",
      "... sampling: 3000, 500, 0.0 - auc: 0.9623, aupr: 0.9621\n",
      "... sampling: 3000, 500, 1.0 - auc: 0.9624, aupr: 0.9621\n",
      "... sampling: 3000, 500, 2.0 - auc: 0.9626, aupr: 0.9624\n",
      "... sampling: 3000, 500, 3.0 - auc: 0.9624, aupr: 0.9621\n",
      "... sampling: 3000, 500, 4.0 - auc: 0.9626, aupr: 0.9623\n",
      "... sampling: 5000, 100, 0.0 - auc: 0.9625, aupr: 0.9623\n",
      "... sampling: 5000, 100, 1.0 - auc: 0.9623, aupr: 0.9621\n",
      "... sampling: 5000, 100, 2.0 - auc: 0.9623, aupr: 0.9622\n",
      "... sampling: 5000, 100, 3.0 - auc: 0.9622, aupr: 0.9620\n",
      "... sampling: 5000, 100, 4.0 - auc: 0.9622, aupr: 0.9620\n",
      "... sampling: 5000, 300, 0.0 - auc: 0.9623, aupr: 0.9621\n",
      "... sampling: 5000, 300, 1.0 - auc: 0.9623, aupr: 0.9621\n",
      "... sampling: 5000, 300, 2.0 - auc: 0.9624, aupr: 0.9622\n",
      "... sampling: 5000, 300, 3.0 - auc: 0.9621, aupr: 0.9619\n",
      "... sampling: 5000, 300, 4.0 - auc: 0.9622, aupr: 0.9620\n",
      "... sampling: 5000, 500, 0.0 - auc: 0.9625, aupr: 0.9623\n",
      "... sampling: 5000, 500, 1.0 - auc: 0.9624, aupr: 0.9622\n",
      "... sampling: 5000, 500, 2.0 - auc: 0.9623, aupr: 0.9620\n",
      "... sampling: 5000, 500, 3.0 - auc: 0.9623, aupr: 0.9621\n",
      "... sampling: 5000, 500, 4.0 - auc: 0.9626, aupr: 0.9624\n",
      "... sampling: 7000, 100, 0.0 - auc: 0.9625, aupr: 0.9622\n",
      "... sampling: 7000, 100, 1.0 - auc: 0.9624, aupr: 0.9622\n",
      "... sampling: 7000, 100, 2.0 - auc: 0.9622, aupr: 0.9619\n",
      "... sampling: 7000, 100, 3.0 - auc: 0.9624, aupr: 0.9623\n",
      "... sampling: 7000, 100, 4.0 - auc: 0.9622, aupr: 0.9620\n",
      "... sampling: 7000, 300, 0.0 - auc: 0.9623, aupr: 0.9621\n",
      "... sampling: 7000, 300, 1.0 - auc: 0.9623, aupr: 0.9621\n",
      "... sampling: 7000, 300, 2.0 - auc: 0.9624, aupr: 0.9622\n",
      "... sampling: 7000, 300, 3.0 - auc: 0.9624, aupr: 0.9621\n",
      "... sampling: 7000, 300, 4.0 - auc: 0.9623, aupr: 0.9621\n",
      "... sampling: 7000, 500, 0.0 - auc: 0.9624, aupr: 0.9622\n",
      "... sampling: 7000, 500, 1.0 - auc: 0.9623, aupr: 0.9621\n",
      "... sampling: 7000, 500, 2.0 - auc: 0.9624, aupr: 0.9622\n",
      "... sampling: 7000, 500, 3.0 - auc: 0.9625, aupr: 0.9623\n",
      "... sampling: 7000, 500, 4.0 - auc: 0.9623, aupr: 0.9621\n",
      "... summary index: 1125 - n:10000, rho:0.75, mu1:1.0\n",
      "... calculate auc: 0.6390, 0.6390, aupr: 0.8312, 0.8313\n",
      "... sampling: 1000, 100, 0.0 - auc: 0.6379, aupr: 0.8307\n",
      "... sampling: 1000, 100, 1.0 - auc: 0.6375, aupr: 0.8302\n",
      "... sampling: 1000, 100, 2.0 - auc: 0.6352, aupr: 0.8290\n",
      "... sampling: 1000, 100, 3.0 - auc: 0.6395, aupr: 0.8303\n",
      "... sampling: 1000, 100, 4.0 - auc: 0.6408, aupr: 0.8325\n",
      "... sampling: 1000, 300, 0.0 - auc: 0.6391, aupr: 0.8318\n",
      "... sampling: 1000, 300, 1.0 - auc: 0.6385, aupr: 0.8305\n",
      "... sampling: 1000, 300, 2.0 - auc: 0.6400, aupr: 0.8323\n",
      "... sampling: 1000, 300, 3.0 - auc: 0.6410, aupr: 0.8326\n",
      "... sampling: 1000, 300, 4.0 - auc: 0.6391, aupr: 0.8312\n",
      "... sampling: 1000, 500, 0.0 - auc: 0.6383, aupr: 0.8310\n",
      "... sampling: 1000, 500, 1.0 - auc: 0.6388, aupr: 0.8315\n",
      "... sampling: 1000, 500, 2.0 - auc: 0.6389, aupr: 0.8313\n",
      "... sampling: 1000, 500, 3.0 - auc: 0.6392, aupr: 0.8317\n",
      "... sampling: 1000, 500, 4.0 - auc: 0.6377, aupr: 0.8308\n",
      "... sampling: 2000, 100, 0.0 - auc: 0.6381, aupr: 0.8304\n",
      "... sampling: 2000, 100, 1.0 - auc: 0.6369, aupr: 0.8297\n",
      "... sampling: 2000, 100, 2.0 - auc: 0.6370, aupr: 0.8302\n",
      "... sampling: 2000, 100, 3.0 - auc: 0.6384, aupr: 0.8318\n",
      "... sampling: 2000, 100, 4.0 - auc: 0.6383, aupr: 0.8312\n",
      "... sampling: 2000, 300, 0.0 - auc: 0.6390, aupr: 0.8313\n",
      "... sampling: 2000, 300, 1.0 - auc: 0.6373, aupr: 0.8301\n",
      "... sampling: 2000, 300, 2.0 - auc: 0.6381, aupr: 0.8303\n",
      "... sampling: 2000, 300, 3.0 - auc: 0.6390, aupr: 0.8314\n",
      "... sampling: 2000, 300, 4.0 - auc: 0.6384, aupr: 0.8308\n",
      "... sampling: 2000, 500, 0.0 - auc: 0.6392, aupr: 0.8310\n",
      "... sampling: 2000, 500, 1.0 - auc: 0.6385, aupr: 0.8310\n",
      "... sampling: 2000, 500, 2.0 - auc: 0.6393, aupr: 0.8312\n",
      "... sampling: 2000, 500, 3.0 - auc: 0.6385, aupr: 0.8311\n",
      "... sampling: 2000, 500, 4.0 - auc: 0.6391, aupr: 0.8312\n",
      "... sampling: 3000, 100, 0.0 - auc: 0.6372, aupr: 0.8294\n",
      "... sampling: 3000, 100, 1.0 - auc: 0.6386, aupr: 0.8312\n",
      "... sampling: 3000, 100, 2.0 - auc: 0.6385, aupr: 0.8311\n",
      "... sampling: 3000, 100, 3.0 - auc: 0.6384, aupr: 0.8311\n",
      "... sampling: 3000, 100, 4.0 - auc: 0.6403, aupr: 0.8319\n",
      "... sampling: 3000, 300, 0.0 - auc: 0.6390, aupr: 0.8314\n",
      "... sampling: 3000, 300, 1.0 - auc: 0.6394, aupr: 0.8312\n",
      "... sampling: 3000, 300, 2.0 - auc: 0.6391, aupr: 0.8310\n",
      "... sampling: 3000, 300, 3.0 - auc: 0.6393, aupr: 0.8314\n",
      "... sampling: 3000, 300, 4.0 - auc: 0.6388, aupr: 0.8310\n",
      "... sampling: 3000, 500, 0.0 - auc: 0.6384, aupr: 0.8310\n",
      "... sampling: 3000, 500, 1.0 - auc: 0.6389, aupr: 0.8310\n",
      "... sampling: 3000, 500, 2.0 - auc: 0.6389, aupr: 0.8312\n",
      "... sampling: 3000, 500, 3.0 - auc: 0.6388, aupr: 0.8311\n",
      "... sampling: 3000, 500, 4.0 - auc: 0.6393, aupr: 0.8314\n",
      "... sampling: 5000, 100, 0.0 - auc: 0.6388, aupr: 0.8310\n",
      "... sampling: 5000, 100, 1.0 - auc: 0.6393, aupr: 0.8318\n",
      "... sampling: 5000, 100, 2.0 - auc: 0.6395, aupr: 0.8314\n",
      "... sampling: 5000, 100, 3.0 - auc: 0.6386, aupr: 0.8309\n",
      "... sampling: 5000, 100, 4.0 - auc: 0.6390, aupr: 0.8312\n",
      "... sampling: 5000, 300, 0.0 - auc: 0.6387, aupr: 0.8310\n",
      "... sampling: 5000, 300, 1.0 - auc: 0.6392, aupr: 0.8311\n",
      "... sampling: 5000, 300, 2.0 - auc: 0.6391, aupr: 0.8315\n",
      "... sampling: 5000, 300, 3.0 - auc: 0.6392, aupr: 0.8311\n",
      "... sampling: 5000, 300, 4.0 - auc: 0.6387, aupr: 0.8310\n",
      "... sampling: 5000, 500, 0.0 - auc: 0.6388, aupr: 0.8310\n",
      "... sampling: 5000, 500, 1.0 - auc: 0.6392, aupr: 0.8314\n",
      "... sampling: 5000, 500, 2.0 - auc: 0.6390, aupr: 0.8312\n",
      "... sampling: 5000, 500, 3.0 - auc: 0.6396, aupr: 0.8315\n",
      "... sampling: 5000, 500, 4.0 - auc: 0.6390, aupr: 0.8313\n",
      "... sampling: 7000, 100, 0.0 - auc: 0.6382, aupr: 0.8309\n",
      "... sampling: 7000, 100, 1.0 - auc: 0.6395, aupr: 0.8315\n",
      "... sampling: 7000, 100, 2.0 - auc: 0.6399, aupr: 0.8316\n",
      "... sampling: 7000, 100, 3.0 - auc: 0.6390, aupr: 0.8312\n",
      "... sampling: 7000, 100, 4.0 - auc: 0.6391, aupr: 0.8314\n",
      "... sampling: 7000, 300, 0.0 - auc: 0.6389, aupr: 0.8313\n",
      "... sampling: 7000, 300, 1.0 - auc: 0.6387, aupr: 0.8311\n",
      "... sampling: 7000, 300, 2.0 - auc: 0.6393, aupr: 0.8315\n",
      "... sampling: 7000, 300, 3.0 - auc: 0.6389, aupr: 0.8311\n",
      "... sampling: 7000, 300, 4.0 - auc: 0.6389, aupr: 0.8311\n",
      "... sampling: 7000, 500, 0.0 - auc: 0.6390, aupr: 0.8313\n",
      "... sampling: 7000, 500, 1.0 - auc: 0.6389, aupr: 0.8312\n",
      "... sampling: 7000, 500, 2.0 - auc: 0.6391, aupr: 0.8313\n",
      "... sampling: 7000, 500, 3.0 - auc: 0.6390, aupr: 0.8312\n",
      "... sampling: 7000, 500, 4.0 - auc: 0.6389, aupr: 0.8312\n",
      "... summary index: 1200 - n:10000, rho:0.75, mu1:3.0\n",
      "... calculate auc: 0.8517, 0.8517, aupr: 0.9393, 0.9393\n",
      "... sampling: 1000, 100, 0.0 - auc: 0.8533, aupr: 0.9400\n",
      "... sampling: 1000, 100, 1.0 - auc: 0.8482, aupr: 0.9377\n",
      "... sampling: 1000, 100, 2.0 - auc: 0.8519, aupr: 0.9397\n",
      "... sampling: 1000, 100, 3.0 - auc: 0.8522, aupr: 0.9395\n",
      "... sampling: 1000, 100, 4.0 - auc: 0.8528, aupr: 0.9399\n",
      "... sampling: 1000, 300, 0.0 - auc: 0.8520, aupr: 0.9387\n"
     ]
    },
    {
     "name": "stdout",
     "output_type": "stream",
     "text": [
      "... sampling: 1000, 300, 1.0 - auc: 0.8516, aupr: 0.9388\n",
      "... sampling: 1000, 300, 2.0 - auc: 0.8517, aupr: 0.9391\n",
      "... sampling: 1000, 300, 3.0 - auc: 0.8519, aupr: 0.9392\n",
      "... sampling: 1000, 300, 4.0 - auc: 0.8513, aupr: 0.9391\n",
      "... sampling: 1000, 500, 0.0 - auc: 0.8510, aupr: 0.9388\n",
      "... sampling: 1000, 500, 1.0 - auc: 0.8518, aupr: 0.9391\n",
      "... sampling: 1000, 500, 2.0 - auc: 0.8523, aupr: 0.9395\n",
      "... sampling: 1000, 500, 3.0 - auc: 0.8525, aupr: 0.9397\n",
      "... sampling: 1000, 500, 4.0 - auc: 0.8521, aupr: 0.9393\n",
      "... sampling: 2000, 100, 0.0 - auc: 0.8522, aupr: 0.9391\n",
      "... sampling: 2000, 100, 1.0 - auc: 0.8540, aupr: 0.9406\n",
      "... sampling: 2000, 100, 2.0 - auc: 0.8512, aupr: 0.9388\n",
      "... sampling: 2000, 100, 3.0 - auc: 0.8515, aupr: 0.9392\n",
      "... sampling: 2000, 100, 4.0 - auc: 0.8515, aupr: 0.9390\n",
      "... sampling: 2000, 300, 0.0 - auc: 0.8523, aupr: 0.9399\n",
      "... sampling: 2000, 300, 1.0 - auc: 0.8513, aupr: 0.9390\n",
      "... sampling: 2000, 300, 2.0 - auc: 0.8512, aupr: 0.9390\n",
      "... sampling: 2000, 300, 3.0 - auc: 0.8525, aupr: 0.9397\n",
      "... sampling: 2000, 300, 4.0 - auc: 0.8515, aupr: 0.9391\n",
      "... sampling: 2000, 500, 0.0 - auc: 0.8515, aupr: 0.9391\n",
      "... sampling: 2000, 500, 1.0 - auc: 0.8521, aupr: 0.9393\n",
      "... sampling: 2000, 500, 2.0 - auc: 0.8517, aupr: 0.9393\n",
      "... sampling: 2000, 500, 3.0 - auc: 0.8525, aupr: 0.9396\n",
      "... sampling: 2000, 500, 4.0 - auc: 0.8524, aupr: 0.9396\n",
      "... sampling: 3000, 100, 0.0 - auc: 0.8509, aupr: 0.9387\n",
      "... sampling: 3000, 100, 1.0 - auc: 0.8511, aupr: 0.9389\n",
      "... sampling: 3000, 100, 2.0 - auc: 0.8516, aupr: 0.9390\n",
      "... sampling: 3000, 100, 3.0 - auc: 0.8512, aupr: 0.9390\n",
      "... sampling: 3000, 100, 4.0 - auc: 0.8515, aupr: 0.9393\n",
      "... sampling: 3000, 300, 0.0 - auc: 0.8519, aupr: 0.9392\n",
      "... sampling: 3000, 300, 1.0 - auc: 0.8514, aupr: 0.9392\n",
      "... sampling: 3000, 300, 2.0 - auc: 0.8513, aupr: 0.9390\n",
      "... sampling: 3000, 300, 3.0 - auc: 0.8526, aupr: 0.9397\n",
      "... sampling: 3000, 300, 4.0 - auc: 0.8519, aupr: 0.9394\n",
      "... sampling: 3000, 500, 0.0 - auc: 0.8519, aupr: 0.9393\n",
      "... sampling: 3000, 500, 1.0 - auc: 0.8512, aupr: 0.9390\n",
      "... sampling: 3000, 500, 2.0 - auc: 0.8513, aupr: 0.9390\n",
      "... sampling: 3000, 500, 3.0 - auc: 0.8517, aupr: 0.9392\n",
      "... sampling: 3000, 500, 4.0 - auc: 0.8518, aupr: 0.9393\n",
      "... sampling: 5000, 100, 0.0 - auc: 0.8522, aupr: 0.9393\n",
      "... sampling: 5000, 100, 1.0 - auc: 0.8506, aupr: 0.9388\n",
      "... sampling: 5000, 100, 2.0 - auc: 0.8512, aupr: 0.9391\n",
      "... sampling: 5000, 100, 3.0 - auc: 0.8525, aupr: 0.9397\n",
      "... sampling: 5000, 100, 4.0 - auc: 0.8519, aupr: 0.9394\n",
      "... sampling: 5000, 300, 0.0 - auc: 0.8519, aupr: 0.9393\n",
      "... sampling: 5000, 300, 1.0 - auc: 0.8516, aupr: 0.9392\n",
      "... sampling: 5000, 300, 2.0 - auc: 0.8515, aupr: 0.9391\n",
      "... sampling: 5000, 300, 3.0 - auc: 0.8515, aupr: 0.9391\n",
      "... sampling: 5000, 300, 4.0 - auc: 0.8517, aupr: 0.9391\n",
      "... sampling: 5000, 500, 0.0 - auc: 0.8515, aupr: 0.9392\n",
      "... sampling: 5000, 500, 1.0 - auc: 0.8517, aupr: 0.9393\n",
      "... sampling: 5000, 500, 2.0 - auc: 0.8518, aupr: 0.9393\n",
      "... sampling: 5000, 500, 3.0 - auc: 0.8523, aupr: 0.9395\n",
      "... sampling: 5000, 500, 4.0 - auc: 0.8518, aupr: 0.9393\n",
      "... sampling: 7000, 100, 0.0 - auc: 0.8515, aupr: 0.9392\n",
      "... sampling: 7000, 100, 1.0 - auc: 0.8514, aupr: 0.9391\n",
      "... sampling: 7000, 100, 2.0 - auc: 0.8512, aupr: 0.9390\n",
      "... sampling: 7000, 100, 3.0 - auc: 0.8520, aupr: 0.9393\n",
      "... sampling: 7000, 100, 4.0 - auc: 0.8515, aupr: 0.9391\n",
      "... sampling: 7000, 300, 0.0 - auc: 0.8515, aupr: 0.9392\n",
      "... sampling: 7000, 300, 1.0 - auc: 0.8518, aupr: 0.9393\n",
      "... sampling: 7000, 300, 2.0 - auc: 0.8517, aupr: 0.9392\n",
      "... sampling: 7000, 300, 3.0 - auc: 0.8517, aupr: 0.9392\n",
      "... sampling: 7000, 300, 4.0 - auc: 0.8518, aupr: 0.9393\n",
      "... sampling: 7000, 500, 0.0 - auc: 0.8517, aupr: 0.9393\n",
      "... sampling: 7000, 500, 1.0 - auc: 0.8521, aupr: 0.9394\n",
      "... sampling: 7000, 500, 2.0 - auc: 0.8518, aupr: 0.9393\n",
      "... sampling: 7000, 500, 3.0 - auc: 0.8517, aupr: 0.9392\n",
      "... sampling: 7000, 500, 4.0 - auc: 0.8517, aupr: 0.9393\n",
      "... summary index: 1275 - n:10000, rho:0.75, mu1:5.0\n",
      "... calculate auc: 0.9622, 0.9622, aupr: 0.9864, 0.9864\n",
      "... sampling: 1000, 100, 0.0 - auc: 0.9618, aupr: 0.9862\n",
      "... sampling: 1000, 100, 1.0 - auc: 0.9622, aupr: 0.9862\n",
      "... sampling: 1000, 100, 2.0 - auc: 0.9632, aupr: 0.9866\n",
      "... sampling: 1000, 100, 3.0 - auc: 0.9628, aupr: 0.9865\n",
      "... sampling: 1000, 100, 4.0 - auc: 0.9617, aupr: 0.9860\n",
      "... sampling: 1000, 300, 0.0 - auc: 0.9623, aupr: 0.9863\n",
      "... sampling: 1000, 300, 1.0 - auc: 0.9618, aupr: 0.9861\n",
      "... sampling: 1000, 300, 2.0 - auc: 0.9623, aupr: 0.9863\n",
      "... sampling: 1000, 300, 3.0 - auc: 0.9625, aupr: 0.9864\n",
      "... sampling: 1000, 300, 4.0 - auc: 0.9621, aupr: 0.9862\n",
      "... sampling: 1000, 500, 0.0 - auc: 0.9621, aupr: 0.9862\n",
      "... sampling: 1000, 500, 1.0 - auc: 0.9622, aupr: 0.9863\n",
      "... sampling: 1000, 500, 2.0 - auc: 0.9623, aupr: 0.9863\n",
      "... sampling: 1000, 500, 3.0 - auc: 0.9621, aupr: 0.9863\n",
      "... sampling: 1000, 500, 4.0 - auc: 0.9620, aupr: 0.9862\n",
      "... sampling: 2000, 100, 0.0 - auc: 0.9621, aupr: 0.9863\n",
      "... sampling: 2000, 100, 1.0 - auc: 0.9617, aupr: 0.9862\n",
      "... sampling: 2000, 100, 2.0 - auc: 0.9627, aupr: 0.9866\n",
      "... sampling: 2000, 100, 3.0 - auc: 0.9624, aupr: 0.9865\n",
      "... sampling: 2000, 100, 4.0 - auc: 0.9618, aupr: 0.9862\n",
      "... sampling: 2000, 300, 0.0 - auc: 0.9620, aupr: 0.9863\n",
      "... sampling: 2000, 300, 1.0 - auc: 0.9621, aupr: 0.9863\n",
      "... sampling: 2000, 300, 2.0 - auc: 0.9621, aupr: 0.9863\n",
      "... sampling: 2000, 300, 3.0 - auc: 0.9621, aupr: 0.9863\n",
      "... sampling: 2000, 300, 4.0 - auc: 0.9620, aupr: 0.9863\n",
      "... sampling: 2000, 500, 0.0 - auc: 0.9620, aupr: 0.9863\n",
      "... sampling: 2000, 500, 1.0 - auc: 0.9622, aupr: 0.9864\n",
      "... sampling: 2000, 500, 2.0 - auc: 0.9623, aupr: 0.9864\n",
      "... sampling: 2000, 500, 3.0 - auc: 0.9620, aupr: 0.9863\n",
      "... sampling: 2000, 500, 4.0 - auc: 0.9623, aupr: 0.9864\n",
      "... sampling: 3000, 100, 0.0 - auc: 0.9618, aupr: 0.9863\n",
      "... sampling: 3000, 100, 1.0 - auc: 0.9627, aupr: 0.9866\n",
      "... sampling: 3000, 100, 2.0 - auc: 0.9626, aupr: 0.9865\n",
      "... sampling: 3000, 100, 3.0 - auc: 0.9620, aupr: 0.9863\n",
      "... sampling: 3000, 100, 4.0 - auc: 0.9625, aupr: 0.9865\n",
      "... sampling: 3000, 300, 0.0 - auc: 0.9624, aupr: 0.9865\n",
      "... sampling: 3000, 300, 1.0 - auc: 0.9620, aupr: 0.9863\n",
      "... sampling: 3000, 300, 2.0 - auc: 0.9622, aupr: 0.9864\n",
      "... sampling: 3000, 300, 3.0 - auc: 0.9622, aupr: 0.9864\n",
      "... sampling: 3000, 300, 4.0 - auc: 0.9624, aupr: 0.9865\n",
      "... sampling: 3000, 500, 0.0 - auc: 0.9623, aupr: 0.9864\n",
      "... sampling: 3000, 500, 1.0 - auc: 0.9622, aupr: 0.9864\n",
      "... sampling: 3000, 500, 2.0 - auc: 0.9623, aupr: 0.9865\n",
      "... sampling: 3000, 500, 3.0 - auc: 0.9619, aupr: 0.9863\n",
      "... sampling: 3000, 500, 4.0 - auc: 0.9622, aupr: 0.9864\n",
      "... sampling: 5000, 100, 0.0 - auc: 0.9623, aupr: 0.9865\n",
      "... sampling: 5000, 100, 1.0 - auc: 0.9625, aupr: 0.9865\n",
      "... sampling: 5000, 100, 2.0 - auc: 0.9623, aupr: 0.9865\n",
      "... sampling: 5000, 100, 3.0 - auc: 0.9622, aupr: 0.9864\n",
      "... sampling: 5000, 100, 4.0 - auc: 0.9622, aupr: 0.9864\n",
      "... sampling: 5000, 300, 0.0 - auc: 0.9623, aupr: 0.9864\n",
      "... sampling: 5000, 300, 1.0 - auc: 0.9623, aupr: 0.9864\n",
      "... sampling: 5000, 300, 2.0 - auc: 0.9623, aupr: 0.9865\n",
      "... sampling: 5000, 300, 3.0 - auc: 0.9623, aupr: 0.9864\n",
      "... sampling: 5000, 300, 4.0 - auc: 0.9621, aupr: 0.9863\n",
      "... sampling: 5000, 500, 0.0 - auc: 0.9621, aupr: 0.9864\n",
      "... sampling: 5000, 500, 1.0 - auc: 0.9622, aupr: 0.9864\n",
      "... sampling: 5000, 500, 2.0 - auc: 0.9622, aupr: 0.9864\n",
      "... sampling: 5000, 500, 3.0 - auc: 0.9624, aupr: 0.9865\n",
      "... sampling: 5000, 500, 4.0 - auc: 0.9621, aupr: 0.9864\n",
      "... sampling: 7000, 100, 0.0 - auc: 0.9623, aupr: 0.9865\n",
      "... sampling: 7000, 100, 1.0 - auc: 0.9621, aupr: 0.9864\n",
      "... sampling: 7000, 100, 2.0 - auc: 0.9623, aupr: 0.9865\n",
      "... sampling: 7000, 100, 3.0 - auc: 0.9622, aupr: 0.9864\n",
      "... sampling: 7000, 100, 4.0 - auc: 0.9620, aupr: 0.9863\n",
      "... sampling: 7000, 300, 0.0 - auc: 0.9622, aupr: 0.9864\n",
      "... sampling: 7000, 300, 1.0 - auc: 0.9623, aupr: 0.9864\n",
      "... sampling: 7000, 300, 2.0 - auc: 0.9621, aupr: 0.9864\n",
      "... sampling: 7000, 300, 3.0 - auc: 0.9621, aupr: 0.9864\n",
      "... sampling: 7000, 300, 4.0 - auc: 0.9622, aupr: 0.9864\n",
      "... sampling: 7000, 500, 0.0 - auc: 0.9624, aupr: 0.9865\n",
      "... sampling: 7000, 500, 1.0 - auc: 0.9621, aupr: 0.9864\n",
      "... sampling: 7000, 500, 2.0 - auc: 0.9622, aupr: 0.9864\n"
     ]
    },
    {
     "name": "stdout",
     "output_type": "stream",
     "text": [
      "... sampling: 7000, 500, 3.0 - auc: 0.9622, aupr: 0.9864\n",
      "... sampling: 7000, 500, 4.0 - auc: 0.9622, aupr: 0.9864\n",
      "... summary index: 1350 - n:1000000, rho:0.25, mu1:1.0\n",
      "... calculate auc: 0.6379, 0.6379, aupr: 0.3643, 0.3643\n",
      "... sampling: 100000, 100, 0.0 - auc: 0.6378, aupr: 0.3644\n",
      "... sampling: 100000, 100, 1.0 - auc: 0.6375, aupr: 0.3639\n",
      "... sampling: 100000, 100, 2.0 - auc: 0.6381, aupr: 0.3646\n",
      "... sampling: 100000, 100, 3.0 - auc: 0.6377, aupr: 0.3642\n",
      "... sampling: 100000, 100, 4.0 - auc: 0.6377, aupr: 0.3643\n",
      "... sampling: 100000, 300, 0.0 - auc: 0.6379, aupr: 0.3646\n",
      "... sampling: 100000, 300, 1.0 - auc: 0.6379, aupr: 0.3643\n",
      "... sampling: 100000, 300, 2.0 - auc: 0.6377, aupr: 0.3642\n",
      "... sampling: 100000, 300, 3.0 - auc: 0.6380, aupr: 0.3643\n",
      "... sampling: 100000, 300, 4.0 - auc: 0.6377, aupr: 0.3642\n",
      "... sampling: 100000, 500, 0.0 - auc: 0.6378, aupr: 0.3642\n",
      "... sampling: 100000, 500, 1.0 - auc: 0.6379, aupr: 0.3643\n",
      "... sampling: 100000, 500, 2.0 - auc: 0.6379, aupr: 0.3643\n",
      "... sampling: 100000, 500, 3.0 - auc: 0.6377, aupr: 0.3641\n",
      "... sampling: 100000, 500, 4.0 - auc: 0.6380, aupr: 0.3643\n",
      "... sampling: 200000, 100, 0.0 - auc: 0.6381, aupr: 0.3645\n",
      "... sampling: 200000, 100, 1.0 - auc: 0.6379, aupr: 0.3642\n",
      "... sampling: 200000, 100, 2.0 - auc: 0.6380, aupr: 0.3644\n",
      "... sampling: 200000, 100, 3.0 - auc: 0.6377, aupr: 0.3643\n",
      "... sampling: 200000, 100, 4.0 - auc: 0.6379, aupr: 0.3643\n",
      "... sampling: 200000, 300, 0.0 - auc: 0.6379, aupr: 0.3643\n",
      "... sampling: 200000, 300, 1.0 - auc: 0.6379, aupr: 0.3643\n",
      "... sampling: 200000, 300, 2.0 - auc: 0.6379, aupr: 0.3644\n",
      "... sampling: 200000, 300, 3.0 - auc: 0.6378, aupr: 0.3642\n",
      "... sampling: 200000, 300, 4.0 - auc: 0.6379, aupr: 0.3644\n",
      "... sampling: 200000, 500, 0.0 - auc: 0.6379, aupr: 0.3643\n",
      "... sampling: 200000, 500, 1.0 - auc: 0.6379, aupr: 0.3643\n",
      "... sampling: 200000, 500, 2.0 - auc: 0.6379, aupr: 0.3645\n",
      "... sampling: 200000, 500, 3.0 - auc: 0.6377, aupr: 0.3642\n",
      "... sampling: 200000, 500, 4.0 - auc: 0.6379, aupr: 0.3643\n"
     ]
    },
    {
     "name": "stderr",
     "output_type": "stream",
     "text": [
      "/home/sckim/git_repos/py_auc/py_auc.py:467: UserWarning: Creating legend with loc=\"best\" can be slow with large amounts of data.\n",
      "  plt.savefig(filename, dpi=150)\n",
      "/home/sckim/git_repos/py_auc/py_auc.py:467: UserWarning: Creating legend with loc=\"best\" can be slow with large amounts of data.\n",
      "  plt.savefig(filename, dpi=150)\n"
     ]
    },
    {
     "name": "stdout",
     "output_type": "stream",
     "text": [
      "... sampling: 300000, 100, 0.0 - auc: 0.6377, aupr: 0.3640\n"
     ]
    },
    {
     "name": "stderr",
     "output_type": "stream",
     "text": [
      "/home/sckim/git_repos/py_auc/py_auc.py:467: UserWarning: Creating legend with loc=\"best\" can be slow with large amounts of data.\n",
      "  plt.savefig(filename, dpi=150)\n"
     ]
    },
    {
     "name": "stdout",
     "output_type": "stream",
     "text": [
      "... sampling: 300000, 100, 1.0 - auc: 0.6378, aupr: 0.3644\n"
     ]
    },
    {
     "name": "stderr",
     "output_type": "stream",
     "text": [
      "/home/sckim/git_repos/py_auc/py_auc.py:467: UserWarning: Creating legend with loc=\"best\" can be slow with large amounts of data.\n",
      "  plt.savefig(filename, dpi=150)\n"
     ]
    },
    {
     "name": "stdout",
     "output_type": "stream",
     "text": [
      "... sampling: 300000, 100, 2.0 - auc: 0.6379, aupr: 0.3643\n"
     ]
    },
    {
     "name": "stderr",
     "output_type": "stream",
     "text": [
      "/home/sckim/git_repos/py_auc/py_auc.py:467: UserWarning: Creating legend with loc=\"best\" can be slow with large amounts of data.\n",
      "  plt.savefig(filename, dpi=150)\n"
     ]
    },
    {
     "name": "stdout",
     "output_type": "stream",
     "text": [
      "... sampling: 300000, 100, 3.0 - auc: 0.6380, aupr: 0.3643\n"
     ]
    },
    {
     "name": "stderr",
     "output_type": "stream",
     "text": [
      "/home/sckim/git_repos/py_auc/py_auc.py:467: UserWarning: Creating legend with loc=\"best\" can be slow with large amounts of data.\n",
      "  plt.savefig(filename, dpi=150)\n"
     ]
    },
    {
     "name": "stdout",
     "output_type": "stream",
     "text": [
      "... sampling: 300000, 100, 4.0 - auc: 0.6379, aupr: 0.3644\n"
     ]
    },
    {
     "name": "stderr",
     "output_type": "stream",
     "text": [
      "/home/sckim/git_repos/py_auc/py_auc.py:467: UserWarning: Creating legend with loc=\"best\" can be slow with large amounts of data.\n",
      "  plt.savefig(filename, dpi=150)\n"
     ]
    },
    {
     "name": "stdout",
     "output_type": "stream",
     "text": [
      "... sampling: 300000, 300, 0.0 - auc: 0.6379, aupr: 0.3644\n"
     ]
    },
    {
     "name": "stderr",
     "output_type": "stream",
     "text": [
      "/home/sckim/git_repos/py_auc/py_auc.py:467: UserWarning: Creating legend with loc=\"best\" can be slow with large amounts of data.\n",
      "  plt.savefig(filename, dpi=150)\n"
     ]
    },
    {
     "name": "stdout",
     "output_type": "stream",
     "text": [
      "... sampling: 300000, 300, 1.0 - auc: 0.6380, aupr: 0.3644\n"
     ]
    },
    {
     "name": "stderr",
     "output_type": "stream",
     "text": [
      "/home/sckim/git_repos/py_auc/py_auc.py:467: UserWarning: Creating legend with loc=\"best\" can be slow with large amounts of data.\n",
      "  plt.savefig(filename, dpi=150)\n"
     ]
    },
    {
     "name": "stdout",
     "output_type": "stream",
     "text": [
      "... sampling: 300000, 300, 2.0 - auc: 0.6378, aupr: 0.3643\n"
     ]
    },
    {
     "name": "stderr",
     "output_type": "stream",
     "text": [
      "/home/sckim/git_repos/py_auc/py_auc.py:467: UserWarning: Creating legend with loc=\"best\" can be slow with large amounts of data.\n",
      "  plt.savefig(filename, dpi=150)\n"
     ]
    },
    {
     "name": "stdout",
     "output_type": "stream",
     "text": [
      "... sampling: 300000, 300, 3.0 - auc: 0.6379, aupr: 0.3643\n"
     ]
    },
    {
     "name": "stderr",
     "output_type": "stream",
     "text": [
      "/home/sckim/git_repos/py_auc/py_auc.py:467: UserWarning: Creating legend with loc=\"best\" can be slow with large amounts of data.\n",
      "  plt.savefig(filename, dpi=150)\n"
     ]
    },
    {
     "name": "stdout",
     "output_type": "stream",
     "text": [
      "... sampling: 300000, 300, 4.0 - auc: 0.6379, aupr: 0.3644\n"
     ]
    },
    {
     "name": "stderr",
     "output_type": "stream",
     "text": [
      "/home/sckim/git_repos/py_auc/py_auc.py:467: UserWarning: Creating legend with loc=\"best\" can be slow with large amounts of data.\n",
      "  plt.savefig(filename, dpi=150)\n"
     ]
    },
    {
     "name": "stdout",
     "output_type": "stream",
     "text": [
      "... sampling: 300000, 500, 0.0 - auc: 0.6379, aupr: 0.3643\n"
     ]
    },
    {
     "name": "stderr",
     "output_type": "stream",
     "text": [
      "/home/sckim/git_repos/py_auc/py_auc.py:467: UserWarning: Creating legend with loc=\"best\" can be slow with large amounts of data.\n",
      "  plt.savefig(filename, dpi=150)\n"
     ]
    },
    {
     "name": "stdout",
     "output_type": "stream",
     "text": [
      "... sampling: 300000, 500, 1.0 - auc: 0.6379, aupr: 0.3643\n"
     ]
    },
    {
     "name": "stderr",
     "output_type": "stream",
     "text": [
      "/home/sckim/git_repos/py_auc/py_auc.py:467: UserWarning: Creating legend with loc=\"best\" can be slow with large amounts of data.\n",
      "  plt.savefig(filename, dpi=150)\n"
     ]
    },
    {
     "name": "stdout",
     "output_type": "stream",
     "text": [
      "... sampling: 300000, 500, 2.0 - auc: 0.6378, aupr: 0.3643\n"
     ]
    },
    {
     "name": "stderr",
     "output_type": "stream",
     "text": [
      "/home/sckim/git_repos/py_auc/py_auc.py:467: UserWarning: Creating legend with loc=\"best\" can be slow with large amounts of data.\n",
      "  plt.savefig(filename, dpi=150)\n"
     ]
    },
    {
     "name": "stdout",
     "output_type": "stream",
     "text": [
      "... sampling: 300000, 500, 3.0 - auc: 0.6379, aupr: 0.3644\n"
     ]
    },
    {
     "name": "stderr",
     "output_type": "stream",
     "text": [
      "/home/sckim/git_repos/py_auc/py_auc.py:467: UserWarning: Creating legend with loc=\"best\" can be slow with large amounts of data.\n",
      "  plt.savefig(filename, dpi=150)\n"
     ]
    },
    {
     "name": "stdout",
     "output_type": "stream",
     "text": [
      "... sampling: 300000, 500, 4.0 - auc: 0.6379, aupr: 0.3644\n"
     ]
    },
    {
     "name": "stderr",
     "output_type": "stream",
     "text": [
      "/home/sckim/git_repos/py_auc/py_auc.py:467: UserWarning: Creating legend with loc=\"best\" can be slow with large amounts of data.\n",
      "  plt.savefig(filename, dpi=150)\n"
     ]
    },
    {
     "name": "stdout",
     "output_type": "stream",
     "text": [
      "... sampling: 500000, 100, 0.0 - auc: 0.6380, aupr: 0.3644\n"
     ]
    },
    {
     "name": "stderr",
     "output_type": "stream",
     "text": [
      "/home/sckim/git_repos/py_auc/py_auc.py:467: UserWarning: Creating legend with loc=\"best\" can be slow with large amounts of data.\n",
      "  plt.savefig(filename, dpi=150)\n"
     ]
    },
    {
     "name": "stdout",
     "output_type": "stream",
     "text": [
      "... sampling: 500000, 100, 1.0 - auc: 0.6379, aupr: 0.3643\n"
     ]
    },
    {
     "name": "stderr",
     "output_type": "stream",
     "text": [
      "/home/sckim/git_repos/py_auc/py_auc.py:467: UserWarning: Creating legend with loc=\"best\" can be slow with large amounts of data.\n",
      "  plt.savefig(filename, dpi=150)\n"
     ]
    },
    {
     "name": "stdout",
     "output_type": "stream",
     "text": [
      "... sampling: 500000, 100, 2.0 - auc: 0.6379, aupr: 0.3643\n"
     ]
    },
    {
     "name": "stderr",
     "output_type": "stream",
     "text": [
      "/home/sckim/git_repos/py_auc/py_auc.py:467: UserWarning: Creating legend with loc=\"best\" can be slow with large amounts of data.\n",
      "  plt.savefig(filename, dpi=150)\n"
     ]
    },
    {
     "name": "stdout",
     "output_type": "stream",
     "text": [
      "... sampling: 500000, 100, 3.0 - auc: 0.6380, aupr: 0.3644\n"
     ]
    },
    {
     "name": "stderr",
     "output_type": "stream",
     "text": [
      "/home/sckim/git_repos/py_auc/py_auc.py:467: UserWarning: Creating legend with loc=\"best\" can be slow with large amounts of data.\n",
      "  plt.savefig(filename, dpi=150)\n"
     ]
    },
    {
     "name": "stdout",
     "output_type": "stream",
     "text": [
      "... sampling: 500000, 100, 4.0 - auc: 0.6380, aupr: 0.3644\n"
     ]
    },
    {
     "name": "stderr",
     "output_type": "stream",
     "text": [
      "/home/sckim/git_repos/py_auc/py_auc.py:467: UserWarning: Creating legend with loc=\"best\" can be slow with large amounts of data.\n",
      "  plt.savefig(filename, dpi=150)\n"
     ]
    },
    {
     "name": "stdout",
     "output_type": "stream",
     "text": [
      "... sampling: 500000, 300, 0.0 - auc: 0.6379, aupr: 0.3644\n"
     ]
    },
    {
     "name": "stderr",
     "output_type": "stream",
     "text": [
      "/home/sckim/git_repos/py_auc/py_auc.py:467: UserWarning: Creating legend with loc=\"best\" can be slow with large amounts of data.\n",
      "  plt.savefig(filename, dpi=150)\n"
     ]
    },
    {
     "name": "stdout",
     "output_type": "stream",
     "text": [
      "... sampling: 500000, 300, 1.0 - auc: 0.6379, aupr: 0.3644\n"
     ]
    },
    {
     "name": "stderr",
     "output_type": "stream",
     "text": [
      "/home/sckim/git_repos/py_auc/py_auc.py:467: UserWarning: Creating legend with loc=\"best\" can be slow with large amounts of data.\n",
      "  plt.savefig(filename, dpi=150)\n"
     ]
    },
    {
     "name": "stdout",
     "output_type": "stream",
     "text": [
      "... sampling: 500000, 300, 2.0 - auc: 0.6379, aupr: 0.3643\n"
     ]
    },
    {
     "name": "stderr",
     "output_type": "stream",
     "text": [
      "/home/sckim/git_repos/py_auc/py_auc.py:467: UserWarning: Creating legend with loc=\"best\" can be slow with large amounts of data.\n",
      "  plt.savefig(filename, dpi=150)\n"
     ]
    },
    {
     "name": "stdout",
     "output_type": "stream",
     "text": [
      "... sampling: 500000, 300, 3.0 - auc: 0.6378, aupr: 0.3642\n"
     ]
    },
    {
     "name": "stderr",
     "output_type": "stream",
     "text": [
      "/home/sckim/git_repos/py_auc/py_auc.py:467: UserWarning: Creating legend with loc=\"best\" can be slow with large amounts of data.\n",
      "  plt.savefig(filename, dpi=150)\n"
     ]
    },
    {
     "name": "stdout",
     "output_type": "stream",
     "text": [
      "... sampling: 500000, 300, 4.0 - auc: 0.6379, aupr: 0.3644\n"
     ]
    },
    {
     "name": "stderr",
     "output_type": "stream",
     "text": [
      "/home/sckim/git_repos/py_auc/py_auc.py:467: UserWarning: Creating legend with loc=\"best\" can be slow with large amounts of data.\n",
      "  plt.savefig(filename, dpi=150)\n"
     ]
    },
    {
     "name": "stdout",
     "output_type": "stream",
     "text": [
      "... sampling: 500000, 500, 0.0 - auc: 0.6379, aupr: 0.3644\n"
     ]
    },
    {
     "name": "stderr",
     "output_type": "stream",
     "text": [
      "/home/sckim/git_repos/py_auc/py_auc.py:467: UserWarning: Creating legend with loc=\"best\" can be slow with large amounts of data.\n",
      "  plt.savefig(filename, dpi=150)\n"
     ]
    },
    {
     "name": "stdout",
     "output_type": "stream",
     "text": [
      "... sampling: 500000, 500, 1.0 - auc: 0.6378, aupr: 0.3643\n"
     ]
    },
    {
     "name": "stderr",
     "output_type": "stream",
     "text": [
      "/home/sckim/git_repos/py_auc/py_auc.py:467: UserWarning: Creating legend with loc=\"best\" can be slow with large amounts of data.\n",
      "  plt.savefig(filename, dpi=150)\n"
     ]
    },
    {
     "name": "stdout",
     "output_type": "stream",
     "text": [
      "... sampling: 500000, 500, 2.0 - auc: 0.6379, aupr: 0.3644\n"
     ]
    },
    {
     "name": "stderr",
     "output_type": "stream",
     "text": [
      "/home/sckim/git_repos/py_auc/py_auc.py:467: UserWarning: Creating legend with loc=\"best\" can be slow with large amounts of data.\n",
      "  plt.savefig(filename, dpi=150)\n"
     ]
    },
    {
     "name": "stdout",
     "output_type": "stream",
     "text": [
      "... sampling: 500000, 500, 3.0 - auc: 0.6379, aupr: 0.3643\n"
     ]
    },
    {
     "name": "stderr",
     "output_type": "stream",
     "text": [
      "/home/sckim/git_repos/py_auc/py_auc.py:467: UserWarning: Creating legend with loc=\"best\" can be slow with large amounts of data.\n",
      "  plt.savefig(filename, dpi=150)\n"
     ]
    },
    {
     "name": "stdout",
     "output_type": "stream",
     "text": [
      "... sampling: 500000, 500, 4.0 - auc: 0.6379, aupr: 0.3643\n"
     ]
    },
    {
     "name": "stderr",
     "output_type": "stream",
     "text": [
      "/home/sckim/git_repos/py_auc/py_auc.py:467: UserWarning: Creating legend with loc=\"best\" can be slow with large amounts of data.\n",
      "  plt.savefig(filename, dpi=150)\n"
     ]
    },
    {
     "name": "stdout",
     "output_type": "stream",
     "text": [
      "... sampling: 700000, 100, 0.0 - auc: 0.6378, aupr: 0.3643\n"
     ]
    },
    {
     "name": "stderr",
     "output_type": "stream",
     "text": [
      "/home/sckim/git_repos/py_auc/py_auc.py:467: UserWarning: Creating legend with loc=\"best\" can be slow with large amounts of data.\n",
      "  plt.savefig(filename, dpi=150)\n"
     ]
    },
    {
     "name": "stdout",
     "output_type": "stream",
     "text": [
      "... sampling: 700000, 100, 1.0 - auc: 0.6379, aupr: 0.3643\n"
     ]
    },
    {
     "name": "stderr",
     "output_type": "stream",
     "text": [
      "/home/sckim/git_repos/py_auc/py_auc.py:467: UserWarning: Creating legend with loc=\"best\" can be slow with large amounts of data.\n",
      "  plt.savefig(filename, dpi=150)\n"
     ]
    },
    {
     "name": "stdout",
     "output_type": "stream",
     "text": [
      "... sampling: 700000, 100, 2.0 - auc: 0.6378, aupr: 0.3643\n"
     ]
    },
    {
     "name": "stderr",
     "output_type": "stream",
     "text": [
      "/home/sckim/git_repos/py_auc/py_auc.py:467: UserWarning: Creating legend with loc=\"best\" can be slow with large amounts of data.\n",
      "  plt.savefig(filename, dpi=150)\n"
     ]
    },
    {
     "name": "stdout",
     "output_type": "stream",
     "text": [
      "... sampling: 700000, 100, 3.0 - auc: 0.6379, aupr: 0.3643\n"
     ]
    },
    {
     "name": "stderr",
     "output_type": "stream",
     "text": [
      "/home/sckim/git_repos/py_auc/py_auc.py:467: UserWarning: Creating legend with loc=\"best\" can be slow with large amounts of data.\n",
      "  plt.savefig(filename, dpi=150)\n"
     ]
    },
    {
     "name": "stdout",
     "output_type": "stream",
     "text": [
      "... sampling: 700000, 100, 4.0 - auc: 0.6379, aupr: 0.3643\n"
     ]
    },
    {
     "name": "stderr",
     "output_type": "stream",
     "text": [
      "/home/sckim/git_repos/py_auc/py_auc.py:467: UserWarning: Creating legend with loc=\"best\" can be slow with large amounts of data.\n",
      "  plt.savefig(filename, dpi=150)\n"
     ]
    },
    {
     "name": "stdout",
     "output_type": "stream",
     "text": [
      "... sampling: 700000, 300, 0.0 - auc: 0.6379, aupr: 0.3644\n"
     ]
    },
    {
     "name": "stderr",
     "output_type": "stream",
     "text": [
      "/home/sckim/git_repos/py_auc/py_auc.py:467: UserWarning: Creating legend with loc=\"best\" can be slow with large amounts of data.\n",
      "  plt.savefig(filename, dpi=150)\n"
     ]
    },
    {
     "name": "stdout",
     "output_type": "stream",
     "text": [
      "... sampling: 700000, 300, 1.0 - auc: 0.6379, aupr: 0.3644\n"
     ]
    },
    {
     "name": "stderr",
     "output_type": "stream",
     "text": [
      "/home/sckim/git_repos/py_auc/py_auc.py:467: UserWarning: Creating legend with loc=\"best\" can be slow with large amounts of data.\n",
      "  plt.savefig(filename, dpi=150)\n"
     ]
    },
    {
     "name": "stdout",
     "output_type": "stream",
     "text": [
      "... sampling: 700000, 300, 2.0 - auc: 0.6379, aupr: 0.3643\n"
     ]
    },
    {
     "name": "stderr",
     "output_type": "stream",
     "text": [
      "/home/sckim/git_repos/py_auc/py_auc.py:467: UserWarning: Creating legend with loc=\"best\" can be slow with large amounts of data.\n",
      "  plt.savefig(filename, dpi=150)\n"
     ]
    },
    {
     "name": "stdout",
     "output_type": "stream",
     "text": [
      "... sampling: 700000, 300, 3.0 - auc: 0.6379, aupr: 0.3643\n"
     ]
    },
    {
     "name": "stderr",
     "output_type": "stream",
     "text": [
      "/home/sckim/git_repos/py_auc/py_auc.py:467: UserWarning: Creating legend with loc=\"best\" can be slow with large amounts of data.\n",
      "  plt.savefig(filename, dpi=150)\n"
     ]
    },
    {
     "name": "stdout",
     "output_type": "stream",
     "text": [
      "... sampling: 700000, 300, 4.0 - auc: 0.6378, aupr: 0.3643\n"
     ]
    },
    {
     "name": "stderr",
     "output_type": "stream",
     "text": [
      "/home/sckim/git_repos/py_auc/py_auc.py:467: UserWarning: Creating legend with loc=\"best\" can be slow with large amounts of data.\n",
      "  plt.savefig(filename, dpi=150)\n"
     ]
    },
    {
     "name": "stdout",
     "output_type": "stream",
     "text": [
      "... sampling: 700000, 500, 0.0 - auc: 0.6379, aupr: 0.3643\n"
     ]
    },
    {
     "name": "stderr",
     "output_type": "stream",
     "text": [
      "/home/sckim/git_repos/py_auc/py_auc.py:467: UserWarning: Creating legend with loc=\"best\" can be slow with large amounts of data.\n",
      "  plt.savefig(filename, dpi=150)\n"
     ]
    },
    {
     "name": "stdout",
     "output_type": "stream",
     "text": [
      "... sampling: 700000, 500, 1.0 - auc: 0.6379, aupr: 0.3644\n"
     ]
    },
    {
     "name": "stderr",
     "output_type": "stream",
     "text": [
      "/home/sckim/git_repos/py_auc/py_auc.py:467: UserWarning: Creating legend with loc=\"best\" can be slow with large amounts of data.\n",
      "  plt.savefig(filename, dpi=150)\n"
     ]
    },
    {
     "name": "stdout",
     "output_type": "stream",
     "text": [
      "... sampling: 700000, 500, 2.0 - auc: 0.6379, aupr: 0.3643\n"
     ]
    },
    {
     "name": "stderr",
     "output_type": "stream",
     "text": [
      "/home/sckim/git_repos/py_auc/py_auc.py:467: UserWarning: Creating legend with loc=\"best\" can be slow with large amounts of data.\n",
      "  plt.savefig(filename, dpi=150)\n"
     ]
    },
    {
     "name": "stdout",
     "output_type": "stream",
     "text": [
      "... sampling: 700000, 500, 3.0 - auc: 0.6379, aupr: 0.3643\n"
     ]
    },
    {
     "name": "stderr",
     "output_type": "stream",
     "text": [
      "/home/sckim/git_repos/py_auc/py_auc.py:467: UserWarning: Creating legend with loc=\"best\" can be slow with large amounts of data.\n",
      "  plt.savefig(filename, dpi=150)\n"
     ]
    },
    {
     "name": "stdout",
     "output_type": "stream",
     "text": [
      "... sampling: 700000, 500, 4.0 - auc: 0.6379, aupr: 0.3643\n",
      "... summary index: 1425 - n:1000000, rho:0.25, mu1:3.0\n",
      "... calculate auc: 0.8559, 0.8559, aupr: 0.6922, 0.6922\n",
      "... sampling: 100000, 100, 0.0 - auc: 0.8557, aupr: 0.6921\n",
      "... sampling: 100000, 100, 1.0 - auc: 0.8562, aupr: 0.6925\n",
      "... sampling: 100000, 100, 2.0 - auc: 0.8557, aupr: 0.6922\n",
      "... sampling: 100000, 100, 3.0 - auc: 0.8560, aupr: 0.6924\n",
      "... sampling: 100000, 100, 4.0 - auc: 0.8559, aupr: 0.6921\n",
      "... sampling: 100000, 300, 0.0 - auc: 0.8558, aupr: 0.6919\n",
      "... sampling: 100000, 300, 1.0 - auc: 0.8559, aupr: 0.6923\n",
      "... sampling: 100000, 300, 2.0 - auc: 0.8558, aupr: 0.6920\n",
      "... sampling: 100000, 300, 3.0 - auc: 0.8559, aupr: 0.6922\n",
      "... sampling: 100000, 300, 4.0 - auc: 0.8558, aupr: 0.6921\n",
      "... sampling: 100000, 500, 0.0 - auc: 0.8559, aupr: 0.6922\n",
      "... sampling: 100000, 500, 1.0 - auc: 0.8559, aupr: 0.6922\n",
      "... sampling: 100000, 500, 2.0 - auc: 0.8559, aupr: 0.6923\n",
      "... sampling: 100000, 500, 3.0 - auc: 0.8558, aupr: 0.6920\n",
      "... sampling: 100000, 500, 4.0 - auc: 0.8558, aupr: 0.6921\n",
      "... sampling: 200000, 100, 0.0 - auc: 0.8558, aupr: 0.6921\n",
      "... sampling: 200000, 100, 1.0 - auc: 0.8558, aupr: 0.6921\n",
      "... sampling: 200000, 100, 2.0 - auc: 0.8559, aupr: 0.6922\n",
      "... sampling: 200000, 100, 3.0 - auc: 0.8559, aupr: 0.6922\n",
      "... sampling: 200000, 100, 4.0 - auc: 0.8560, aupr: 0.6922\n",
      "... sampling: 200000, 300, 0.0 - auc: 0.8559, aupr: 0.6921\n",
      "... sampling: 200000, 300, 1.0 - auc: 0.8559, aupr: 0.6922\n",
      "... sampling: 200000, 300, 2.0 - auc: 0.8559, aupr: 0.6922\n",
      "... sampling: 200000, 300, 3.0 - auc: 0.8558, aupr: 0.6921\n",
      "... sampling: 200000, 300, 4.0 - auc: 0.8559, aupr: 0.6922\n",
      "... sampling: 200000, 500, 0.0 - auc: 0.8558, aupr: 0.6921\n",
      "... sampling: 200000, 500, 1.0 - auc: 0.8559, aupr: 0.6921\n",
      "... sampling: 200000, 500, 2.0 - auc: 0.8560, aupr: 0.6923\n",
      "... sampling: 200000, 500, 3.0 - auc: 0.8558, aupr: 0.6921\n",
      "... sampling: 200000, 500, 4.0 - auc: 0.8559, aupr: 0.6922\n"
     ]
    },
    {
     "name": "stderr",
     "output_type": "stream",
     "text": [
      "/home/sckim/git_repos/py_auc/py_auc.py:467: UserWarning: Creating legend with loc=\"best\" can be slow with large amounts of data.\n",
      "  plt.savefig(filename, dpi=150)\n",
      "/home/sckim/git_repos/py_auc/py_auc.py:467: UserWarning: Creating legend with loc=\"best\" can be slow with large amounts of data.\n",
      "  plt.savefig(filename, dpi=150)\n"
     ]
    },
    {
     "name": "stdout",
     "output_type": "stream",
     "text": [
      "... sampling: 300000, 100, 0.0 - auc: 0.8560, aupr: 0.6924\n"
     ]
    },
    {
     "name": "stderr",
     "output_type": "stream",
     "text": [
      "/home/sckim/git_repos/py_auc/py_auc.py:467: UserWarning: Creating legend with loc=\"best\" can be slow with large amounts of data.\n",
      "  plt.savefig(filename, dpi=150)\n"
     ]
    },
    {
     "name": "stdout",
     "output_type": "stream",
     "text": [
      "... sampling: 300000, 100, 1.0 - auc: 0.8560, aupr: 0.6925\n"
     ]
    },
    {
     "name": "stderr",
     "output_type": "stream",
     "text": [
      "/home/sckim/git_repos/py_auc/py_auc.py:467: UserWarning: Creating legend with loc=\"best\" can be slow with large amounts of data.\n",
      "  plt.savefig(filename, dpi=150)\n"
     ]
    },
    {
     "name": "stdout",
     "output_type": "stream",
     "text": [
      "... sampling: 300000, 100, 2.0 - auc: 0.8559, aupr: 0.6922\n"
     ]
    },
    {
     "name": "stderr",
     "output_type": "stream",
     "text": [
      "/home/sckim/git_repos/py_auc/py_auc.py:467: UserWarning: Creating legend with loc=\"best\" can be slow with large amounts of data.\n",
      "  plt.savefig(filename, dpi=150)\n"
     ]
    },
    {
     "name": "stdout",
     "output_type": "stream",
     "text": [
      "... sampling: 300000, 100, 3.0 - auc: 0.8559, aupr: 0.6921\n"
     ]
    },
    {
     "name": "stderr",
     "output_type": "stream",
     "text": [
      "/home/sckim/git_repos/py_auc/py_auc.py:467: UserWarning: Creating legend with loc=\"best\" can be slow with large amounts of data.\n",
      "  plt.savefig(filename, dpi=150)\n"
     ]
    },
    {
     "name": "stdout",
     "output_type": "stream",
     "text": [
      "... sampling: 300000, 100, 4.0 - auc: 0.8559, aupr: 0.6922\n"
     ]
    },
    {
     "name": "stderr",
     "output_type": "stream",
     "text": [
      "/home/sckim/git_repos/py_auc/py_auc.py:467: UserWarning: Creating legend with loc=\"best\" can be slow with large amounts of data.\n",
      "  plt.savefig(filename, dpi=150)\n"
     ]
    },
    {
     "name": "stdout",
     "output_type": "stream",
     "text": [
      "... sampling: 300000, 300, 0.0 - auc: 0.8559, aupr: 0.6922\n"
     ]
    },
    {
     "name": "stderr",
     "output_type": "stream",
     "text": [
      "/home/sckim/git_repos/py_auc/py_auc.py:467: UserWarning: Creating legend with loc=\"best\" can be slow with large amounts of data.\n",
      "  plt.savefig(filename, dpi=150)\n"
     ]
    },
    {
     "name": "stdout",
     "output_type": "stream",
     "text": [
      "... sampling: 300000, 300, 1.0 - auc: 0.8559, aupr: 0.6922\n"
     ]
    },
    {
     "name": "stderr",
     "output_type": "stream",
     "text": [
      "/home/sckim/git_repos/py_auc/py_auc.py:467: UserWarning: Creating legend with loc=\"best\" can be slow with large amounts of data.\n",
      "  plt.savefig(filename, dpi=150)\n"
     ]
    },
    {
     "name": "stdout",
     "output_type": "stream",
     "text": [
      "... sampling: 300000, 300, 2.0 - auc: 0.8559, aupr: 0.6922\n"
     ]
    },
    {
     "name": "stderr",
     "output_type": "stream",
     "text": [
      "/home/sckim/git_repos/py_auc/py_auc.py:467: UserWarning: Creating legend with loc=\"best\" can be slow with large amounts of data.\n",
      "  plt.savefig(filename, dpi=150)\n"
     ]
    },
    {
     "name": "stdout",
     "output_type": "stream",
     "text": [
      "... sampling: 300000, 300, 3.0 - auc: 0.8558, aupr: 0.6920\n"
     ]
    },
    {
     "name": "stderr",
     "output_type": "stream",
     "text": [
      "/home/sckim/git_repos/py_auc/py_auc.py:467: UserWarning: Creating legend with loc=\"best\" can be slow with large amounts of data.\n",
      "  plt.savefig(filename, dpi=150)\n"
     ]
    },
    {
     "name": "stdout",
     "output_type": "stream",
     "text": [
      "... sampling: 300000, 300, 4.0 - auc: 0.8559, aupr: 0.6921\n"
     ]
    },
    {
     "name": "stderr",
     "output_type": "stream",
     "text": [
      "/home/sckim/git_repos/py_auc/py_auc.py:467: UserWarning: Creating legend with loc=\"best\" can be slow with large amounts of data.\n",
      "  plt.savefig(filename, dpi=150)\n"
     ]
    },
    {
     "name": "stdout",
     "output_type": "stream",
     "text": [
      "... sampling: 300000, 500, 0.0 - auc: 0.8559, aupr: 0.6922\n"
     ]
    },
    {
     "name": "stderr",
     "output_type": "stream",
     "text": [
      "/home/sckim/git_repos/py_auc/py_auc.py:467: UserWarning: Creating legend with loc=\"best\" can be slow with large amounts of data.\n",
      "  plt.savefig(filename, dpi=150)\n"
     ]
    },
    {
     "name": "stdout",
     "output_type": "stream",
     "text": [
      "... sampling: 300000, 500, 1.0 - auc: 0.8559, aupr: 0.6922\n"
     ]
    },
    {
     "name": "stderr",
     "output_type": "stream",
     "text": [
      "/home/sckim/git_repos/py_auc/py_auc.py:467: UserWarning: Creating legend with loc=\"best\" can be slow with large amounts of data.\n",
      "  plt.savefig(filename, dpi=150)\n"
     ]
    },
    {
     "name": "stdout",
     "output_type": "stream",
     "text": [
      "... sampling: 300000, 500, 2.0 - auc: 0.8559, aupr: 0.6922\n"
     ]
    },
    {
     "name": "stderr",
     "output_type": "stream",
     "text": [
      "/home/sckim/git_repos/py_auc/py_auc.py:467: UserWarning: Creating legend with loc=\"best\" can be slow with large amounts of data.\n",
      "  plt.savefig(filename, dpi=150)\n"
     ]
    },
    {
     "name": "stdout",
     "output_type": "stream",
     "text": [
      "... sampling: 300000, 500, 3.0 - auc: 0.8559, aupr: 0.6921\n"
     ]
    },
    {
     "name": "stderr",
     "output_type": "stream",
     "text": [
      "/home/sckim/git_repos/py_auc/py_auc.py:467: UserWarning: Creating legend with loc=\"best\" can be slow with large amounts of data.\n",
      "  plt.savefig(filename, dpi=150)\n"
     ]
    },
    {
     "name": "stdout",
     "output_type": "stream",
     "text": [
      "... sampling: 300000, 500, 4.0 - auc: 0.8559, aupr: 0.6923\n"
     ]
    },
    {
     "name": "stderr",
     "output_type": "stream",
     "text": [
      "/home/sckim/git_repos/py_auc/py_auc.py:467: UserWarning: Creating legend with loc=\"best\" can be slow with large amounts of data.\n",
      "  plt.savefig(filename, dpi=150)\n"
     ]
    },
    {
     "name": "stdout",
     "output_type": "stream",
     "text": [
      "... sampling: 500000, 100, 0.0 - auc: 0.8559, aupr: 0.6922\n"
     ]
    },
    {
     "name": "stderr",
     "output_type": "stream",
     "text": [
      "/home/sckim/git_repos/py_auc/py_auc.py:467: UserWarning: Creating legend with loc=\"best\" can be slow with large amounts of data.\n",
      "  plt.savefig(filename, dpi=150)\n"
     ]
    },
    {
     "name": "stdout",
     "output_type": "stream",
     "text": [
      "... sampling: 500000, 100, 1.0 - auc: 0.8560, aupr: 0.6923\n"
     ]
    },
    {
     "name": "stderr",
     "output_type": "stream",
     "text": [
      "/home/sckim/git_repos/py_auc/py_auc.py:467: UserWarning: Creating legend with loc=\"best\" can be slow with large amounts of data.\n",
      "  plt.savefig(filename, dpi=150)\n"
     ]
    },
    {
     "name": "stdout",
     "output_type": "stream",
     "text": [
      "... sampling: 500000, 100, 2.0 - auc: 0.8559, aupr: 0.6922\n"
     ]
    },
    {
     "name": "stderr",
     "output_type": "stream",
     "text": [
      "/home/sckim/git_repos/py_auc/py_auc.py:467: UserWarning: Creating legend with loc=\"best\" can be slow with large amounts of data.\n",
      "  plt.savefig(filename, dpi=150)\n"
     ]
    },
    {
     "name": "stdout",
     "output_type": "stream",
     "text": [
      "... sampling: 500000, 100, 3.0 - auc: 0.8559, aupr: 0.6922\n"
     ]
    },
    {
     "name": "stderr",
     "output_type": "stream",
     "text": [
      "/home/sckim/git_repos/py_auc/py_auc.py:467: UserWarning: Creating legend with loc=\"best\" can be slow with large amounts of data.\n",
      "  plt.savefig(filename, dpi=150)\n"
     ]
    },
    {
     "name": "stdout",
     "output_type": "stream",
     "text": [
      "... sampling: 500000, 100, 4.0 - auc: 0.8559, aupr: 0.6921\n"
     ]
    },
    {
     "name": "stderr",
     "output_type": "stream",
     "text": [
      "/home/sckim/git_repos/py_auc/py_auc.py:467: UserWarning: Creating legend with loc=\"best\" can be slow with large amounts of data.\n",
      "  plt.savefig(filename, dpi=150)\n"
     ]
    },
    {
     "name": "stdout",
     "output_type": "stream",
     "text": [
      "... sampling: 500000, 300, 0.0 - auc: 0.8559, aupr: 0.6922\n"
     ]
    },
    {
     "name": "stderr",
     "output_type": "stream",
     "text": [
      "/home/sckim/git_repos/py_auc/py_auc.py:467: UserWarning: Creating legend with loc=\"best\" can be slow with large amounts of data.\n",
      "  plt.savefig(filename, dpi=150)\n"
     ]
    },
    {
     "name": "stdout",
     "output_type": "stream",
     "text": [
      "... sampling: 500000, 300, 1.0 - auc: 0.8559, aupr: 0.6921\n"
     ]
    },
    {
     "name": "stderr",
     "output_type": "stream",
     "text": [
      "/home/sckim/git_repos/py_auc/py_auc.py:467: UserWarning: Creating legend with loc=\"best\" can be slow with large amounts of data.\n",
      "  plt.savefig(filename, dpi=150)\n"
     ]
    },
    {
     "name": "stdout",
     "output_type": "stream",
     "text": [
      "... sampling: 500000, 300, 2.0 - auc: 0.8559, aupr: 0.6922\n"
     ]
    },
    {
     "name": "stderr",
     "output_type": "stream",
     "text": [
      "/home/sckim/git_repos/py_auc/py_auc.py:467: UserWarning: Creating legend with loc=\"best\" can be slow with large amounts of data.\n",
      "  plt.savefig(filename, dpi=150)\n"
     ]
    },
    {
     "name": "stdout",
     "output_type": "stream",
     "text": [
      "... sampling: 500000, 300, 3.0 - auc: 0.8559, aupr: 0.6921\n"
     ]
    },
    {
     "name": "stderr",
     "output_type": "stream",
     "text": [
      "/home/sckim/git_repos/py_auc/py_auc.py:467: UserWarning: Creating legend with loc=\"best\" can be slow with large amounts of data.\n",
      "  plt.savefig(filename, dpi=150)\n"
     ]
    },
    {
     "name": "stdout",
     "output_type": "stream",
     "text": [
      "... sampling: 500000, 300, 4.0 - auc: 0.8559, aupr: 0.6922\n"
     ]
    },
    {
     "name": "stderr",
     "output_type": "stream",
     "text": [
      "/home/sckim/git_repos/py_auc/py_auc.py:467: UserWarning: Creating legend with loc=\"best\" can be slow with large amounts of data.\n",
      "  plt.savefig(filename, dpi=150)\n"
     ]
    },
    {
     "name": "stdout",
     "output_type": "stream",
     "text": [
      "... sampling: 500000, 500, 0.0 - auc: 0.8559, aupr: 0.6922\n"
     ]
    },
    {
     "name": "stderr",
     "output_type": "stream",
     "text": [
      "/home/sckim/git_repos/py_auc/py_auc.py:467: UserWarning: Creating legend with loc=\"best\" can be slow with large amounts of data.\n",
      "  plt.savefig(filename, dpi=150)\n"
     ]
    },
    {
     "name": "stdout",
     "output_type": "stream",
     "text": [
      "... sampling: 500000, 500, 1.0 - auc: 0.8559, aupr: 0.6922\n"
     ]
    },
    {
     "name": "stderr",
     "output_type": "stream",
     "text": [
      "/home/sckim/git_repos/py_auc/py_auc.py:467: UserWarning: Creating legend with loc=\"best\" can be slow with large amounts of data.\n",
      "  plt.savefig(filename, dpi=150)\n"
     ]
    },
    {
     "name": "stdout",
     "output_type": "stream",
     "text": [
      "... sampling: 500000, 500, 2.0 - auc: 0.8559, aupr: 0.6922\n"
     ]
    },
    {
     "name": "stderr",
     "output_type": "stream",
     "text": [
      "/home/sckim/git_repos/py_auc/py_auc.py:467: UserWarning: Creating legend with loc=\"best\" can be slow with large amounts of data.\n",
      "  plt.savefig(filename, dpi=150)\n"
     ]
    },
    {
     "name": "stdout",
     "output_type": "stream",
     "text": [
      "... sampling: 500000, 500, 3.0 - auc: 0.8559, aupr: 0.6922\n"
     ]
    },
    {
     "name": "stderr",
     "output_type": "stream",
     "text": [
      "/home/sckim/git_repos/py_auc/py_auc.py:467: UserWarning: Creating legend with loc=\"best\" can be slow with large amounts of data.\n",
      "  plt.savefig(filename, dpi=150)\n"
     ]
    },
    {
     "name": "stdout",
     "output_type": "stream",
     "text": [
      "... sampling: 500000, 500, 4.0 - auc: 0.8559, aupr: 0.6921\n"
     ]
    },
    {
     "name": "stderr",
     "output_type": "stream",
     "text": [
      "/home/sckim/git_repos/py_auc/py_auc.py:467: UserWarning: Creating legend with loc=\"best\" can be slow with large amounts of data.\n",
      "  plt.savefig(filename, dpi=150)\n"
     ]
    },
    {
     "name": "stdout",
     "output_type": "stream",
     "text": [
      "... sampling: 700000, 100, 0.0 - auc: 0.8559, aupr: 0.6923\n"
     ]
    },
    {
     "name": "stderr",
     "output_type": "stream",
     "text": [
      "/home/sckim/git_repos/py_auc/py_auc.py:467: UserWarning: Creating legend with loc=\"best\" can be slow with large amounts of data.\n",
      "  plt.savefig(filename, dpi=150)\n"
     ]
    },
    {
     "name": "stdout",
     "output_type": "stream",
     "text": [
      "... sampling: 700000, 100, 1.0 - auc: 0.8559, aupr: 0.6923\n"
     ]
    },
    {
     "name": "stderr",
     "output_type": "stream",
     "text": [
      "/home/sckim/git_repos/py_auc/py_auc.py:467: UserWarning: Creating legend with loc=\"best\" can be slow with large amounts of data.\n",
      "  plt.savefig(filename, dpi=150)\n"
     ]
    },
    {
     "name": "stdout",
     "output_type": "stream",
     "text": [
      "... sampling: 700000, 100, 2.0 - auc: 0.8559, aupr: 0.6923\n"
     ]
    },
    {
     "name": "stderr",
     "output_type": "stream",
     "text": [
      "/home/sckim/git_repos/py_auc/py_auc.py:467: UserWarning: Creating legend with loc=\"best\" can be slow with large amounts of data.\n",
      "  plt.savefig(filename, dpi=150)\n"
     ]
    },
    {
     "name": "stdout",
     "output_type": "stream",
     "text": [
      "... sampling: 700000, 100, 3.0 - auc: 0.8559, aupr: 0.6922\n"
     ]
    },
    {
     "name": "stderr",
     "output_type": "stream",
     "text": [
      "/home/sckim/git_repos/py_auc/py_auc.py:467: UserWarning: Creating legend with loc=\"best\" can be slow with large amounts of data.\n",
      "  plt.savefig(filename, dpi=150)\n"
     ]
    },
    {
     "name": "stdout",
     "output_type": "stream",
     "text": [
      "... sampling: 700000, 100, 4.0 - auc: 0.8558, aupr: 0.6921\n"
     ]
    },
    {
     "name": "stderr",
     "output_type": "stream",
     "text": [
      "/home/sckim/git_repos/py_auc/py_auc.py:467: UserWarning: Creating legend with loc=\"best\" can be slow with large amounts of data.\n",
      "  plt.savefig(filename, dpi=150)\n"
     ]
    },
    {
     "name": "stdout",
     "output_type": "stream",
     "text": [
      "... sampling: 700000, 300, 0.0 - auc: 0.8559, aupr: 0.6921\n"
     ]
    },
    {
     "name": "stderr",
     "output_type": "stream",
     "text": [
      "/home/sckim/git_repos/py_auc/py_auc.py:467: UserWarning: Creating legend with loc=\"best\" can be slow with large amounts of data.\n",
      "  plt.savefig(filename, dpi=150)\n"
     ]
    },
    {
     "name": "stdout",
     "output_type": "stream",
     "text": [
      "... sampling: 700000, 300, 1.0 - auc: 0.8559, aupr: 0.6922\n"
     ]
    },
    {
     "name": "stderr",
     "output_type": "stream",
     "text": [
      "/home/sckim/git_repos/py_auc/py_auc.py:467: UserWarning: Creating legend with loc=\"best\" can be slow with large amounts of data.\n",
      "  plt.savefig(filename, dpi=150)\n"
     ]
    },
    {
     "name": "stdout",
     "output_type": "stream",
     "text": [
      "... sampling: 700000, 300, 2.0 - auc: 0.8559, aupr: 0.6921\n"
     ]
    },
    {
     "name": "stderr",
     "output_type": "stream",
     "text": [
      "/home/sckim/git_repos/py_auc/py_auc.py:467: UserWarning: Creating legend with loc=\"best\" can be slow with large amounts of data.\n",
      "  plt.savefig(filename, dpi=150)\n"
     ]
    },
    {
     "name": "stdout",
     "output_type": "stream",
     "text": [
      "... sampling: 700000, 300, 3.0 - auc: 0.8559, aupr: 0.6922\n"
     ]
    },
    {
     "name": "stderr",
     "output_type": "stream",
     "text": [
      "/home/sckim/git_repos/py_auc/py_auc.py:467: UserWarning: Creating legend with loc=\"best\" can be slow with large amounts of data.\n",
      "  plt.savefig(filename, dpi=150)\n"
     ]
    },
    {
     "name": "stdout",
     "output_type": "stream",
     "text": [
      "... sampling: 700000, 300, 4.0 - auc: 0.8559, aupr: 0.6922\n"
     ]
    },
    {
     "name": "stderr",
     "output_type": "stream",
     "text": [
      "/home/sckim/git_repos/py_auc/py_auc.py:467: UserWarning: Creating legend with loc=\"best\" can be slow with large amounts of data.\n",
      "  plt.savefig(filename, dpi=150)\n"
     ]
    },
    {
     "name": "stdout",
     "output_type": "stream",
     "text": [
      "... sampling: 700000, 500, 0.0 - auc: 0.8559, aupr: 0.6922\n"
     ]
    },
    {
     "name": "stderr",
     "output_type": "stream",
     "text": [
      "/home/sckim/git_repos/py_auc/py_auc.py:467: UserWarning: Creating legend with loc=\"best\" can be slow with large amounts of data.\n",
      "  plt.savefig(filename, dpi=150)\n"
     ]
    },
    {
     "name": "stdout",
     "output_type": "stream",
     "text": [
      "... sampling: 700000, 500, 1.0 - auc: 0.8559, aupr: 0.6922\n"
     ]
    },
    {
     "name": "stderr",
     "output_type": "stream",
     "text": [
      "/home/sckim/git_repos/py_auc/py_auc.py:467: UserWarning: Creating legend with loc=\"best\" can be slow with large amounts of data.\n",
      "  plt.savefig(filename, dpi=150)\n"
     ]
    },
    {
     "name": "stdout",
     "output_type": "stream",
     "text": [
      "... sampling: 700000, 500, 2.0 - auc: 0.8559, aupr: 0.6922\n"
     ]
    },
    {
     "name": "stderr",
     "output_type": "stream",
     "text": [
      "/home/sckim/git_repos/py_auc/py_auc.py:467: UserWarning: Creating legend with loc=\"best\" can be slow with large amounts of data.\n",
      "  plt.savefig(filename, dpi=150)\n"
     ]
    },
    {
     "name": "stdout",
     "output_type": "stream",
     "text": [
      "... sampling: 700000, 500, 3.0 - auc: 0.8559, aupr: 0.6921\n"
     ]
    },
    {
     "name": "stderr",
     "output_type": "stream",
     "text": [
      "/home/sckim/git_repos/py_auc/py_auc.py:467: UserWarning: Creating legend with loc=\"best\" can be slow with large amounts of data.\n",
      "  plt.savefig(filename, dpi=150)\n"
     ]
    },
    {
     "name": "stdout",
     "output_type": "stream",
     "text": [
      "... sampling: 700000, 500, 4.0 - auc: 0.8559, aupr: 0.6922\n",
      "... summary index: 1500 - n:1000000, rho:0.25, mu1:5.0\n",
      "... calculate auc: 0.9615, 0.9615, aupr: 0.9086, 0.9086\n",
      "... sampling: 100000, 100, 0.0 - auc: 0.9616, aupr: 0.9088\n",
      "... sampling: 100000, 100, 1.0 - auc: 0.9617, aupr: 0.9089\n",
      "... sampling: 100000, 100, 2.0 - auc: 0.9616, aupr: 0.9087\n",
      "... sampling: 100000, 100, 3.0 - auc: 0.9617, aupr: 0.9089\n",
      "... sampling: 100000, 100, 4.0 - auc: 0.9615, aupr: 0.9085\n",
      "... sampling: 100000, 300, 0.0 - auc: 0.9615, aupr: 0.9086\n",
      "... sampling: 100000, 300, 1.0 - auc: 0.9616, aupr: 0.9087\n",
      "... sampling: 100000, 300, 2.0 - auc: 0.9615, aupr: 0.9086\n",
      "... sampling: 100000, 300, 3.0 - auc: 0.9616, aupr: 0.9087\n",
      "... sampling: 100000, 300, 4.0 - auc: 0.9615, aupr: 0.9086\n",
      "... sampling: 100000, 500, 0.0 - auc: 0.9615, aupr: 0.9087\n",
      "... sampling: 100000, 500, 1.0 - auc: 0.9615, aupr: 0.9086\n",
      "... sampling: 100000, 500, 2.0 - auc: 0.9616, aupr: 0.9088\n",
      "... sampling: 100000, 500, 3.0 - auc: 0.9616, aupr: 0.9087\n",
      "... sampling: 100000, 500, 4.0 - auc: 0.9615, aupr: 0.9085\n",
      "... sampling: 200000, 100, 0.0 - auc: 0.9616, aupr: 0.9088\n",
      "... sampling: 200000, 100, 1.0 - auc: 0.9615, aupr: 0.9086\n",
      "... sampling: 200000, 100, 2.0 - auc: 0.9616, aupr: 0.9088\n",
      "... sampling: 200000, 100, 3.0 - auc: 0.9615, aupr: 0.9086\n",
      "... sampling: 200000, 100, 4.0 - auc: 0.9615, aupr: 0.9086\n",
      "... sampling: 200000, 300, 0.0 - auc: 0.9615, aupr: 0.9087\n",
      "... sampling: 200000, 300, 1.0 - auc: 0.9616, aupr: 0.9087\n",
      "... sampling: 200000, 300, 2.0 - auc: 0.9616, aupr: 0.9087\n",
      "... sampling: 200000, 300, 3.0 - auc: 0.9615, aupr: 0.9086\n",
      "... sampling: 200000, 300, 4.0 - auc: 0.9616, aupr: 0.9087\n",
      "... sampling: 200000, 500, 0.0 - auc: 0.9615, aupr: 0.9086\n",
      "... sampling: 200000, 500, 1.0 - auc: 0.9616, aupr: 0.9087\n",
      "... sampling: 200000, 500, 2.0 - auc: 0.9616, aupr: 0.9087\n",
      "... sampling: 200000, 500, 3.0 - auc: 0.9616, aupr: 0.9086\n",
      "... sampling: 200000, 500, 4.0 - auc: 0.9615, aupr: 0.9087\n"
     ]
    },
    {
     "name": "stderr",
     "output_type": "stream",
     "text": [
      "/home/sckim/git_repos/py_auc/py_auc.py:467: UserWarning: Creating legend with loc=\"best\" can be slow with large amounts of data.\n",
      "  plt.savefig(filename, dpi=150)\n",
      "/home/sckim/git_repos/py_auc/py_auc.py:467: UserWarning: Creating legend with loc=\"best\" can be slow with large amounts of data.\n",
      "  plt.savefig(filename, dpi=150)\n"
     ]
    },
    {
     "name": "stdout",
     "output_type": "stream",
     "text": [
      "... sampling: 300000, 100, 0.0 - auc: 0.9615, aupr: 0.9086\n"
     ]
    },
    {
     "name": "stderr",
     "output_type": "stream",
     "text": [
      "/home/sckim/git_repos/py_auc/py_auc.py:467: UserWarning: Creating legend with loc=\"best\" can be slow with large amounts of data.\n",
      "  plt.savefig(filename, dpi=150)\n"
     ]
    },
    {
     "name": "stdout",
     "output_type": "stream",
     "text": [
      "... sampling: 300000, 100, 1.0 - auc: 0.9615, aupr: 0.9087\n"
     ]
    },
    {
     "name": "stderr",
     "output_type": "stream",
     "text": [
      "/home/sckim/git_repos/py_auc/py_auc.py:467: UserWarning: Creating legend with loc=\"best\" can be slow with large amounts of data.\n",
      "  plt.savefig(filename, dpi=150)\n"
     ]
    },
    {
     "name": "stdout",
     "output_type": "stream",
     "text": [
      "... sampling: 300000, 100, 2.0 - auc: 0.9616, aupr: 0.9087\n"
     ]
    },
    {
     "name": "stderr",
     "output_type": "stream",
     "text": [
      "/home/sckim/git_repos/py_auc/py_auc.py:467: UserWarning: Creating legend with loc=\"best\" can be slow with large amounts of data.\n",
      "  plt.savefig(filename, dpi=150)\n"
     ]
    },
    {
     "name": "stdout",
     "output_type": "stream",
     "text": [
      "... sampling: 300000, 100, 3.0 - auc: 0.9616, aupr: 0.9087\n"
     ]
    },
    {
     "name": "stderr",
     "output_type": "stream",
     "text": [
      "/home/sckim/git_repos/py_auc/py_auc.py:467: UserWarning: Creating legend with loc=\"best\" can be slow with large amounts of data.\n",
      "  plt.savefig(filename, dpi=150)\n"
     ]
    },
    {
     "name": "stdout",
     "output_type": "stream",
     "text": [
      "... sampling: 300000, 100, 4.0 - auc: 0.9615, aupr: 0.9086\n"
     ]
    },
    {
     "name": "stderr",
     "output_type": "stream",
     "text": [
      "/home/sckim/git_repos/py_auc/py_auc.py:467: UserWarning: Creating legend with loc=\"best\" can be slow with large amounts of data.\n",
      "  plt.savefig(filename, dpi=150)\n"
     ]
    },
    {
     "name": "stdout",
     "output_type": "stream",
     "text": [
      "... sampling: 300000, 300, 0.0 - auc: 0.9615, aupr: 0.9086\n"
     ]
    },
    {
     "name": "stderr",
     "output_type": "stream",
     "text": [
      "/home/sckim/git_repos/py_auc/py_auc.py:467: UserWarning: Creating legend with loc=\"best\" can be slow with large amounts of data.\n",
      "  plt.savefig(filename, dpi=150)\n"
     ]
    },
    {
     "name": "stdout",
     "output_type": "stream",
     "text": [
      "... sampling: 300000, 300, 1.0 - auc: 0.9616, aupr: 0.9087\n"
     ]
    },
    {
     "name": "stderr",
     "output_type": "stream",
     "text": [
      "/home/sckim/git_repos/py_auc/py_auc.py:467: UserWarning: Creating legend with loc=\"best\" can be slow with large amounts of data.\n",
      "  plt.savefig(filename, dpi=150)\n"
     ]
    },
    {
     "name": "stdout",
     "output_type": "stream",
     "text": [
      "... sampling: 300000, 300, 2.0 - auc: 0.9615, aupr: 0.9086\n"
     ]
    },
    {
     "name": "stderr",
     "output_type": "stream",
     "text": [
      "/home/sckim/git_repos/py_auc/py_auc.py:467: UserWarning: Creating legend with loc=\"best\" can be slow with large amounts of data.\n",
      "  plt.savefig(filename, dpi=150)\n"
     ]
    },
    {
     "name": "stdout",
     "output_type": "stream",
     "text": [
      "... sampling: 300000, 300, 3.0 - auc: 0.9615, aupr: 0.9086\n"
     ]
    },
    {
     "name": "stderr",
     "output_type": "stream",
     "text": [
      "/home/sckim/git_repos/py_auc/py_auc.py:467: UserWarning: Creating legend with loc=\"best\" can be slow with large amounts of data.\n",
      "  plt.savefig(filename, dpi=150)\n"
     ]
    },
    {
     "name": "stdout",
     "output_type": "stream",
     "text": [
      "... sampling: 300000, 300, 4.0 - auc: 0.9616, aupr: 0.9087\n"
     ]
    },
    {
     "name": "stderr",
     "output_type": "stream",
     "text": [
      "/home/sckim/git_repos/py_auc/py_auc.py:467: UserWarning: Creating legend with loc=\"best\" can be slow with large amounts of data.\n",
      "  plt.savefig(filename, dpi=150)\n"
     ]
    },
    {
     "name": "stdout",
     "output_type": "stream",
     "text": [
      "... sampling: 300000, 500, 0.0 - auc: 0.9616, aupr: 0.9087\n"
     ]
    },
    {
     "name": "stderr",
     "output_type": "stream",
     "text": [
      "/home/sckim/git_repos/py_auc/py_auc.py:467: UserWarning: Creating legend with loc=\"best\" can be slow with large amounts of data.\n",
      "  plt.savefig(filename, dpi=150)\n"
     ]
    },
    {
     "name": "stdout",
     "output_type": "stream",
     "text": [
      "... sampling: 300000, 500, 1.0 - auc: 0.9616, aupr: 0.9087\n"
     ]
    },
    {
     "name": "stderr",
     "output_type": "stream",
     "text": [
      "/home/sckim/git_repos/py_auc/py_auc.py:467: UserWarning: Creating legend with loc=\"best\" can be slow with large amounts of data.\n",
      "  plt.savefig(filename, dpi=150)\n"
     ]
    },
    {
     "name": "stdout",
     "output_type": "stream",
     "text": [
      "... sampling: 300000, 500, 2.0 - auc: 0.9616, aupr: 0.9087\n"
     ]
    },
    {
     "name": "stderr",
     "output_type": "stream",
     "text": [
      "/home/sckim/git_repos/py_auc/py_auc.py:467: UserWarning: Creating legend with loc=\"best\" can be slow with large amounts of data.\n",
      "  plt.savefig(filename, dpi=150)\n"
     ]
    },
    {
     "name": "stdout",
     "output_type": "stream",
     "text": [
      "... sampling: 300000, 500, 3.0 - auc: 0.9615, aupr: 0.9086\n"
     ]
    },
    {
     "name": "stderr",
     "output_type": "stream",
     "text": [
      "/home/sckim/git_repos/py_auc/py_auc.py:467: UserWarning: Creating legend with loc=\"best\" can be slow with large amounts of data.\n",
      "  plt.savefig(filename, dpi=150)\n"
     ]
    },
    {
     "name": "stdout",
     "output_type": "stream",
     "text": [
      "... sampling: 300000, 500, 4.0 - auc: 0.9616, aupr: 0.9087\n"
     ]
    },
    {
     "name": "stderr",
     "output_type": "stream",
     "text": [
      "/home/sckim/git_repos/py_auc/py_auc.py:467: UserWarning: Creating legend with loc=\"best\" can be slow with large amounts of data.\n",
      "  plt.savefig(filename, dpi=150)\n"
     ]
    },
    {
     "name": "stdout",
     "output_type": "stream",
     "text": [
      "... sampling: 500000, 100, 0.0 - auc: 0.9615, aupr: 0.9086\n"
     ]
    },
    {
     "name": "stderr",
     "output_type": "stream",
     "text": [
      "/home/sckim/git_repos/py_auc/py_auc.py:467: UserWarning: Creating legend with loc=\"best\" can be slow with large amounts of data.\n",
      "  plt.savefig(filename, dpi=150)\n"
     ]
    },
    {
     "name": "stdout",
     "output_type": "stream",
     "text": [
      "... sampling: 500000, 100, 1.0 - auc: 0.9615, aupr: 0.9086\n"
     ]
    },
    {
     "name": "stderr",
     "output_type": "stream",
     "text": [
      "/home/sckim/git_repos/py_auc/py_auc.py:467: UserWarning: Creating legend with loc=\"best\" can be slow with large amounts of data.\n",
      "  plt.savefig(filename, dpi=150)\n"
     ]
    },
    {
     "name": "stdout",
     "output_type": "stream",
     "text": [
      "... sampling: 500000, 100, 2.0 - auc: 0.9615, aupr: 0.9086\n"
     ]
    },
    {
     "name": "stderr",
     "output_type": "stream",
     "text": [
      "/home/sckim/git_repos/py_auc/py_auc.py:467: UserWarning: Creating legend with loc=\"best\" can be slow with large amounts of data.\n",
      "  plt.savefig(filename, dpi=150)\n"
     ]
    },
    {
     "name": "stdout",
     "output_type": "stream",
     "text": [
      "... sampling: 500000, 100, 3.0 - auc: 0.9616, aupr: 0.9086\n"
     ]
    },
    {
     "name": "stderr",
     "output_type": "stream",
     "text": [
      "/home/sckim/git_repos/py_auc/py_auc.py:467: UserWarning: Creating legend with loc=\"best\" can be slow with large amounts of data.\n",
      "  plt.savefig(filename, dpi=150)\n"
     ]
    },
    {
     "name": "stdout",
     "output_type": "stream",
     "text": [
      "... sampling: 500000, 100, 4.0 - auc: 0.9615, aupr: 0.9087\n"
     ]
    },
    {
     "name": "stderr",
     "output_type": "stream",
     "text": [
      "/home/sckim/git_repos/py_auc/py_auc.py:467: UserWarning: Creating legend with loc=\"best\" can be slow with large amounts of data.\n",
      "  plt.savefig(filename, dpi=150)\n"
     ]
    },
    {
     "name": "stdout",
     "output_type": "stream",
     "text": [
      "... sampling: 500000, 300, 0.0 - auc: 0.9615, aupr: 0.9086\n"
     ]
    },
    {
     "name": "stderr",
     "output_type": "stream",
     "text": [
      "/home/sckim/git_repos/py_auc/py_auc.py:467: UserWarning: Creating legend with loc=\"best\" can be slow with large amounts of data.\n",
      "  plt.savefig(filename, dpi=150)\n"
     ]
    },
    {
     "name": "stdout",
     "output_type": "stream",
     "text": [
      "... sampling: 500000, 300, 1.0 - auc: 0.9615, aupr: 0.9086\n"
     ]
    },
    {
     "name": "stderr",
     "output_type": "stream",
     "text": [
      "/home/sckim/git_repos/py_auc/py_auc.py:467: UserWarning: Creating legend with loc=\"best\" can be slow with large amounts of data.\n",
      "  plt.savefig(filename, dpi=150)\n"
     ]
    },
    {
     "name": "stdout",
     "output_type": "stream",
     "text": [
      "... sampling: 500000, 300, 2.0 - auc: 0.9616, aupr: 0.9087\n"
     ]
    },
    {
     "name": "stderr",
     "output_type": "stream",
     "text": [
      "/home/sckim/git_repos/py_auc/py_auc.py:467: UserWarning: Creating legend with loc=\"best\" can be slow with large amounts of data.\n",
      "  plt.savefig(filename, dpi=150)\n"
     ]
    },
    {
     "name": "stdout",
     "output_type": "stream",
     "text": [
      "... sampling: 500000, 300, 3.0 - auc: 0.9615, aupr: 0.9086\n"
     ]
    },
    {
     "name": "stderr",
     "output_type": "stream",
     "text": [
      "/home/sckim/git_repos/py_auc/py_auc.py:467: UserWarning: Creating legend with loc=\"best\" can be slow with large amounts of data.\n",
      "  plt.savefig(filename, dpi=150)\n"
     ]
    },
    {
     "name": "stdout",
     "output_type": "stream",
     "text": [
      "... sampling: 500000, 300, 4.0 - auc: 0.9615, aupr: 0.9086\n"
     ]
    },
    {
     "name": "stderr",
     "output_type": "stream",
     "text": [
      "/home/sckim/git_repos/py_auc/py_auc.py:467: UserWarning: Creating legend with loc=\"best\" can be slow with large amounts of data.\n",
      "  plt.savefig(filename, dpi=150)\n"
     ]
    },
    {
     "name": "stdout",
     "output_type": "stream",
     "text": [
      "... sampling: 500000, 500, 0.0 - auc: 0.9615, aupr: 0.9086\n"
     ]
    },
    {
     "name": "stderr",
     "output_type": "stream",
     "text": [
      "/home/sckim/git_repos/py_auc/py_auc.py:467: UserWarning: Creating legend with loc=\"best\" can be slow with large amounts of data.\n",
      "  plt.savefig(filename, dpi=150)\n"
     ]
    },
    {
     "name": "stdout",
     "output_type": "stream",
     "text": [
      "... sampling: 500000, 500, 1.0 - auc: 0.9615, aupr: 0.9086\n"
     ]
    },
    {
     "name": "stderr",
     "output_type": "stream",
     "text": [
      "/home/sckim/git_repos/py_auc/py_auc.py:467: UserWarning: Creating legend with loc=\"best\" can be slow with large amounts of data.\n",
      "  plt.savefig(filename, dpi=150)\n"
     ]
    },
    {
     "name": "stdout",
     "output_type": "stream",
     "text": [
      "... sampling: 500000, 500, 2.0 - auc: 0.9616, aupr: 0.9087\n"
     ]
    },
    {
     "name": "stderr",
     "output_type": "stream",
     "text": [
      "/home/sckim/git_repos/py_auc/py_auc.py:467: UserWarning: Creating legend with loc=\"best\" can be slow with large amounts of data.\n",
      "  plt.savefig(filename, dpi=150)\n"
     ]
    },
    {
     "name": "stdout",
     "output_type": "stream",
     "text": [
      "... sampling: 500000, 500, 3.0 - auc: 0.9615, aupr: 0.9086\n"
     ]
    },
    {
     "name": "stderr",
     "output_type": "stream",
     "text": [
      "/home/sckim/git_repos/py_auc/py_auc.py:467: UserWarning: Creating legend with loc=\"best\" can be slow with large amounts of data.\n",
      "  plt.savefig(filename, dpi=150)\n"
     ]
    },
    {
     "name": "stdout",
     "output_type": "stream",
     "text": [
      "... sampling: 500000, 500, 4.0 - auc: 0.9615, aupr: 0.9086\n"
     ]
    },
    {
     "name": "stderr",
     "output_type": "stream",
     "text": [
      "/home/sckim/git_repos/py_auc/py_auc.py:467: UserWarning: Creating legend with loc=\"best\" can be slow with large amounts of data.\n",
      "  plt.savefig(filename, dpi=150)\n"
     ]
    },
    {
     "name": "stdout",
     "output_type": "stream",
     "text": [
      "... sampling: 700000, 100, 0.0 - auc: 0.9615, aupr: 0.9087\n"
     ]
    },
    {
     "name": "stderr",
     "output_type": "stream",
     "text": [
      "/home/sckim/git_repos/py_auc/py_auc.py:467: UserWarning: Creating legend with loc=\"best\" can be slow with large amounts of data.\n",
      "  plt.savefig(filename, dpi=150)\n"
     ]
    },
    {
     "name": "stdout",
     "output_type": "stream",
     "text": [
      "... sampling: 700000, 100, 1.0 - auc: 0.9615, aupr: 0.9086\n"
     ]
    },
    {
     "name": "stderr",
     "output_type": "stream",
     "text": [
      "/home/sckim/git_repos/py_auc/py_auc.py:467: UserWarning: Creating legend with loc=\"best\" can be slow with large amounts of data.\n",
      "  plt.savefig(filename, dpi=150)\n"
     ]
    },
    {
     "name": "stdout",
     "output_type": "stream",
     "text": [
      "... sampling: 700000, 100, 2.0 - auc: 0.9616, aupr: 0.9087\n"
     ]
    },
    {
     "name": "stderr",
     "output_type": "stream",
     "text": [
      "/home/sckim/git_repos/py_auc/py_auc.py:467: UserWarning: Creating legend with loc=\"best\" can be slow with large amounts of data.\n",
      "  plt.savefig(filename, dpi=150)\n"
     ]
    },
    {
     "name": "stdout",
     "output_type": "stream",
     "text": [
      "... sampling: 700000, 100, 3.0 - auc: 0.9616, aupr: 0.9087\n"
     ]
    },
    {
     "name": "stderr",
     "output_type": "stream",
     "text": [
      "/home/sckim/git_repos/py_auc/py_auc.py:467: UserWarning: Creating legend with loc=\"best\" can be slow with large amounts of data.\n",
      "  plt.savefig(filename, dpi=150)\n"
     ]
    },
    {
     "name": "stdout",
     "output_type": "stream",
     "text": [
      "... sampling: 700000, 100, 4.0 - auc: 0.9615, aupr: 0.9086\n"
     ]
    },
    {
     "name": "stderr",
     "output_type": "stream",
     "text": [
      "/home/sckim/git_repos/py_auc/py_auc.py:467: UserWarning: Creating legend with loc=\"best\" can be slow with large amounts of data.\n",
      "  plt.savefig(filename, dpi=150)\n"
     ]
    },
    {
     "name": "stdout",
     "output_type": "stream",
     "text": [
      "... sampling: 700000, 300, 0.0 - auc: 0.9615, aupr: 0.9086\n"
     ]
    },
    {
     "name": "stderr",
     "output_type": "stream",
     "text": [
      "/home/sckim/git_repos/py_auc/py_auc.py:467: UserWarning: Creating legend with loc=\"best\" can be slow with large amounts of data.\n",
      "  plt.savefig(filename, dpi=150)\n"
     ]
    },
    {
     "name": "stdout",
     "output_type": "stream",
     "text": [
      "... sampling: 700000, 300, 1.0 - auc: 0.9615, aupr: 0.9087\n"
     ]
    },
    {
     "name": "stderr",
     "output_type": "stream",
     "text": [
      "/home/sckim/git_repos/py_auc/py_auc.py:467: UserWarning: Creating legend with loc=\"best\" can be slow with large amounts of data.\n",
      "  plt.savefig(filename, dpi=150)\n"
     ]
    },
    {
     "name": "stdout",
     "output_type": "stream",
     "text": [
      "... sampling: 700000, 300, 2.0 - auc: 0.9616, aupr: 0.9087\n"
     ]
    },
    {
     "name": "stderr",
     "output_type": "stream",
     "text": [
      "/home/sckim/git_repos/py_auc/py_auc.py:467: UserWarning: Creating legend with loc=\"best\" can be slow with large amounts of data.\n",
      "  plt.savefig(filename, dpi=150)\n"
     ]
    },
    {
     "name": "stdout",
     "output_type": "stream",
     "text": [
      "... sampling: 700000, 300, 3.0 - auc: 0.9615, aupr: 0.9087\n"
     ]
    },
    {
     "name": "stderr",
     "output_type": "stream",
     "text": [
      "/home/sckim/git_repos/py_auc/py_auc.py:467: UserWarning: Creating legend with loc=\"best\" can be slow with large amounts of data.\n",
      "  plt.savefig(filename, dpi=150)\n"
     ]
    },
    {
     "name": "stdout",
     "output_type": "stream",
     "text": [
      "... sampling: 700000, 300, 4.0 - auc: 0.9615, aupr: 0.9087\n"
     ]
    },
    {
     "name": "stderr",
     "output_type": "stream",
     "text": [
      "/home/sckim/git_repos/py_auc/py_auc.py:467: UserWarning: Creating legend with loc=\"best\" can be slow with large amounts of data.\n",
      "  plt.savefig(filename, dpi=150)\n"
     ]
    },
    {
     "name": "stdout",
     "output_type": "stream",
     "text": [
      "... sampling: 700000, 500, 0.0 - auc: 0.9615, aupr: 0.9086\n"
     ]
    },
    {
     "name": "stderr",
     "output_type": "stream",
     "text": [
      "/home/sckim/git_repos/py_auc/py_auc.py:467: UserWarning: Creating legend with loc=\"best\" can be slow with large amounts of data.\n",
      "  plt.savefig(filename, dpi=150)\n"
     ]
    },
    {
     "name": "stdout",
     "output_type": "stream",
     "text": [
      "... sampling: 700000, 500, 1.0 - auc: 0.9615, aupr: 0.9086\n"
     ]
    },
    {
     "name": "stderr",
     "output_type": "stream",
     "text": [
      "/home/sckim/git_repos/py_auc/py_auc.py:467: UserWarning: Creating legend with loc=\"best\" can be slow with large amounts of data.\n",
      "  plt.savefig(filename, dpi=150)\n"
     ]
    },
    {
     "name": "stdout",
     "output_type": "stream",
     "text": [
      "... sampling: 700000, 500, 2.0 - auc: 0.9615, aupr: 0.9087\n"
     ]
    },
    {
     "name": "stderr",
     "output_type": "stream",
     "text": [
      "/home/sckim/git_repos/py_auc/py_auc.py:467: UserWarning: Creating legend with loc=\"best\" can be slow with large amounts of data.\n",
      "  plt.savefig(filename, dpi=150)\n"
     ]
    },
    {
     "name": "stdout",
     "output_type": "stream",
     "text": [
      "... sampling: 700000, 500, 3.0 - auc: 0.9616, aupr: 0.9086\n"
     ]
    },
    {
     "name": "stderr",
     "output_type": "stream",
     "text": [
      "/home/sckim/git_repos/py_auc/py_auc.py:467: UserWarning: Creating legend with loc=\"best\" can be slow with large amounts of data.\n",
      "  plt.savefig(filename, dpi=150)\n"
     ]
    },
    {
     "name": "stdout",
     "output_type": "stream",
     "text": [
      "... sampling: 700000, 500, 4.0 - auc: 0.9616, aupr: 0.9087\n",
      "... summary index: 1575 - n:1000000, rho:0.5, mu1:1.0\n",
      "... calculate auc: 0.6385, 0.6385, aupr: 0.6257, 0.6258\n",
      "... sampling: 100000, 100, 0.0 - auc: 0.6384, aupr: 0.6255\n",
      "... sampling: 100000, 100, 1.0 - auc: 0.6388, aupr: 0.6259\n",
      "... sampling: 100000, 100, 2.0 - auc: 0.6386, aupr: 0.6259\n",
      "... sampling: 100000, 100, 3.0 - auc: 0.6381, aupr: 0.6253\n",
      "... sampling: 100000, 100, 4.0 - auc: 0.6388, aupr: 0.6259\n",
      "... sampling: 100000, 300, 0.0 - auc: 0.6386, aupr: 0.6257\n",
      "... sampling: 100000, 300, 1.0 - auc: 0.6385, aupr: 0.6257\n",
      "... sampling: 100000, 300, 2.0 - auc: 0.6386, aupr: 0.6257\n",
      "... sampling: 100000, 300, 3.0 - auc: 0.6386, aupr: 0.6258\n",
      "... sampling: 100000, 300, 4.0 - auc: 0.6386, aupr: 0.6256\n",
      "... sampling: 100000, 500, 0.0 - auc: 0.6385, aupr: 0.6258\n",
      "... sampling: 100000, 500, 1.0 - auc: 0.6385, aupr: 0.6257\n",
      "... sampling: 100000, 500, 2.0 - auc: 0.6386, aupr: 0.6259\n",
      "... sampling: 100000, 500, 3.0 - auc: 0.6386, aupr: 0.6258\n",
      "... sampling: 100000, 500, 4.0 - auc: 0.6385, aupr: 0.6257\n",
      "... sampling: 200000, 100, 0.0 - auc: 0.6383, aupr: 0.6257\n",
      "... sampling: 200000, 100, 1.0 - auc: 0.6385, aupr: 0.6257\n",
      "... sampling: 200000, 100, 2.0 - auc: 0.6386, aupr: 0.6259\n",
      "... sampling: 200000, 100, 3.0 - auc: 0.6385, aupr: 0.6257\n",
      "... sampling: 200000, 100, 4.0 - auc: 0.6386, aupr: 0.6258\n",
      "... sampling: 200000, 300, 0.0 - auc: 0.6386, aupr: 0.6258\n",
      "... sampling: 200000, 300, 1.0 - auc: 0.6384, aupr: 0.6257\n",
      "... sampling: 200000, 300, 2.0 - auc: 0.6386, aupr: 0.6258\n",
      "... sampling: 200000, 300, 3.0 - auc: 0.6385, aupr: 0.6258\n",
      "... sampling: 200000, 300, 4.0 - auc: 0.6385, aupr: 0.6257\n",
      "... sampling: 200000, 500, 0.0 - auc: 0.6386, aupr: 0.6258\n",
      "... sampling: 200000, 500, 1.0 - auc: 0.6385, aupr: 0.6257\n",
      "... sampling: 200000, 500, 2.0 - auc: 0.6385, aupr: 0.6257\n",
      "... sampling: 200000, 500, 3.0 - auc: 0.6385, aupr: 0.6257\n",
      "... sampling: 200000, 500, 4.0 - auc: 0.6385, aupr: 0.6257\n"
     ]
    },
    {
     "name": "stderr",
     "output_type": "stream",
     "text": [
      "/home/sckim/git_repos/py_auc/py_auc.py:467: UserWarning: Creating legend with loc=\"best\" can be slow with large amounts of data.\n",
      "  plt.savefig(filename, dpi=150)\n",
      "/home/sckim/git_repos/py_auc/py_auc.py:467: UserWarning: Creating legend with loc=\"best\" can be slow with large amounts of data.\n",
      "  plt.savefig(filename, dpi=150)\n"
     ]
    },
    {
     "name": "stdout",
     "output_type": "stream",
     "text": [
      "... sampling: 300000, 100, 0.0 - auc: 0.6385, aupr: 0.6257\n"
     ]
    },
    {
     "name": "stderr",
     "output_type": "stream",
     "text": [
      "/home/sckim/git_repos/py_auc/py_auc.py:467: UserWarning: Creating legend with loc=\"best\" can be slow with large amounts of data.\n",
      "  plt.savefig(filename, dpi=150)\n"
     ]
    },
    {
     "name": "stdout",
     "output_type": "stream",
     "text": [
      "... sampling: 300000, 100, 1.0 - auc: 0.6386, aupr: 0.6258\n"
     ]
    },
    {
     "name": "stderr",
     "output_type": "stream",
     "text": [
      "/home/sckim/git_repos/py_auc/py_auc.py:467: UserWarning: Creating legend with loc=\"best\" can be slow with large amounts of data.\n",
      "  plt.savefig(filename, dpi=150)\n"
     ]
    },
    {
     "name": "stdout",
     "output_type": "stream",
     "text": [
      "... sampling: 300000, 100, 2.0 - auc: 0.6385, aupr: 0.6257\n"
     ]
    },
    {
     "name": "stderr",
     "output_type": "stream",
     "text": [
      "/home/sckim/git_repos/py_auc/py_auc.py:467: UserWarning: Creating legend with loc=\"best\" can be slow with large amounts of data.\n",
      "  plt.savefig(filename, dpi=150)\n"
     ]
    },
    {
     "name": "stdout",
     "output_type": "stream",
     "text": [
      "... sampling: 300000, 100, 3.0 - auc: 0.6386, aupr: 0.6258\n"
     ]
    },
    {
     "name": "stderr",
     "output_type": "stream",
     "text": [
      "/home/sckim/git_repos/py_auc/py_auc.py:467: UserWarning: Creating legend with loc=\"best\" can be slow with large amounts of data.\n",
      "  plt.savefig(filename, dpi=150)\n"
     ]
    },
    {
     "name": "stdout",
     "output_type": "stream",
     "text": [
      "... sampling: 300000, 100, 4.0 - auc: 0.6385, aupr: 0.6256\n"
     ]
    },
    {
     "name": "stderr",
     "output_type": "stream",
     "text": [
      "/home/sckim/git_repos/py_auc/py_auc.py:467: UserWarning: Creating legend with loc=\"best\" can be slow with large amounts of data.\n",
      "  plt.savefig(filename, dpi=150)\n"
     ]
    },
    {
     "name": "stdout",
     "output_type": "stream",
     "text": [
      "... sampling: 300000, 300, 0.0 - auc: 0.6385, aupr: 0.6257\n"
     ]
    },
    {
     "name": "stderr",
     "output_type": "stream",
     "text": [
      "/home/sckim/git_repos/py_auc/py_auc.py:467: UserWarning: Creating legend with loc=\"best\" can be slow with large amounts of data.\n",
      "  plt.savefig(filename, dpi=150)\n"
     ]
    },
    {
     "name": "stdout",
     "output_type": "stream",
     "text": [
      "... sampling: 300000, 300, 1.0 - auc: 0.6385, aupr: 0.6257\n"
     ]
    },
    {
     "name": "stderr",
     "output_type": "stream",
     "text": [
      "/home/sckim/git_repos/py_auc/py_auc.py:467: UserWarning: Creating legend with loc=\"best\" can be slow with large amounts of data.\n",
      "  plt.savefig(filename, dpi=150)\n"
     ]
    },
    {
     "name": "stdout",
     "output_type": "stream",
     "text": [
      "... sampling: 300000, 300, 2.0 - auc: 0.6384, aupr: 0.6256\n"
     ]
    },
    {
     "name": "stderr",
     "output_type": "stream",
     "text": [
      "/home/sckim/git_repos/py_auc/py_auc.py:467: UserWarning: Creating legend with loc=\"best\" can be slow with large amounts of data.\n",
      "  plt.savefig(filename, dpi=150)\n"
     ]
    },
    {
     "name": "stdout",
     "output_type": "stream",
     "text": [
      "... sampling: 300000, 300, 3.0 - auc: 0.6385, aupr: 0.6257\n"
     ]
    },
    {
     "name": "stderr",
     "output_type": "stream",
     "text": [
      "/home/sckim/git_repos/py_auc/py_auc.py:467: UserWarning: Creating legend with loc=\"best\" can be slow with large amounts of data.\n",
      "  plt.savefig(filename, dpi=150)\n"
     ]
    },
    {
     "name": "stdout",
     "output_type": "stream",
     "text": [
      "... sampling: 300000, 300, 4.0 - auc: 0.6385, aupr: 0.6257\n"
     ]
    },
    {
     "name": "stderr",
     "output_type": "stream",
     "text": [
      "/home/sckim/git_repos/py_auc/py_auc.py:467: UserWarning: Creating legend with loc=\"best\" can be slow with large amounts of data.\n",
      "  plt.savefig(filename, dpi=150)\n"
     ]
    },
    {
     "name": "stdout",
     "output_type": "stream",
     "text": [
      "... sampling: 300000, 500, 0.0 - auc: 0.6386, aupr: 0.6258\n"
     ]
    },
    {
     "name": "stderr",
     "output_type": "stream",
     "text": [
      "/home/sckim/git_repos/py_auc/py_auc.py:467: UserWarning: Creating legend with loc=\"best\" can be slow with large amounts of data.\n",
      "  plt.savefig(filename, dpi=150)\n"
     ]
    },
    {
     "name": "stdout",
     "output_type": "stream",
     "text": [
      "... sampling: 300000, 500, 1.0 - auc: 0.6386, aupr: 0.6258\n"
     ]
    },
    {
     "name": "stderr",
     "output_type": "stream",
     "text": [
      "/home/sckim/git_repos/py_auc/py_auc.py:467: UserWarning: Creating legend with loc=\"best\" can be slow with large amounts of data.\n",
      "  plt.savefig(filename, dpi=150)\n"
     ]
    },
    {
     "name": "stdout",
     "output_type": "stream",
     "text": [
      "... sampling: 300000, 500, 2.0 - auc: 0.6386, aupr: 0.6259\n"
     ]
    },
    {
     "name": "stderr",
     "output_type": "stream",
     "text": [
      "/home/sckim/git_repos/py_auc/py_auc.py:467: UserWarning: Creating legend with loc=\"best\" can be slow with large amounts of data.\n",
      "  plt.savefig(filename, dpi=150)\n"
     ]
    },
    {
     "name": "stdout",
     "output_type": "stream",
     "text": [
      "... sampling: 300000, 500, 3.0 - auc: 0.6385, aupr: 0.6257\n"
     ]
    },
    {
     "name": "stderr",
     "output_type": "stream",
     "text": [
      "/home/sckim/git_repos/py_auc/py_auc.py:467: UserWarning: Creating legend with loc=\"best\" can be slow with large amounts of data.\n",
      "  plt.savefig(filename, dpi=150)\n"
     ]
    },
    {
     "name": "stdout",
     "output_type": "stream",
     "text": [
      "... sampling: 300000, 500, 4.0 - auc: 0.6385, aupr: 0.6258\n"
     ]
    },
    {
     "name": "stderr",
     "output_type": "stream",
     "text": [
      "/home/sckim/git_repos/py_auc/py_auc.py:467: UserWarning: Creating legend with loc=\"best\" can be slow with large amounts of data.\n",
      "  plt.savefig(filename, dpi=150)\n"
     ]
    },
    {
     "name": "stdout",
     "output_type": "stream",
     "text": [
      "... sampling: 500000, 100, 0.0 - auc: 0.6385, aupr: 0.6257\n"
     ]
    },
    {
     "name": "stderr",
     "output_type": "stream",
     "text": [
      "/home/sckim/git_repos/py_auc/py_auc.py:467: UserWarning: Creating legend with loc=\"best\" can be slow with large amounts of data.\n",
      "  plt.savefig(filename, dpi=150)\n"
     ]
    },
    {
     "name": "stdout",
     "output_type": "stream",
     "text": [
      "... sampling: 500000, 100, 1.0 - auc: 0.6385, aupr: 0.6257\n"
     ]
    },
    {
     "name": "stderr",
     "output_type": "stream",
     "text": [
      "/home/sckim/git_repos/py_auc/py_auc.py:467: UserWarning: Creating legend with loc=\"best\" can be slow with large amounts of data.\n",
      "  plt.savefig(filename, dpi=150)\n"
     ]
    },
    {
     "name": "stdout",
     "output_type": "stream",
     "text": [
      "... sampling: 500000, 100, 2.0 - auc: 0.6385, aupr: 0.6257\n"
     ]
    },
    {
     "name": "stderr",
     "output_type": "stream",
     "text": [
      "/home/sckim/git_repos/py_auc/py_auc.py:467: UserWarning: Creating legend with loc=\"best\" can be slow with large amounts of data.\n",
      "  plt.savefig(filename, dpi=150)\n"
     ]
    },
    {
     "name": "stdout",
     "output_type": "stream",
     "text": [
      "... sampling: 500000, 100, 3.0 - auc: 0.6385, aupr: 0.6257\n"
     ]
    },
    {
     "name": "stderr",
     "output_type": "stream",
     "text": [
      "/home/sckim/git_repos/py_auc/py_auc.py:467: UserWarning: Creating legend with loc=\"best\" can be slow with large amounts of data.\n",
      "  plt.savefig(filename, dpi=150)\n"
     ]
    },
    {
     "name": "stdout",
     "output_type": "stream",
     "text": [
      "... sampling: 500000, 100, 4.0 - auc: 0.6386, aupr: 0.6258\n"
     ]
    },
    {
     "name": "stderr",
     "output_type": "stream",
     "text": [
      "/home/sckim/git_repos/py_auc/py_auc.py:467: UserWarning: Creating legend with loc=\"best\" can be slow with large amounts of data.\n",
      "  plt.savefig(filename, dpi=150)\n"
     ]
    },
    {
     "name": "stdout",
     "output_type": "stream",
     "text": [
      "... sampling: 500000, 300, 0.0 - auc: 0.6385, aupr: 0.6257\n"
     ]
    },
    {
     "name": "stderr",
     "output_type": "stream",
     "text": [
      "/home/sckim/git_repos/py_auc/py_auc.py:467: UserWarning: Creating legend with loc=\"best\" can be slow with large amounts of data.\n",
      "  plt.savefig(filename, dpi=150)\n"
     ]
    },
    {
     "name": "stdout",
     "output_type": "stream",
     "text": [
      "... sampling: 500000, 300, 1.0 - auc: 0.6386, aupr: 0.6258\n"
     ]
    },
    {
     "name": "stderr",
     "output_type": "stream",
     "text": [
      "/home/sckim/git_repos/py_auc/py_auc.py:467: UserWarning: Creating legend with loc=\"best\" can be slow with large amounts of data.\n",
      "  plt.savefig(filename, dpi=150)\n"
     ]
    },
    {
     "name": "stdout",
     "output_type": "stream",
     "text": [
      "... sampling: 500000, 300, 2.0 - auc: 0.6386, aupr: 0.6258\n"
     ]
    },
    {
     "name": "stderr",
     "output_type": "stream",
     "text": [
      "/home/sckim/git_repos/py_auc/py_auc.py:467: UserWarning: Creating legend with loc=\"best\" can be slow with large amounts of data.\n",
      "  plt.savefig(filename, dpi=150)\n"
     ]
    },
    {
     "name": "stdout",
     "output_type": "stream",
     "text": [
      "... sampling: 500000, 300, 3.0 - auc: 0.6386, aupr: 0.6258\n"
     ]
    },
    {
     "name": "stderr",
     "output_type": "stream",
     "text": [
      "/home/sckim/git_repos/py_auc/py_auc.py:467: UserWarning: Creating legend with loc=\"best\" can be slow with large amounts of data.\n",
      "  plt.savefig(filename, dpi=150)\n"
     ]
    },
    {
     "name": "stdout",
     "output_type": "stream",
     "text": [
      "... sampling: 500000, 300, 4.0 - auc: 0.6385, aupr: 0.6257\n"
     ]
    },
    {
     "name": "stderr",
     "output_type": "stream",
     "text": [
      "/home/sckim/git_repos/py_auc/py_auc.py:467: UserWarning: Creating legend with loc=\"best\" can be slow with large amounts of data.\n",
      "  plt.savefig(filename, dpi=150)\n"
     ]
    },
    {
     "name": "stdout",
     "output_type": "stream",
     "text": [
      "... sampling: 500000, 500, 0.0 - auc: 0.6385, aupr: 0.6258\n"
     ]
    },
    {
     "name": "stderr",
     "output_type": "stream",
     "text": [
      "/home/sckim/git_repos/py_auc/py_auc.py:467: UserWarning: Creating legend with loc=\"best\" can be slow with large amounts of data.\n",
      "  plt.savefig(filename, dpi=150)\n"
     ]
    },
    {
     "name": "stdout",
     "output_type": "stream",
     "text": [
      "... sampling: 500000, 500, 1.0 - auc: 0.6385, aupr: 0.6258\n"
     ]
    },
    {
     "name": "stderr",
     "output_type": "stream",
     "text": [
      "/home/sckim/git_repos/py_auc/py_auc.py:467: UserWarning: Creating legend with loc=\"best\" can be slow with large amounts of data.\n",
      "  plt.savefig(filename, dpi=150)\n"
     ]
    },
    {
     "name": "stdout",
     "output_type": "stream",
     "text": [
      "... sampling: 500000, 500, 2.0 - auc: 0.6386, aupr: 0.6258\n"
     ]
    },
    {
     "name": "stderr",
     "output_type": "stream",
     "text": [
      "/home/sckim/git_repos/py_auc/py_auc.py:467: UserWarning: Creating legend with loc=\"best\" can be slow with large amounts of data.\n",
      "  plt.savefig(filename, dpi=150)\n"
     ]
    },
    {
     "name": "stdout",
     "output_type": "stream",
     "text": [
      "... sampling: 500000, 500, 3.0 - auc: 0.6385, aupr: 0.6257\n"
     ]
    },
    {
     "name": "stderr",
     "output_type": "stream",
     "text": [
      "/home/sckim/git_repos/py_auc/py_auc.py:467: UserWarning: Creating legend with loc=\"best\" can be slow with large amounts of data.\n",
      "  plt.savefig(filename, dpi=150)\n"
     ]
    },
    {
     "name": "stdout",
     "output_type": "stream",
     "text": [
      "... sampling: 500000, 500, 4.0 - auc: 0.6385, aupr: 0.6257\n"
     ]
    },
    {
     "name": "stderr",
     "output_type": "stream",
     "text": [
      "/home/sckim/git_repos/py_auc/py_auc.py:467: UserWarning: Creating legend with loc=\"best\" can be slow with large amounts of data.\n",
      "  plt.savefig(filename, dpi=150)\n"
     ]
    },
    {
     "name": "stdout",
     "output_type": "stream",
     "text": [
      "... sampling: 700000, 100, 0.0 - auc: 0.6386, aupr: 0.6258\n"
     ]
    },
    {
     "name": "stderr",
     "output_type": "stream",
     "text": [
      "/home/sckim/git_repos/py_auc/py_auc.py:467: UserWarning: Creating legend with loc=\"best\" can be slow with large amounts of data.\n",
      "  plt.savefig(filename, dpi=150)\n"
     ]
    },
    {
     "name": "stdout",
     "output_type": "stream",
     "text": [
      "... sampling: 700000, 100, 1.0 - auc: 0.6385, aupr: 0.6258\n"
     ]
    },
    {
     "name": "stderr",
     "output_type": "stream",
     "text": [
      "/home/sckim/git_repos/py_auc/py_auc.py:467: UserWarning: Creating legend with loc=\"best\" can be slow with large amounts of data.\n",
      "  plt.savefig(filename, dpi=150)\n"
     ]
    },
    {
     "name": "stdout",
     "output_type": "stream",
     "text": [
      "... sampling: 700000, 100, 2.0 - auc: 0.6386, aupr: 0.6258\n"
     ]
    },
    {
     "name": "stderr",
     "output_type": "stream",
     "text": [
      "/home/sckim/git_repos/py_auc/py_auc.py:467: UserWarning: Creating legend with loc=\"best\" can be slow with large amounts of data.\n",
      "  plt.savefig(filename, dpi=150)\n"
     ]
    },
    {
     "name": "stdout",
     "output_type": "stream",
     "text": [
      "... sampling: 700000, 100, 3.0 - auc: 0.6385, aupr: 0.6257\n"
     ]
    },
    {
     "name": "stderr",
     "output_type": "stream",
     "text": [
      "/home/sckim/git_repos/py_auc/py_auc.py:467: UserWarning: Creating legend with loc=\"best\" can be slow with large amounts of data.\n",
      "  plt.savefig(filename, dpi=150)\n"
     ]
    },
    {
     "name": "stdout",
     "output_type": "stream",
     "text": [
      "... sampling: 700000, 100, 4.0 - auc: 0.6385, aupr: 0.6258\n"
     ]
    },
    {
     "name": "stderr",
     "output_type": "stream",
     "text": [
      "/home/sckim/git_repos/py_auc/py_auc.py:467: UserWarning: Creating legend with loc=\"best\" can be slow with large amounts of data.\n",
      "  plt.savefig(filename, dpi=150)\n"
     ]
    },
    {
     "name": "stdout",
     "output_type": "stream",
     "text": [
      "... sampling: 700000, 300, 0.0 - auc: 0.6386, aupr: 0.6258\n"
     ]
    },
    {
     "name": "stderr",
     "output_type": "stream",
     "text": [
      "/home/sckim/git_repos/py_auc/py_auc.py:467: UserWarning: Creating legend with loc=\"best\" can be slow with large amounts of data.\n",
      "  plt.savefig(filename, dpi=150)\n"
     ]
    },
    {
     "name": "stdout",
     "output_type": "stream",
     "text": [
      "... sampling: 700000, 300, 1.0 - auc: 0.6385, aupr: 0.6257\n"
     ]
    },
    {
     "name": "stderr",
     "output_type": "stream",
     "text": [
      "/home/sckim/git_repos/py_auc/py_auc.py:467: UserWarning: Creating legend with loc=\"best\" can be slow with large amounts of data.\n",
      "  plt.savefig(filename, dpi=150)\n"
     ]
    },
    {
     "name": "stdout",
     "output_type": "stream",
     "text": [
      "... sampling: 700000, 300, 2.0 - auc: 0.6385, aupr: 0.6257\n"
     ]
    },
    {
     "name": "stderr",
     "output_type": "stream",
     "text": [
      "/home/sckim/git_repos/py_auc/py_auc.py:467: UserWarning: Creating legend with loc=\"best\" can be slow with large amounts of data.\n",
      "  plt.savefig(filename, dpi=150)\n"
     ]
    },
    {
     "name": "stdout",
     "output_type": "stream",
     "text": [
      "... sampling: 700000, 300, 3.0 - auc: 0.6385, aupr: 0.6257\n"
     ]
    },
    {
     "name": "stderr",
     "output_type": "stream",
     "text": [
      "/home/sckim/git_repos/py_auc/py_auc.py:467: UserWarning: Creating legend with loc=\"best\" can be slow with large amounts of data.\n",
      "  plt.savefig(filename, dpi=150)\n"
     ]
    },
    {
     "name": "stdout",
     "output_type": "stream",
     "text": [
      "... sampling: 700000, 300, 4.0 - auc: 0.6385, aupr: 0.6257\n"
     ]
    },
    {
     "name": "stderr",
     "output_type": "stream",
     "text": [
      "/home/sckim/git_repos/py_auc/py_auc.py:467: UserWarning: Creating legend with loc=\"best\" can be slow with large amounts of data.\n",
      "  plt.savefig(filename, dpi=150)\n"
     ]
    },
    {
     "name": "stdout",
     "output_type": "stream",
     "text": [
      "... sampling: 700000, 500, 0.0 - auc: 0.6385, aupr: 0.6257\n"
     ]
    },
    {
     "name": "stderr",
     "output_type": "stream",
     "text": [
      "/home/sckim/git_repos/py_auc/py_auc.py:467: UserWarning: Creating legend with loc=\"best\" can be slow with large amounts of data.\n",
      "  plt.savefig(filename, dpi=150)\n"
     ]
    },
    {
     "name": "stdout",
     "output_type": "stream",
     "text": [
      "... sampling: 700000, 500, 1.0 - auc: 0.6385, aupr: 0.6257\n"
     ]
    },
    {
     "name": "stderr",
     "output_type": "stream",
     "text": [
      "/home/sckim/git_repos/py_auc/py_auc.py:467: UserWarning: Creating legend with loc=\"best\" can be slow with large amounts of data.\n",
      "  plt.savefig(filename, dpi=150)\n"
     ]
    },
    {
     "name": "stdout",
     "output_type": "stream",
     "text": [
      "... sampling: 700000, 500, 2.0 - auc: 0.6385, aupr: 0.6258\n"
     ]
    },
    {
     "name": "stderr",
     "output_type": "stream",
     "text": [
      "/home/sckim/git_repos/py_auc/py_auc.py:467: UserWarning: Creating legend with loc=\"best\" can be slow with large amounts of data.\n",
      "  plt.savefig(filename, dpi=150)\n"
     ]
    },
    {
     "name": "stdout",
     "output_type": "stream",
     "text": [
      "... sampling: 700000, 500, 3.0 - auc: 0.6385, aupr: 0.6257\n"
     ]
    },
    {
     "name": "stderr",
     "output_type": "stream",
     "text": [
      "/home/sckim/git_repos/py_auc/py_auc.py:467: UserWarning: Creating legend with loc=\"best\" can be slow with large amounts of data.\n",
      "  plt.savefig(filename, dpi=150)\n"
     ]
    },
    {
     "name": "stdout",
     "output_type": "stream",
     "text": [
      "... sampling: 700000, 500, 4.0 - auc: 0.6385, aupr: 0.6258\n",
      "... summary index: 1650 - n:1000000, rho:0.5, mu1:3.0\n",
      "... calculate auc: 0.8547, 0.8547, aupr: 0.8529, 0.8529\n",
      "... sampling: 100000, 100, 0.0 - auc: 0.8547, aupr: 0.8528\n",
      "... sampling: 100000, 100, 1.0 - auc: 0.8547, aupr: 0.8529\n",
      "... sampling: 100000, 100, 2.0 - auc: 0.8547, aupr: 0.8528\n",
      "... sampling: 100000, 100, 3.0 - auc: 0.8549, aupr: 0.8530\n",
      "... sampling: 100000, 100, 4.0 - auc: 0.8549, aupr: 0.8530\n",
      "... sampling: 100000, 300, 0.0 - auc: 0.8548, aupr: 0.8531\n",
      "... sampling: 100000, 300, 1.0 - auc: 0.8547, aupr: 0.8530\n",
      "... sampling: 100000, 300, 2.0 - auc: 0.8547, aupr: 0.8528\n",
      "... sampling: 100000, 300, 3.0 - auc: 0.8547, aupr: 0.8528\n",
      "... sampling: 100000, 300, 4.0 - auc: 0.8548, aupr: 0.8530\n",
      "... sampling: 100000, 500, 0.0 - auc: 0.8547, aupr: 0.8529\n",
      "... sampling: 100000, 500, 1.0 - auc: 0.8547, aupr: 0.8529\n",
      "... sampling: 100000, 500, 2.0 - auc: 0.8548, aupr: 0.8529\n",
      "... sampling: 100000, 500, 3.0 - auc: 0.8547, aupr: 0.8529\n",
      "... sampling: 100000, 500, 4.0 - auc: 0.8547, aupr: 0.8528\n",
      "... sampling: 200000, 100, 0.0 - auc: 0.8547, aupr: 0.8529\n",
      "... sampling: 200000, 100, 1.0 - auc: 0.8547, aupr: 0.8529\n",
      "... sampling: 200000, 100, 2.0 - auc: 0.8548, aupr: 0.8529\n",
      "... sampling: 200000, 100, 3.0 - auc: 0.8547, aupr: 0.8528\n",
      "... sampling: 200000, 100, 4.0 - auc: 0.8548, aupr: 0.8530\n",
      "... sampling: 200000, 300, 0.0 - auc: 0.8548, aupr: 0.8529\n",
      "... sampling: 200000, 300, 1.0 - auc: 0.8548, aupr: 0.8529\n",
      "... sampling: 200000, 300, 2.0 - auc: 0.8548, aupr: 0.8530\n",
      "... sampling: 200000, 300, 3.0 - auc: 0.8548, aupr: 0.8529\n",
      "... sampling: 200000, 300, 4.0 - auc: 0.8547, aupr: 0.8529\n",
      "... sampling: 200000, 500, 0.0 - auc: 0.8548, aupr: 0.8529\n",
      "... sampling: 200000, 500, 1.0 - auc: 0.8548, aupr: 0.8529\n",
      "... sampling: 200000, 500, 2.0 - auc: 0.8548, aupr: 0.8529\n",
      "... sampling: 200000, 500, 3.0 - auc: 0.8547, aupr: 0.8529\n",
      "... sampling: 200000, 500, 4.0 - auc: 0.8547, aupr: 0.8528\n"
     ]
    },
    {
     "name": "stderr",
     "output_type": "stream",
     "text": [
      "/home/sckim/git_repos/py_auc/py_auc.py:467: UserWarning: Creating legend with loc=\"best\" can be slow with large amounts of data.\n",
      "  plt.savefig(filename, dpi=150)\n",
      "/home/sckim/git_repos/py_auc/py_auc.py:467: UserWarning: Creating legend with loc=\"best\" can be slow with large amounts of data.\n",
      "  plt.savefig(filename, dpi=150)\n"
     ]
    },
    {
     "name": "stdout",
     "output_type": "stream",
     "text": [
      "... sampling: 300000, 100, 0.0 - auc: 0.8549, aupr: 0.8531\n"
     ]
    },
    {
     "name": "stderr",
     "output_type": "stream",
     "text": [
      "/home/sckim/git_repos/py_auc/py_auc.py:467: UserWarning: Creating legend with loc=\"best\" can be slow with large amounts of data.\n",
      "  plt.savefig(filename, dpi=150)\n"
     ]
    },
    {
     "name": "stdout",
     "output_type": "stream",
     "text": [
      "... sampling: 300000, 100, 1.0 - auc: 0.8547, aupr: 0.8529\n"
     ]
    },
    {
     "name": "stderr",
     "output_type": "stream",
     "text": [
      "/home/sckim/git_repos/py_auc/py_auc.py:467: UserWarning: Creating legend with loc=\"best\" can be slow with large amounts of data.\n",
      "  plt.savefig(filename, dpi=150)\n"
     ]
    },
    {
     "name": "stdout",
     "output_type": "stream",
     "text": [
      "... sampling: 300000, 100, 2.0 - auc: 0.8547, aupr: 0.8529\n"
     ]
    },
    {
     "name": "stderr",
     "output_type": "stream",
     "text": [
      "/home/sckim/git_repos/py_auc/py_auc.py:467: UserWarning: Creating legend with loc=\"best\" can be slow with large amounts of data.\n",
      "  plt.savefig(filename, dpi=150)\n"
     ]
    },
    {
     "name": "stdout",
     "output_type": "stream",
     "text": [
      "... sampling: 300000, 100, 3.0 - auc: 0.8547, aupr: 0.8529\n"
     ]
    },
    {
     "name": "stderr",
     "output_type": "stream",
     "text": [
      "/home/sckim/git_repos/py_auc/py_auc.py:467: UserWarning: Creating legend with loc=\"best\" can be slow with large amounts of data.\n",
      "  plt.savefig(filename, dpi=150)\n"
     ]
    },
    {
     "name": "stdout",
     "output_type": "stream",
     "text": [
      "... sampling: 300000, 100, 4.0 - auc: 0.8548, aupr: 0.8529\n"
     ]
    },
    {
     "name": "stderr",
     "output_type": "stream",
     "text": [
      "/home/sckim/git_repos/py_auc/py_auc.py:467: UserWarning: Creating legend with loc=\"best\" can be slow with large amounts of data.\n",
      "  plt.savefig(filename, dpi=150)\n"
     ]
    },
    {
     "name": "stdout",
     "output_type": "stream",
     "text": [
      "... sampling: 300000, 300, 0.0 - auc: 0.8547, aupr: 0.8529\n"
     ]
    },
    {
     "name": "stderr",
     "output_type": "stream",
     "text": [
      "/home/sckim/git_repos/py_auc/py_auc.py:467: UserWarning: Creating legend with loc=\"best\" can be slow with large amounts of data.\n",
      "  plt.savefig(filename, dpi=150)\n"
     ]
    },
    {
     "name": "stdout",
     "output_type": "stream",
     "text": [
      "... sampling: 300000, 300, 1.0 - auc: 0.8547, aupr: 0.8529\n"
     ]
    },
    {
     "name": "stderr",
     "output_type": "stream",
     "text": [
      "/home/sckim/git_repos/py_auc/py_auc.py:467: UserWarning: Creating legend with loc=\"best\" can be slow with large amounts of data.\n",
      "  plt.savefig(filename, dpi=150)\n"
     ]
    },
    {
     "name": "stdout",
     "output_type": "stream",
     "text": [
      "... sampling: 300000, 300, 2.0 - auc: 0.8547, aupr: 0.8529\n"
     ]
    },
    {
     "name": "stderr",
     "output_type": "stream",
     "text": [
      "/home/sckim/git_repos/py_auc/py_auc.py:467: UserWarning: Creating legend with loc=\"best\" can be slow with large amounts of data.\n",
      "  plt.savefig(filename, dpi=150)\n"
     ]
    },
    {
     "name": "stdout",
     "output_type": "stream",
     "text": [
      "... sampling: 300000, 300, 3.0 - auc: 0.8548, aupr: 0.8529\n"
     ]
    },
    {
     "name": "stderr",
     "output_type": "stream",
     "text": [
      "/home/sckim/git_repos/py_auc/py_auc.py:467: UserWarning: Creating legend with loc=\"best\" can be slow with large amounts of data.\n",
      "  plt.savefig(filename, dpi=150)\n"
     ]
    },
    {
     "name": "stdout",
     "output_type": "stream",
     "text": [
      "... sampling: 300000, 300, 4.0 - auc: 0.8547, aupr: 0.8528\n"
     ]
    },
    {
     "name": "stderr",
     "output_type": "stream",
     "text": [
      "/home/sckim/git_repos/py_auc/py_auc.py:467: UserWarning: Creating legend with loc=\"best\" can be slow with large amounts of data.\n",
      "  plt.savefig(filename, dpi=150)\n"
     ]
    },
    {
     "name": "stdout",
     "output_type": "stream",
     "text": [
      "... sampling: 300000, 500, 0.0 - auc: 0.8547, aupr: 0.8528\n"
     ]
    },
    {
     "name": "stderr",
     "output_type": "stream",
     "text": [
      "/home/sckim/git_repos/py_auc/py_auc.py:467: UserWarning: Creating legend with loc=\"best\" can be slow with large amounts of data.\n",
      "  plt.savefig(filename, dpi=150)\n"
     ]
    },
    {
     "name": "stdout",
     "output_type": "stream",
     "text": [
      "... sampling: 300000, 500, 1.0 - auc: 0.8548, aupr: 0.8529\n"
     ]
    },
    {
     "name": "stderr",
     "output_type": "stream",
     "text": [
      "/home/sckim/git_repos/py_auc/py_auc.py:467: UserWarning: Creating legend with loc=\"best\" can be slow with large amounts of data.\n",
      "  plt.savefig(filename, dpi=150)\n"
     ]
    },
    {
     "name": "stdout",
     "output_type": "stream",
     "text": [
      "... sampling: 300000, 500, 2.0 - auc: 0.8547, aupr: 0.8529\n"
     ]
    },
    {
     "name": "stderr",
     "output_type": "stream",
     "text": [
      "/home/sckim/git_repos/py_auc/py_auc.py:467: UserWarning: Creating legend with loc=\"best\" can be slow with large amounts of data.\n",
      "  plt.savefig(filename, dpi=150)\n"
     ]
    },
    {
     "name": "stdout",
     "output_type": "stream",
     "text": [
      "... sampling: 300000, 500, 3.0 - auc: 0.8548, aupr: 0.8529\n"
     ]
    },
    {
     "name": "stderr",
     "output_type": "stream",
     "text": [
      "/home/sckim/git_repos/py_auc/py_auc.py:467: UserWarning: Creating legend with loc=\"best\" can be slow with large amounts of data.\n",
      "  plt.savefig(filename, dpi=150)\n"
     ]
    },
    {
     "name": "stdout",
     "output_type": "stream",
     "text": [
      "... sampling: 300000, 500, 4.0 - auc: 0.8547, aupr: 0.8529\n"
     ]
    },
    {
     "name": "stderr",
     "output_type": "stream",
     "text": [
      "/home/sckim/git_repos/py_auc/py_auc.py:467: UserWarning: Creating legend with loc=\"best\" can be slow with large amounts of data.\n",
      "  plt.savefig(filename, dpi=150)\n"
     ]
    },
    {
     "name": "stdout",
     "output_type": "stream",
     "text": [
      "... sampling: 500000, 100, 0.0 - auc: 0.8548, aupr: 0.8529\n"
     ]
    },
    {
     "name": "stderr",
     "output_type": "stream",
     "text": [
      "/home/sckim/git_repos/py_auc/py_auc.py:467: UserWarning: Creating legend with loc=\"best\" can be slow with large amounts of data.\n",
      "  plt.savefig(filename, dpi=150)\n"
     ]
    },
    {
     "name": "stdout",
     "output_type": "stream",
     "text": [
      "... sampling: 500000, 100, 1.0 - auc: 0.8548, aupr: 0.8529\n"
     ]
    },
    {
     "name": "stderr",
     "output_type": "stream",
     "text": [
      "/home/sckim/git_repos/py_auc/py_auc.py:467: UserWarning: Creating legend with loc=\"best\" can be slow with large amounts of data.\n",
      "  plt.savefig(filename, dpi=150)\n"
     ]
    },
    {
     "name": "stdout",
     "output_type": "stream",
     "text": [
      "... sampling: 500000, 100, 2.0 - auc: 0.8547, aupr: 0.8528\n"
     ]
    },
    {
     "name": "stderr",
     "output_type": "stream",
     "text": [
      "/home/sckim/git_repos/py_auc/py_auc.py:467: UserWarning: Creating legend with loc=\"best\" can be slow with large amounts of data.\n",
      "  plt.savefig(filename, dpi=150)\n"
     ]
    },
    {
     "name": "stdout",
     "output_type": "stream",
     "text": [
      "... sampling: 500000, 100, 3.0 - auc: 0.8548, aupr: 0.8529\n"
     ]
    },
    {
     "name": "stderr",
     "output_type": "stream",
     "text": [
      "/home/sckim/git_repos/py_auc/py_auc.py:467: UserWarning: Creating legend with loc=\"best\" can be slow with large amounts of data.\n",
      "  plt.savefig(filename, dpi=150)\n"
     ]
    },
    {
     "name": "stdout",
     "output_type": "stream",
     "text": [
      "... sampling: 500000, 100, 4.0 - auc: 0.8547, aupr: 0.8529\n"
     ]
    },
    {
     "name": "stderr",
     "output_type": "stream",
     "text": [
      "/home/sckim/git_repos/py_auc/py_auc.py:467: UserWarning: Creating legend with loc=\"best\" can be slow with large amounts of data.\n",
      "  plt.savefig(filename, dpi=150)\n"
     ]
    },
    {
     "name": "stdout",
     "output_type": "stream",
     "text": [
      "... sampling: 500000, 300, 0.0 - auc: 0.8548, aupr: 0.8529\n"
     ]
    },
    {
     "name": "stderr",
     "output_type": "stream",
     "text": [
      "/home/sckim/git_repos/py_auc/py_auc.py:467: UserWarning: Creating legend with loc=\"best\" can be slow with large amounts of data.\n",
      "  plt.savefig(filename, dpi=150)\n"
     ]
    },
    {
     "name": "stdout",
     "output_type": "stream",
     "text": [
      "... sampling: 500000, 300, 1.0 - auc: 0.8547, aupr: 0.8529\n"
     ]
    },
    {
     "name": "stderr",
     "output_type": "stream",
     "text": [
      "/home/sckim/git_repos/py_auc/py_auc.py:467: UserWarning: Creating legend with loc=\"best\" can be slow with large amounts of data.\n",
      "  plt.savefig(filename, dpi=150)\n"
     ]
    },
    {
     "name": "stdout",
     "output_type": "stream",
     "text": [
      "... sampling: 500000, 300, 2.0 - auc: 0.8547, aupr: 0.8528\n"
     ]
    },
    {
     "name": "stderr",
     "output_type": "stream",
     "text": [
      "/home/sckim/git_repos/py_auc/py_auc.py:467: UserWarning: Creating legend with loc=\"best\" can be slow with large amounts of data.\n",
      "  plt.savefig(filename, dpi=150)\n"
     ]
    },
    {
     "name": "stdout",
     "output_type": "stream",
     "text": [
      "... sampling: 500000, 300, 3.0 - auc: 0.8547, aupr: 0.8528\n"
     ]
    },
    {
     "name": "stderr",
     "output_type": "stream",
     "text": [
      "/home/sckim/git_repos/py_auc/py_auc.py:467: UserWarning: Creating legend with loc=\"best\" can be slow with large amounts of data.\n",
      "  plt.savefig(filename, dpi=150)\n"
     ]
    },
    {
     "name": "stdout",
     "output_type": "stream",
     "text": [
      "... sampling: 500000, 300, 4.0 - auc: 0.8547, aupr: 0.8529\n"
     ]
    },
    {
     "name": "stderr",
     "output_type": "stream",
     "text": [
      "/home/sckim/git_repos/py_auc/py_auc.py:467: UserWarning: Creating legend with loc=\"best\" can be slow with large amounts of data.\n",
      "  plt.savefig(filename, dpi=150)\n"
     ]
    },
    {
     "name": "stdout",
     "output_type": "stream",
     "text": [
      "... sampling: 500000, 500, 0.0 - auc: 0.8547, aupr: 0.8529\n"
     ]
    },
    {
     "name": "stderr",
     "output_type": "stream",
     "text": [
      "/home/sckim/git_repos/py_auc/py_auc.py:467: UserWarning: Creating legend with loc=\"best\" can be slow with large amounts of data.\n",
      "  plt.savefig(filename, dpi=150)\n"
     ]
    },
    {
     "name": "stdout",
     "output_type": "stream",
     "text": [
      "... sampling: 500000, 500, 1.0 - auc: 0.8548, aupr: 0.8529\n"
     ]
    },
    {
     "name": "stderr",
     "output_type": "stream",
     "text": [
      "/home/sckim/git_repos/py_auc/py_auc.py:467: UserWarning: Creating legend with loc=\"best\" can be slow with large amounts of data.\n",
      "  plt.savefig(filename, dpi=150)\n"
     ]
    },
    {
     "name": "stdout",
     "output_type": "stream",
     "text": [
      "... sampling: 500000, 500, 2.0 - auc: 0.8547, aupr: 0.8529\n"
     ]
    },
    {
     "name": "stderr",
     "output_type": "stream",
     "text": [
      "/home/sckim/git_repos/py_auc/py_auc.py:467: UserWarning: Creating legend with loc=\"best\" can be slow with large amounts of data.\n",
      "  plt.savefig(filename, dpi=150)\n"
     ]
    },
    {
     "name": "stdout",
     "output_type": "stream",
     "text": [
      "... sampling: 500000, 500, 3.0 - auc: 0.8548, aupr: 0.8529\n"
     ]
    },
    {
     "name": "stderr",
     "output_type": "stream",
     "text": [
      "/home/sckim/git_repos/py_auc/py_auc.py:467: UserWarning: Creating legend with loc=\"best\" can be slow with large amounts of data.\n",
      "  plt.savefig(filename, dpi=150)\n"
     ]
    },
    {
     "name": "stdout",
     "output_type": "stream",
     "text": [
      "... sampling: 500000, 500, 4.0 - auc: 0.8547, aupr: 0.8529\n"
     ]
    },
    {
     "name": "stderr",
     "output_type": "stream",
     "text": [
      "/home/sckim/git_repos/py_auc/py_auc.py:467: UserWarning: Creating legend with loc=\"best\" can be slow with large amounts of data.\n",
      "  plt.savefig(filename, dpi=150)\n"
     ]
    },
    {
     "name": "stdout",
     "output_type": "stream",
     "text": [
      "... sampling: 700000, 100, 0.0 - auc: 0.8547, aupr: 0.8529\n"
     ]
    },
    {
     "name": "stderr",
     "output_type": "stream",
     "text": [
      "/home/sckim/git_repos/py_auc/py_auc.py:467: UserWarning: Creating legend with loc=\"best\" can be slow with large amounts of data.\n",
      "  plt.savefig(filename, dpi=150)\n"
     ]
    },
    {
     "name": "stdout",
     "output_type": "stream",
     "text": [
      "... sampling: 700000, 100, 1.0 - auc: 0.8547, aupr: 0.8529\n"
     ]
    },
    {
     "name": "stderr",
     "output_type": "stream",
     "text": [
      "/home/sckim/git_repos/py_auc/py_auc.py:467: UserWarning: Creating legend with loc=\"best\" can be slow with large amounts of data.\n",
      "  plt.savefig(filename, dpi=150)\n"
     ]
    },
    {
     "name": "stdout",
     "output_type": "stream",
     "text": [
      "... sampling: 700000, 100, 2.0 - auc: 0.8548, aupr: 0.8529\n"
     ]
    },
    {
     "name": "stderr",
     "output_type": "stream",
     "text": [
      "/home/sckim/git_repos/py_auc/py_auc.py:467: UserWarning: Creating legend with loc=\"best\" can be slow with large amounts of data.\n",
      "  plt.savefig(filename, dpi=150)\n"
     ]
    },
    {
     "name": "stdout",
     "output_type": "stream",
     "text": [
      "... sampling: 700000, 100, 3.0 - auc: 0.8547, aupr: 0.8529\n"
     ]
    },
    {
     "name": "stderr",
     "output_type": "stream",
     "text": [
      "/home/sckim/git_repos/py_auc/py_auc.py:467: UserWarning: Creating legend with loc=\"best\" can be slow with large amounts of data.\n",
      "  plt.savefig(filename, dpi=150)\n"
     ]
    },
    {
     "name": "stdout",
     "output_type": "stream",
     "text": [
      "... sampling: 700000, 100, 4.0 - auc: 0.8547, aupr: 0.8529\n"
     ]
    },
    {
     "name": "stderr",
     "output_type": "stream",
     "text": [
      "/home/sckim/git_repos/py_auc/py_auc.py:467: UserWarning: Creating legend with loc=\"best\" can be slow with large amounts of data.\n",
      "  plt.savefig(filename, dpi=150)\n"
     ]
    },
    {
     "name": "stdout",
     "output_type": "stream",
     "text": [
      "... sampling: 700000, 300, 0.0 - auc: 0.8547, aupr: 0.8529\n"
     ]
    },
    {
     "name": "stderr",
     "output_type": "stream",
     "text": [
      "/home/sckim/git_repos/py_auc/py_auc.py:467: UserWarning: Creating legend with loc=\"best\" can be slow with large amounts of data.\n",
      "  plt.savefig(filename, dpi=150)\n"
     ]
    },
    {
     "name": "stdout",
     "output_type": "stream",
     "text": [
      "... sampling: 700000, 300, 1.0 - auc: 0.8547, aupr: 0.8529\n"
     ]
    },
    {
     "name": "stderr",
     "output_type": "stream",
     "text": [
      "/home/sckim/git_repos/py_auc/py_auc.py:467: UserWarning: Creating legend with loc=\"best\" can be slow with large amounts of data.\n",
      "  plt.savefig(filename, dpi=150)\n"
     ]
    },
    {
     "name": "stdout",
     "output_type": "stream",
     "text": [
      "... sampling: 700000, 300, 2.0 - auc: 0.8547, aupr: 0.8529\n"
     ]
    },
    {
     "name": "stderr",
     "output_type": "stream",
     "text": [
      "/home/sckim/git_repos/py_auc/py_auc.py:467: UserWarning: Creating legend with loc=\"best\" can be slow with large amounts of data.\n",
      "  plt.savefig(filename, dpi=150)\n"
     ]
    },
    {
     "name": "stdout",
     "output_type": "stream",
     "text": [
      "... sampling: 700000, 300, 3.0 - auc: 0.8547, aupr: 0.8529\n"
     ]
    },
    {
     "name": "stderr",
     "output_type": "stream",
     "text": [
      "/home/sckim/git_repos/py_auc/py_auc.py:467: UserWarning: Creating legend with loc=\"best\" can be slow with large amounts of data.\n",
      "  plt.savefig(filename, dpi=150)\n"
     ]
    },
    {
     "name": "stdout",
     "output_type": "stream",
     "text": [
      "... sampling: 700000, 300, 4.0 - auc: 0.8547, aupr: 0.8529\n"
     ]
    },
    {
     "name": "stderr",
     "output_type": "stream",
     "text": [
      "/home/sckim/git_repos/py_auc/py_auc.py:467: UserWarning: Creating legend with loc=\"best\" can be slow with large amounts of data.\n",
      "  plt.savefig(filename, dpi=150)\n"
     ]
    },
    {
     "name": "stdout",
     "output_type": "stream",
     "text": [
      "... sampling: 700000, 500, 0.0 - auc: 0.8547, aupr: 0.8529\n"
     ]
    },
    {
     "name": "stderr",
     "output_type": "stream",
     "text": [
      "/home/sckim/git_repos/py_auc/py_auc.py:467: UserWarning: Creating legend with loc=\"best\" can be slow with large amounts of data.\n",
      "  plt.savefig(filename, dpi=150)\n"
     ]
    },
    {
     "name": "stdout",
     "output_type": "stream",
     "text": [
      "... sampling: 700000, 500, 1.0 - auc: 0.8547, aupr: 0.8529\n"
     ]
    },
    {
     "name": "stderr",
     "output_type": "stream",
     "text": [
      "/home/sckim/git_repos/py_auc/py_auc.py:467: UserWarning: Creating legend with loc=\"best\" can be slow with large amounts of data.\n",
      "  plt.savefig(filename, dpi=150)\n"
     ]
    },
    {
     "name": "stdout",
     "output_type": "stream",
     "text": [
      "... sampling: 700000, 500, 2.0 - auc: 0.8548, aupr: 0.8529\n"
     ]
    },
    {
     "name": "stderr",
     "output_type": "stream",
     "text": [
      "/home/sckim/git_repos/py_auc/py_auc.py:467: UserWarning: Creating legend with loc=\"best\" can be slow with large amounts of data.\n",
      "  plt.savefig(filename, dpi=150)\n"
     ]
    },
    {
     "name": "stdout",
     "output_type": "stream",
     "text": [
      "... sampling: 700000, 500, 3.0 - auc: 0.8547, aupr: 0.8529\n"
     ]
    },
    {
     "name": "stderr",
     "output_type": "stream",
     "text": [
      "/home/sckim/git_repos/py_auc/py_auc.py:467: UserWarning: Creating legend with loc=\"best\" can be slow with large amounts of data.\n",
      "  plt.savefig(filename, dpi=150)\n"
     ]
    },
    {
     "name": "stdout",
     "output_type": "stream",
     "text": [
      "... sampling: 700000, 500, 4.0 - auc: 0.8547, aupr: 0.8529\n",
      "... summary index: 1725 - n:1000000, rho:0.5, mu1:5.0\n",
      "... calculate auc: 0.9615, 0.9615, aupr: 0.9622, 0.9622\n",
      "... sampling: 100000, 100, 0.0 - auc: 0.9616, aupr: 0.9622\n",
      "... sampling: 100000, 100, 1.0 - auc: 0.9616, aupr: 0.9622\n",
      "... sampling: 100000, 100, 2.0 - auc: 0.9615, aupr: 0.9621\n",
      "... sampling: 100000, 100, 3.0 - auc: 0.9616, aupr: 0.9622\n",
      "... sampling: 100000, 100, 4.0 - auc: 0.9616, aupr: 0.9622\n",
      "... sampling: 100000, 300, 0.0 - auc: 0.9615, aupr: 0.9622\n",
      "... sampling: 100000, 300, 1.0 - auc: 0.9615, aupr: 0.9622\n",
      "... sampling: 100000, 300, 2.0 - auc: 0.9615, aupr: 0.9622\n",
      "... sampling: 100000, 300, 3.0 - auc: 0.9615, aupr: 0.9622\n",
      "... sampling: 100000, 300, 4.0 - auc: 0.9615, aupr: 0.9622\n",
      "... sampling: 100000, 500, 0.0 - auc: 0.9615, aupr: 0.9622\n",
      "... sampling: 100000, 500, 1.0 - auc: 0.9615, aupr: 0.9622\n",
      "... sampling: 100000, 500, 2.0 - auc: 0.9615, aupr: 0.9621\n",
      "... sampling: 100000, 500, 3.0 - auc: 0.9615, aupr: 0.9622\n",
      "... sampling: 100000, 500, 4.0 - auc: 0.9615, aupr: 0.9622\n",
      "... sampling: 200000, 100, 0.0 - auc: 0.9615, aupr: 0.9621\n",
      "... sampling: 200000, 100, 1.0 - auc: 0.9615, aupr: 0.9621\n",
      "... sampling: 200000, 100, 2.0 - auc: 0.9615, aupr: 0.9621\n",
      "... sampling: 200000, 100, 3.0 - auc: 0.9615, aupr: 0.9622\n",
      "... sampling: 200000, 100, 4.0 - auc: 0.9615, aupr: 0.9621\n",
      "... sampling: 200000, 300, 0.0 - auc: 0.9615, aupr: 0.9622\n",
      "... sampling: 200000, 300, 1.0 - auc: 0.9615, aupr: 0.9622\n",
      "... sampling: 200000, 300, 2.0 - auc: 0.9616, aupr: 0.9622\n",
      "... sampling: 200000, 300, 3.0 - auc: 0.9615, aupr: 0.9622\n",
      "... sampling: 200000, 300, 4.0 - auc: 0.9615, aupr: 0.9622\n",
      "... sampling: 200000, 500, 0.0 - auc: 0.9615, aupr: 0.9622\n",
      "... sampling: 200000, 500, 1.0 - auc: 0.9615, aupr: 0.9622\n",
      "... sampling: 200000, 500, 2.0 - auc: 0.9615, aupr: 0.9622\n",
      "... sampling: 200000, 500, 3.0 - auc: 0.9615, aupr: 0.9622\n",
      "... sampling: 200000, 500, 4.0 - auc: 0.9615, aupr: 0.9622\n"
     ]
    },
    {
     "name": "stderr",
     "output_type": "stream",
     "text": [
      "/home/sckim/git_repos/py_auc/py_auc.py:467: UserWarning: Creating legend with loc=\"best\" can be slow with large amounts of data.\n",
      "  plt.savefig(filename, dpi=150)\n",
      "/home/sckim/git_repos/py_auc/py_auc.py:467: UserWarning: Creating legend with loc=\"best\" can be slow with large amounts of data.\n",
      "  plt.savefig(filename, dpi=150)\n"
     ]
    },
    {
     "name": "stdout",
     "output_type": "stream",
     "text": [
      "... sampling: 300000, 100, 0.0 - auc: 0.9615, aupr: 0.9622\n"
     ]
    },
    {
     "name": "stderr",
     "output_type": "stream",
     "text": [
      "/home/sckim/git_repos/py_auc/py_auc.py:467: UserWarning: Creating legend with loc=\"best\" can be slow with large amounts of data.\n",
      "  plt.savefig(filename, dpi=150)\n"
     ]
    },
    {
     "name": "stdout",
     "output_type": "stream",
     "text": [
      "... sampling: 300000, 100, 1.0 - auc: 0.9615, aupr: 0.9622\n"
     ]
    },
    {
     "name": "stderr",
     "output_type": "stream",
     "text": [
      "/home/sckim/git_repos/py_auc/py_auc.py:467: UserWarning: Creating legend with loc=\"best\" can be slow with large amounts of data.\n",
      "  plt.savefig(filename, dpi=150)\n"
     ]
    },
    {
     "name": "stdout",
     "output_type": "stream",
     "text": [
      "... sampling: 300000, 100, 2.0 - auc: 0.9615, aupr: 0.9622\n"
     ]
    },
    {
     "name": "stderr",
     "output_type": "stream",
     "text": [
      "/home/sckim/git_repos/py_auc/py_auc.py:467: UserWarning: Creating legend with loc=\"best\" can be slow with large amounts of data.\n",
      "  plt.savefig(filename, dpi=150)\n"
     ]
    },
    {
     "name": "stdout",
     "output_type": "stream",
     "text": [
      "... sampling: 300000, 100, 3.0 - auc: 0.9615, aupr: 0.9621\n"
     ]
    },
    {
     "name": "stderr",
     "output_type": "stream",
     "text": [
      "/home/sckim/git_repos/py_auc/py_auc.py:467: UserWarning: Creating legend with loc=\"best\" can be slow with large amounts of data.\n",
      "  plt.savefig(filename, dpi=150)\n"
     ]
    },
    {
     "name": "stdout",
     "output_type": "stream",
     "text": [
      "... sampling: 300000, 100, 4.0 - auc: 0.9615, aupr: 0.9622\n"
     ]
    },
    {
     "name": "stderr",
     "output_type": "stream",
     "text": [
      "/home/sckim/git_repos/py_auc/py_auc.py:467: UserWarning: Creating legend with loc=\"best\" can be slow with large amounts of data.\n",
      "  plt.savefig(filename, dpi=150)\n"
     ]
    },
    {
     "name": "stdout",
     "output_type": "stream",
     "text": [
      "... sampling: 300000, 300, 0.0 - auc: 0.9615, aupr: 0.9622\n"
     ]
    },
    {
     "name": "stderr",
     "output_type": "stream",
     "text": [
      "/home/sckim/git_repos/py_auc/py_auc.py:467: UserWarning: Creating legend with loc=\"best\" can be slow with large amounts of data.\n",
      "  plt.savefig(filename, dpi=150)\n"
     ]
    },
    {
     "name": "stdout",
     "output_type": "stream",
     "text": [
      "... sampling: 300000, 300, 1.0 - auc: 0.9615, aupr: 0.9622\n"
     ]
    },
    {
     "name": "stderr",
     "output_type": "stream",
     "text": [
      "/home/sckim/git_repos/py_auc/py_auc.py:467: UserWarning: Creating legend with loc=\"best\" can be slow with large amounts of data.\n",
      "  plt.savefig(filename, dpi=150)\n"
     ]
    },
    {
     "name": "stdout",
     "output_type": "stream",
     "text": [
      "... sampling: 300000, 300, 2.0 - auc: 0.9615, aupr: 0.9621\n"
     ]
    },
    {
     "name": "stderr",
     "output_type": "stream",
     "text": [
      "/home/sckim/git_repos/py_auc/py_auc.py:467: UserWarning: Creating legend with loc=\"best\" can be slow with large amounts of data.\n",
      "  plt.savefig(filename, dpi=150)\n"
     ]
    },
    {
     "name": "stdout",
     "output_type": "stream",
     "text": [
      "... sampling: 300000, 300, 3.0 - auc: 0.9615, aupr: 0.9622\n"
     ]
    },
    {
     "name": "stderr",
     "output_type": "stream",
     "text": [
      "/home/sckim/git_repos/py_auc/py_auc.py:467: UserWarning: Creating legend with loc=\"best\" can be slow with large amounts of data.\n",
      "  plt.savefig(filename, dpi=150)\n"
     ]
    },
    {
     "name": "stdout",
     "output_type": "stream",
     "text": [
      "... sampling: 300000, 300, 4.0 - auc: 0.9615, aupr: 0.9622\n"
     ]
    },
    {
     "name": "stderr",
     "output_type": "stream",
     "text": [
      "/home/sckim/git_repos/py_auc/py_auc.py:467: UserWarning: Creating legend with loc=\"best\" can be slow with large amounts of data.\n",
      "  plt.savefig(filename, dpi=150)\n"
     ]
    },
    {
     "name": "stdout",
     "output_type": "stream",
     "text": [
      "... sampling: 300000, 500, 0.0 - auc: 0.9615, aupr: 0.9622\n"
     ]
    },
    {
     "name": "stderr",
     "output_type": "stream",
     "text": [
      "/home/sckim/git_repos/py_auc/py_auc.py:467: UserWarning: Creating legend with loc=\"best\" can be slow with large amounts of data.\n",
      "  plt.savefig(filename, dpi=150)\n"
     ]
    },
    {
     "name": "stdout",
     "output_type": "stream",
     "text": [
      "... sampling: 300000, 500, 1.0 - auc: 0.9615, aupr: 0.9622\n"
     ]
    },
    {
     "name": "stderr",
     "output_type": "stream",
     "text": [
      "/home/sckim/git_repos/py_auc/py_auc.py:467: UserWarning: Creating legend with loc=\"best\" can be slow with large amounts of data.\n",
      "  plt.savefig(filename, dpi=150)\n"
     ]
    },
    {
     "name": "stdout",
     "output_type": "stream",
     "text": [
      "... sampling: 300000, 500, 2.0 - auc: 0.9615, aupr: 0.9621\n"
     ]
    },
    {
     "name": "stderr",
     "output_type": "stream",
     "text": [
      "/home/sckim/git_repos/py_auc/py_auc.py:467: UserWarning: Creating legend with loc=\"best\" can be slow with large amounts of data.\n",
      "  plt.savefig(filename, dpi=150)\n"
     ]
    },
    {
     "name": "stdout",
     "output_type": "stream",
     "text": [
      "... sampling: 300000, 500, 3.0 - auc: 0.9615, aupr: 0.9621\n"
     ]
    },
    {
     "name": "stderr",
     "output_type": "stream",
     "text": [
      "/home/sckim/git_repos/py_auc/py_auc.py:467: UserWarning: Creating legend with loc=\"best\" can be slow with large amounts of data.\n",
      "  plt.savefig(filename, dpi=150)\n"
     ]
    },
    {
     "name": "stdout",
     "output_type": "stream",
     "text": [
      "... sampling: 300000, 500, 4.0 - auc: 0.9615, aupr: 0.9622\n"
     ]
    },
    {
     "name": "stderr",
     "output_type": "stream",
     "text": [
      "/home/sckim/git_repos/py_auc/py_auc.py:467: UserWarning: Creating legend with loc=\"best\" can be slow with large amounts of data.\n",
      "  plt.savefig(filename, dpi=150)\n"
     ]
    },
    {
     "name": "stdout",
     "output_type": "stream",
     "text": [
      "... sampling: 500000, 100, 0.0 - auc: 0.9615, aupr: 0.9622\n"
     ]
    },
    {
     "name": "stderr",
     "output_type": "stream",
     "text": [
      "/home/sckim/git_repos/py_auc/py_auc.py:467: UserWarning: Creating legend with loc=\"best\" can be slow with large amounts of data.\n",
      "  plt.savefig(filename, dpi=150)\n"
     ]
    },
    {
     "name": "stdout",
     "output_type": "stream",
     "text": [
      "... sampling: 500000, 100, 1.0 - auc: 0.9615, aupr: 0.9622\n"
     ]
    },
    {
     "name": "stderr",
     "output_type": "stream",
     "text": [
      "/home/sckim/git_repos/py_auc/py_auc.py:467: UserWarning: Creating legend with loc=\"best\" can be slow with large amounts of data.\n",
      "  plt.savefig(filename, dpi=150)\n"
     ]
    },
    {
     "name": "stdout",
     "output_type": "stream",
     "text": [
      "... sampling: 500000, 100, 2.0 - auc: 0.9615, aupr: 0.9622\n"
     ]
    },
    {
     "name": "stderr",
     "output_type": "stream",
     "text": [
      "/home/sckim/git_repos/py_auc/py_auc.py:467: UserWarning: Creating legend with loc=\"best\" can be slow with large amounts of data.\n",
      "  plt.savefig(filename, dpi=150)\n"
     ]
    },
    {
     "name": "stdout",
     "output_type": "stream",
     "text": [
      "... sampling: 500000, 100, 3.0 - auc: 0.9615, aupr: 0.9622\n"
     ]
    },
    {
     "name": "stderr",
     "output_type": "stream",
     "text": [
      "/home/sckim/git_repos/py_auc/py_auc.py:467: UserWarning: Creating legend with loc=\"best\" can be slow with large amounts of data.\n",
      "  plt.savefig(filename, dpi=150)\n"
     ]
    },
    {
     "name": "stdout",
     "output_type": "stream",
     "text": [
      "... sampling: 500000, 100, 4.0 - auc: 0.9615, aupr: 0.9622\n"
     ]
    },
    {
     "name": "stderr",
     "output_type": "stream",
     "text": [
      "/home/sckim/git_repos/py_auc/py_auc.py:467: UserWarning: Creating legend with loc=\"best\" can be slow with large amounts of data.\n",
      "  plt.savefig(filename, dpi=150)\n"
     ]
    },
    {
     "name": "stdout",
     "output_type": "stream",
     "text": [
      "... sampling: 500000, 300, 0.0 - auc: 0.9615, aupr: 0.9622\n"
     ]
    },
    {
     "name": "stderr",
     "output_type": "stream",
     "text": [
      "/home/sckim/git_repos/py_auc/py_auc.py:467: UserWarning: Creating legend with loc=\"best\" can be slow with large amounts of data.\n",
      "  plt.savefig(filename, dpi=150)\n"
     ]
    },
    {
     "name": "stdout",
     "output_type": "stream",
     "text": [
      "... sampling: 500000, 300, 1.0 - auc: 0.9615, aupr: 0.9622\n"
     ]
    },
    {
     "name": "stderr",
     "output_type": "stream",
     "text": [
      "/home/sckim/git_repos/py_auc/py_auc.py:467: UserWarning: Creating legend with loc=\"best\" can be slow with large amounts of data.\n",
      "  plt.savefig(filename, dpi=150)\n"
     ]
    },
    {
     "name": "stdout",
     "output_type": "stream",
     "text": [
      "... sampling: 500000, 300, 2.0 - auc: 0.9615, aupr: 0.9622\n"
     ]
    },
    {
     "name": "stderr",
     "output_type": "stream",
     "text": [
      "/home/sckim/git_repos/py_auc/py_auc.py:467: UserWarning: Creating legend with loc=\"best\" can be slow with large amounts of data.\n",
      "  plt.savefig(filename, dpi=150)\n"
     ]
    },
    {
     "name": "stdout",
     "output_type": "stream",
     "text": [
      "... sampling: 500000, 300, 3.0 - auc: 0.9615, aupr: 0.9622\n"
     ]
    },
    {
     "name": "stderr",
     "output_type": "stream",
     "text": [
      "/home/sckim/git_repos/py_auc/py_auc.py:467: UserWarning: Creating legend with loc=\"best\" can be slow with large amounts of data.\n",
      "  plt.savefig(filename, dpi=150)\n"
     ]
    },
    {
     "name": "stdout",
     "output_type": "stream",
     "text": [
      "... sampling: 500000, 300, 4.0 - auc: 0.9615, aupr: 0.9622\n"
     ]
    },
    {
     "name": "stderr",
     "output_type": "stream",
     "text": [
      "/home/sckim/git_repos/py_auc/py_auc.py:467: UserWarning: Creating legend with loc=\"best\" can be slow with large amounts of data.\n",
      "  plt.savefig(filename, dpi=150)\n"
     ]
    },
    {
     "name": "stdout",
     "output_type": "stream",
     "text": [
      "... sampling: 500000, 500, 0.0 - auc: 0.9615, aupr: 0.9622\n"
     ]
    },
    {
     "name": "stderr",
     "output_type": "stream",
     "text": [
      "/home/sckim/git_repos/py_auc/py_auc.py:467: UserWarning: Creating legend with loc=\"best\" can be slow with large amounts of data.\n",
      "  plt.savefig(filename, dpi=150)\n"
     ]
    },
    {
     "name": "stdout",
     "output_type": "stream",
     "text": [
      "... sampling: 500000, 500, 1.0 - auc: 0.9615, aupr: 0.9622\n"
     ]
    },
    {
     "name": "stderr",
     "output_type": "stream",
     "text": [
      "/home/sckim/git_repos/py_auc/py_auc.py:467: UserWarning: Creating legend with loc=\"best\" can be slow with large amounts of data.\n",
      "  plt.savefig(filename, dpi=150)\n"
     ]
    },
    {
     "name": "stdout",
     "output_type": "stream",
     "text": [
      "... sampling: 500000, 500, 2.0 - auc: 0.9615, aupr: 0.9622\n"
     ]
    },
    {
     "name": "stderr",
     "output_type": "stream",
     "text": [
      "/home/sckim/git_repos/py_auc/py_auc.py:467: UserWarning: Creating legend with loc=\"best\" can be slow with large amounts of data.\n",
      "  plt.savefig(filename, dpi=150)\n"
     ]
    },
    {
     "name": "stdout",
     "output_type": "stream",
     "text": [
      "... sampling: 500000, 500, 3.0 - auc: 0.9615, aupr: 0.9622\n"
     ]
    },
    {
     "name": "stderr",
     "output_type": "stream",
     "text": [
      "/home/sckim/git_repos/py_auc/py_auc.py:467: UserWarning: Creating legend with loc=\"best\" can be slow with large amounts of data.\n",
      "  plt.savefig(filename, dpi=150)\n"
     ]
    },
    {
     "name": "stdout",
     "output_type": "stream",
     "text": [
      "... sampling: 500000, 500, 4.0 - auc: 0.9615, aupr: 0.9622\n"
     ]
    },
    {
     "name": "stderr",
     "output_type": "stream",
     "text": [
      "/home/sckim/git_repos/py_auc/py_auc.py:467: UserWarning: Creating legend with loc=\"best\" can be slow with large amounts of data.\n",
      "  plt.savefig(filename, dpi=150)\n"
     ]
    },
    {
     "name": "stdout",
     "output_type": "stream",
     "text": [
      "... sampling: 700000, 100, 0.0 - auc: 0.9615, aupr: 0.9622\n"
     ]
    },
    {
     "name": "stderr",
     "output_type": "stream",
     "text": [
      "/home/sckim/git_repos/py_auc/py_auc.py:467: UserWarning: Creating legend with loc=\"best\" can be slow with large amounts of data.\n",
      "  plt.savefig(filename, dpi=150)\n"
     ]
    },
    {
     "name": "stdout",
     "output_type": "stream",
     "text": [
      "... sampling: 700000, 100, 1.0 - auc: 0.9615, aupr: 0.9622\n"
     ]
    },
    {
     "name": "stderr",
     "output_type": "stream",
     "text": [
      "/home/sckim/git_repos/py_auc/py_auc.py:467: UserWarning: Creating legend with loc=\"best\" can be slow with large amounts of data.\n",
      "  plt.savefig(filename, dpi=150)\n"
     ]
    },
    {
     "name": "stdout",
     "output_type": "stream",
     "text": [
      "... sampling: 700000, 100, 2.0 - auc: 0.9615, aupr: 0.9622\n"
     ]
    },
    {
     "name": "stderr",
     "output_type": "stream",
     "text": [
      "/home/sckim/git_repos/py_auc/py_auc.py:467: UserWarning: Creating legend with loc=\"best\" can be slow with large amounts of data.\n",
      "  plt.savefig(filename, dpi=150)\n"
     ]
    },
    {
     "name": "stdout",
     "output_type": "stream",
     "text": [
      "... sampling: 700000, 100, 3.0 - auc: 0.9615, aupr: 0.9622\n"
     ]
    },
    {
     "name": "stderr",
     "output_type": "stream",
     "text": [
      "/home/sckim/git_repos/py_auc/py_auc.py:467: UserWarning: Creating legend with loc=\"best\" can be slow with large amounts of data.\n",
      "  plt.savefig(filename, dpi=150)\n"
     ]
    },
    {
     "name": "stdout",
     "output_type": "stream",
     "text": [
      "... sampling: 700000, 100, 4.0 - auc: 0.9615, aupr: 0.9622\n"
     ]
    },
    {
     "name": "stderr",
     "output_type": "stream",
     "text": [
      "/home/sckim/git_repos/py_auc/py_auc.py:467: UserWarning: Creating legend with loc=\"best\" can be slow with large amounts of data.\n",
      "  plt.savefig(filename, dpi=150)\n"
     ]
    },
    {
     "name": "stdout",
     "output_type": "stream",
     "text": [
      "... sampling: 700000, 300, 0.0 - auc: 0.9615, aupr: 0.9622\n"
     ]
    },
    {
     "name": "stderr",
     "output_type": "stream",
     "text": [
      "/home/sckim/git_repos/py_auc/py_auc.py:467: UserWarning: Creating legend with loc=\"best\" can be slow with large amounts of data.\n",
      "  plt.savefig(filename, dpi=150)\n"
     ]
    },
    {
     "name": "stdout",
     "output_type": "stream",
     "text": [
      "... sampling: 700000, 300, 1.0 - auc: 0.9615, aupr: 0.9622\n"
     ]
    },
    {
     "name": "stderr",
     "output_type": "stream",
     "text": [
      "/home/sckim/git_repos/py_auc/py_auc.py:467: UserWarning: Creating legend with loc=\"best\" can be slow with large amounts of data.\n",
      "  plt.savefig(filename, dpi=150)\n"
     ]
    },
    {
     "name": "stdout",
     "output_type": "stream",
     "text": [
      "... sampling: 700000, 300, 2.0 - auc: 0.9615, aupr: 0.9622\n"
     ]
    },
    {
     "name": "stderr",
     "output_type": "stream",
     "text": [
      "/home/sckim/git_repos/py_auc/py_auc.py:467: UserWarning: Creating legend with loc=\"best\" can be slow with large amounts of data.\n",
      "  plt.savefig(filename, dpi=150)\n"
     ]
    },
    {
     "name": "stdout",
     "output_type": "stream",
     "text": [
      "... sampling: 700000, 300, 3.0 - auc: 0.9615, aupr: 0.9622\n"
     ]
    },
    {
     "name": "stderr",
     "output_type": "stream",
     "text": [
      "/home/sckim/git_repos/py_auc/py_auc.py:467: UserWarning: Creating legend with loc=\"best\" can be slow with large amounts of data.\n",
      "  plt.savefig(filename, dpi=150)\n"
     ]
    },
    {
     "name": "stdout",
     "output_type": "stream",
     "text": [
      "... sampling: 700000, 300, 4.0 - auc: 0.9615, aupr: 0.9622\n"
     ]
    },
    {
     "name": "stderr",
     "output_type": "stream",
     "text": [
      "/home/sckim/git_repos/py_auc/py_auc.py:467: UserWarning: Creating legend with loc=\"best\" can be slow with large amounts of data.\n",
      "  plt.savefig(filename, dpi=150)\n"
     ]
    },
    {
     "name": "stdout",
     "output_type": "stream",
     "text": [
      "... sampling: 700000, 500, 0.0 - auc: 0.9615, aupr: 0.9622\n"
     ]
    },
    {
     "name": "stderr",
     "output_type": "stream",
     "text": [
      "/home/sckim/git_repos/py_auc/py_auc.py:467: UserWarning: Creating legend with loc=\"best\" can be slow with large amounts of data.\n",
      "  plt.savefig(filename, dpi=150)\n"
     ]
    },
    {
     "name": "stdout",
     "output_type": "stream",
     "text": [
      "... sampling: 700000, 500, 1.0 - auc: 0.9615, aupr: 0.9622\n"
     ]
    },
    {
     "name": "stderr",
     "output_type": "stream",
     "text": [
      "/home/sckim/git_repos/py_auc/py_auc.py:467: UserWarning: Creating legend with loc=\"best\" can be slow with large amounts of data.\n",
      "  plt.savefig(filename, dpi=150)\n"
     ]
    },
    {
     "name": "stdout",
     "output_type": "stream",
     "text": [
      "... sampling: 700000, 500, 2.0 - auc: 0.9615, aupr: 0.9622\n"
     ]
    },
    {
     "name": "stderr",
     "output_type": "stream",
     "text": [
      "/home/sckim/git_repos/py_auc/py_auc.py:467: UserWarning: Creating legend with loc=\"best\" can be slow with large amounts of data.\n",
      "  plt.savefig(filename, dpi=150)\n"
     ]
    },
    {
     "name": "stdout",
     "output_type": "stream",
     "text": [
      "... sampling: 700000, 500, 3.0 - auc: 0.9615, aupr: 0.9622\n"
     ]
    },
    {
     "name": "stderr",
     "output_type": "stream",
     "text": [
      "/home/sckim/git_repos/py_auc/py_auc.py:467: UserWarning: Creating legend with loc=\"best\" can be slow with large amounts of data.\n",
      "  plt.savefig(filename, dpi=150)\n"
     ]
    },
    {
     "name": "stdout",
     "output_type": "stream",
     "text": [
      "... sampling: 700000, 500, 4.0 - auc: 0.9615, aupr: 0.9622\n",
      "... summary index: 1800 - n:1000000, rho:0.75, mu1:1.0\n",
      "... calculate auc: 0.6380, 0.6380, aupr: 0.8308, 0.8308\n",
      "... sampling: 100000, 100, 0.0 - auc: 0.6379, aupr: 0.8308\n",
      "... sampling: 100000, 100, 1.0 - auc: 0.6379, aupr: 0.8308\n",
      "... sampling: 100000, 100, 2.0 - auc: 0.6378, aupr: 0.8306\n",
      "... sampling: 100000, 100, 3.0 - auc: 0.6381, aupr: 0.8310\n",
      "... sampling: 100000, 100, 4.0 - auc: 0.6380, aupr: 0.8308\n",
      "... sampling: 100000, 300, 0.0 - auc: 0.6380, aupr: 0.8308\n",
      "... sampling: 100000, 300, 1.0 - auc: 0.6381, aupr: 0.8309\n",
      "... sampling: 100000, 300, 2.0 - auc: 0.6380, aupr: 0.8308\n",
      "... sampling: 100000, 300, 3.0 - auc: 0.6380, aupr: 0.8308\n",
      "... sampling: 100000, 300, 4.0 - auc: 0.6377, aupr: 0.8307\n",
      "... sampling: 100000, 500, 0.0 - auc: 0.6379, aupr: 0.8308\n",
      "... sampling: 100000, 500, 1.0 - auc: 0.6381, aupr: 0.8308\n",
      "... sampling: 100000, 500, 2.0 - auc: 0.6381, aupr: 0.8309\n",
      "... sampling: 100000, 500, 3.0 - auc: 0.6379, aupr: 0.8308\n",
      "... sampling: 100000, 500, 4.0 - auc: 0.6381, aupr: 0.8308\n",
      "... sampling: 200000, 100, 0.0 - auc: 0.6381, aupr: 0.8309\n",
      "... sampling: 200000, 100, 1.0 - auc: 0.6380, aupr: 0.8308\n",
      "... sampling: 200000, 100, 2.0 - auc: 0.6382, aupr: 0.8310\n",
      "... sampling: 200000, 100, 3.0 - auc: 0.6379, aupr: 0.8307\n",
      "... sampling: 200000, 100, 4.0 - auc: 0.6381, aupr: 0.8309\n",
      "... sampling: 200000, 300, 0.0 - auc: 0.6380, aupr: 0.8308\n",
      "... sampling: 200000, 300, 1.0 - auc: 0.6381, aupr: 0.8309\n",
      "... sampling: 200000, 300, 2.0 - auc: 0.6380, aupr: 0.8308\n",
      "... sampling: 200000, 300, 3.0 - auc: 0.6382, aupr: 0.8309\n",
      "... sampling: 200000, 300, 4.0 - auc: 0.6380, aupr: 0.8308\n",
      "... sampling: 200000, 500, 0.0 - auc: 0.6379, aupr: 0.8308\n",
      "... sampling: 200000, 500, 1.0 - auc: 0.6381, aupr: 0.8309\n",
      "... sampling: 200000, 500, 2.0 - auc: 0.6381, aupr: 0.8308\n",
      "... sampling: 200000, 500, 3.0 - auc: 0.6381, aupr: 0.8309\n",
      "... sampling: 200000, 500, 4.0 - auc: 0.6381, aupr: 0.8309\n"
     ]
    },
    {
     "name": "stderr",
     "output_type": "stream",
     "text": [
      "/home/sckim/git_repos/py_auc/py_auc.py:467: UserWarning: Creating legend with loc=\"best\" can be slow with large amounts of data.\n",
      "  plt.savefig(filename, dpi=150)\n",
      "/home/sckim/git_repos/py_auc/py_auc.py:467: UserWarning: Creating legend with loc=\"best\" can be slow with large amounts of data.\n",
      "  plt.savefig(filename, dpi=150)\n"
     ]
    },
    {
     "name": "stdout",
     "output_type": "stream",
     "text": [
      "... sampling: 300000, 100, 0.0 - auc: 0.6379, aupr: 0.8307\n"
     ]
    },
    {
     "name": "stderr",
     "output_type": "stream",
     "text": [
      "/home/sckim/git_repos/py_auc/py_auc.py:467: UserWarning: Creating legend with loc=\"best\" can be slow with large amounts of data.\n",
      "  plt.savefig(filename, dpi=150)\n"
     ]
    },
    {
     "name": "stdout",
     "output_type": "stream",
     "text": [
      "... sampling: 300000, 100, 1.0 - auc: 0.6379, aupr: 0.8308\n"
     ]
    },
    {
     "name": "stderr",
     "output_type": "stream",
     "text": [
      "/home/sckim/git_repos/py_auc/py_auc.py:467: UserWarning: Creating legend with loc=\"best\" can be slow with large amounts of data.\n",
      "  plt.savefig(filename, dpi=150)\n"
     ]
    },
    {
     "name": "stdout",
     "output_type": "stream",
     "text": [
      "... sampling: 300000, 100, 2.0 - auc: 0.6379, aupr: 0.8308\n"
     ]
    },
    {
     "name": "stderr",
     "output_type": "stream",
     "text": [
      "/home/sckim/git_repos/py_auc/py_auc.py:467: UserWarning: Creating legend with loc=\"best\" can be slow with large amounts of data.\n",
      "  plt.savefig(filename, dpi=150)\n"
     ]
    },
    {
     "name": "stdout",
     "output_type": "stream",
     "text": [
      "... sampling: 300000, 100, 3.0 - auc: 0.6380, aupr: 0.8309\n"
     ]
    },
    {
     "name": "stderr",
     "output_type": "stream",
     "text": [
      "/home/sckim/git_repos/py_auc/py_auc.py:467: UserWarning: Creating legend with loc=\"best\" can be slow with large amounts of data.\n",
      "  plt.savefig(filename, dpi=150)\n"
     ]
    },
    {
     "name": "stdout",
     "output_type": "stream",
     "text": [
      "... sampling: 300000, 100, 4.0 - auc: 0.6381, aupr: 0.8309\n"
     ]
    },
    {
     "name": "stderr",
     "output_type": "stream",
     "text": [
      "/home/sckim/git_repos/py_auc/py_auc.py:467: UserWarning: Creating legend with loc=\"best\" can be slow with large amounts of data.\n",
      "  plt.savefig(filename, dpi=150)\n"
     ]
    },
    {
     "name": "stdout",
     "output_type": "stream",
     "text": [
      "... sampling: 300000, 300, 0.0 - auc: 0.6380, aupr: 0.8308\n"
     ]
    },
    {
     "name": "stderr",
     "output_type": "stream",
     "text": [
      "/home/sckim/git_repos/py_auc/py_auc.py:467: UserWarning: Creating legend with loc=\"best\" can be slow with large amounts of data.\n",
      "  plt.savefig(filename, dpi=150)\n"
     ]
    },
    {
     "name": "stdout",
     "output_type": "stream",
     "text": [
      "... sampling: 300000, 300, 1.0 - auc: 0.6380, aupr: 0.8308\n"
     ]
    },
    {
     "name": "stderr",
     "output_type": "stream",
     "text": [
      "/home/sckim/git_repos/py_auc/py_auc.py:467: UserWarning: Creating legend with loc=\"best\" can be slow with large amounts of data.\n",
      "  plt.savefig(filename, dpi=150)\n"
     ]
    },
    {
     "name": "stdout",
     "output_type": "stream",
     "text": [
      "... sampling: 300000, 300, 2.0 - auc: 0.6381, aupr: 0.8308\n"
     ]
    },
    {
     "name": "stderr",
     "output_type": "stream",
     "text": [
      "/home/sckim/git_repos/py_auc/py_auc.py:467: UserWarning: Creating legend with loc=\"best\" can be slow with large amounts of data.\n",
      "  plt.savefig(filename, dpi=150)\n"
     ]
    },
    {
     "name": "stdout",
     "output_type": "stream",
     "text": [
      "... sampling: 300000, 300, 3.0 - auc: 0.6381, aupr: 0.8308\n"
     ]
    },
    {
     "name": "stderr",
     "output_type": "stream",
     "text": [
      "/home/sckim/git_repos/py_auc/py_auc.py:467: UserWarning: Creating legend with loc=\"best\" can be slow with large amounts of data.\n",
      "  plt.savefig(filename, dpi=150)\n"
     ]
    },
    {
     "name": "stdout",
     "output_type": "stream",
     "text": [
      "... sampling: 300000, 300, 4.0 - auc: 0.6379, aupr: 0.8308\n"
     ]
    },
    {
     "name": "stderr",
     "output_type": "stream",
     "text": [
      "/home/sckim/git_repos/py_auc/py_auc.py:467: UserWarning: Creating legend with loc=\"best\" can be slow with large amounts of data.\n",
      "  plt.savefig(filename, dpi=150)\n"
     ]
    },
    {
     "name": "stdout",
     "output_type": "stream",
     "text": [
      "... sampling: 300000, 500, 0.0 - auc: 0.6380, aupr: 0.8308\n"
     ]
    },
    {
     "name": "stderr",
     "output_type": "stream",
     "text": [
      "/home/sckim/git_repos/py_auc/py_auc.py:467: UserWarning: Creating legend with loc=\"best\" can be slow with large amounts of data.\n",
      "  plt.savefig(filename, dpi=150)\n"
     ]
    },
    {
     "name": "stdout",
     "output_type": "stream",
     "text": [
      "... sampling: 300000, 500, 1.0 - auc: 0.6380, aupr: 0.8308\n"
     ]
    },
    {
     "name": "stderr",
     "output_type": "stream",
     "text": [
      "/home/sckim/git_repos/py_auc/py_auc.py:467: UserWarning: Creating legend with loc=\"best\" can be slow with large amounts of data.\n",
      "  plt.savefig(filename, dpi=150)\n"
     ]
    },
    {
     "name": "stdout",
     "output_type": "stream",
     "text": [
      "... sampling: 300000, 500, 2.0 - auc: 0.6380, aupr: 0.8308\n"
     ]
    },
    {
     "name": "stderr",
     "output_type": "stream",
     "text": [
      "/home/sckim/git_repos/py_auc/py_auc.py:467: UserWarning: Creating legend with loc=\"best\" can be slow with large amounts of data.\n",
      "  plt.savefig(filename, dpi=150)\n"
     ]
    },
    {
     "name": "stdout",
     "output_type": "stream",
     "text": [
      "... sampling: 300000, 500, 3.0 - auc: 0.6380, aupr: 0.8308\n"
     ]
    },
    {
     "name": "stderr",
     "output_type": "stream",
     "text": [
      "/home/sckim/git_repos/py_auc/py_auc.py:467: UserWarning: Creating legend with loc=\"best\" can be slow with large amounts of data.\n",
      "  plt.savefig(filename, dpi=150)\n"
     ]
    },
    {
     "name": "stdout",
     "output_type": "stream",
     "text": [
      "... sampling: 300000, 500, 4.0 - auc: 0.6380, aupr: 0.8308\n"
     ]
    },
    {
     "name": "stderr",
     "output_type": "stream",
     "text": [
      "/home/sckim/git_repos/py_auc/py_auc.py:467: UserWarning: Creating legend with loc=\"best\" can be slow with large amounts of data.\n",
      "  plt.savefig(filename, dpi=150)\n"
     ]
    },
    {
     "name": "stdout",
     "output_type": "stream",
     "text": [
      "... sampling: 500000, 100, 0.0 - auc: 0.6379, aupr: 0.8308\n"
     ]
    },
    {
     "name": "stderr",
     "output_type": "stream",
     "text": [
      "/home/sckim/git_repos/py_auc/py_auc.py:467: UserWarning: Creating legend with loc=\"best\" can be slow with large amounts of data.\n",
      "  plt.savefig(filename, dpi=150)\n"
     ]
    },
    {
     "name": "stdout",
     "output_type": "stream",
     "text": [
      "... sampling: 500000, 100, 1.0 - auc: 0.6380, aupr: 0.8308\n"
     ]
    },
    {
     "name": "stderr",
     "output_type": "stream",
     "text": [
      "/home/sckim/git_repos/py_auc/py_auc.py:467: UserWarning: Creating legend with loc=\"best\" can be slow with large amounts of data.\n",
      "  plt.savefig(filename, dpi=150)\n"
     ]
    },
    {
     "name": "stdout",
     "output_type": "stream",
     "text": [
      "... sampling: 500000, 100, 2.0 - auc: 0.6381, aupr: 0.8308\n"
     ]
    },
    {
     "name": "stderr",
     "output_type": "stream",
     "text": [
      "/home/sckim/git_repos/py_auc/py_auc.py:467: UserWarning: Creating legend with loc=\"best\" can be slow with large amounts of data.\n",
      "  plt.savefig(filename, dpi=150)\n"
     ]
    },
    {
     "name": "stdout",
     "output_type": "stream",
     "text": [
      "... sampling: 500000, 100, 3.0 - auc: 0.6381, aupr: 0.8309\n"
     ]
    },
    {
     "name": "stderr",
     "output_type": "stream",
     "text": [
      "/home/sckim/git_repos/py_auc/py_auc.py:467: UserWarning: Creating legend with loc=\"best\" can be slow with large amounts of data.\n",
      "  plt.savefig(filename, dpi=150)\n"
     ]
    },
    {
     "name": "stdout",
     "output_type": "stream",
     "text": [
      "... sampling: 500000, 100, 4.0 - auc: 0.6380, aupr: 0.8309\n"
     ]
    },
    {
     "name": "stderr",
     "output_type": "stream",
     "text": [
      "/home/sckim/git_repos/py_auc/py_auc.py:467: UserWarning: Creating legend with loc=\"best\" can be slow with large amounts of data.\n",
      "  plt.savefig(filename, dpi=150)\n"
     ]
    },
    {
     "name": "stdout",
     "output_type": "stream",
     "text": [
      "... sampling: 500000, 300, 0.0 - auc: 0.6380, aupr: 0.8309\n"
     ]
    },
    {
     "name": "stderr",
     "output_type": "stream",
     "text": [
      "/home/sckim/git_repos/py_auc/py_auc.py:467: UserWarning: Creating legend with loc=\"best\" can be slow with large amounts of data.\n",
      "  plt.savefig(filename, dpi=150)\n"
     ]
    },
    {
     "name": "stdout",
     "output_type": "stream",
     "text": [
      "... sampling: 500000, 300, 1.0 - auc: 0.6380, aupr: 0.8308\n"
     ]
    },
    {
     "name": "stderr",
     "output_type": "stream",
     "text": [
      "/home/sckim/git_repos/py_auc/py_auc.py:467: UserWarning: Creating legend with loc=\"best\" can be slow with large amounts of data.\n",
      "  plt.savefig(filename, dpi=150)\n"
     ]
    },
    {
     "name": "stdout",
     "output_type": "stream",
     "text": [
      "... sampling: 500000, 300, 2.0 - auc: 0.6381, aupr: 0.8309\n"
     ]
    },
    {
     "name": "stderr",
     "output_type": "stream",
     "text": [
      "/home/sckim/git_repos/py_auc/py_auc.py:467: UserWarning: Creating legend with loc=\"best\" can be slow with large amounts of data.\n",
      "  plt.savefig(filename, dpi=150)\n"
     ]
    },
    {
     "name": "stdout",
     "output_type": "stream",
     "text": [
      "... sampling: 500000, 300, 3.0 - auc: 0.6380, aupr: 0.8308\n"
     ]
    },
    {
     "name": "stderr",
     "output_type": "stream",
     "text": [
      "/home/sckim/git_repos/py_auc/py_auc.py:467: UserWarning: Creating legend with loc=\"best\" can be slow with large amounts of data.\n",
      "  plt.savefig(filename, dpi=150)\n"
     ]
    },
    {
     "name": "stdout",
     "output_type": "stream",
     "text": [
      "... sampling: 500000, 300, 4.0 - auc: 0.6380, aupr: 0.8308\n"
     ]
    },
    {
     "name": "stderr",
     "output_type": "stream",
     "text": [
      "/home/sckim/git_repos/py_auc/py_auc.py:467: UserWarning: Creating legend with loc=\"best\" can be slow with large amounts of data.\n",
      "  plt.savefig(filename, dpi=150)\n"
     ]
    },
    {
     "name": "stdout",
     "output_type": "stream",
     "text": [
      "... sampling: 500000, 500, 0.0 - auc: 0.6380, aupr: 0.8308\n"
     ]
    },
    {
     "name": "stderr",
     "output_type": "stream",
     "text": [
      "/home/sckim/git_repos/py_auc/py_auc.py:467: UserWarning: Creating legend with loc=\"best\" can be slow with large amounts of data.\n",
      "  plt.savefig(filename, dpi=150)\n"
     ]
    },
    {
     "name": "stdout",
     "output_type": "stream",
     "text": [
      "... sampling: 500000, 500, 1.0 - auc: 0.6380, aupr: 0.8308\n"
     ]
    },
    {
     "name": "stderr",
     "output_type": "stream",
     "text": [
      "/home/sckim/git_repos/py_auc/py_auc.py:467: UserWarning: Creating legend with loc=\"best\" can be slow with large amounts of data.\n",
      "  plt.savefig(filename, dpi=150)\n"
     ]
    },
    {
     "name": "stdout",
     "output_type": "stream",
     "text": [
      "... sampling: 500000, 500, 2.0 - auc: 0.6380, aupr: 0.8308\n"
     ]
    },
    {
     "name": "stderr",
     "output_type": "stream",
     "text": [
      "/home/sckim/git_repos/py_auc/py_auc.py:467: UserWarning: Creating legend with loc=\"best\" can be slow with large amounts of data.\n",
      "  plt.savefig(filename, dpi=150)\n"
     ]
    },
    {
     "name": "stdout",
     "output_type": "stream",
     "text": [
      "... sampling: 500000, 500, 3.0 - auc: 0.6380, aupr: 0.8308\n"
     ]
    },
    {
     "name": "stderr",
     "output_type": "stream",
     "text": [
      "/home/sckim/git_repos/py_auc/py_auc.py:467: UserWarning: Creating legend with loc=\"best\" can be slow with large amounts of data.\n",
      "  plt.savefig(filename, dpi=150)\n"
     ]
    },
    {
     "name": "stdout",
     "output_type": "stream",
     "text": [
      "... sampling: 500000, 500, 4.0 - auc: 0.6380, aupr: 0.8308\n"
     ]
    },
    {
     "name": "stderr",
     "output_type": "stream",
     "text": [
      "/home/sckim/git_repos/py_auc/py_auc.py:467: UserWarning: Creating legend with loc=\"best\" can be slow with large amounts of data.\n",
      "  plt.savefig(filename, dpi=150)\n"
     ]
    },
    {
     "name": "stdout",
     "output_type": "stream",
     "text": [
      "... sampling: 700000, 100, 0.0 - auc: 0.6379, aupr: 0.8308\n"
     ]
    },
    {
     "name": "stderr",
     "output_type": "stream",
     "text": [
      "/home/sckim/git_repos/py_auc/py_auc.py:467: UserWarning: Creating legend with loc=\"best\" can be slow with large amounts of data.\n",
      "  plt.savefig(filename, dpi=150)\n"
     ]
    },
    {
     "name": "stdout",
     "output_type": "stream",
     "text": [
      "... sampling: 700000, 100, 1.0 - auc: 0.6380, aupr: 0.8308\n"
     ]
    },
    {
     "name": "stderr",
     "output_type": "stream",
     "text": [
      "/home/sckim/git_repos/py_auc/py_auc.py:467: UserWarning: Creating legend with loc=\"best\" can be slow with large amounts of data.\n",
      "  plt.savefig(filename, dpi=150)\n"
     ]
    },
    {
     "name": "stdout",
     "output_type": "stream",
     "text": [
      "... sampling: 700000, 100, 2.0 - auc: 0.6380, aupr: 0.8308\n"
     ]
    },
    {
     "name": "stderr",
     "output_type": "stream",
     "text": [
      "/home/sckim/git_repos/py_auc/py_auc.py:467: UserWarning: Creating legend with loc=\"best\" can be slow with large amounts of data.\n",
      "  plt.savefig(filename, dpi=150)\n"
     ]
    },
    {
     "name": "stdout",
     "output_type": "stream",
     "text": [
      "... sampling: 700000, 100, 3.0 - auc: 0.6380, aupr: 0.8308\n"
     ]
    },
    {
     "name": "stderr",
     "output_type": "stream",
     "text": [
      "/home/sckim/git_repos/py_auc/py_auc.py:467: UserWarning: Creating legend with loc=\"best\" can be slow with large amounts of data.\n",
      "  plt.savefig(filename, dpi=150)\n"
     ]
    },
    {
     "name": "stdout",
     "output_type": "stream",
     "text": [
      "... sampling: 700000, 100, 4.0 - auc: 0.6381, aupr: 0.8309\n"
     ]
    },
    {
     "name": "stderr",
     "output_type": "stream",
     "text": [
      "/home/sckim/git_repos/py_auc/py_auc.py:467: UserWarning: Creating legend with loc=\"best\" can be slow with large amounts of data.\n",
      "  plt.savefig(filename, dpi=150)\n"
     ]
    },
    {
     "name": "stdout",
     "output_type": "stream",
     "text": [
      "... sampling: 700000, 300, 0.0 - auc: 0.6380, aupr: 0.8308\n"
     ]
    },
    {
     "name": "stderr",
     "output_type": "stream",
     "text": [
      "/home/sckim/git_repos/py_auc/py_auc.py:467: UserWarning: Creating legend with loc=\"best\" can be slow with large amounts of data.\n",
      "  plt.savefig(filename, dpi=150)\n"
     ]
    },
    {
     "name": "stdout",
     "output_type": "stream",
     "text": [
      "... sampling: 700000, 300, 1.0 - auc: 0.6380, aupr: 0.8308\n"
     ]
    },
    {
     "name": "stderr",
     "output_type": "stream",
     "text": [
      "/home/sckim/git_repos/py_auc/py_auc.py:467: UserWarning: Creating legend with loc=\"best\" can be slow with large amounts of data.\n",
      "  plt.savefig(filename, dpi=150)\n"
     ]
    },
    {
     "name": "stdout",
     "output_type": "stream",
     "text": [
      "... sampling: 700000, 300, 2.0 - auc: 0.6380, aupr: 0.8308\n"
     ]
    },
    {
     "name": "stderr",
     "output_type": "stream",
     "text": [
      "/home/sckim/git_repos/py_auc/py_auc.py:467: UserWarning: Creating legend with loc=\"best\" can be slow with large amounts of data.\n",
      "  plt.savefig(filename, dpi=150)\n"
     ]
    },
    {
     "name": "stdout",
     "output_type": "stream",
     "text": [
      "... sampling: 700000, 300, 3.0 - auc: 0.6380, aupr: 0.8308\n"
     ]
    },
    {
     "name": "stderr",
     "output_type": "stream",
     "text": [
      "/home/sckim/git_repos/py_auc/py_auc.py:467: UserWarning: Creating legend with loc=\"best\" can be slow with large amounts of data.\n",
      "  plt.savefig(filename, dpi=150)\n"
     ]
    },
    {
     "name": "stdout",
     "output_type": "stream",
     "text": [
      "... sampling: 700000, 300, 4.0 - auc: 0.6380, aupr: 0.8308\n"
     ]
    },
    {
     "name": "stderr",
     "output_type": "stream",
     "text": [
      "/home/sckim/git_repos/py_auc/py_auc.py:467: UserWarning: Creating legend with loc=\"best\" can be slow with large amounts of data.\n",
      "  plt.savefig(filename, dpi=150)\n"
     ]
    },
    {
     "name": "stdout",
     "output_type": "stream",
     "text": [
      "... sampling: 700000, 500, 0.0 - auc: 0.6380, aupr: 0.8308\n"
     ]
    },
    {
     "name": "stderr",
     "output_type": "stream",
     "text": [
      "/home/sckim/git_repos/py_auc/py_auc.py:467: UserWarning: Creating legend with loc=\"best\" can be slow with large amounts of data.\n",
      "  plt.savefig(filename, dpi=150)\n"
     ]
    },
    {
     "name": "stdout",
     "output_type": "stream",
     "text": [
      "... sampling: 700000, 500, 1.0 - auc: 0.6380, aupr: 0.8308\n"
     ]
    },
    {
     "name": "stderr",
     "output_type": "stream",
     "text": [
      "/home/sckim/git_repos/py_auc/py_auc.py:467: UserWarning: Creating legend with loc=\"best\" can be slow with large amounts of data.\n",
      "  plt.savefig(filename, dpi=150)\n"
     ]
    },
    {
     "name": "stdout",
     "output_type": "stream",
     "text": [
      "... sampling: 700000, 500, 2.0 - auc: 0.6380, aupr: 0.8308\n"
     ]
    },
    {
     "name": "stderr",
     "output_type": "stream",
     "text": [
      "/home/sckim/git_repos/py_auc/py_auc.py:467: UserWarning: Creating legend with loc=\"best\" can be slow with large amounts of data.\n",
      "  plt.savefig(filename, dpi=150)\n"
     ]
    },
    {
     "name": "stdout",
     "output_type": "stream",
     "text": [
      "... sampling: 700000, 500, 3.0 - auc: 0.6380, aupr: 0.8308\n"
     ]
    },
    {
     "name": "stderr",
     "output_type": "stream",
     "text": [
      "/home/sckim/git_repos/py_auc/py_auc.py:467: UserWarning: Creating legend with loc=\"best\" can be slow with large amounts of data.\n",
      "  plt.savefig(filename, dpi=150)\n"
     ]
    },
    {
     "name": "stdout",
     "output_type": "stream",
     "text": [
      "... sampling: 700000, 500, 4.0 - auc: 0.6380, aupr: 0.8308\n",
      "... summary index: 1875 - n:1000000, rho:0.75, mu1:3.0\n",
      "... calculate auc: 0.8559, 0.8559, aupr: 0.9422, 0.9422\n",
      "... sampling: 100000, 100, 0.0 - auc: 0.8558, aupr: 0.9421\n",
      "... sampling: 100000, 100, 1.0 - auc: 0.8559, aupr: 0.9422\n",
      "... sampling: 100000, 100, 2.0 - auc: 0.8559, aupr: 0.9422\n",
      "... sampling: 100000, 100, 3.0 - auc: 0.8559, aupr: 0.9422\n",
      "... sampling: 100000, 100, 4.0 - auc: 0.8561, aupr: 0.9423\n",
      "... sampling: 100000, 300, 0.0 - auc: 0.8560, aupr: 0.9422\n",
      "... sampling: 100000, 300, 1.0 - auc: 0.8560, aupr: 0.9422\n",
      "... sampling: 100000, 300, 2.0 - auc: 0.8559, aupr: 0.9422\n",
      "... sampling: 100000, 300, 3.0 - auc: 0.8558, aupr: 0.9421\n",
      "... sampling: 100000, 300, 4.0 - auc: 0.8561, aupr: 0.9423\n",
      "... sampling: 100000, 500, 0.0 - auc: 0.8560, aupr: 0.9422\n",
      "... sampling: 100000, 500, 1.0 - auc: 0.8559, aupr: 0.9422\n",
      "... sampling: 100000, 500, 2.0 - auc: 0.8559, aupr: 0.9422\n",
      "... sampling: 100000, 500, 3.0 - auc: 0.8559, aupr: 0.9422\n",
      "... sampling: 100000, 500, 4.0 - auc: 0.8559, aupr: 0.9422\n",
      "... sampling: 200000, 100, 0.0 - auc: 0.8560, aupr: 0.9422\n",
      "... sampling: 200000, 100, 1.0 - auc: 0.8560, aupr: 0.9422\n",
      "... sampling: 200000, 100, 2.0 - auc: 0.8559, aupr: 0.9421\n",
      "... sampling: 200000, 100, 3.0 - auc: 0.8559, aupr: 0.9422\n",
      "... sampling: 200000, 100, 4.0 - auc: 0.8558, aupr: 0.9421\n",
      "... sampling: 200000, 300, 0.0 - auc: 0.8560, aupr: 0.9422\n",
      "... sampling: 200000, 300, 1.0 - auc: 0.8559, aupr: 0.9422\n",
      "... sampling: 200000, 300, 2.0 - auc: 0.8559, aupr: 0.9422\n",
      "... sampling: 200000, 300, 3.0 - auc: 0.8559, aupr: 0.9422\n",
      "... sampling: 200000, 300, 4.0 - auc: 0.8560, aupr: 0.9422\n",
      "... sampling: 200000, 500, 0.0 - auc: 0.8559, aupr: 0.9422\n",
      "... sampling: 200000, 500, 1.0 - auc: 0.8560, aupr: 0.9422\n",
      "... sampling: 200000, 500, 2.0 - auc: 0.8559, aupr: 0.9422\n",
      "... sampling: 200000, 500, 3.0 - auc: 0.8560, aupr: 0.9422\n",
      "... sampling: 200000, 500, 4.0 - auc: 0.8559, aupr: 0.9422\n"
     ]
    },
    {
     "name": "stderr",
     "output_type": "stream",
     "text": [
      "/home/sckim/git_repos/py_auc/py_auc.py:467: UserWarning: Creating legend with loc=\"best\" can be slow with large amounts of data.\n",
      "  plt.savefig(filename, dpi=150)\n",
      "/home/sckim/git_repos/py_auc/py_auc.py:467: UserWarning: Creating legend with loc=\"best\" can be slow with large amounts of data.\n",
      "  plt.savefig(filename, dpi=150)\n"
     ]
    },
    {
     "name": "stdout",
     "output_type": "stream",
     "text": [
      "... sampling: 300000, 100, 0.0 - auc: 0.8560, aupr: 0.9422\n"
     ]
    },
    {
     "name": "stderr",
     "output_type": "stream",
     "text": [
      "/home/sckim/git_repos/py_auc/py_auc.py:467: UserWarning: Creating legend with loc=\"best\" can be slow with large amounts of data.\n",
      "  plt.savefig(filename, dpi=150)\n"
     ]
    },
    {
     "name": "stdout",
     "output_type": "stream",
     "text": [
      "... sampling: 300000, 100, 1.0 - auc: 0.8560, aupr: 0.9422\n"
     ]
    },
    {
     "name": "stderr",
     "output_type": "stream",
     "text": [
      "/home/sckim/git_repos/py_auc/py_auc.py:467: UserWarning: Creating legend with loc=\"best\" can be slow with large amounts of data.\n",
      "  plt.savefig(filename, dpi=150)\n"
     ]
    },
    {
     "name": "stdout",
     "output_type": "stream",
     "text": [
      "... sampling: 300000, 100, 2.0 - auc: 0.8559, aupr: 0.9422\n"
     ]
    },
    {
     "name": "stderr",
     "output_type": "stream",
     "text": [
      "/home/sckim/git_repos/py_auc/py_auc.py:467: UserWarning: Creating legend with loc=\"best\" can be slow with large amounts of data.\n",
      "  plt.savefig(filename, dpi=150)\n"
     ]
    },
    {
     "name": "stdout",
     "output_type": "stream",
     "text": [
      "... sampling: 300000, 100, 3.0 - auc: 0.8559, aupr: 0.9422\n"
     ]
    },
    {
     "name": "stderr",
     "output_type": "stream",
     "text": [
      "/home/sckim/git_repos/py_auc/py_auc.py:467: UserWarning: Creating legend with loc=\"best\" can be slow with large amounts of data.\n",
      "  plt.savefig(filename, dpi=150)\n"
     ]
    },
    {
     "name": "stdout",
     "output_type": "stream",
     "text": [
      "... sampling: 300000, 100, 4.0 - auc: 0.8558, aupr: 0.9421\n"
     ]
    },
    {
     "name": "stderr",
     "output_type": "stream",
     "text": [
      "/home/sckim/git_repos/py_auc/py_auc.py:467: UserWarning: Creating legend with loc=\"best\" can be slow with large amounts of data.\n",
      "  plt.savefig(filename, dpi=150)\n"
     ]
    },
    {
     "name": "stdout",
     "output_type": "stream",
     "text": [
      "... sampling: 300000, 300, 0.0 - auc: 0.8559, aupr: 0.9422\n"
     ]
    },
    {
     "name": "stderr",
     "output_type": "stream",
     "text": [
      "/home/sckim/git_repos/py_auc/py_auc.py:467: UserWarning: Creating legend with loc=\"best\" can be slow with large amounts of data.\n",
      "  plt.savefig(filename, dpi=150)\n"
     ]
    },
    {
     "name": "stdout",
     "output_type": "stream",
     "text": [
      "... sampling: 300000, 300, 1.0 - auc: 0.8559, aupr: 0.9422\n"
     ]
    },
    {
     "name": "stderr",
     "output_type": "stream",
     "text": [
      "/home/sckim/git_repos/py_auc/py_auc.py:467: UserWarning: Creating legend with loc=\"best\" can be slow with large amounts of data.\n",
      "  plt.savefig(filename, dpi=150)\n"
     ]
    },
    {
     "name": "stdout",
     "output_type": "stream",
     "text": [
      "... sampling: 300000, 300, 2.0 - auc: 0.8559, aupr: 0.9422\n"
     ]
    },
    {
     "name": "stderr",
     "output_type": "stream",
     "text": [
      "/home/sckim/git_repos/py_auc/py_auc.py:467: UserWarning: Creating legend with loc=\"best\" can be slow with large amounts of data.\n",
      "  plt.savefig(filename, dpi=150)\n"
     ]
    },
    {
     "name": "stdout",
     "output_type": "stream",
     "text": [
      "... sampling: 300000, 300, 3.0 - auc: 0.8559, aupr: 0.9422\n"
     ]
    },
    {
     "name": "stderr",
     "output_type": "stream",
     "text": [
      "/home/sckim/git_repos/py_auc/py_auc.py:467: UserWarning: Creating legend with loc=\"best\" can be slow with large amounts of data.\n",
      "  plt.savefig(filename, dpi=150)\n"
     ]
    },
    {
     "name": "stdout",
     "output_type": "stream",
     "text": [
      "... sampling: 300000, 300, 4.0 - auc: 0.8560, aupr: 0.9422\n"
     ]
    },
    {
     "name": "stderr",
     "output_type": "stream",
     "text": [
      "/home/sckim/git_repos/py_auc/py_auc.py:467: UserWarning: Creating legend with loc=\"best\" can be slow with large amounts of data.\n",
      "  plt.savefig(filename, dpi=150)\n"
     ]
    },
    {
     "name": "stdout",
     "output_type": "stream",
     "text": [
      "... sampling: 300000, 500, 0.0 - auc: 0.8559, aupr: 0.9422\n"
     ]
    },
    {
     "name": "stderr",
     "output_type": "stream",
     "text": [
      "/home/sckim/git_repos/py_auc/py_auc.py:467: UserWarning: Creating legend with loc=\"best\" can be slow with large amounts of data.\n",
      "  plt.savefig(filename, dpi=150)\n"
     ]
    },
    {
     "name": "stdout",
     "output_type": "stream",
     "text": [
      "... sampling: 300000, 500, 1.0 - auc: 0.8559, aupr: 0.9422\n"
     ]
    },
    {
     "name": "stderr",
     "output_type": "stream",
     "text": [
      "/home/sckim/git_repos/py_auc/py_auc.py:467: UserWarning: Creating legend with loc=\"best\" can be slow with large amounts of data.\n",
      "  plt.savefig(filename, dpi=150)\n"
     ]
    },
    {
     "name": "stdout",
     "output_type": "stream",
     "text": [
      "... sampling: 300000, 500, 2.0 - auc: 0.8559, aupr: 0.9422\n"
     ]
    },
    {
     "name": "stderr",
     "output_type": "stream",
     "text": [
      "/home/sckim/git_repos/py_auc/py_auc.py:467: UserWarning: Creating legend with loc=\"best\" can be slow with large amounts of data.\n",
      "  plt.savefig(filename, dpi=150)\n"
     ]
    },
    {
     "name": "stdout",
     "output_type": "stream",
     "text": [
      "... sampling: 300000, 500, 3.0 - auc: 0.8559, aupr: 0.9422\n"
     ]
    },
    {
     "name": "stderr",
     "output_type": "stream",
     "text": [
      "/home/sckim/git_repos/py_auc/py_auc.py:467: UserWarning: Creating legend with loc=\"best\" can be slow with large amounts of data.\n",
      "  plt.savefig(filename, dpi=150)\n"
     ]
    },
    {
     "name": "stdout",
     "output_type": "stream",
     "text": [
      "... sampling: 300000, 500, 4.0 - auc: 0.8559, aupr: 0.9422\n"
     ]
    },
    {
     "name": "stderr",
     "output_type": "stream",
     "text": [
      "/home/sckim/git_repos/py_auc/py_auc.py:467: UserWarning: Creating legend with loc=\"best\" can be slow with large amounts of data.\n",
      "  plt.savefig(filename, dpi=150)\n"
     ]
    },
    {
     "name": "stdout",
     "output_type": "stream",
     "text": [
      "... sampling: 500000, 100, 0.0 - auc: 0.8559, aupr: 0.9422\n"
     ]
    },
    {
     "name": "stderr",
     "output_type": "stream",
     "text": [
      "/home/sckim/git_repos/py_auc/py_auc.py:467: UserWarning: Creating legend with loc=\"best\" can be slow with large amounts of data.\n",
      "  plt.savefig(filename, dpi=150)\n"
     ]
    },
    {
     "name": "stdout",
     "output_type": "stream",
     "text": [
      "... sampling: 500000, 100, 1.0 - auc: 0.8559, aupr: 0.9422\n"
     ]
    },
    {
     "name": "stderr",
     "output_type": "stream",
     "text": [
      "/home/sckim/git_repos/py_auc/py_auc.py:467: UserWarning: Creating legend with loc=\"best\" can be slow with large amounts of data.\n",
      "  plt.savefig(filename, dpi=150)\n"
     ]
    },
    {
     "name": "stdout",
     "output_type": "stream",
     "text": [
      "... sampling: 500000, 100, 2.0 - auc: 0.8559, aupr: 0.9422\n"
     ]
    },
    {
     "name": "stderr",
     "output_type": "stream",
     "text": [
      "/home/sckim/git_repos/py_auc/py_auc.py:467: UserWarning: Creating legend with loc=\"best\" can be slow with large amounts of data.\n",
      "  plt.savefig(filename, dpi=150)\n"
     ]
    },
    {
     "name": "stdout",
     "output_type": "stream",
     "text": [
      "... sampling: 500000, 100, 3.0 - auc: 0.8560, aupr: 0.9422\n"
     ]
    },
    {
     "name": "stderr",
     "output_type": "stream",
     "text": [
      "/home/sckim/git_repos/py_auc/py_auc.py:467: UserWarning: Creating legend with loc=\"best\" can be slow with large amounts of data.\n",
      "  plt.savefig(filename, dpi=150)\n"
     ]
    },
    {
     "name": "stdout",
     "output_type": "stream",
     "text": [
      "... sampling: 500000, 100, 4.0 - auc: 0.8559, aupr: 0.9422\n"
     ]
    },
    {
     "name": "stderr",
     "output_type": "stream",
     "text": [
      "/home/sckim/git_repos/py_auc/py_auc.py:467: UserWarning: Creating legend with loc=\"best\" can be slow with large amounts of data.\n",
      "  plt.savefig(filename, dpi=150)\n"
     ]
    },
    {
     "name": "stdout",
     "output_type": "stream",
     "text": [
      "... sampling: 500000, 300, 0.0 - auc: 0.8560, aupr: 0.9422\n"
     ]
    },
    {
     "name": "stderr",
     "output_type": "stream",
     "text": [
      "/home/sckim/git_repos/py_auc/py_auc.py:467: UserWarning: Creating legend with loc=\"best\" can be slow with large amounts of data.\n",
      "  plt.savefig(filename, dpi=150)\n"
     ]
    },
    {
     "name": "stdout",
     "output_type": "stream",
     "text": [
      "... sampling: 500000, 300, 1.0 - auc: 0.8560, aupr: 0.9422\n"
     ]
    },
    {
     "name": "stderr",
     "output_type": "stream",
     "text": [
      "/home/sckim/git_repos/py_auc/py_auc.py:467: UserWarning: Creating legend with loc=\"best\" can be slow with large amounts of data.\n",
      "  plt.savefig(filename, dpi=150)\n"
     ]
    },
    {
     "name": "stdout",
     "output_type": "stream",
     "text": [
      "... sampling: 500000, 300, 2.0 - auc: 0.8559, aupr: 0.9422\n"
     ]
    },
    {
     "name": "stderr",
     "output_type": "stream",
     "text": [
      "/home/sckim/git_repos/py_auc/py_auc.py:467: UserWarning: Creating legend with loc=\"best\" can be slow with large amounts of data.\n",
      "  plt.savefig(filename, dpi=150)\n"
     ]
    },
    {
     "name": "stdout",
     "output_type": "stream",
     "text": [
      "... sampling: 500000, 300, 3.0 - auc: 0.8559, aupr: 0.9422\n"
     ]
    },
    {
     "name": "stderr",
     "output_type": "stream",
     "text": [
      "/home/sckim/git_repos/py_auc/py_auc.py:467: UserWarning: Creating legend with loc=\"best\" can be slow with large amounts of data.\n",
      "  plt.savefig(filename, dpi=150)\n"
     ]
    },
    {
     "name": "stdout",
     "output_type": "stream",
     "text": [
      "... sampling: 500000, 300, 4.0 - auc: 0.8559, aupr: 0.9422\n"
     ]
    },
    {
     "name": "stderr",
     "output_type": "stream",
     "text": [
      "/home/sckim/git_repos/py_auc/py_auc.py:467: UserWarning: Creating legend with loc=\"best\" can be slow with large amounts of data.\n",
      "  plt.savefig(filename, dpi=150)\n"
     ]
    },
    {
     "name": "stdout",
     "output_type": "stream",
     "text": [
      "... sampling: 500000, 500, 0.0 - auc: 0.8559, aupr: 0.9422\n"
     ]
    },
    {
     "name": "stderr",
     "output_type": "stream",
     "text": [
      "/home/sckim/git_repos/py_auc/py_auc.py:467: UserWarning: Creating legend with loc=\"best\" can be slow with large amounts of data.\n",
      "  plt.savefig(filename, dpi=150)\n"
     ]
    },
    {
     "name": "stdout",
     "output_type": "stream",
     "text": [
      "... sampling: 500000, 500, 1.0 - auc: 0.8559, aupr: 0.9422\n"
     ]
    },
    {
     "name": "stderr",
     "output_type": "stream",
     "text": [
      "/home/sckim/git_repos/py_auc/py_auc.py:467: UserWarning: Creating legend with loc=\"best\" can be slow with large amounts of data.\n",
      "  plt.savefig(filename, dpi=150)\n"
     ]
    },
    {
     "name": "stdout",
     "output_type": "stream",
     "text": [
      "... sampling: 500000, 500, 2.0 - auc: 0.8559, aupr: 0.9422\n"
     ]
    },
    {
     "name": "stderr",
     "output_type": "stream",
     "text": [
      "/home/sckim/git_repos/py_auc/py_auc.py:467: UserWarning: Creating legend with loc=\"best\" can be slow with large amounts of data.\n",
      "  plt.savefig(filename, dpi=150)\n"
     ]
    },
    {
     "name": "stdout",
     "output_type": "stream",
     "text": [
      "... sampling: 500000, 500, 3.0 - auc: 0.8560, aupr: 0.9422\n"
     ]
    },
    {
     "name": "stderr",
     "output_type": "stream",
     "text": [
      "/home/sckim/git_repos/py_auc/py_auc.py:467: UserWarning: Creating legend with loc=\"best\" can be slow with large amounts of data.\n",
      "  plt.savefig(filename, dpi=150)\n"
     ]
    },
    {
     "name": "stdout",
     "output_type": "stream",
     "text": [
      "... sampling: 500000, 500, 4.0 - auc: 0.8559, aupr: 0.9422\n"
     ]
    },
    {
     "name": "stderr",
     "output_type": "stream",
     "text": [
      "/home/sckim/git_repos/py_auc/py_auc.py:467: UserWarning: Creating legend with loc=\"best\" can be slow with large amounts of data.\n",
      "  plt.savefig(filename, dpi=150)\n"
     ]
    },
    {
     "name": "stdout",
     "output_type": "stream",
     "text": [
      "... sampling: 700000, 100, 0.0 - auc: 0.8559, aupr: 0.9422\n"
     ]
    },
    {
     "name": "stderr",
     "output_type": "stream",
     "text": [
      "/home/sckim/git_repos/py_auc/py_auc.py:467: UserWarning: Creating legend with loc=\"best\" can be slow with large amounts of data.\n",
      "  plt.savefig(filename, dpi=150)\n"
     ]
    },
    {
     "name": "stdout",
     "output_type": "stream",
     "text": [
      "... sampling: 700000, 100, 1.0 - auc: 0.8559, aupr: 0.9422\n"
     ]
    },
    {
     "name": "stderr",
     "output_type": "stream",
     "text": [
      "/home/sckim/git_repos/py_auc/py_auc.py:467: UserWarning: Creating legend with loc=\"best\" can be slow with large amounts of data.\n",
      "  plt.savefig(filename, dpi=150)\n"
     ]
    },
    {
     "name": "stdout",
     "output_type": "stream",
     "text": [
      "... sampling: 700000, 100, 2.0 - auc: 0.8559, aupr: 0.9422\n"
     ]
    },
    {
     "name": "stderr",
     "output_type": "stream",
     "text": [
      "/home/sckim/git_repos/py_auc/py_auc.py:467: UserWarning: Creating legend with loc=\"best\" can be slow with large amounts of data.\n",
      "  plt.savefig(filename, dpi=150)\n"
     ]
    },
    {
     "name": "stdout",
     "output_type": "stream",
     "text": [
      "... sampling: 700000, 100, 3.0 - auc: 0.8559, aupr: 0.9422\n"
     ]
    },
    {
     "name": "stderr",
     "output_type": "stream",
     "text": [
      "/home/sckim/git_repos/py_auc/py_auc.py:467: UserWarning: Creating legend with loc=\"best\" can be slow with large amounts of data.\n",
      "  plt.savefig(filename, dpi=150)\n"
     ]
    },
    {
     "name": "stdout",
     "output_type": "stream",
     "text": [
      "... sampling: 700000, 100, 4.0 - auc: 0.8559, aupr: 0.9422\n"
     ]
    },
    {
     "name": "stderr",
     "output_type": "stream",
     "text": [
      "/home/sckim/git_repos/py_auc/py_auc.py:467: UserWarning: Creating legend with loc=\"best\" can be slow with large amounts of data.\n",
      "  plt.savefig(filename, dpi=150)\n"
     ]
    },
    {
     "name": "stdout",
     "output_type": "stream",
     "text": [
      "... sampling: 700000, 300, 0.0 - auc: 0.8559, aupr: 0.9422\n"
     ]
    },
    {
     "name": "stderr",
     "output_type": "stream",
     "text": [
      "/home/sckim/git_repos/py_auc/py_auc.py:467: UserWarning: Creating legend with loc=\"best\" can be slow with large amounts of data.\n",
      "  plt.savefig(filename, dpi=150)\n"
     ]
    },
    {
     "name": "stdout",
     "output_type": "stream",
     "text": [
      "... sampling: 700000, 300, 1.0 - auc: 0.8559, aupr: 0.9422\n"
     ]
    },
    {
     "name": "stderr",
     "output_type": "stream",
     "text": [
      "/home/sckim/git_repos/py_auc/py_auc.py:467: UserWarning: Creating legend with loc=\"best\" can be slow with large amounts of data.\n",
      "  plt.savefig(filename, dpi=150)\n"
     ]
    },
    {
     "name": "stdout",
     "output_type": "stream",
     "text": [
      "... sampling: 700000, 300, 2.0 - auc: 0.8559, aupr: 0.9422\n"
     ]
    },
    {
     "name": "stderr",
     "output_type": "stream",
     "text": [
      "/home/sckim/git_repos/py_auc/py_auc.py:467: UserWarning: Creating legend with loc=\"best\" can be slow with large amounts of data.\n",
      "  plt.savefig(filename, dpi=150)\n"
     ]
    },
    {
     "name": "stdout",
     "output_type": "stream",
     "text": [
      "... sampling: 700000, 300, 3.0 - auc: 0.8559, aupr: 0.9422\n"
     ]
    },
    {
     "name": "stderr",
     "output_type": "stream",
     "text": [
      "/home/sckim/git_repos/py_auc/py_auc.py:467: UserWarning: Creating legend with loc=\"best\" can be slow with large amounts of data.\n",
      "  plt.savefig(filename, dpi=150)\n"
     ]
    },
    {
     "name": "stdout",
     "output_type": "stream",
     "text": [
      "... sampling: 700000, 300, 4.0 - auc: 0.8559, aupr: 0.9422\n"
     ]
    },
    {
     "name": "stderr",
     "output_type": "stream",
     "text": [
      "/home/sckim/git_repos/py_auc/py_auc.py:467: UserWarning: Creating legend with loc=\"best\" can be slow with large amounts of data.\n",
      "  plt.savefig(filename, dpi=150)\n"
     ]
    },
    {
     "name": "stdout",
     "output_type": "stream",
     "text": [
      "... sampling: 700000, 500, 0.0 - auc: 0.8559, aupr: 0.9422\n"
     ]
    },
    {
     "name": "stderr",
     "output_type": "stream",
     "text": [
      "/home/sckim/git_repos/py_auc/py_auc.py:467: UserWarning: Creating legend with loc=\"best\" can be slow with large amounts of data.\n",
      "  plt.savefig(filename, dpi=150)\n"
     ]
    },
    {
     "name": "stdout",
     "output_type": "stream",
     "text": [
      "... sampling: 700000, 500, 1.0 - auc: 0.8559, aupr: 0.9422\n"
     ]
    },
    {
     "name": "stderr",
     "output_type": "stream",
     "text": [
      "/home/sckim/git_repos/py_auc/py_auc.py:467: UserWarning: Creating legend with loc=\"best\" can be slow with large amounts of data.\n",
      "  plt.savefig(filename, dpi=150)\n"
     ]
    },
    {
     "name": "stdout",
     "output_type": "stream",
     "text": [
      "... sampling: 700000, 500, 2.0 - auc: 0.8560, aupr: 0.9422\n"
     ]
    },
    {
     "name": "stderr",
     "output_type": "stream",
     "text": [
      "/home/sckim/git_repos/py_auc/py_auc.py:467: UserWarning: Creating legend with loc=\"best\" can be slow with large amounts of data.\n",
      "  plt.savefig(filename, dpi=150)\n"
     ]
    },
    {
     "name": "stdout",
     "output_type": "stream",
     "text": [
      "... sampling: 700000, 500, 3.0 - auc: 0.8559, aupr: 0.9422\n"
     ]
    },
    {
     "name": "stderr",
     "output_type": "stream",
     "text": [
      "/home/sckim/git_repos/py_auc/py_auc.py:467: UserWarning: Creating legend with loc=\"best\" can be slow with large amounts of data.\n",
      "  plt.savefig(filename, dpi=150)\n"
     ]
    },
    {
     "name": "stdout",
     "output_type": "stream",
     "text": [
      "... sampling: 700000, 500, 4.0 - auc: 0.8559, aupr: 0.9422\n",
      "... summary index: 1950 - n:1000000, rho:0.75, mu1:5.0\n",
      "... calculate auc: 0.9617, 0.9617, aupr: 0.9861, 0.9861\n",
      "... sampling: 100000, 100, 0.0 - auc: 0.9618, aupr: 0.9861\n",
      "... sampling: 100000, 100, 1.0 - auc: 0.9618, aupr: 0.9861\n",
      "... sampling: 100000, 100, 2.0 - auc: 0.9617, aupr: 0.9861\n",
      "... sampling: 100000, 100, 3.0 - auc: 0.9617, aupr: 0.9861\n",
      "... sampling: 100000, 100, 4.0 - auc: 0.9617, aupr: 0.9861\n",
      "... sampling: 100000, 300, 0.0 - auc: 0.9617, aupr: 0.9861\n",
      "... sampling: 100000, 300, 1.0 - auc: 0.9617, aupr: 0.9861\n",
      "... sampling: 100000, 300, 2.0 - auc: 0.9617, aupr: 0.9861\n",
      "... sampling: 100000, 300, 3.0 - auc: 0.9617, aupr: 0.9861\n",
      "... sampling: 100000, 300, 4.0 - auc: 0.9618, aupr: 0.9861\n",
      "... sampling: 100000, 500, 0.0 - auc: 0.9618, aupr: 0.9861\n",
      "... sampling: 100000, 500, 1.0 - auc: 0.9617, aupr: 0.9861\n",
      "... sampling: 100000, 500, 2.0 - auc: 0.9617, aupr: 0.9861\n",
      "... sampling: 100000, 500, 3.0 - auc: 0.9617, aupr: 0.9861\n",
      "... sampling: 100000, 500, 4.0 - auc: 0.9617, aupr: 0.9861\n",
      "... sampling: 200000, 100, 0.0 - auc: 0.9617, aupr: 0.9861\n",
      "... sampling: 200000, 100, 1.0 - auc: 0.9617, aupr: 0.9861\n",
      "... sampling: 200000, 100, 2.0 - auc: 0.9617, aupr: 0.9861\n",
      "... sampling: 200000, 100, 3.0 - auc: 0.9617, aupr: 0.9861\n",
      "... sampling: 200000, 100, 4.0 - auc: 0.9617, aupr: 0.9861\n",
      "... sampling: 200000, 300, 0.0 - auc: 0.9617, aupr: 0.9861\n",
      "... sampling: 200000, 300, 1.0 - auc: 0.9617, aupr: 0.9861\n",
      "... sampling: 200000, 300, 2.0 - auc: 0.9618, aupr: 0.9861\n",
      "... sampling: 200000, 300, 3.0 - auc: 0.9617, aupr: 0.9861\n",
      "... sampling: 200000, 300, 4.0 - auc: 0.9617, aupr: 0.9861\n",
      "... sampling: 200000, 500, 0.0 - auc: 0.9618, aupr: 0.9861\n",
      "... sampling: 200000, 500, 1.0 - auc: 0.9617, aupr: 0.9861\n",
      "... sampling: 200000, 500, 2.0 - auc: 0.9617, aupr: 0.9861\n",
      "... sampling: 200000, 500, 3.0 - auc: 0.9617, aupr: 0.9861\n",
      "... sampling: 200000, 500, 4.0 - auc: 0.9617, aupr: 0.9861\n"
     ]
    },
    {
     "name": "stderr",
     "output_type": "stream",
     "text": [
      "/home/sckim/git_repos/py_auc/py_auc.py:467: UserWarning: Creating legend with loc=\"best\" can be slow with large amounts of data.\n",
      "  plt.savefig(filename, dpi=150)\n",
      "/home/sckim/git_repos/py_auc/py_auc.py:467: UserWarning: Creating legend with loc=\"best\" can be slow with large amounts of data.\n",
      "  plt.savefig(filename, dpi=150)\n"
     ]
    },
    {
     "name": "stdout",
     "output_type": "stream",
     "text": [
      "... sampling: 300000, 100, 0.0 - auc: 0.9617, aupr: 0.9861\n"
     ]
    },
    {
     "name": "stderr",
     "output_type": "stream",
     "text": [
      "/home/sckim/git_repos/py_auc/py_auc.py:467: UserWarning: Creating legend with loc=\"best\" can be slow with large amounts of data.\n",
      "  plt.savefig(filename, dpi=150)\n"
     ]
    },
    {
     "name": "stdout",
     "output_type": "stream",
     "text": [
      "... sampling: 300000, 100, 1.0 - auc: 0.9617, aupr: 0.9861\n"
     ]
    },
    {
     "name": "stderr",
     "output_type": "stream",
     "text": [
      "/home/sckim/git_repos/py_auc/py_auc.py:467: UserWarning: Creating legend with loc=\"best\" can be slow with large amounts of data.\n",
      "  plt.savefig(filename, dpi=150)\n"
     ]
    },
    {
     "name": "stdout",
     "output_type": "stream",
     "text": [
      "... sampling: 300000, 100, 2.0 - auc: 0.9617, aupr: 0.9861\n"
     ]
    },
    {
     "name": "stderr",
     "output_type": "stream",
     "text": [
      "/home/sckim/git_repos/py_auc/py_auc.py:467: UserWarning: Creating legend with loc=\"best\" can be slow with large amounts of data.\n",
      "  plt.savefig(filename, dpi=150)\n"
     ]
    },
    {
     "name": "stdout",
     "output_type": "stream",
     "text": [
      "... sampling: 300000, 100, 3.0 - auc: 0.9617, aupr: 0.9861\n"
     ]
    },
    {
     "name": "stderr",
     "output_type": "stream",
     "text": [
      "/home/sckim/git_repos/py_auc/py_auc.py:467: UserWarning: Creating legend with loc=\"best\" can be slow with large amounts of data.\n",
      "  plt.savefig(filename, dpi=150)\n"
     ]
    },
    {
     "name": "stdout",
     "output_type": "stream",
     "text": [
      "... sampling: 300000, 100, 4.0 - auc: 0.9617, aupr: 0.9861\n"
     ]
    },
    {
     "name": "stderr",
     "output_type": "stream",
     "text": [
      "/home/sckim/git_repos/py_auc/py_auc.py:467: UserWarning: Creating legend with loc=\"best\" can be slow with large amounts of data.\n",
      "  plt.savefig(filename, dpi=150)\n"
     ]
    },
    {
     "name": "stdout",
     "output_type": "stream",
     "text": [
      "... sampling: 300000, 300, 0.0 - auc: 0.9617, aupr: 0.9861\n"
     ]
    },
    {
     "name": "stderr",
     "output_type": "stream",
     "text": [
      "/home/sckim/git_repos/py_auc/py_auc.py:467: UserWarning: Creating legend with loc=\"best\" can be slow with large amounts of data.\n",
      "  plt.savefig(filename, dpi=150)\n"
     ]
    },
    {
     "name": "stdout",
     "output_type": "stream",
     "text": [
      "... sampling: 300000, 300, 1.0 - auc: 0.9617, aupr: 0.9861\n"
     ]
    },
    {
     "name": "stderr",
     "output_type": "stream",
     "text": [
      "/home/sckim/git_repos/py_auc/py_auc.py:467: UserWarning: Creating legend with loc=\"best\" can be slow with large amounts of data.\n",
      "  plt.savefig(filename, dpi=150)\n"
     ]
    },
    {
     "name": "stdout",
     "output_type": "stream",
     "text": [
      "... sampling: 300000, 300, 2.0 - auc: 0.9617, aupr: 0.9861\n"
     ]
    },
    {
     "name": "stderr",
     "output_type": "stream",
     "text": [
      "/home/sckim/git_repos/py_auc/py_auc.py:467: UserWarning: Creating legend with loc=\"best\" can be slow with large amounts of data.\n",
      "  plt.savefig(filename, dpi=150)\n"
     ]
    },
    {
     "name": "stdout",
     "output_type": "stream",
     "text": [
      "... sampling: 300000, 300, 3.0 - auc: 0.9617, aupr: 0.9861\n"
     ]
    },
    {
     "name": "stderr",
     "output_type": "stream",
     "text": [
      "/home/sckim/git_repos/py_auc/py_auc.py:467: UserWarning: Creating legend with loc=\"best\" can be slow with large amounts of data.\n",
      "  plt.savefig(filename, dpi=150)\n"
     ]
    },
    {
     "name": "stdout",
     "output_type": "stream",
     "text": [
      "... sampling: 300000, 300, 4.0 - auc: 0.9617, aupr: 0.9861\n"
     ]
    },
    {
     "name": "stderr",
     "output_type": "stream",
     "text": [
      "/home/sckim/git_repos/py_auc/py_auc.py:467: UserWarning: Creating legend with loc=\"best\" can be slow with large amounts of data.\n",
      "  plt.savefig(filename, dpi=150)\n"
     ]
    },
    {
     "name": "stdout",
     "output_type": "stream",
     "text": [
      "... sampling: 300000, 500, 0.0 - auc: 0.9617, aupr: 0.9861\n"
     ]
    },
    {
     "name": "stderr",
     "output_type": "stream",
     "text": [
      "/home/sckim/git_repos/py_auc/py_auc.py:467: UserWarning: Creating legend with loc=\"best\" can be slow with large amounts of data.\n",
      "  plt.savefig(filename, dpi=150)\n"
     ]
    },
    {
     "name": "stdout",
     "output_type": "stream",
     "text": [
      "... sampling: 300000, 500, 1.0 - auc: 0.9617, aupr: 0.9861\n"
     ]
    },
    {
     "name": "stderr",
     "output_type": "stream",
     "text": [
      "/home/sckim/git_repos/py_auc/py_auc.py:467: UserWarning: Creating legend with loc=\"best\" can be slow with large amounts of data.\n",
      "  plt.savefig(filename, dpi=150)\n"
     ]
    },
    {
     "name": "stdout",
     "output_type": "stream",
     "text": [
      "... sampling: 300000, 500, 2.0 - auc: 0.9617, aupr: 0.9861\n"
     ]
    },
    {
     "name": "stderr",
     "output_type": "stream",
     "text": [
      "/home/sckim/git_repos/py_auc/py_auc.py:467: UserWarning: Creating legend with loc=\"best\" can be slow with large amounts of data.\n",
      "  plt.savefig(filename, dpi=150)\n"
     ]
    },
    {
     "name": "stdout",
     "output_type": "stream",
     "text": [
      "... sampling: 300000, 500, 3.0 - auc: 0.9617, aupr: 0.9861\n"
     ]
    },
    {
     "name": "stderr",
     "output_type": "stream",
     "text": [
      "/home/sckim/git_repos/py_auc/py_auc.py:467: UserWarning: Creating legend with loc=\"best\" can be slow with large amounts of data.\n",
      "  plt.savefig(filename, dpi=150)\n"
     ]
    },
    {
     "name": "stdout",
     "output_type": "stream",
     "text": [
      "... sampling: 300000, 500, 4.0 - auc: 0.9617, aupr: 0.9861\n"
     ]
    },
    {
     "name": "stderr",
     "output_type": "stream",
     "text": [
      "/home/sckim/git_repos/py_auc/py_auc.py:467: UserWarning: Creating legend with loc=\"best\" can be slow with large amounts of data.\n",
      "  plt.savefig(filename, dpi=150)\n"
     ]
    },
    {
     "name": "stdout",
     "output_type": "stream",
     "text": [
      "... sampling: 500000, 100, 0.0 - auc: 0.9617, aupr: 0.9861\n"
     ]
    },
    {
     "name": "stderr",
     "output_type": "stream",
     "text": [
      "/home/sckim/git_repos/py_auc/py_auc.py:467: UserWarning: Creating legend with loc=\"best\" can be slow with large amounts of data.\n",
      "  plt.savefig(filename, dpi=150)\n"
     ]
    },
    {
     "name": "stdout",
     "output_type": "stream",
     "text": [
      "... sampling: 500000, 100, 1.0 - auc: 0.9617, aupr: 0.9861\n"
     ]
    },
    {
     "name": "stderr",
     "output_type": "stream",
     "text": [
      "/home/sckim/git_repos/py_auc/py_auc.py:467: UserWarning: Creating legend with loc=\"best\" can be slow with large amounts of data.\n",
      "  plt.savefig(filename, dpi=150)\n"
     ]
    },
    {
     "name": "stdout",
     "output_type": "stream",
     "text": [
      "... sampling: 500000, 100, 2.0 - auc: 0.9617, aupr: 0.9861\n"
     ]
    },
    {
     "name": "stderr",
     "output_type": "stream",
     "text": [
      "/home/sckim/git_repos/py_auc/py_auc.py:467: UserWarning: Creating legend with loc=\"best\" can be slow with large amounts of data.\n",
      "  plt.savefig(filename, dpi=150)\n"
     ]
    },
    {
     "name": "stdout",
     "output_type": "stream",
     "text": [
      "... sampling: 500000, 100, 3.0 - auc: 0.9617, aupr: 0.9861\n"
     ]
    },
    {
     "name": "stderr",
     "output_type": "stream",
     "text": [
      "/home/sckim/git_repos/py_auc/py_auc.py:467: UserWarning: Creating legend with loc=\"best\" can be slow with large amounts of data.\n",
      "  plt.savefig(filename, dpi=150)\n"
     ]
    },
    {
     "name": "stdout",
     "output_type": "stream",
     "text": [
      "... sampling: 500000, 100, 4.0 - auc: 0.9617, aupr: 0.9861\n"
     ]
    },
    {
     "name": "stderr",
     "output_type": "stream",
     "text": [
      "/home/sckim/git_repos/py_auc/py_auc.py:467: UserWarning: Creating legend with loc=\"best\" can be slow with large amounts of data.\n",
      "  plt.savefig(filename, dpi=150)\n"
     ]
    },
    {
     "name": "stdout",
     "output_type": "stream",
     "text": [
      "... sampling: 500000, 300, 0.0 - auc: 0.9617, aupr: 0.9861\n"
     ]
    },
    {
     "name": "stderr",
     "output_type": "stream",
     "text": [
      "/home/sckim/git_repos/py_auc/py_auc.py:467: UserWarning: Creating legend with loc=\"best\" can be slow with large amounts of data.\n",
      "  plt.savefig(filename, dpi=150)\n"
     ]
    },
    {
     "name": "stdout",
     "output_type": "stream",
     "text": [
      "... sampling: 500000, 300, 1.0 - auc: 0.9617, aupr: 0.9861\n"
     ]
    },
    {
     "name": "stderr",
     "output_type": "stream",
     "text": [
      "/home/sckim/git_repos/py_auc/py_auc.py:467: UserWarning: Creating legend with loc=\"best\" can be slow with large amounts of data.\n",
      "  plt.savefig(filename, dpi=150)\n"
     ]
    },
    {
     "name": "stdout",
     "output_type": "stream",
     "text": [
      "... sampling: 500000, 300, 2.0 - auc: 0.9617, aupr: 0.9861\n"
     ]
    },
    {
     "name": "stderr",
     "output_type": "stream",
     "text": [
      "/home/sckim/git_repos/py_auc/py_auc.py:467: UserWarning: Creating legend with loc=\"best\" can be slow with large amounts of data.\n",
      "  plt.savefig(filename, dpi=150)\n"
     ]
    },
    {
     "name": "stdout",
     "output_type": "stream",
     "text": [
      "... sampling: 500000, 300, 3.0 - auc: 0.9617, aupr: 0.9861\n"
     ]
    },
    {
     "name": "stderr",
     "output_type": "stream",
     "text": [
      "/home/sckim/git_repos/py_auc/py_auc.py:467: UserWarning: Creating legend with loc=\"best\" can be slow with large amounts of data.\n",
      "  plt.savefig(filename, dpi=150)\n"
     ]
    },
    {
     "name": "stdout",
     "output_type": "stream",
     "text": [
      "... sampling: 500000, 300, 4.0 - auc: 0.9617, aupr: 0.9861\n"
     ]
    },
    {
     "name": "stderr",
     "output_type": "stream",
     "text": [
      "/home/sckim/git_repos/py_auc/py_auc.py:467: UserWarning: Creating legend with loc=\"best\" can be slow with large amounts of data.\n",
      "  plt.savefig(filename, dpi=150)\n"
     ]
    },
    {
     "name": "stdout",
     "output_type": "stream",
     "text": [
      "... sampling: 500000, 500, 0.0 - auc: 0.9617, aupr: 0.9861\n"
     ]
    },
    {
     "name": "stderr",
     "output_type": "stream",
     "text": [
      "/home/sckim/git_repos/py_auc/py_auc.py:467: UserWarning: Creating legend with loc=\"best\" can be slow with large amounts of data.\n",
      "  plt.savefig(filename, dpi=150)\n"
     ]
    },
    {
     "name": "stdout",
     "output_type": "stream",
     "text": [
      "... sampling: 500000, 500, 1.0 - auc: 0.9617, aupr: 0.9861\n"
     ]
    },
    {
     "name": "stderr",
     "output_type": "stream",
     "text": [
      "/home/sckim/git_repos/py_auc/py_auc.py:467: UserWarning: Creating legend with loc=\"best\" can be slow with large amounts of data.\n",
      "  plt.savefig(filename, dpi=150)\n"
     ]
    },
    {
     "name": "stdout",
     "output_type": "stream",
     "text": [
      "... sampling: 500000, 500, 2.0 - auc: 0.9617, aupr: 0.9861\n"
     ]
    },
    {
     "name": "stderr",
     "output_type": "stream",
     "text": [
      "/home/sckim/git_repos/py_auc/py_auc.py:467: UserWarning: Creating legend with loc=\"best\" can be slow with large amounts of data.\n",
      "  plt.savefig(filename, dpi=150)\n"
     ]
    },
    {
     "name": "stdout",
     "output_type": "stream",
     "text": [
      "... sampling: 500000, 500, 3.0 - auc: 0.9617, aupr: 0.9861\n"
     ]
    },
    {
     "name": "stderr",
     "output_type": "stream",
     "text": [
      "/home/sckim/git_repos/py_auc/py_auc.py:467: UserWarning: Creating legend with loc=\"best\" can be slow with large amounts of data.\n",
      "  plt.savefig(filename, dpi=150)\n"
     ]
    },
    {
     "name": "stdout",
     "output_type": "stream",
     "text": [
      "... sampling: 500000, 500, 4.0 - auc: 0.9617, aupr: 0.9861\n"
     ]
    },
    {
     "name": "stderr",
     "output_type": "stream",
     "text": [
      "/home/sckim/git_repos/py_auc/py_auc.py:467: UserWarning: Creating legend with loc=\"best\" can be slow with large amounts of data.\n",
      "  plt.savefig(filename, dpi=150)\n"
     ]
    },
    {
     "name": "stdout",
     "output_type": "stream",
     "text": [
      "... sampling: 700000, 100, 0.0 - auc: 0.9617, aupr: 0.9861\n"
     ]
    },
    {
     "name": "stderr",
     "output_type": "stream",
     "text": [
      "/home/sckim/git_repos/py_auc/py_auc.py:467: UserWarning: Creating legend with loc=\"best\" can be slow with large amounts of data.\n",
      "  plt.savefig(filename, dpi=150)\n"
     ]
    },
    {
     "name": "stdout",
     "output_type": "stream",
     "text": [
      "... sampling: 700000, 100, 1.0 - auc: 0.9617, aupr: 0.9861\n"
     ]
    },
    {
     "name": "stderr",
     "output_type": "stream",
     "text": [
      "/home/sckim/git_repos/py_auc/py_auc.py:467: UserWarning: Creating legend with loc=\"best\" can be slow with large amounts of data.\n",
      "  plt.savefig(filename, dpi=150)\n"
     ]
    },
    {
     "name": "stdout",
     "output_type": "stream",
     "text": [
      "... sampling: 700000, 100, 2.0 - auc: 0.9617, aupr: 0.9861\n"
     ]
    },
    {
     "name": "stderr",
     "output_type": "stream",
     "text": [
      "/home/sckim/git_repos/py_auc/py_auc.py:467: UserWarning: Creating legend with loc=\"best\" can be slow with large amounts of data.\n",
      "  plt.savefig(filename, dpi=150)\n"
     ]
    },
    {
     "name": "stdout",
     "output_type": "stream",
     "text": [
      "... sampling: 700000, 100, 3.0 - auc: 0.9617, aupr: 0.9861\n"
     ]
    },
    {
     "name": "stderr",
     "output_type": "stream",
     "text": [
      "/home/sckim/git_repos/py_auc/py_auc.py:467: UserWarning: Creating legend with loc=\"best\" can be slow with large amounts of data.\n",
      "  plt.savefig(filename, dpi=150)\n"
     ]
    },
    {
     "name": "stdout",
     "output_type": "stream",
     "text": [
      "... sampling: 700000, 100, 4.0 - auc: 0.9617, aupr: 0.9861\n"
     ]
    },
    {
     "name": "stderr",
     "output_type": "stream",
     "text": [
      "/home/sckim/git_repos/py_auc/py_auc.py:467: UserWarning: Creating legend with loc=\"best\" can be slow with large amounts of data.\n",
      "  plt.savefig(filename, dpi=150)\n"
     ]
    },
    {
     "name": "stdout",
     "output_type": "stream",
     "text": [
      "... sampling: 700000, 300, 0.0 - auc: 0.9617, aupr: 0.9861\n"
     ]
    },
    {
     "name": "stderr",
     "output_type": "stream",
     "text": [
      "/home/sckim/git_repos/py_auc/py_auc.py:467: UserWarning: Creating legend with loc=\"best\" can be slow with large amounts of data.\n",
      "  plt.savefig(filename, dpi=150)\n"
     ]
    },
    {
     "name": "stdout",
     "output_type": "stream",
     "text": [
      "... sampling: 700000, 300, 1.0 - auc: 0.9617, aupr: 0.9861\n"
     ]
    },
    {
     "name": "stderr",
     "output_type": "stream",
     "text": [
      "/home/sckim/git_repos/py_auc/py_auc.py:467: UserWarning: Creating legend with loc=\"best\" can be slow with large amounts of data.\n",
      "  plt.savefig(filename, dpi=150)\n"
     ]
    },
    {
     "name": "stdout",
     "output_type": "stream",
     "text": [
      "... sampling: 700000, 300, 2.0 - auc: 0.9617, aupr: 0.9861\n"
     ]
    },
    {
     "name": "stderr",
     "output_type": "stream",
     "text": [
      "/home/sckim/git_repos/py_auc/py_auc.py:467: UserWarning: Creating legend with loc=\"best\" can be slow with large amounts of data.\n",
      "  plt.savefig(filename, dpi=150)\n"
     ]
    },
    {
     "name": "stdout",
     "output_type": "stream",
     "text": [
      "... sampling: 700000, 300, 3.0 - auc: 0.9617, aupr: 0.9861\n"
     ]
    },
    {
     "name": "stderr",
     "output_type": "stream",
     "text": [
      "/home/sckim/git_repos/py_auc/py_auc.py:467: UserWarning: Creating legend with loc=\"best\" can be slow with large amounts of data.\n",
      "  plt.savefig(filename, dpi=150)\n"
     ]
    },
    {
     "name": "stdout",
     "output_type": "stream",
     "text": [
      "... sampling: 700000, 300, 4.0 - auc: 0.9617, aupr: 0.9861\n"
     ]
    },
    {
     "name": "stderr",
     "output_type": "stream",
     "text": [
      "/home/sckim/git_repos/py_auc/py_auc.py:467: UserWarning: Creating legend with loc=\"best\" can be slow with large amounts of data.\n",
      "  plt.savefig(filename, dpi=150)\n"
     ]
    },
    {
     "name": "stdout",
     "output_type": "stream",
     "text": [
      "... sampling: 700000, 500, 0.0 - auc: 0.9617, aupr: 0.9861\n"
     ]
    },
    {
     "name": "stderr",
     "output_type": "stream",
     "text": [
      "/home/sckim/git_repos/py_auc/py_auc.py:467: UserWarning: Creating legend with loc=\"best\" can be slow with large amounts of data.\n",
      "  plt.savefig(filename, dpi=150)\n"
     ]
    },
    {
     "name": "stdout",
     "output_type": "stream",
     "text": [
      "... sampling: 700000, 500, 1.0 - auc: 0.9617, aupr: 0.9861\n"
     ]
    },
    {
     "name": "stderr",
     "output_type": "stream",
     "text": [
      "/home/sckim/git_repos/py_auc/py_auc.py:467: UserWarning: Creating legend with loc=\"best\" can be slow with large amounts of data.\n",
      "  plt.savefig(filename, dpi=150)\n"
     ]
    },
    {
     "name": "stdout",
     "output_type": "stream",
     "text": [
      "... sampling: 700000, 500, 2.0 - auc: 0.9617, aupr: 0.9861\n"
     ]
    },
    {
     "name": "stderr",
     "output_type": "stream",
     "text": [
      "/home/sckim/git_repos/py_auc/py_auc.py:467: UserWarning: Creating legend with loc=\"best\" can be slow with large amounts of data.\n",
      "  plt.savefig(filename, dpi=150)\n"
     ]
    },
    {
     "name": "stdout",
     "output_type": "stream",
     "text": [
      "... sampling: 700000, 500, 3.0 - auc: 0.9617, aupr: 0.9861\n"
     ]
    },
    {
     "name": "stderr",
     "output_type": "stream",
     "text": [
      "/home/sckim/git_repos/py_auc/py_auc.py:467: UserWarning: Creating legend with loc=\"best\" can be slow with large amounts of data.\n",
      "  plt.savefig(filename, dpi=150)\n"
     ]
    },
    {
     "name": "stdout",
     "output_type": "stream",
     "text": [
      "... sampling: 700000, 500, 4.0 - auc: 0.9617, aupr: 0.9861\n"
     ]
    }
   ],
   "source": [
    "data_fname = 'Sim_summary_data_v3.csv'\n",
    "summary.to_csv(data_fname)\n",
    "\n",
    "run_number = int(2025/n_sampling_cases)\n",
    "#run_number = 1\n",
    "summary = pd.read_csv(data_fname, index_col=0)\n",
    "\n",
    "s_i = 0\n",
    "for i in range(run_number):\n",
    "    run_one_simulation(summary, i, debug=True)\n",
    "    summary.to_csv(data_fname)"
   ]
  },
  {
   "cell_type": "code",
   "execution_count": 45,
   "metadata": {},
   "outputs": [
    {
     "data": {
      "text/html": [
       "<div>\n",
       "<style scoped>\n",
       "    .dataframe tbody tr th:only-of-type {\n",
       "        vertical-align: middle;\n",
       "    }\n",
       "\n",
       "    .dataframe tbody tr th {\n",
       "        vertical-align: top;\n",
       "    }\n",
       "\n",
       "    .dataframe thead th {\n",
       "        text-align: right;\n",
       "    }\n",
       "</style>\n",
       "<table border=\"1\" class=\"dataframe\">\n",
       "  <thead>\n",
       "    <tr style=\"text-align: right;\">\n",
       "      <th></th>\n",
       "      <th>n</th>\n",
       "      <th>n1</th>\n",
       "      <th>shape1</th>\n",
       "      <th>mu1</th>\n",
       "      <th>std1</th>\n",
       "      <th>n0</th>\n",
       "      <th>shape0</th>\n",
       "      <th>mu0</th>\n",
       "      <th>std0</th>\n",
       "      <th>rho</th>\n",
       "      <th>...</th>\n",
       "      <th>sampling_size</th>\n",
       "      <th>sampling_repeats</th>\n",
       "      <th>sampling_ratio</th>\n",
       "      <th>auc_delta_sample</th>\n",
       "      <th>auc_bac_sample</th>\n",
       "      <th>auc_bac_sample_time</th>\n",
       "      <th>aupr_pre_sample</th>\n",
       "      <th>aupr_pre_sample_time</th>\n",
       "      <th>repeat#</th>\n",
       "      <th>done</th>\n",
       "    </tr>\n",
       "  </thead>\n",
       "  <tbody>\n",
       "    <tr>\n",
       "      <td>0</td>\n",
       "      <td>1000</td>\n",
       "      <td>250</td>\n",
       "      <td>gaussian</td>\n",
       "      <td>1.0</td>\n",
       "      <td>2.0</td>\n",
       "      <td>750</td>\n",
       "      <td>gaussian</td>\n",
       "      <td>0.0</td>\n",
       "      <td>2.0</td>\n",
       "      <td>0.25</td>\n",
       "      <td>...</td>\n",
       "      <td>100</td>\n",
       "      <td>100</td>\n",
       "      <td>0.0</td>\n",
       "      <td>0.658245</td>\n",
       "      <td>0.658245</td>\n",
       "      <td>0.435512</td>\n",
       "      <td>0.394722</td>\n",
       "      <td>0.0</td>\n",
       "      <td>0.0</td>\n",
       "      <td>1</td>\n",
       "    </tr>\n",
       "    <tr>\n",
       "      <td>1</td>\n",
       "      <td>1000</td>\n",
       "      <td>250</td>\n",
       "      <td>gaussian</td>\n",
       "      <td>1.0</td>\n",
       "      <td>2.0</td>\n",
       "      <td>750</td>\n",
       "      <td>gaussian</td>\n",
       "      <td>0.0</td>\n",
       "      <td>2.0</td>\n",
       "      <td>0.25</td>\n",
       "      <td>...</td>\n",
       "      <td>100</td>\n",
       "      <td>100</td>\n",
       "      <td>0.0</td>\n",
       "      <td>0.664869</td>\n",
       "      <td>0.664869</td>\n",
       "      <td>0.421173</td>\n",
       "      <td>0.400220</td>\n",
       "      <td>0.0</td>\n",
       "      <td>1.0</td>\n",
       "      <td>1</td>\n",
       "    </tr>\n",
       "    <tr>\n",
       "      <td>2</td>\n",
       "      <td>1000</td>\n",
       "      <td>250</td>\n",
       "      <td>gaussian</td>\n",
       "      <td>1.0</td>\n",
       "      <td>2.0</td>\n",
       "      <td>750</td>\n",
       "      <td>gaussian</td>\n",
       "      <td>0.0</td>\n",
       "      <td>2.0</td>\n",
       "      <td>0.25</td>\n",
       "      <td>...</td>\n",
       "      <td>100</td>\n",
       "      <td>100</td>\n",
       "      <td>0.0</td>\n",
       "      <td>0.664576</td>\n",
       "      <td>0.664576</td>\n",
       "      <td>0.413148</td>\n",
       "      <td>0.400503</td>\n",
       "      <td>0.0</td>\n",
       "      <td>2.0</td>\n",
       "      <td>1</td>\n",
       "    </tr>\n",
       "    <tr>\n",
       "      <td>3</td>\n",
       "      <td>1000</td>\n",
       "      <td>250</td>\n",
       "      <td>gaussian</td>\n",
       "      <td>1.0</td>\n",
       "      <td>2.0</td>\n",
       "      <td>750</td>\n",
       "      <td>gaussian</td>\n",
       "      <td>0.0</td>\n",
       "      <td>2.0</td>\n",
       "      <td>0.25</td>\n",
       "      <td>...</td>\n",
       "      <td>100</td>\n",
       "      <td>100</td>\n",
       "      <td>0.0</td>\n",
       "      <td>0.661291</td>\n",
       "      <td>0.661291</td>\n",
       "      <td>0.410774</td>\n",
       "      <td>0.397923</td>\n",
       "      <td>0.0</td>\n",
       "      <td>3.0</td>\n",
       "      <td>1</td>\n",
       "    </tr>\n",
       "    <tr>\n",
       "      <td>4</td>\n",
       "      <td>1000</td>\n",
       "      <td>250</td>\n",
       "      <td>gaussian</td>\n",
       "      <td>1.0</td>\n",
       "      <td>2.0</td>\n",
       "      <td>750</td>\n",
       "      <td>gaussian</td>\n",
       "      <td>0.0</td>\n",
       "      <td>2.0</td>\n",
       "      <td>0.25</td>\n",
       "      <td>...</td>\n",
       "      <td>100</td>\n",
       "      <td>100</td>\n",
       "      <td>0.0</td>\n",
       "      <td>0.668736</td>\n",
       "      <td>0.668736</td>\n",
       "      <td>0.410313</td>\n",
       "      <td>0.396349</td>\n",
       "      <td>0.0</td>\n",
       "      <td>4.0</td>\n",
       "      <td>1</td>\n",
       "    </tr>\n",
       "    <tr>\n",
       "      <td>...</td>\n",
       "      <td>...</td>\n",
       "      <td>...</td>\n",
       "      <td>...</td>\n",
       "      <td>...</td>\n",
       "      <td>...</td>\n",
       "      <td>...</td>\n",
       "      <td>...</td>\n",
       "      <td>...</td>\n",
       "      <td>...</td>\n",
       "      <td>...</td>\n",
       "      <td>...</td>\n",
       "      <td>...</td>\n",
       "      <td>...</td>\n",
       "      <td>...</td>\n",
       "      <td>...</td>\n",
       "      <td>...</td>\n",
       "      <td>...</td>\n",
       "      <td>...</td>\n",
       "      <td>...</td>\n",
       "      <td>...</td>\n",
       "      <td>...</td>\n",
       "    </tr>\n",
       "    <tr>\n",
       "      <td>2020</td>\n",
       "      <td>1000000</td>\n",
       "      <td>750000</td>\n",
       "      <td>gaussian</td>\n",
       "      <td>5.0</td>\n",
       "      <td>2.0</td>\n",
       "      <td>250000</td>\n",
       "      <td>gaussian</td>\n",
       "      <td>0.0</td>\n",
       "      <td>2.0</td>\n",
       "      <td>0.75</td>\n",
       "      <td>...</td>\n",
       "      <td>0</td>\n",
       "      <td>0</td>\n",
       "      <td>0.0</td>\n",
       "      <td>0.000000</td>\n",
       "      <td>0.000000</td>\n",
       "      <td>0.000000</td>\n",
       "      <td>0.000000</td>\n",
       "      <td>0.0</td>\n",
       "      <td>0.0</td>\n",
       "      <td>0</td>\n",
       "    </tr>\n",
       "    <tr>\n",
       "      <td>2021</td>\n",
       "      <td>1000000</td>\n",
       "      <td>750000</td>\n",
       "      <td>gaussian</td>\n",
       "      <td>5.0</td>\n",
       "      <td>2.0</td>\n",
       "      <td>250000</td>\n",
       "      <td>gaussian</td>\n",
       "      <td>0.0</td>\n",
       "      <td>2.0</td>\n",
       "      <td>0.75</td>\n",
       "      <td>...</td>\n",
       "      <td>0</td>\n",
       "      <td>0</td>\n",
       "      <td>0.0</td>\n",
       "      <td>0.000000</td>\n",
       "      <td>0.000000</td>\n",
       "      <td>0.000000</td>\n",
       "      <td>0.000000</td>\n",
       "      <td>0.0</td>\n",
       "      <td>0.0</td>\n",
       "      <td>0</td>\n",
       "    </tr>\n",
       "    <tr>\n",
       "      <td>2022</td>\n",
       "      <td>1000000</td>\n",
       "      <td>750000</td>\n",
       "      <td>gaussian</td>\n",
       "      <td>5.0</td>\n",
       "      <td>2.0</td>\n",
       "      <td>250000</td>\n",
       "      <td>gaussian</td>\n",
       "      <td>0.0</td>\n",
       "      <td>2.0</td>\n",
       "      <td>0.75</td>\n",
       "      <td>...</td>\n",
       "      <td>0</td>\n",
       "      <td>0</td>\n",
       "      <td>0.0</td>\n",
       "      <td>0.000000</td>\n",
       "      <td>0.000000</td>\n",
       "      <td>0.000000</td>\n",
       "      <td>0.000000</td>\n",
       "      <td>0.0</td>\n",
       "      <td>0.0</td>\n",
       "      <td>0</td>\n",
       "    </tr>\n",
       "    <tr>\n",
       "      <td>2023</td>\n",
       "      <td>1000000</td>\n",
       "      <td>750000</td>\n",
       "      <td>gaussian</td>\n",
       "      <td>5.0</td>\n",
       "      <td>2.0</td>\n",
       "      <td>250000</td>\n",
       "      <td>gaussian</td>\n",
       "      <td>0.0</td>\n",
       "      <td>2.0</td>\n",
       "      <td>0.75</td>\n",
       "      <td>...</td>\n",
       "      <td>0</td>\n",
       "      <td>0</td>\n",
       "      <td>0.0</td>\n",
       "      <td>0.000000</td>\n",
       "      <td>0.000000</td>\n",
       "      <td>0.000000</td>\n",
       "      <td>0.000000</td>\n",
       "      <td>0.0</td>\n",
       "      <td>0.0</td>\n",
       "      <td>0</td>\n",
       "    </tr>\n",
       "    <tr>\n",
       "      <td>2024</td>\n",
       "      <td>1000000</td>\n",
       "      <td>750000</td>\n",
       "      <td>gaussian</td>\n",
       "      <td>5.0</td>\n",
       "      <td>2.0</td>\n",
       "      <td>250000</td>\n",
       "      <td>gaussian</td>\n",
       "      <td>0.0</td>\n",
       "      <td>2.0</td>\n",
       "      <td>0.75</td>\n",
       "      <td>...</td>\n",
       "      <td>0</td>\n",
       "      <td>0</td>\n",
       "      <td>0.0</td>\n",
       "      <td>0.000000</td>\n",
       "      <td>0.000000</td>\n",
       "      <td>0.000000</td>\n",
       "      <td>0.000000</td>\n",
       "      <td>0.0</td>\n",
       "      <td>0.0</td>\n",
       "      <td>0</td>\n",
       "    </tr>\n",
       "  </tbody>\n",
       "</table>\n",
       "<p>2025 rows × 30 columns</p>\n",
       "</div>"
      ],
      "text/plain": [
       "            n      n1    shape1  mu1  std1      n0    shape0  mu0  std0   rho  \\\n",
       "0        1000     250  gaussian  1.0   2.0     750  gaussian  0.0   2.0  0.25   \n",
       "1        1000     250  gaussian  1.0   2.0     750  gaussian  0.0   2.0  0.25   \n",
       "2        1000     250  gaussian  1.0   2.0     750  gaussian  0.0   2.0  0.25   \n",
       "3        1000     250  gaussian  1.0   2.0     750  gaussian  0.0   2.0  0.25   \n",
       "4        1000     250  gaussian  1.0   2.0     750  gaussian  0.0   2.0  0.25   \n",
       "...       ...     ...       ...  ...   ...     ...       ...  ...   ...   ...   \n",
       "2020  1000000  750000  gaussian  5.0   2.0  250000  gaussian  0.0   2.0  0.75   \n",
       "2021  1000000  750000  gaussian  5.0   2.0  250000  gaussian  0.0   2.0  0.75   \n",
       "2022  1000000  750000  gaussian  5.0   2.0  250000  gaussian  0.0   2.0  0.75   \n",
       "2023  1000000  750000  gaussian  5.0   2.0  250000  gaussian  0.0   2.0  0.75   \n",
       "2024  1000000  750000  gaussian  5.0   2.0  250000  gaussian  0.0   2.0  0.75   \n",
       "\n",
       "      ...  sampling_size  sampling_repeats  sampling_ratio  auc_delta_sample  \\\n",
       "0     ...            100               100             0.0          0.658245   \n",
       "1     ...            100               100             0.0          0.664869   \n",
       "2     ...            100               100             0.0          0.664576   \n",
       "3     ...            100               100             0.0          0.661291   \n",
       "4     ...            100               100             0.0          0.668736   \n",
       "...   ...            ...               ...             ...               ...   \n",
       "2020  ...              0                 0             0.0          0.000000   \n",
       "2021  ...              0                 0             0.0          0.000000   \n",
       "2022  ...              0                 0             0.0          0.000000   \n",
       "2023  ...              0                 0             0.0          0.000000   \n",
       "2024  ...              0                 0             0.0          0.000000   \n",
       "\n",
       "      auc_bac_sample  auc_bac_sample_time  aupr_pre_sample  \\\n",
       "0           0.658245             0.435512         0.394722   \n",
       "1           0.664869             0.421173         0.400220   \n",
       "2           0.664576             0.413148         0.400503   \n",
       "3           0.661291             0.410774         0.397923   \n",
       "4           0.668736             0.410313         0.396349   \n",
       "...              ...                  ...              ...   \n",
       "2020        0.000000             0.000000         0.000000   \n",
       "2021        0.000000             0.000000         0.000000   \n",
       "2022        0.000000             0.000000         0.000000   \n",
       "2023        0.000000             0.000000         0.000000   \n",
       "2024        0.000000             0.000000         0.000000   \n",
       "\n",
       "      aupr_pre_sample_time  repeat#  done  \n",
       "0                      0.0      0.0     1  \n",
       "1                      0.0      1.0     1  \n",
       "2                      0.0      2.0     1  \n",
       "3                      0.0      3.0     1  \n",
       "4                      0.0      4.0     1  \n",
       "...                    ...      ...   ...  \n",
       "2020                   0.0      0.0     0  \n",
       "2021                   0.0      0.0     0  \n",
       "2022                   0.0      0.0     0  \n",
       "2023                   0.0      0.0     0  \n",
       "2024                   0.0      0.0     0  \n",
       "\n",
       "[2025 rows x 30 columns]"
      ]
     },
     "execution_count": 45,
     "metadata": {},
     "output_type": "execute_result"
    }
   ],
   "source": [
    "summary"
   ]
  },
  {
   "cell_type": "code",
   "execution_count": 12,
   "metadata": {},
   "outputs": [
    {
     "data": {
      "text/html": [
       "<div>\n",
       "<style scoped>\n",
       "    .dataframe tbody tr th:only-of-type {\n",
       "        vertical-align: middle;\n",
       "    }\n",
       "\n",
       "    .dataframe tbody tr th {\n",
       "        vertical-align: top;\n",
       "    }\n",
       "\n",
       "    .dataframe thead th {\n",
       "        text-align: right;\n",
       "    }\n",
       "</style>\n",
       "<table border=\"1\" class=\"dataframe\">\n",
       "  <thead>\n",
       "    <tr style=\"text-align: right;\">\n",
       "      <th></th>\n",
       "      <th>auc_delta</th>\n",
       "      <th>auc_delta_time</th>\n",
       "      <th>auc_bac</th>\n",
       "      <th>auc_bac_time</th>\n",
       "      <th>auc_sk</th>\n",
       "      <th>auc_sk_time</th>\n",
       "      <th>aupr_pre</th>\n",
       "      <th>aupr_pre_time</th>\n",
       "      <th>aupr_sk</th>\n",
       "      <th>aupr_sk_time</th>\n",
       "      <th>auc_delta_sample</th>\n",
       "      <th>auc_bac_sample</th>\n",
       "      <th>auc_bac_sample_time</th>\n",
       "      <th>aupr_pre_sample</th>\n",
       "      <th>aupr_pre_sample_time</th>\n",
       "    </tr>\n",
       "  </thead>\n",
       "  <tbody>\n",
       "    <tr>\n",
       "      <td>0</td>\n",
       "      <td>0.644603</td>\n",
       "      <td>0.004795</td>\n",
       "      <td>0.644603</td>\n",
       "      <td>0.005528</td>\n",
       "      <td>0.644603</td>\n",
       "      <td>0.003736</td>\n",
       "      <td>0.372792</td>\n",
       "      <td>0.001673</td>\n",
       "      <td>0.375952</td>\n",
       "      <td>0.002197</td>\n",
       "      <td>0.646688</td>\n",
       "      <td>0.646688</td>\n",
       "      <td>0.419605</td>\n",
       "      <td>0.374884</td>\n",
       "      <td>0.0</td>\n",
       "    </tr>\n",
       "    <tr>\n",
       "      <td>1</td>\n",
       "      <td>0.609941</td>\n",
       "      <td>0.004805</td>\n",
       "      <td>0.609941</td>\n",
       "      <td>0.005532</td>\n",
       "      <td>0.609941</td>\n",
       "      <td>0.002999</td>\n",
       "      <td>0.363515</td>\n",
       "      <td>0.001686</td>\n",
       "      <td>0.366522</td>\n",
       "      <td>0.002203</td>\n",
       "      <td>0.601349</td>\n",
       "      <td>0.601349</td>\n",
       "      <td>0.424258</td>\n",
       "      <td>0.352464</td>\n",
       "      <td>0.0</td>\n",
       "    </tr>\n",
       "    <tr>\n",
       "      <td>2</td>\n",
       "      <td>0.646448</td>\n",
       "      <td>0.004821</td>\n",
       "      <td>0.646448</td>\n",
       "      <td>0.005559</td>\n",
       "      <td>0.646448</td>\n",
       "      <td>0.003473</td>\n",
       "      <td>0.359347</td>\n",
       "      <td>0.001692</td>\n",
       "      <td>0.362539</td>\n",
       "      <td>0.002223</td>\n",
       "      <td>0.652160</td>\n",
       "      <td>0.652160</td>\n",
       "      <td>0.407306</td>\n",
       "      <td>0.362441</td>\n",
       "      <td>0.0</td>\n",
       "    </tr>\n",
       "    <tr>\n",
       "      <td>3</td>\n",
       "      <td>0.000000</td>\n",
       "      <td>0.000000</td>\n",
       "      <td>0.000000</td>\n",
       "      <td>0.000000</td>\n",
       "      <td>0.000000</td>\n",
       "      <td>0.000000</td>\n",
       "      <td>0.000000</td>\n",
       "      <td>0.000000</td>\n",
       "      <td>0.000000</td>\n",
       "      <td>0.000000</td>\n",
       "      <td>0.000000</td>\n",
       "      <td>0.000000</td>\n",
       "      <td>0.000000</td>\n",
       "      <td>0.000000</td>\n",
       "      <td>0.0</td>\n",
       "    </tr>\n",
       "    <tr>\n",
       "      <td>4</td>\n",
       "      <td>0.000000</td>\n",
       "      <td>0.000000</td>\n",
       "      <td>0.000000</td>\n",
       "      <td>0.000000</td>\n",
       "      <td>0.000000</td>\n",
       "      <td>0.000000</td>\n",
       "      <td>0.000000</td>\n",
       "      <td>0.000000</td>\n",
       "      <td>0.000000</td>\n",
       "      <td>0.000000</td>\n",
       "      <td>0.000000</td>\n",
       "      <td>0.000000</td>\n",
       "      <td>0.000000</td>\n",
       "      <td>0.000000</td>\n",
       "      <td>0.0</td>\n",
       "    </tr>\n",
       "    <tr>\n",
       "      <td>5</td>\n",
       "      <td>0.000000</td>\n",
       "      <td>0.000000</td>\n",
       "      <td>0.000000</td>\n",
       "      <td>0.000000</td>\n",
       "      <td>0.000000</td>\n",
       "      <td>0.000000</td>\n",
       "      <td>0.000000</td>\n",
       "      <td>0.000000</td>\n",
       "      <td>0.000000</td>\n",
       "      <td>0.000000</td>\n",
       "      <td>0.000000</td>\n",
       "      <td>0.000000</td>\n",
       "      <td>0.000000</td>\n",
       "      <td>0.000000</td>\n",
       "      <td>0.0</td>\n",
       "    </tr>\n",
       "  </tbody>\n",
       "</table>\n",
       "</div>"
      ],
      "text/plain": [
       "   auc_delta  auc_delta_time   auc_bac  auc_bac_time    auc_sk  auc_sk_time  \\\n",
       "0   0.644603        0.004795  0.644603      0.005528  0.644603     0.003736   \n",
       "1   0.609941        0.004805  0.609941      0.005532  0.609941     0.002999   \n",
       "2   0.646448        0.004821  0.646448      0.005559  0.646448     0.003473   \n",
       "3   0.000000        0.000000  0.000000      0.000000  0.000000     0.000000   \n",
       "4   0.000000        0.000000  0.000000      0.000000  0.000000     0.000000   \n",
       "5   0.000000        0.000000  0.000000      0.000000  0.000000     0.000000   \n",
       "\n",
       "   aupr_pre  aupr_pre_time   aupr_sk  aupr_sk_time  auc_delta_sample  \\\n",
       "0  0.372792       0.001673  0.375952      0.002197          0.646688   \n",
       "1  0.363515       0.001686  0.366522      0.002203          0.601349   \n",
       "2  0.359347       0.001692  0.362539      0.002223          0.652160   \n",
       "3  0.000000       0.000000  0.000000      0.000000          0.000000   \n",
       "4  0.000000       0.000000  0.000000      0.000000          0.000000   \n",
       "5  0.000000       0.000000  0.000000      0.000000          0.000000   \n",
       "\n",
       "   auc_bac_sample  auc_bac_sample_time  aupr_pre_sample  aupr_pre_sample_time  \n",
       "0        0.646688             0.419605         0.374884                   0.0  \n",
       "1        0.601349             0.424258         0.352464                   0.0  \n",
       "2        0.652160             0.407306         0.362441                   0.0  \n",
       "3        0.000000             0.000000         0.000000                   0.0  \n",
       "4        0.000000             0.000000         0.000000                   0.0  \n",
       "5        0.000000             0.000000         0.000000                   0.0  "
      ]
     },
     "execution_count": 12,
     "metadata": {},
     "output_type": "execute_result"
    }
   ],
   "source": [
    "summary.loc[:5, summary.columns.str.contains('au')]"
   ]
  },
  {
   "cell_type": "code",
   "execution_count": 9,
   "metadata": {},
   "outputs": [
    {
     "name": "stderr",
     "output_type": "stream",
     "text": [
      "'c' argument looks like a single numeric RGB or RGBA sequence, which should be avoided as value-mapping will have precedence in case its length matches with 'x' & 'y'.  Please use a 2-D array with a single row if you really want to specify the same RGB or RGBA value for all points.\n"
     ]
    },
    {
     "data": {
      "text/plain": [
       "<matplotlib.axes._subplots.AxesSubplot at 0x7fa4d2cc62b0>"
      ]
     },
     "execution_count": 9,
     "metadata": {},
     "output_type": "execute_result"
    },
    {
     "data": {
      "image/png": "[encoded data removed]",
      "text/plain": [
       "<Figure size 432x288 with 1 Axes>"
      ]
     },
     "metadata": {
      "needs_background": "light"
     },
     "output_type": "display_data"
    }
   ],
   "source": [
    "summary[:115].plot(x='auc_delta_sample', y='auc_delta', kind='scatter')"
   ]
  },
  {
   "cell_type": "code",
   "execution_count": 10,
   "metadata": {},
   "outputs": [
    {
     "name": "stderr",
     "output_type": "stream",
     "text": [
      "'c' argument looks like a single numeric RGB or RGBA sequence, which should be avoided as value-mapping will have precedence in case its length matches with 'x' & 'y'.  Please use a 2-D array with a single row if you really want to specify the same RGB or RGBA value for all points.\n"
     ]
    },
    {
     "data": {
      "text/plain": [
       "<matplotlib.axes._subplots.AxesSubplot at 0x7fa4d2c697b8>"
      ]
     },
     "execution_count": 10,
     "metadata": {},
     "output_type": "execute_result"
    },
    {
     "data": {
      "image/png": "[encoded data removed]",
      "text/plain": [
       "<Figure size 432x288 with 1 Axes>"
      ]
     },
     "metadata": {
      "needs_background": "light"
     },
     "output_type": "display_data"
    }
   ],
   "source": [
    "summary[:115].plot(x='auc_delta_sample', y='auc_delta', kind='scatter')"
   ]
  },
  {
   "cell_type": "code",
   "execution_count": null,
   "metadata": {},
   "outputs": [],
   "source": []
  },
  {
   "cell_type": "code",
   "execution_count": 13,
   "metadata": {},
   "outputs": [],
   "source": [
    "#summary.to_csv('Rank_Summary_Data.csv')"
   ]
  },
  {
   "cell_type": "code",
   "execution_count": null,
   "metadata": {},
   "outputs": [],
   "source": [
    "#pd.read_csv('Rank_Summary_Data.csv', index_col=0)"
   ]
  },
  {
   "cell_type": "code",
   "execution_count": null,
   "metadata": {},
   "outputs": [],
   "source": []
  }
 ],
 "metadata": {
  "kernelspec": {
   "display_name": "Python pyenv (3.6.8)",
   "language": "python",
   "name": "python3.6.8"
  },
  "language_info": {
   "codemirror_mode": {
    "name": "ipython",
    "version": 3
   },
   "file_extension": ".py",
   "mimetype": "text/x-python",
   "name": "python",
   "nbconvert_exporter": "python",
   "pygments_lexer": "ipython3",
   "version": "3.6.8"
  }
 },
 "nbformat": 4,
 "nbformat_minor": 2
}
